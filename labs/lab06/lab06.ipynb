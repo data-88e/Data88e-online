{
 "cells": [
  {
   "cell_type": "code",
   "execution_count": null,
   "metadata": {
    "deletable": false,
    "editable": false
   },
   "outputs": [],
   "source": [
    "# Initialize Otter\n",
    "import otter\n",
    "grader = otter.Notebook(\"lab06.ipynb\")"
   ]
  },
  {
   "cell_type": "markdown",
   "metadata": {
    "tags": [
     "ignore"
    ]
   },
   "source": [
    "<table style=\"width: 100%;\" id=\"nb-header\">\n",
    "    <tr style=\"background-color: transparent;\"><td>\n",
    "        <img src=\"https://data-88e.github.io/assets/images/blue_text.png\" width=\"250px\" style=\"margin-left: 0;\" />\n",
    "    </td><td>\n",
    "        <p style=\"text-align: right; font-size: 10pt;\"><strong>Economic Models</strong>, Data 88E<br>\n",
    "            Dr. Eric Van Dusen <br>\n",
    "        Alan Liang <br>\n",
    "        Amal Bhatnagar <br>\n",
    "        Sreeja Apparaju <br>\n",
    "        Akhil Venkatesh</p></td></tr>\n",
    "</table>"
   ]
  },
  {
   "cell_type": "markdown",
   "metadata": {},
   "source": [
    "# Lab 6: Modeling Income Inequality & Development"
   ]
  },
  {
   "cell_type": "code",
   "execution_count": null,
   "metadata": {
    "tags": [
     "ignore"
    ]
   },
   "outputs": [],
   "source": [
    "from datascience import *\n",
    "import numpy as np\n",
    "import matplotlib.pyplot as plt\n",
    "from sympy import * \n",
    "from scipy.optimize import minimize\n",
    "import ipywidgets as widgets\n",
    "from datascience import *\n",
    "from ipywidgets import interact, interactive, fixed, interact_manual, widgets\n",
    "from IPython.display import display\n",
    "import pandas as pd\n",
    "%matplotlib inline \n",
    "\n",
    "def find_k(lnx, lny):\n",
    "    \"\"\"Determines the best value for k in the simplified Rao and Tam model.\n",
    "    \n",
    "    :param lnx: log of the income percentiles (out of 1)\n",
    "    :param lny: log of the income shares (out of 1)\n",
    "    :returns: the best value for k.\n",
    "    \"\"\"\n",
    "    def obj(k):\n",
    "        return np.mean(np.abs(lny - k*lnx))\n",
    "    res = minimize(obj, 2)\n",
    "    return res"
   ]
  },
  {
   "cell_type": "markdown",
   "metadata": {},
   "source": [
    "## Part 1: Inequality"
   ]
  },
  {
   "cell_type": "markdown",
   "metadata": {
    "tags": [
     "ignore"
    ]
   },
   "source": [
    "## The Lorenz Curve\n",
    "There are many mathematical models used to model the Lorenz curve. For this homework, we will work with the simplified Rao-Tam Lorenz curve<sup>1</sup>, as defined by:\n",
    "$$L(x)=x^k,\\quad \\text{where} \\; k>1$$"
   ]
  },
  {
   "cell_type": "markdown",
   "metadata": {
    "tags": [
     "ignore"
    ]
   },
   "source": [
    "<!-- END QUESTION -->\n",
    "\n",
    "### Fitting the Lorenz Curve to Data\n",
    "Now, let's try to fit this model to the existing US data. From the 2018 census data on *Income and Poverty in the United States*<sup>2</sup> published by the US census, we get:"
   ]
  },
  {
   "cell_type": "code",
   "execution_count": null,
   "metadata": {},
   "outputs": [],
   "source": [
    "us = Table().read_table(\"us_income.csv\")\n",
    "us"
   ]
  },
  {
   "cell_type": "markdown",
   "metadata": {
    "tags": [
     "ignore"
    ]
   },
   "source": [
    "For each row of the table, `income_share` shows the proportion of total income an `income_group` owns. For example, the richest 20% (5th quintile) earned 51.9% of the total national income."
   ]
  },
  {
   "cell_type": "markdown",
   "metadata": {},
   "source": [
    "**Question 1.1:**\n",
    "Let's convert this table to points on the Lorenz curve. Recall that the Lorenz curve's y-axis is the cumulative income share: at the 20th percentile, the total income share is 3.1%, while at the 40th percentile, the total income share is 8.3% + 3.1% = 11.4%. \n",
    "\n",
    "*Hint: use `np.cumsum`.*\n"
   ]
  },
  {
   "cell_type": "code",
   "execution_count": null,
   "metadata": {
    "tags": [
     "ignore"
    ]
   },
   "outputs": [],
   "source": [
    "income_group = ...\n",
    "cum_income_share = ...\n",
    "\n",
    "us_cumulative = Table().with_columns(\"income_percentile\", income_group, \"cum_income_share\", cum_income_share)\n",
    "us_cumulative"
   ]
  },
  {
   "cell_type": "code",
   "execution_count": null,
   "metadata": {
    "deletable": false,
    "editable": false
   },
   "outputs": [],
   "source": [
    "grader.check(\"q1_1\")"
   ]
  },
  {
   "cell_type": "markdown",
   "metadata": {},
   "source": [
    "**Question 1.2:**\n",
    "In addition, the US census bureau reported that the top 5 percent of income earners' income share was 23.1%. What is the corresponding $(x,y)$ point to this data point? \n"
   ]
  },
  {
   "cell_type": "code",
   "execution_count": null,
   "metadata": {
    "tags": [
     "ignore"
    ]
   },
   "outputs": [],
   "source": [
    "x_val = ...\n",
    "y_val = ..."
   ]
  },
  {
   "cell_type": "code",
   "execution_count": null,
   "metadata": {
    "deletable": false,
    "editable": false
   },
   "outputs": [],
   "source": [
    "grader.check(\"q1_2\")"
   ]
  },
  {
   "cell_type": "markdown",
   "metadata": {},
   "source": [
    "**Question 1.3:**\n",
    "Add this pair of coordinates to our table, by appending `income_group` and `cum_income_share` with `x` and `y`.\n"
   ]
  },
  {
   "cell_type": "code",
   "execution_count": null,
   "metadata": {
    "tags": []
   },
   "outputs": [],
   "source": [
    "income_group_with_x = ...\n",
    "cum_income_share_with_y = ...\n",
    "\n",
    "us_cumulative_extended = Table().with_columns(\n",
    "    \"income_percentile\", income_group_with_x, \n",
    "    \"cum_income_share\", cum_income_share_with_y)\n",
    "us_cumulative_extended"
   ]
  },
  {
   "cell_type": "code",
   "execution_count": null,
   "metadata": {
    "deletable": false,
    "editable": false
   },
   "outputs": [],
   "source": [
    "grader.check(\"q1_3\")"
   ]
  },
  {
   "cell_type": "markdown",
   "metadata": {},
   "source": [
    "**Question 1.4:**\n",
    "To more easily fit our data, we will take the natural log of the curve to make it linear. Which one of the equations below equals the natural log of the curve?\n",
    "<div>\n",
    "a. $$\\ln{y} = k + \\ln{x}$$\n",
    "<br>\n",
    "b. $$\\ln{x} = k + \\ln{y}$$\n",
    "<br>\n",
    "c. $$\\ln{y} = k \\ln{x}$$\n",
    "<br>\n",
    "d. $$\\ln{x} = k \\ln{y}$$\n",
    "<br>\n",
    "</div>\n",
    "\n",
    "Assign the letter corresponding to your answer to `q2_4` below.\n"
   ]
  },
  {
   "cell_type": "code",
   "execution_count": null,
   "metadata": {
    "tags": []
   },
   "outputs": [],
   "source": [
    "q1_4 = ..."
   ]
  },
  {
   "cell_type": "code",
   "execution_count": null,
   "metadata": {
    "deletable": false,
    "editable": false
   },
   "outputs": [],
   "source": [
    "grader.check(\"q1_4\")"
   ]
  },
  {
   "cell_type": "markdown",
   "metadata": {},
   "source": [
    "**Question 1.5:**\n",
    "Transform the data and append it to the new table. Use the [`np.log`](https://docs.scipy.org/doc/numpy/reference/generated/numpy.log.html) function.\n"
   ]
  },
  {
   "cell_type": "code",
   "execution_count": null,
   "metadata": {
    "tags": []
   },
   "outputs": [],
   "source": [
    "log_x = ...\n",
    "log_y = ...\n",
    "us_log = Table().with_columns(\"log_income_percentile\", log_x, \"log_cum_income_share\", log_y)\n",
    "us_log"
   ]
  },
  {
   "cell_type": "code",
   "execution_count": null,
   "metadata": {
    "deletable": false,
    "editable": false
   },
   "outputs": [],
   "source": [
    "grader.check(\"q1_5\")"
   ]
  },
  {
   "cell_type": "markdown",
   "metadata": {},
   "source": [
    "The following dataset come from a randomized controlled trial household survey carried out in Eastern Kenya in 2007-2008. \n",
    "\n",
    "The purpose of the study was to understand how to promote the use of WaterGuard, a dilute sodium hypochlorite solution that was promoted for Point-of-use household water disinfection.  There were seven arms in the study, which will be more fully described in the following chart:\n"
   ]
  },
  {
   "cell_type": "markdown",
   "metadata": {},
   "source": [
    "## Part 2: Development\n"
   ]
  },
  {
   "cell_type": "markdown",
   "metadata": {},
   "source": [
    "<img src=\"Slide1.png\"  />"
   ]
  },
  {
   "cell_type": "markdown",
   "metadata": {},
   "source": [
    "Within this table you can see the seven treatments arms -  control plus three treatments -  in the bolded boxes in the middle with the number of springs and households. The study was carried out as a part of a study of households who gather drinking water from springs in a rural area.  The three boxes at the bottom describe the three rounds of data collection - a baseline before the treatment, and a short term and long term follow-up.  "
   ]
  },
  {
   "cell_type": "markdown",
   "metadata": {},
   "source": [
    "<!-- **Notebook Outline**\n",
    "\n",
    "1. [Mapping](#Mapping)\n",
    "2. [Balance Check](#Balance)\n",
    "3. [Baseline and a Randomly Selected Compound](#Baseline)\n",
    "4. [Chlorine Usage outcome variables](#Chlorine)\n",
    "5. [Graph of outcomes by Treatment Arm](#Graph)  -->"
   ]
  },
  {
   "cell_type": "code",
   "execution_count": null,
   "metadata": {},
   "outputs": [],
   "source": [
    "from datascience import *\n",
    "import numpy as np\n",
    "import matplotlib.pyplot as plt\n",
    "%matplotlib inline\n",
    "import pandas as pd\n",
    "from pandas import read_stata\n",
    "from ipyleaflet import Map, basemaps, Marker, AwesomeIcon"
   ]
  },
  {
   "cell_type": "markdown",
   "metadata": {},
   "source": [
    "## Mapping\n",
    "\n",
    "<div id=\"Mapping\"></div>\n"
   ]
  },
  {
   "cell_type": "markdown",
   "metadata": {},
   "source": [
    "This first section works with a package in Jupyter called ipyleaflet.\n",
    "\n",
    "`ipyleaflet`;\n",
    "the documentation is [here](https://ipyleaflet.readthedocs.io/en/latest/)\n",
    "and it is worth a short read through if you are interested.\n",
    "\n",
    "\n",
    "We want to use two different base maps - one is a satellite layer and oen is the Open Street Map layer.  "
   ]
  },
  {
   "cell_type": "markdown",
   "metadata": {},
   "source": [
    "We will start by reading in a dataset of the coordinates of the springs that are used in the WaterGuard Promotion (WGP) study.  These springs were randomized into seven different treatment arms.  The springs are identified by a unique numerical id tag, and the common name in the local language.  \n"
   ]
  },
  {
   "cell_type": "code",
   "execution_count": null,
   "metadata": {},
   "outputs": [],
   "source": [
    "springsGPS = Table.read_table('WGPgps_forData8.csv')\n",
    "springsGPS"
   ]
  },
  {
   "cell_type": "code",
   "execution_count": null,
   "metadata": {},
   "outputs": [],
   "source": [
    "# make a table wth just the North and East Gps columns \n",
    "locations = springsGPS.select(\"gpsn1\", \"gpse1\")\n",
    "locations"
   ]
  },
  {
   "cell_type": "markdown",
   "metadata": {},
   "source": [
    "Where in the world are we?\n",
    "\n",
    "First of all, let's look at the mean for the latitude and longitude, and we can center our map there:"
   ]
  },
  {
   "cell_type": "code",
   "execution_count": null,
   "metadata": {},
   "outputs": [],
   "source": [
    "mean_longitude = springsGPS.column('gpse1').mean()\n",
    "mean_latitude = springsGPS.column('gpsn1').mean()\n",
    "\n",
    "print(\"Mean of 'gpse1':\", mean_longitude)\n",
    "print(\"Mean of 'gpsn1':\", mean_latitude)"
   ]
  },
  {
   "cell_type": "markdown",
   "metadata": {},
   "source": [
    "The code cell below should display a map. However, it may not run the first time you click it - if this happens, try running all the cells above this one and then refreshing your browser. After a few refreshes, the maps should load.\n",
    "\n",
    "`ipyleaflet` can take the following parameters: \n",
    " - `center` - where to place the center of the map (you can still zoom in and out) \n",
    " - `zoom` - zoom level to start at \n",
    " - `basemap` - what tiles to draw the underlying, base map from \n",
    " - `layout` - specifying the size that it will display "
   ]
  },
  {
   "cell_type": "code",
   "execution_count": null,
   "metadata": {},
   "outputs": [],
   "source": [
    "center = [0.4, 34.4]\n",
    "zoom = 12\n",
    "basemap=basemaps.Esri.WorldImagery\n",
    "basemap_osm=basemaps.OpenStreetMap.Mapnik\n",
    "layout={'width': '800px', 'height': '600px'}\n",
    "\n",
    "Map(basemap=basemap, center=center, zoom=zoom, layout=layout)"
   ]
  },
  {
   "cell_type": "markdown",
   "metadata": {},
   "source": [
    "Let's make a map of our sample sites (springs):"
   ]
  },
  {
   "cell_type": "code",
   "execution_count": null,
   "metadata": {},
   "outputs": [],
   "source": [
    "m = Map(basemap=basemap, center=center, zoom=zoom, layout=layout)\n",
    "\n",
    "# Add the rows from the dataset\n",
    "for row in springsGPS.rows:\n",
    "    latitude = row.item('gpsn1')\n",
    "    longitude = row.item('gpse1')\n",
    "    marker = Marker(location=(latitude, longitude))\n",
    "    m.add_layer(marker)\n",
    "\n",
    "m"
   ]
  },
  {
   "cell_type": "markdown",
   "metadata": {},
   "source": [
    "The most interesting bit of data, the Treatment Arm, is still not being used. Let's assign different colors to the different treatment arms so that when we map it we can see if the arms appear to be randomly distributed.\n",
    "\n",
    "The following is function assigns the 7 different treatment arms to a set of colors. [Here](https://www.w3.org/TR/css3-color/#html4) is the colors reference if you are interested!"
   ]
  },
  {
   "cell_type": "code",
   "execution_count": null,
   "metadata": {},
   "outputs": [],
   "source": [
    "def color(arm):\n",
    "    if arm == 1:\n",
    "        return 'black'\n",
    "    elif arm == 2:\n",
    "        return 'red'\n",
    "    elif arm == 3:\n",
    "        return 'purple'\n",
    "    elif arm == 4:\n",
    "        return 'green'\n",
    "    elif arm == 5:\n",
    "        return 'blue'\n",
    "    elif arm == 6:\n",
    "        return 'pink'\n",
    "    elif arm == 7:\n",
    "        return 'orange'"
   ]
  },
  {
   "cell_type": "code",
   "execution_count": null,
   "metadata": {},
   "outputs": [],
   "source": [
    "# Using the .apply method, you can apply any function to a data frame\n",
    "colors = springsGPS.apply(color, \"treatment_arm\")\n",
    "springsGPS = springsGPS.with_column(\"color\", colors)\n",
    "springsGPS"
   ]
  },
  {
   "cell_type": "markdown",
   "metadata": {},
   "source": [
    "## Map with markers that have a different color for each treatment arm"
   ]
  },
  {
   "cell_type": "code",
   "execution_count": null,
   "metadata": {},
   "outputs": [],
   "source": [
    "m = Map(basemap=basemap, center=center, zoom=zoom, layout=layout)\n",
    "\n",
    "for row in springsGPS.rows:\n",
    "    latitude = row.item('gpsn1')\n",
    "    longitude = row.item('gpse1')\n",
    "    color = row.item('color')\n",
    "    \n",
    "    marker = Marker(\n",
    "        location=(latitude, longitude),\n",
    "        draggable=False,  # Set to True if you want to make the markers draggable\n",
    "        title=color,      # Set the marker title to the color for tooltip\n",
    "        alt=color         # Set the alt text to the color\n",
    "    )\n",
    "    marker.icon = AwesomeIcon(name='circle', marker_color=color)\n",
    "    \n",
    "    m.add_layer(marker)\n",
    "\n",
    "m"
   ]
  },
  {
   "cell_type": "code",
   "execution_count": null,
   "metadata": {},
   "outputs": [],
   "source": [
    "#change the Basemap layer to Open Street Map\n",
    "\n",
    "m=Map(basemap=basemap_osm, center=center, zoom=zoom, layout=layout)\n",
    "\n",
    "# Iterate through the rows in the dataset\n",
    "for row in springsGPS.rows:\n",
    "    latitude = row.item('gpsn1')\n",
    "    longitude = row.item('gpse1')\n",
    "    color = row.item('color')\n",
    "    \n",
    "    # Create a marker with the specified color\n",
    "    marker = Marker(\n",
    "        location=(latitude, longitude),\n",
    "        draggable=False,  # Set to True if you want to make the markers draggable\n",
    "        title=color,      # Set the marker title to the color for tooltip\n",
    "        alt=color         # Set the alt text to the color\n",
    "    )\n",
    "    \n",
    "    # Apply the specified color to the marker\n",
    "    marker.icon = AwesomeIcon(name='circle', marker_color=color)\n",
    "    \n",
    "    m.add_layer(marker)\n",
    "\n",
    "m"
   ]
  },
  {
   "cell_type": "markdown",
   "metadata": {},
   "source": [
    "Do the colors seem randomly distributed?\n",
    "\n",
    "In fact, the randomization was performed on just a list of the springs using a random number generator. \n",
    "It did not take spatial distribution into effect.  \n"
   ]
  },
  {
   "cell_type": "markdown",
   "metadata": {},
   "source": [
    "**Non-Graded Reflection Question:**\n",
    " A Thought Experiment on Spatial Randomization\n",
    "- What could you do to test whether the Treatment arms are spatially distributed?\n",
    "- What could you do to randomize the treatment arms over space?"
   ]
  },
  {
   "cell_type": "markdown",
   "metadata": {},
   "source": []
  },
  {
   "cell_type": "markdown",
   "metadata": {},
   "source": [
    "<div id=\"Balance\"></div>\n",
    "\n",
    "## Balance Check and Variable Names"
   ]
  },
  {
   "cell_type": "markdown",
   "metadata": {},
   "source": [
    "### Baseline Survey \n",
    "This is our first look at the survey dataset.  These are a limited set of questions/answers from a simple and short baseline survey. However it is a lot bigger and messier than the datasets we have seen so far and in Data 8. \n",
    "\n",
    "Data variable names follow along with the survey below, referred to by the section, a,b,c... number, 1,2,3... and a few words about the question. \n",
    "\n",
    "The purpose of this section will be: \n",
    "* to get a familiarity with the dataset, \n",
    "* to look at some background descriptor variables of the households, \n",
    "* to start to think about missing values and coding of subsets of the data.  \n",
    "* to check the randomization of households by seeeing if the different arms of the study are balanced across some of the key baseline variables.  \n",
    "\n",
    "**The surveys that illustrate the raw data names are in a file linked [here](https://drive.google.com/open?id=1UVoiVn7LJ4rn7WEb-9BJ96jmdJ2FBk60). You have to go and look through this survey to understand the variables.**\n",
    "\n",
    "**The code sheet that has the codes for some of the possible answers are in a file linked [here](https://drive.google.com/file/d/1iinJXExeVKV4Dm7tRKOiotoYUDSXMyqc). You have to go and look through this code sheet in a later section.**"
   ]
  },
  {
   "cell_type": "code",
   "execution_count": null,
   "metadata": {},
   "outputs": [],
   "source": [
    "WGP_baseline = Table.read_table(\"WGP_baseline_Data8.csv\")\n",
    "WGP_baseline"
   ]
  },
  {
   "cell_type": "markdown",
   "metadata": {},
   "source": [
    "### Misssing values \n",
    "\n",
    "If you look through the dataset above, and scroll to the right a ways to some of the last variables, you will notice that that there are a lot of cells with NaN, which means a missing value. For these cells no data was entered at the time of data entry. In some cases it may be appropriate to enter a zero and carry on with the analyis.  \n",
    "\n"
   ]
  },
  {
   "cell_type": "code",
   "execution_count": null,
   "metadata": {},
   "outputs": [],
   "source": [
    "WGP_base_dfna = WGP_baseline.to_df().fillna(0)\n",
    "WGP_table = Table.from_df(WGP_base_dfna)\n",
    "WGP_table"
   ]
  },
  {
   "cell_type": "markdown",
   "metadata": {},
   "source": [
    " Look at the variable names, and then look at the survey form to find the concordance of codes"
   ]
  },
  {
   "cell_type": "code",
   "execution_count": null,
   "metadata": {},
   "outputs": [],
   "source": [
    "# Here is a list of all of the possible categories / columns\n",
    "list(WGP_table)"
   ]
  },
  {
   "cell_type": "markdown",
   "metadata": {},
   "source": [
    "### What are some Variables that we want to specifically look at? ###\n",
    "\n",
    "There are a lot of variables here and it can be kind of overwhelming, but it is good to see how many columns there can be in a comprehensive survey dataset.  "
   ]
  },
  {
   "cell_type": "markdown",
   "metadata": {},
   "source": [
    "#### Front Page information - A variables\n",
    "\n",
    "- household id\n",
    "- spring id\n",
    "- interviewer id\n",
    "\n",
    "#### Information about respondent - B variables \n",
    "\n",
    "- tribe\n",
    "- education\n",
    "- age\n",
    "- gender \n",
    "- group membership\n",
    "\n",
    "#### Water Guard Use - C variables\n",
    "\n",
    "For Waterguard (WG) usage\n",
    "\n",
    "- `c1a` - Whether the respondent has ever heard of WG\n",
    "- `c2a` - Whether the respondent has ever used WG\n",
    "- `c3a` - Whether the respondent's water is currently treated with WG\n",
    "- `c4a` - Whether the respondent has used WG in the past month\n",
    "\n",
    "#### Durable / Capital Goods - D variables\n",
    "\n",
    "- Whether the respondent has electricity / latrine / iron roof\n",
    "- Number of of bicycle / radio / hoe / beds owned\n",
    "- Number of animals owned\n",
    "\n",
    "#### Child Health - E variables\n",
    "\n",
    "- `e1_num_kids_under_5`: Number of kids under 5\n",
    "- `e2_`:  This table becomes tricky because it has a different format. Each kid in the table is numbered 01, 02 and so on, and then the subsequent questions are keyed to that child number. e.g. `e2e_01_d_diarrhea`, `e2e_02_d_diarrhea` represent whether child 1 and 2 respectively have diarrhea. In total, four diseases are recorded:\n",
    "    - Cough\n",
    "    - Diarrhea\n",
    "    - Malaria\n",
    "    - Vomiting\n",
    "\n",
    "\n",
    "\n",
    " "
   ]
  },
  {
   "cell_type": "markdown",
   "metadata": {},
   "source": [
    "### The Treatment Arm \n",
    "\n",
    "In the study, arm 1 is control, while Arms 2-7 are different types of treatment interventions:\n",
    " \n",
    "- Arm 1 - Control\n",
    "- Arm 2 - Household Script\n",
    "- Arm 3 - Community Script\n",
    "- Arm 4 - HH + Community Script\n",
    "- Arm 5 - Flat-Fee Promoter + Coupons\n",
    "- Arm 6 - Incentivized Promoter + Coupons\n",
    "- Arm 7 - Incentivized Promoter + Dispenser at Spring\n",
    "\n",
    "Let's check how many households are in each treatment arm.\n"
   ]
  },
  {
   "cell_type": "code",
   "execution_count": null,
   "metadata": {},
   "outputs": [],
   "source": [
    "WGP_table.group(\"treatment_arm\")"
   ]
  },
  {
   "cell_type": "markdown",
   "metadata": {},
   "source": [
    "### Baseline Check - Exposure to Water Guard Use \n",
    "\n",
    "Let's see how many households have ever used Water Guards.\n",
    "\n",
    "The data is currently Coded as 1 = Yes and 2 = No, so we can't really make sense of the Mean of the variable in its current form. Instead, we will make a new column/variable with the 1 or 2 answers translated into Yes or No.\n",
    "Notably, we must first filter out respondents that had missing values (with value 0) for this question.\n",
    "\n"
   ]
  },
  {
   "cell_type": "code",
   "execution_count": null,
   "metadata": {},
   "outputs": [],
   "source": [
    "WGP_ever = WGP_table.where('c2a_wg_used_ever', are.above(0))\n",
    "WGP_ever.group(\"c2a_wg_used_ever\")"
   ]
  },
  {
   "cell_type": "code",
   "execution_count": null,
   "metadata": {},
   "outputs": [],
   "source": [
    "#This helper function goes through a column of choice, and spits out yes or no based off each value in the column. It returns an array of these yes and no's\n",
    "def translate_to_yesno(table, col):\n",
    "    dummy=[]\n",
    "    table=table.where(col, are.above(0))\n",
    "    for i in np.arange(table.num_rows):\n",
    "        if table.column(col).item(i) == 1:\n",
    "            dummy.append('Yes')\n",
    "        else: #if not 1 then its 2 and 2 means no\n",
    "            dummy.append(\"No\")\n",
    "    return dummy"
   ]
  },
  {
   "cell_type": "code",
   "execution_count": null,
   "metadata": {},
   "outputs": [],
   "source": [
    "new = translate_to_yesno(WGP_ever, 'c2a_wg_used_ever')\n",
    "WGP_ever = WGP_ever.with_column('c2a_wg_used_ever',new)\n",
    "WGP_ever.group('c2a_wg_used_ever')"
   ]
  },
  {
   "cell_type": "markdown",
   "metadata": {},
   "source": [
    "### Pivoting and Balance Checks\n",
    "\n",
    "Now we will use a command called **Pivot** to create a new table that has the percent of households who have ever used Water Guard within each Treatment Arm. \n",
    "\n",
    "We can first use it to do a  **balance check** for Water Guard use across Arms."
   ]
  },
  {
   "cell_type": "code",
   "execution_count": null,
   "metadata": {},
   "outputs": [],
   "source": [
    "ever_yesno = WGP_ever.pivot('c2a_wg_used_ever','treatment_arm')\n",
    "ever_yesno"
   ]
  },
  {
   "cell_type": "markdown",
   "metadata": {},
   "source": [
    "Converting to percentages..."
   ]
  },
  {
   "cell_type": "code",
   "execution_count": null,
   "metadata": {},
   "outputs": [],
   "source": [
    "total = ever_yesno.column(1) + ever_yesno.column(2)\n",
    "ever_yesno = ever_yesno.with_columns('Percent No',ever_yesno.column(1) / total * 100, \n",
    "                                     'Percent Yes', ever_yesno.column(2) / total * 100)\n",
    "ever_yesno"
   ]
  },
  {
   "cell_type": "markdown",
   "metadata": {},
   "source": [
    "Let's also repeat the process for the variable of whether the households are currently using Water Guard, `c3a_wg_water_currently_treat`."
   ]
  },
  {
   "cell_type": "code",
   "execution_count": null,
   "metadata": {},
   "outputs": [],
   "source": [
    "WGP_current = WGP_table.where('c3a_wg_water_currently_treat',are.not_equal_to(0))\n",
    "new2 = translate_to_yesno(WGP_current,'c3a_wg_water_currently_treat')\n",
    "WGP_current = WGP_current.with_column('c3a_wg_water_currently_treat',new2)\n",
    "WGP_current.group(\"c3a_wg_water_currently_treat\")"
   ]
  },
  {
   "cell_type": "markdown",
   "metadata": {},
   "source": [
    "Do you notice a problem here? Look at the total numbers reported in the output above.\n",
    "\n",
    "We can do the same percentage tables for the balance check but maybe there's a problem. \n",
    "Look at the total number of households answering the question and compare that to the total number from the previous section."
   ]
  },
  {
   "cell_type": "code",
   "execution_count": null,
   "metadata": {},
   "outputs": [],
   "source": [
    "current_yesno = WGP_current.pivot('c3a_wg_water_currently_treat','treatment_arm')\n",
    "total = current_yesno.column(1) + current_yesno.column(2)\n",
    "current_yesno = current_yesno.with_columns('Percent No',current_yesno.column(1)/total * 100, \n",
    "                                           'Percent Yes', current_yesno.column(2)/total * 100)\n",
    "current_yesno"
   ]
  },
  {
   "cell_type": "markdown",
   "metadata": {},
   "source": [
    "This seems like a really high usage, but **maybe this is due to missing values**. \n",
    "\n",
    "Let's now also include the 0 (missing) values in our analysis.\n"
   ]
  },
  {
   "cell_type": "code",
   "execution_count": null,
   "metadata": {},
   "outputs": [],
   "source": [
    "current_yesnomissing = WGP_table.pivot('c3a_wg_water_currently_treat','treatment_arm')\n",
    "total = current_yesnomissing.column(1) + current_yesnomissing.column(2) + current_yesnomissing.column(3)\n",
    "current_yesnomissing = current_yesnomissing.with_columns(\n",
    "                                     'Percent Missing',current_yesnomissing.column(\"0.0\") / total * 100, \n",
    "                                     'Percent No',current_yesnomissing.column(\"2.0\") / total * 100, \n",
    "                                     'Percent Yes', current_yesnomissing.column(\"1.0\") / total * 100)\n",
    "current_yesnomissing"
   ]
  },
  {
   "cell_type": "markdown",
   "metadata": {},
   "source": [
    "**Non-Graded Reflection Question:**\n",
    "\n",
    "\n",
    "- Explain the previous table clearly and concisely, as if you were explaining it to someone who didn't know the back story.\n",
    "- What does each rows/column mean?\n",
    "- Conduct a balance check: does the distribution of yes/no/missing look balanced across arms?\n"
   ]
  },
  {
   "cell_type": "markdown",
   "metadata": {},
   "source": []
  },
  {
   "cell_type": "markdown",
   "metadata": {},
   "source": [
    "<div id=\"Baseline\"></div>\n",
    "\n",
    "## Baseline and a Randomly Selected Compound\n",
    "\n",
    "\n"
   ]
  },
  {
   "cell_type": "markdown",
   "metadata": {},
   "source": [
    "Let's describe a household selected at random.\n",
    "\n",
    "First, we will extract the household/compound id into an array."
   ]
  },
  {
   "cell_type": "code",
   "execution_count": null,
   "metadata": {},
   "outputs": [],
   "source": [
    "hhld_array = WGP_table.column('a1_cmpd_id')\n",
    "hhld_array"
   ]
  },
  {
   "cell_type": "markdown",
   "metadata": {},
   "source": [
    "Next, we will draw randomly from this array."
   ]
  },
  {
   "cell_type": "code",
   "execution_count": null,
   "metadata": {},
   "outputs": [],
   "source": [
    "random_generator = np.random.default_rng(seed=10) # Please keep this line so the code is deterministic.\n",
    "randomhh = random_generator.choice(hhld_array)\n",
    "print(\"My randomly selected household is household number\", randomhh)"
   ]
  },
  {
   "cell_type": "markdown",
   "metadata": {},
   "source": [
    "Then, let's look at the data for our randomly selected household:"
   ]
  },
  {
   "cell_type": "code",
   "execution_count": null,
   "metadata": {},
   "outputs": [],
   "source": [
    "myfamily = WGP_table.where(\"a1_cmpd_id\",randomhh)\n",
    "myfamily"
   ]
  },
  {
   "cell_type": "markdown",
   "metadata": {},
   "source": [
    "Some of the variables may need some manipulation. \n",
    "Let's start with the age of the respondent:"
   ]
  },
  {
   "cell_type": "code",
   "execution_count": null,
   "metadata": {},
   "outputs": [],
   "source": [
    "birthyear = myfamily.column(\"b3_birth_year\").item(0)\n",
    "surveyyear = myfamily.column(\"a5_date_interview_year\").item(0)\n",
    "agecalc = surveyyear-birthyear  # \n",
    "agecalc"
   ]
  },
  {
   "cell_type": "markdown",
   "metadata": {},
   "source": [
    "And their tribe:"
   ]
  },
  {
   "cell_type": "code",
   "execution_count": null,
   "metadata": {},
   "outputs": [],
   "source": [
    "print(\"Survey respondent Tribe\", myfamily.column(\"b5_tribe\").item(0))\n",
    "print(\"Respondent Spouse Tribe\", myfamily.column(\"b7_tribe_spouse\").item(0))"
   ]
  },
  {
   "cell_type": "markdown",
   "metadata": {},
   "source": [
    "Lastly, whether they have a latrine:"
   ]
  },
  {
   "cell_type": "code",
   "execution_count": null,
   "metadata": {},
   "outputs": [],
   "source": [
    "print(\"Does the household have a latrine?\", myfamily.column(\"d3_latrine\").item(0))"
   ]
  },
  {
   "cell_type": "markdown",
   "metadata": {},
   "source": [
    "Remember in the answer above it is coded so that 1=Yes and 2=No."
   ]
  },
  {
   "cell_type": "markdown",
   "metadata": {},
   "source": [
    "**Non-Graded Reflection Question:**\n",
    " Describe your randomly selected household and the respondent who is answering the survey. Please remember you can find the code sheet under the section of Baseline Survey.\n",
    "\n",
    "1. Age\n",
    "2. Tribe (Ethnicity)\n",
    "3. Education \n",
    "4. Member of any groups b11-b15?\n",
    "5. Occupation\n",
    "6. Religion \n",
    "7. A summary of D variables, iron roof, floor materials, latrine, cattle, and others\n",
    "8. Have they ever used WG?\n",
    "9. Their treatment arm assignment\n",
    "10. How many children do they have  \n",
    "11. Gender and Age of children\n",
    "12. Have any of the children been sick?\n"
   ]
  },
  {
   "cell_type": "markdown",
   "metadata": {},
   "source": []
  },
  {
   "cell_type": "markdown",
   "metadata": {},
   "source": [
    "<div id=\"Chlorine\"></div>\n",
    "\n",
    "## Water Guard Usage outcome variables\n",
    "\n",
    "\n"
   ]
  },
  {
   "cell_type": "markdown",
   "metadata": {},
   "source": [
    "### WGP Followup - Variability\n",
    "The purpose of this section will be to continue on with the follow-up rounds of the Water Guard Promotion study.   In this section we have both the household reported use, and the use validated by checking the chlorine content of the water using a test kit.  "
   ]
  },
  {
   "cell_type": "code",
   "execution_count": null,
   "metadata": {},
   "outputs": [],
   "source": [
    "WGP3rds_table = Table.read_table('WGP_3waves_Data8.csv')\n",
    "WGP3rds_table"
   ]
  },
  {
   "cell_type": "markdown",
   "metadata": {},
   "source": [
    "This is a large dataset, basically three datasets merged together, one for baseline, one for short term follow up and one for long term followup. The column `round` describes these 3 time steps:\n",
    "\n",
    "- Round = 1 : baseline\n",
    "- Round = 2 : 3 week followup\n",
    "- Round = 3 : 3 month followup\n",
    "\n",
    "Notably, many of the variables are only asked in one of the three rounds. For example, the chlorine use variables are:\n",
    "\n",
    "- The variable for self reported chlorine use was `c6n` in Round 2, and `c5n` in Round 3.\n",
    "- The variable for chlorine use is `c12n21pnk` in Round 2 and `c15npt2or1pnk` in Round 3.\n",
    "\n",
    "Instead, the following variables have been combined across rounds for the ease of programming:\n",
    "\n",
    "- `Selfrptpct` is self reported chlorine use in both round 2 and round 3\n",
    "- `Vldclpct`  is validated chlorine use in both rounds"
   ]
  },
  {
   "cell_type": "code",
   "execution_count": null,
   "metadata": {},
   "outputs": [],
   "source": [
    "WGP3rds_table.group(\"treatment_arm\")"
   ]
  },
  {
   "cell_type": "code",
   "execution_count": null,
   "metadata": {},
   "outputs": [],
   "source": [
    "WGP3rds_table.group('round')"
   ]
  },
  {
   "cell_type": "markdown",
   "metadata": {},
   "source": [
    "### Grouping by round + treatment arm\n",
    "\n",
    "We want to create a multi-level group: each group should be a unique combination of the survey round and the treatment arm.  \n"
   ]
  },
  {
   "cell_type": "code",
   "execution_count": null,
   "metadata": {},
   "outputs": [],
   "source": [
    "WGP_3rds_outcomesonly= WGP3rds_table.select(\"round\", \"treatment_arm\", \"Selfrptpct\", \"Vldclpct\")\n",
    "WGP_3rds_outcomesonly.group([\"round\",\"treatment_arm\"], np.mean).show(30)"
   ]
  },
  {
   "cell_type": "markdown",
   "metadata": {},
   "source": [
    "### Making a smaller dataset\n",
    "\n",
    "Lets break out a smaller dataset of the variables we want to focus on; just for Round 2 and the outcome variables."
   ]
  },
  {
   "cell_type": "code",
   "execution_count": null,
   "metadata": {},
   "outputs": [],
   "source": [
    "WGPRd2 = WGP3rds_table.where(\"round\", 2).select(\"a1_cmpd_id\",\"treatment_arm\",\n",
    "                                           \"c6_current_water_treated_wg\", \n",
    "                                           'c6_curr_water_treat_other_c',\n",
    "                                           'c12_chlorine_meter_reading',\n",
    "                                           'c11_chlorine_color','c12n21pnk', 'c6n'\n",
    "                                          )\n",
    "WGPRd2"
   ]
  },
  {
   "cell_type": "markdown",
   "metadata": {},
   "source": [
    "A quick examination of the estimated Water Guard usage in Round 2 across all treatment arms:"
   ]
  },
  {
   "cell_type": "code",
   "execution_count": null,
   "metadata": {},
   "outputs": [],
   "source": [
    "np.mean(WGPRd2.column('c12n21pnk'))"
   ]
  },
  {
   "cell_type": "markdown",
   "metadata": {},
   "source": [
    "### A/B Testing\n",
    "\n",
    "To see if the treatment was significant, we can utilize A/B testing. Recall from Data 8 that an A/B tests if two numerical samples come from the same underlying distribution, simulating the null hypothesis by shuffling the treatment assignment labels. \n",
    "\n",
    "Let's conduct an A/B testing to compare the difference in chlorine use (using the measures validated by a Chlorine measurement) between treatment and control. For this exercise, we will compare between arm 1 (the control) and arm 5 (flat-fee promoter + coupon).\n",
    "\n",
    "First, let's calculate the observed difference between the two groups.\n"
   ]
  },
  {
   "cell_type": "code",
   "execution_count": null,
   "metadata": {},
   "outputs": [],
   "source": [
    "relevant_households = WGPRd2.where(\"treatment_arm\", are.contained_in(make_array(1, 5)))\n",
    "\n",
    "grouped_tbl = relevant_households.group(\"treatment_arm\", np.mean)\n",
    "obs_diff = grouped_tbl.column(\"c12n21pnk mean\").item(1) - grouped_tbl.column(\"c12n21pnk mean\").item(0)\n",
    "print(\"The observed difference is:\", obs_diff )"
   ]
  },
  {
   "cell_type": "markdown",
   "metadata": {},
   "source": [
    "Now we will simulate under the null, shuffling the treatment assignment labels."
   ]
  },
  {
   "cell_type": "code",
   "execution_count": null,
   "metadata": {},
   "outputs": [],
   "source": [
    "mean_diffs = make_array()\n",
    "for i in np.arange(1000):\n",
    "    shuffled_labels = relevant_households.sample(with_replacement = False).column(\"treatment_arm\")\n",
    "    shuffled_tbl = relevant_households.with_column(\"shuffled treatment\", shuffled_labels)\n",
    "    grouped_tbl = shuffled_tbl.group(\"shuffled treatment\", np.mean)\n",
    "    mean_diff = grouped_tbl.column(\"c12n21pnk mean\").item(1) - grouped_tbl.column(\"c12n21pnk mean\").item(0)\n",
    "    mean_diffs = np.append(mean_diffs, mean_diff)\n",
    "Table().with_columns(\"Difference in means\", mean_diffs).hist()\n",
    "plt.scatter(obs_diff, 0, c = 'red')"
   ]
  },
  {
   "cell_type": "markdown",
   "metadata": {},
   "source": [
    "### Computing Confidence Intervals\n",
    "\n",
    "Another way to compare between two groups is to examine and compare confidence intervals of each group's mean.\n",
    "Let's compute a confidence interval for the percent of households using Chlorine (the measures validated by a Chlorine measurement) via resampling.\n"
   ]
  },
  {
   "cell_type": "code",
   "execution_count": null,
   "metadata": {},
   "outputs": [],
   "source": [
    "chlorine_uses = make_array()\n",
    "for i in np.arange(1000):\n",
    "    bootstrapped_sample = WGPRd2.sample()\n",
    "    sample_mean = np.mean(bootstrapped_sample.column('c12n21pnk'))\n",
    "    chlorine_uses = np.append(chlorine_uses, sample_mean)\n",
    "Table().with_columns(\"Chlorine use mean\", chlorine_uses).hist()"
   ]
  },
  {
   "cell_type": "code",
   "execution_count": null,
   "metadata": {},
   "outputs": [],
   "source": [
    "lower = percentile(2.5, chlorine_uses)\n",
    "upper = percentile(97.5, chlorine_uses)\n",
    "print(f\"The 95% confidence interval is [{lower}, {upper}]\")"
   ]
  },
  {
   "cell_type": "markdown",
   "metadata": {},
   "source": [
    "Using this technique we can look at the Confidence Intervals for each of the treatment arms."
   ]
  },
  {
   "cell_type": "code",
   "execution_count": null,
   "metadata": {},
   "outputs": [],
   "source": [
    "# Arm 1\n",
    "arm_1 = WGPRd2.where(\"treatment_arm\", 1)\n",
    "chlorine_uses_arm1 = make_array()\n",
    "for i in np.arange(1000):\n",
    "    bootstrapped_sample = arm_1.sample()\n",
    "    sample_mean = np.mean(bootstrapped_sample.column('c12n21pnk'))\n",
    "    chlorine_uses_arm1 = np.append(chlorine_uses_arm1, sample_mean)\n",
    "Table().with_columns(\"Chlorine use mean (arm 1)\", chlorine_uses_arm1).hist()"
   ]
  },
  {
   "cell_type": "code",
   "execution_count": null,
   "metadata": {},
   "outputs": [],
   "source": [
    "lower = percentile(2.5, chlorine_uses_arm1)\n",
    "upper = percentile(97.5, chlorine_uses_arm1)\n",
    "print(f\"The 95% confidence interval for arm 1 is [{lower}, {upper}]\")"
   ]
  },
  {
   "cell_type": "markdown",
   "metadata": {},
   "source": [
    "Repeating for Arm 2...\n"
   ]
  },
  {
   "cell_type": "code",
   "execution_count": null,
   "metadata": {},
   "outputs": [],
   "source": [
    "arm_2 = WGPRd2.where(\"treatment_arm\", 2)\n",
    "chlorine_uses_arm2 = make_array()\n",
    "for i in np.arange(1000):\n",
    "    bootstrapped_sample = arm_2.sample()\n",
    "    sample_mean = np.mean(bootstrapped_sample.column('c12n21pnk'))\n",
    "    chlorine_uses_arm2 = np.append(chlorine_uses_arm2, sample_mean)\n",
    "Table().with_columns(\"Chlorine use mean (arm 2)\", chlorine_uses_arm2).hist()"
   ]
  },
  {
   "cell_type": "code",
   "execution_count": null,
   "metadata": {},
   "outputs": [],
   "source": [
    "lower = percentile(2.5, chlorine_uses_arm2)\n",
    "upper = percentile(97.5, chlorine_uses_arm2)\n",
    "print(f\"The 95% confidence interval for arm 2 is [{lower}, {upper}]\")"
   ]
  },
  {
   "cell_type": "markdown",
   "metadata": {},
   "source": [
    "**Question 2.1:**\n",
    "What can we tell by comparing the confidence intervals for Arm 1 and Arm 2? Do they overlap?  What does that mean?\n",
    "\n",
    "<div>\n",
    "a. The confidence intervals for Arm 1 and Arm 2 overlap. This means that they are not significantly different from each other.\n",
    "<br>\n",
    "b. The confidence intervals for Arm 1 and Arm 2 do not overlap. This means that they are not significantly different from each other.\n",
    "<br>\n",
    "c. The confidence intervals for Arm 1 and Arm 2 overlap. This means that they are significantly different from each other.\n",
    "<br>\n",
    "d. The confidence intervals for Arm 1 and Arm 2 do not overlap. This means that they are significantly different from each other.\n",
    "<br>\n",
    "</div>\n",
    "\n",
    "Assign the letter corresponding to your answer to `q2_1` below.\n"
   ]
  },
  {
   "cell_type": "code",
   "execution_count": null,
   "metadata": {
    "tags": []
   },
   "outputs": [],
   "source": [
    "q2_1 = ..."
   ]
  },
  {
   "cell_type": "code",
   "execution_count": null,
   "metadata": {
    "deletable": false,
    "editable": false
   },
   "outputs": [],
   "source": [
    "grader.check(\"q2_1\")"
   ]
  },
  {
   "cell_type": "markdown",
   "metadata": {},
   "source": [
    "<div id=\"Graph\"></div>\n",
    "\n",
    "## Graph of outcomes by Treatment Arm\n",
    "\n",
    "\n"
   ]
  },
  {
   "cell_type": "markdown",
   "metadata": {},
   "source": [
    "### WGP Followup Round 2, Round 3, and across rounds\n",
    "\n",
    "Now we will work on making a summary graph for the WGP study. This graph should show the seven treatment arms with the levels of our outcomes, and include error bars (the standard deviations of our sample means). In addition, we can work on customizing and saving our graph.  "
   ]
  },
  {
   "cell_type": "code",
   "execution_count": null,
   "metadata": {},
   "outputs": [],
   "source": [
    "WGPRd2 = WGP3rds_table.where(\"round\", 2).select(\"a1_cmpd_id\",'treatment_arm','Selfrptpct', 'Vldclpct')\n",
    "WGPRd2"
   ]
  },
  {
   "cell_type": "code",
   "execution_count": null,
   "metadata": {},
   "outputs": [],
   "source": [
    "# Group by treatment_arm and take the means of each group\n",
    "round2_means = WGPRd2.group('treatment_arm', np.mean)\n",
    "round2_means"
   ]
  },
  {
   "cell_type": "code",
   "execution_count": null,
   "metadata": {},
   "outputs": [],
   "source": [
    "# Save the means into an array for later use\n",
    "round2_means_self_array = round2_means.column('Selfrptpct mean')\n",
    "round2_means_vld_array = round2_means.column('Vldclpct mean')"
   ]
  },
  {
   "cell_type": "markdown",
   "metadata": {},
   "source": [
    "Let's start with a bar chart of the self reported Water Guard usage across treatment arms."
   ]
  },
  {
   "cell_type": "code",
   "execution_count": null,
   "metadata": {},
   "outputs": [],
   "source": [
    "round2_means.bar('treatment_arm','Selfrptpct mean') "
   ]
  },
  {
   "cell_type": "markdown",
   "metadata": {},
   "source": [
    "Comparing the self reported values against the validated values:"
   ]
  },
  {
   "cell_type": "code",
   "execution_count": null,
   "metadata": {},
   "outputs": [],
   "source": [
    "round2_means.bar('treatment_arm',make_array(2, 3)) "
   ]
  },
  {
   "cell_type": "markdown",
   "metadata": {},
   "source": [
    "Next, let's redo the same procedure for round 3."
   ]
  },
  {
   "cell_type": "code",
   "execution_count": null,
   "metadata": {},
   "outputs": [],
   "source": [
    "WGPRd3 = WGP3rds_table.where(\"round\",3).select(\"a1_cmpd_id\",'treatment_arm','Selfrptpct', 'Vldclpct')\n",
    "round3_means = WGPRd3.group('treatment_arm', np.mean)\n",
    "round3_means_array = round3_means.column('Selfrptpct mean')\n",
    "round3_means.bar('treatment_arm' ,make_array(2, 3)) "
   ]
  },
  {
   "cell_type": "markdown",
   "metadata": {},
   "source": [
    "Congrats! You've finished Lab 6!"
   ]
  },
  {
   "cell_type": "markdown",
   "metadata": {
    "tags": [
     "ignore"
    ]
   },
   "source": [
    "---\n",
    "**References:**\n",
    "1. Rao & Tam curve https://www.tandfonline.com/doi/ref/10.1080/02664768700000032\n",
    "2. Income and Poverty in the US https://www.census.gov/library/publications/2019/demo/p60-266.html"
   ]
  },
  {
   "cell_type": "markdown",
   "metadata": {
    "deletable": false,
    "editable": false
   },
   "source": [
    "## Submission\n",
    "\n",
    "Make sure you have run all cells in your notebook in order before running the cell below, so that all images/graphs appear in the output. The cell below will generate a zip file for you to submit. **Please save before exporting!**"
   ]
  },
  {
   "cell_type": "code",
   "execution_count": null,
   "metadata": {
    "deletable": false,
    "editable": false
   },
   "outputs": [],
   "source": [
    "# Save your notebook first, then run this cell to export your submission.\n",
    "grader.export(run_tests=True)"
   ]
  },
  {
   "cell_type": "markdown",
   "metadata": {},
   "source": [
    " "
   ]
  }
 ],
 "metadata": {
  "kernelspec": {
   "display_name": "Python 3 (ipykernel)",
   "language": "python",
   "name": "python3"
  },
  "language_info": {
   "codemirror_mode": {
    "name": "ipython",
    "version": 3
   },
   "file_extension": ".py",
   "mimetype": "text/x-python",
   "name": "python",
   "nbconvert_exporter": "python",
   "pygments_lexer": "ipython3",
   "version": "3.9.15"
  },
  "otter": {
   "OK_FORMAT": true,
   "tests": {
    "q1_1": {
     "name": "q1_1",
     "points": null,
     "suites": [
      {
       "cases": [
        {
         "code": ">>> assert len(cum_income_share) == 5\n",
         "hidden": false,
         "locked": false
        },
        {
         "code": ">>> assert np.sum(np.diff(cum_income_share) >= 0) == 4\n",
         "hidden": false,
         "locked": false
        },
        {
         "code": ">>> assert np.isclose(sum(us_cumulative.column(\"income_percentile\")), 3.0)\n",
         "hidden": false,
         "locked": false
        },
        {
         "code": ">>> assert np.isclose(sum(us_cumulative.column(\"cum_income_share\")), 1.881)\n",
         "hidden": false,
         "locked": false
        }
       ],
       "scored": true,
       "setup": "",
       "teardown": "",
       "type": "doctest"
      }
     ]
    },
    "q1_2": {
     "name": "q1_2",
     "points": null,
     "suites": [
      {
       "cases": [
        {
         "code": ">>> assert type(x_val) == float\n",
         "hidden": false,
         "locked": false
        },
        {
         "code": ">>> assert type(y_val) == float\n",
         "hidden": false,
         "locked": false
        },
        {
         "code": ">>> assert x_val > 0.5 and y_val > 0.5\n",
         "hidden": false,
         "locked": false
        }
       ],
       "scored": true,
       "setup": "",
       "teardown": "",
       "type": "doctest"
      }
     ]
    },
    "q1_3": {
     "name": "q1_3",
     "points": null,
     "suites": [
      {
       "cases": [
        {
         "code": ">>> assert us_cumulative_extended.num_rows == 6\n",
         "hidden": false,
         "locked": false
        },
        {
         "code": ">>> assert sum([np.isclose(i, .95) for i in us_cumulative_extended[\"income_percentile\"]]) == 1\n",
         "hidden": false,
         "locked": false
        },
        {
         "code": ">>> assert sum([np.isclose(i, .769) for i in us_cumulative_extended[\"cum_income_share\"]]) == 1\n",
         "hidden": false,
         "locked": false
        }
       ],
       "scored": true,
       "setup": "",
       "teardown": "",
       "type": "doctest"
      }
     ]
    },
    "q1_4": {
     "name": "q1_4",
     "points": [
      0
     ],
     "suites": [
      {
       "cases": [
        {
         "code": ">>> assert q1_4 in [\"a\", \"b\", \"c\", \"d\"]\n",
         "hidden": false,
         "locked": false
        }
       ],
       "scored": true,
       "setup": "",
       "teardown": "",
       "type": "doctest"
      }
     ]
    },
    "q1_5": {
     "name": "q1_5",
     "points": null,
     "suites": [
      {
       "cases": [
        {
         "code": ">>> assert us_log.num_rows == 6\n",
         "hidden": false,
         "locked": false
        },
        {
         "code": ">>> assert us_log.num_columns == 2\n",
         "hidden": false,
         "locked": false
        },
        {
         "code": ">>> assert sum(us_log.column(\"log_income_percentile\")) < 0\n",
         "hidden": false,
         "locked": false
        }
       ],
       "scored": true,
       "setup": "",
       "teardown": "",
       "type": "doctest"
      }
     ]
    },
    "q2_1": {
     "name": "q2_1",
     "points": [
      0
     ],
     "suites": [
      {
       "cases": [
        {
         "code": ">>> assert q2_1 in [\"a\", \"b\", \"c\", \"d\"]\n",
         "hidden": false,
         "locked": false
        }
       ],
       "scored": true,
       "setup": "",
       "teardown": "",
       "type": "doctest"
      }
     ]
    }
   }
  },
  "varInspector": {
   "cols": {
    "lenName": 16,
    "lenType": 16,
    "lenVar": 40
   },
   "kernels_config": {
    "python": {
     "delete_cmd_postfix": "",
     "delete_cmd_prefix": "del ",
     "library": "var_list.py",
     "varRefreshCmd": "print(var_dic_list())"
    },
    "r": {
     "delete_cmd_postfix": ") ",
     "delete_cmd_prefix": "rm(",
     "library": "var_list.r",
     "varRefreshCmd": "cat(var_dic_list()) "
    }
   },
   "types_to_exclude": [
    "module",
    "function",
    "builtin_function_or_method",
    "instance",
    "_Feature"
   ],
   "window_display": false
  }
 },
 "nbformat": 4,
 "nbformat_minor": 4
}