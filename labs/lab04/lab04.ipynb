{
 "cells": [
  {
   "cell_type": "code",
   "execution_count": null,
   "metadata": {
    "deletable": false,
    "editable": false
   },
   "outputs": [],
   "source": [
    "# Initialize Otter\n",
    "import otter\n",
    "grader = otter.Notebook(\"lab04.ipynb\")"
   ]
  },
  {
   "cell_type": "markdown",
   "metadata": {},
   "source": [
    "<div style=\"display: flex; justify-content: space-between; align-items: center; background-color: transparent;\">\n",
    "    <div>\n",
    "        <img src=\"https://data-88e.github.io/assets/images/blue_text.png\" width=\"250px\" style=\"margin-left: 0;\" />\n",
    "    </div>\n",
    "    <div style=\"text-align: right; font-size: 10pt;\">\n",
    "        <strong>Economic Models</strong>, edX<br>\n",
    "        Dr. Eric Van Dusen<br>\n",
    "        Umar Maniku<br>\n",
    "        Rohan Jha<br>\n",
    "        Alan Liang<br>\n",
    "        Yiyang Chen<br>\n",
    "        Bennett Somerville<br>\n",
    "        Akhil Venkatesh\n",
    "    </div>\n",
    "</div>"
   ]
  },
  {
   "cell_type": "markdown",
   "metadata": {},
   "source": [
    "# Lab 4: The Cobb-Douglas Production Function and Macroeconomic Policy"
   ]
  },
  {
   "cell_type": "code",
   "execution_count": null,
   "metadata": {},
   "outputs": [],
   "source": [
    "from utils import *\n",
    "import matplotlib.pyplot as plt\n",
    "import numpy as np\n",
    "import pandas as pd \n",
    "import ipywidgets as widgets\n",
    "from IPython.display import display\n",
    "import warnings\n",
    "warnings.filterwarnings('ignore')\n",
    "%matplotlib inline\n",
    "plt.style.use(\"seaborn-muted\")\n",
    "from datascience import * \n",
    "from math import *\n",
    "%matplotlib inline"
   ]
  },
  {
   "cell_type": "markdown",
   "metadata": {},
   "source": [
    "## Part 1: Production and Cobb-Douglas Functions in Macroeconomics"
   ]
  },
  {
   "cell_type": "markdown",
   "metadata": {},
   "source": [
    "### The Cobb-Douglas Production Function"
   ]
  },
  {
   "cell_type": "markdown",
   "metadata": {},
   "source": [
    "The Cobb-Douglas Production Function is as follows:\n",
    "$$\n",
    "f(K, L) = K^\\alpha L^\\beta \\\\\n",
    "Y = A \\cdot f(K, L) = A K^\\alpha L^\\beta\n",
    "$$\n",
    "where $\\alpha$ and $\\beta$ are exponents.\n",
    "\n",
    "A common simplification is that $\\beta = 1 - \\alpha$. We will later explore the implications of this statement. For now, let us rewrite the above function:\n",
    "\n",
    "$$\n",
    "Y = A K^\\alpha L^{1 - \\alpha}\n",
    "$$\n",
    "\n",
    "Note that this is a function of two variables, $K$ and $L$. If we were to plot this function utilizing both variables, we would need a 3D plot with $K$, $L$ and $Y$ each having their own axis. For now, let us gain greater insight into what this function would look like by holding one variable constant and plot the other versus output.\n",
    "\n",
    "For the first case, let us visualize the Cobb-Douglas Production Function with output as a function of capital, holding the amount of labor constant at $\\bar L$."
   ]
  },
  {
   "cell_type": "markdown",
   "metadata": {},
   "source": [
    "**Question 1.1** Define ```cobb_douglas```, a function that calculates output using the Cobb-Douglas function. This should work for constant, decreasing and increasing returns to scale. We have provided an ```if-else``` structure to faciliate your implementation. Note that the syntax `beta = None` tells Python that the default argument for the `beta` argument is the value `None`. This is not a number, so you'll need to handle this case.\n",
    "\n",
    "_Hint:_ When do we substitute $\\beta = 1 - \\alpha$?\n"
   ]
  },
  {
   "cell_type": "code",
   "execution_count": null,
   "metadata": {
    "tags": []
   },
   "outputs": [],
   "source": [
    "def cobb_douglas(A, K, L, alpha, beta = None):\n",
    "    if ...:\n",
    "        return ...\n",
    "    else:\n",
    "        return ..."
   ]
  },
  {
   "cell_type": "code",
   "execution_count": null,
   "metadata": {
    "deletable": false,
    "editable": false
   },
   "outputs": [],
   "source": [
    "grader.check(\"q1_1\")"
   ]
  },
  {
   "cell_type": "markdown",
   "metadata": {},
   "source": [
    "<!-- BEGIN QUESTION -->\n",
    "\n",
    "**Question 1.2** Now let's plot Cobb-Douglas as a function of the capital stock, holding labor constant at $\\bar L$. To do this, we'll need to write a function called `cobb_douglas_plotter_K` that takes in the Cobb-Douglas model parameters to create an array of values for $Y$ called `Y_s`. In the function body, fill in the correct values for `K_s` and `Y_s`. `K_s` should be an array of the possible values of $K$ in the range $[0, 1]$ using intervals of 0.01. When you have completed the function, call it using $A = 1$, $\\bar L = 0.5$, and $\\alpha = 0.4$.\n",
    "\n",
    "_Hint:_ Your `cobb_douglas` function can take any of its parameters as an array.\n"
   ]
  },
  {
   "cell_type": "code",
   "execution_count": null,
   "metadata": {
    "tags": []
   },
   "outputs": [],
   "source": [
    "def cobb_douglas_plotter_K(A, L_bar, alpha):\n",
    "    K_s = ...\n",
    "    Y_s = ...\n",
    "    \n",
    "    ### Do not edit the code below; this does the plotting ###\n",
    "    plt.plot(K_s, Y_s)\n",
    "    plt.title(fr\"Cobb-Douglas with $\\bar L$ = {L_bar}, $A$ = {A} and $\\alpha$ = {alpha}\")\n",
    "    plt.xlabel(\"Capital Stock\")\n",
    "    plt.ylabel(\"Output\");\n",
    "\n",
    "\n",
    "..."
   ]
  },
  {
   "cell_type": "markdown",
   "metadata": {},
   "source": [
    "<!-- END QUESTION -->\n",
    "\n",
    "If you defined the function correctly, you should notice some of the properties in the graph above:\n",
    "1. It is increasing. This is called increasing returns to capital wherein any increase in capital will lead to an increase in output, assuming that labor is held constant.\n",
    "2. It is concave (increasing at a decreasing rate). This is called diminishing marginal returns to capital wherein any additional unit of capital will lead to smaller and smaller increases in capital.\n",
    "\n",
    "We can do the same thing but instead holding capital constant and letting labor vary."
   ]
  },
  {
   "cell_type": "code",
   "execution_count": null,
   "metadata": {},
   "outputs": [],
   "source": [
    "cobb_douglas_plotter_L(1, 0.5, 0.4)"
   ]
  },
  {
   "cell_type": "markdown",
   "metadata": {},
   "source": [
    "We notice that the same properties hold: the function is exhibiting both increasing returns to labor and diminishing marginal returns to labor. This is because we selected the same parameters as when we plotted output versus capital stock. The cell below has the same function call, but try using different parameters and observe what happens to its shape."
   ]
  },
  {
   "cell_type": "code",
   "execution_count": null,
   "metadata": {},
   "outputs": [],
   "source": [
    "# Change the parameters below\n",
    "# First parameter: alpha, Second parameter: Fixed value of K, Third parameter: beta\n",
    "\n",
    "cobb_douglas_plotter_L(2, 0.9, 0.7)"
   ]
  },
  {
   "cell_type": "markdown",
   "metadata": {},
   "source": [
    "### Implications for cross-country comparisons"
   ]
  },
  {
   "cell_type": "markdown",
   "metadata": {},
   "source": [
    "Work by Professors C.W. Cobb and P.H. Douglas found that production or output was a weighted average of the log of capital and labor. The equation for Cobb-Douglas production functions were the result of their research, especially when a log transformation was applied to the equation:\n",
    "\n",
    "$$\\begin{aligned}\n",
    "Y &= A K^\\alpha L^{1 - \\alpha} \\\\\n",
    "\\ln Y &= \\ln A + \\alpha \\ln K + (1 - \\alpha) \\ln L\n",
    "\\end{aligned}\n",
    "$$\n",
    "\n",
    "Note that this is exactly the weighted average that the two Professors found in their empirical findings: capital and labor are weighted by $\\alpha$ and $1 - \\alpha$ respectively. However, this is still showing production as a function of two variables, $K$ and $L$. Rearranging the equation yields something interesting:\n",
    "\n",
    "$$\\begin{aligned}\n",
    "\\ln Y &= \\ln A + \\alpha \\ln K + \\ln L - \\alpha \\ln L \\\\\n",
    "\\ln Y- \\ln L &= \\ln A + \\alpha \\ln K - \\ln L \\\\\n",
    "\\ln \\dfrac{Y}{L} &= \\ln A + \\alpha \\ln \\dfrac{K}{L}\n",
    "\\end{aligned}\n",
    "$$\n",
    "\n",
    "The Cobb-Douglas function is now an equation in 1 variable: $\\ln \\frac{K}{L}$, making it linear instead of exponential."
   ]
  },
  {
   "cell_type": "markdown",
   "metadata": {},
   "source": [
    "**Question 1.3** Now that we have linearly transformed Cobb-Douglas, how can we use the function defined above to recover $A$ and $\\alpha$ values for a country? More specifically, how could you get the values for $A$ and $\\alpha$ when presented with a plot of $\\ln \\dfrac{K}{L}$ vs. $\\ln \\dfrac{Y}{L}$?\n",
    "1. $\\alpha$ is the intercept of the plot; $A$ is the slope of the plot.\n",
    "2. $A$ is the intercept of the plot; $\\alpha$ is the slope of the plot.\n",
    "3. To get $A$, exponentiate the intercept; $\\alpha$ is the slope of the plot.\n",
    "4. To get $\\alpha$, exponentiate the slope; $A$ is the intercept of the plot.\n",
    "\n",
    "Assign the number corresponding to your answer to `q1_3` below.\n"
   ]
  },
  {
   "cell_type": "code",
   "execution_count": null,
   "metadata": {
    "tags": []
   },
   "outputs": [],
   "source": [
    "q1_3 = ..."
   ]
  },
  {
   "cell_type": "code",
   "execution_count": null,
   "metadata": {
    "deletable": false,
    "editable": false
   },
   "outputs": [],
   "source": [
    "grader.check(\"q1_3\")"
   ]
  },
  {
   "cell_type": "markdown",
   "metadata": {},
   "source": [
    "Now that you've identified a process of capturing all parts of the Cobb-Douglas function, we are now able to compare  values of $A$ and $\\alpha$ between countries, and by extension how capital and labor are deployed in different ways between nations. We will now learn about the significance of $A$ and $\\alpha$ in the sections below. The upcoming project will have you try this on a broad range of nations from 1990 to 2019."
   ]
  },
  {
   "cell_type": "markdown",
   "metadata": {},
   "source": [
    "### Shifts in $A$ and its effect on output"
   ]
  },
  {
   "cell_type": "code",
   "execution_count": null,
   "metadata": {},
   "outputs": [],
   "source": [
    "A_slider = widgets.FloatSlider(min = 0.5, max = 10, step = 0.5, value = 1)\n",
    "display(widgets.interactive(change_A, A = A_slider))"
   ]
  },
  {
   "cell_type": "markdown",
   "metadata": {},
   "source": [
    "Supply or total factor productivity shocks could cause $A$ to change. These occur if there is a change in total output for a given level of capital and labor. Examples of these include financial crises, technology shocks, natural environment/disasters and energy prices. \n",
    "\n",
    "Favorable shocks rotate the production function upward through an increase in $A$. Thus, each unit of input from capital and labor now simultaneously produce more output. What does this mean for the rental rate of capital and the real wage? Recall the functions for both of them:\n",
    "\n",
    "$$\\begin{aligned}\n",
    "MPL &= \\dfrac{\\partial Y}{\\partial L} \\\\\n",
    "&= A (1 - \\alpha) \\left ( \\dfrac{K}{L} \\right )^{\\alpha} \\\\\n",
    "MPK &= \\dfrac{\\partial Y}{\\partial K} \\\\\n",
    "&= \\alpha A \\left ( \\dfrac{L}{K} \\right )^{1 - \\alpha} \\\\\n",
    "\\end{aligned}\n",
    "$$\n",
    "\n",
    "Both MPK and MPL will increase by a factor of $A$. Thus, it would be more expensive to hire an additional unit of labor or rent an additional unit of capital. As they are both more productive than they previously were, they are both more valuable to a business and thus will cost more.\n",
    "\n",
    "\n",
    "Negative shocks do the opposite. They rotate the production function downward through a decrease in $A$. Each unit of input is now less productive, meaning that both the rental rate of capital and the real wage are lower."
   ]
  },
  {
   "cell_type": "markdown",
   "metadata": {},
   "source": [
    "### Differences in $\\alpha$ and their effects on output"
   ]
  },
  {
   "cell_type": "code",
   "execution_count": null,
   "metadata": {},
   "outputs": [],
   "source": [
    "alpha_slider = widgets.FloatSlider(min = 0.1, max = 1, step = 0.1, value = 0.5)\n",
    "display(widgets.interactive(change_alpha, alpha = alpha_slider))"
   ]
  },
  {
   "cell_type": "markdown",
   "metadata": {},
   "source": [
    "$\\alpha$ and $\\beta$ are called the output elasticities of capital and labor, respectively. They measure the responsiveness of output to a change in the levels of either labor or capital, holding all else constant. This means that if $\\alpha$ or $\\beta$ were high, then any small increase in their respective input would lead to a relatively large increase in output. As an example, if $\\alpha$ were 0.4, then a 1% increase in capital would lead to a 0.4% increase in output."
   ]
  },
  {
   "cell_type": "markdown",
   "metadata": {},
   "source": [
    "**Question 1.4.** Let's link this back to Cobb-Douglas' simplifying assumption of constant returns to scale. Recall that this means $\\alpha = 1 - \\beta$. If a nation has a high $\\alpha$, what does this mean about how resources are allocated?\n",
    "1. The higher the $\\alpha$, the more efficient a country's production is.\n",
    "2. The higher the $\\alpha$, the larger the labor force of the country.\n",
    "3. The higher the $\\alpha$, the more labor-intensive a country's production is.\n",
    "4. The higher the $\\alpha$, the more capital-intensive a country's production is.\n",
    "\n",
    "\n",
    "Assign the number corresponding to your answer to `q1_5` below.\n"
   ]
  },
  {
   "cell_type": "code",
   "execution_count": null,
   "metadata": {
    "tags": []
   },
   "outputs": [],
   "source": [
    "q1_4 = ..."
   ]
  },
  {
   "cell_type": "code",
   "execution_count": null,
   "metadata": {
    "deletable": false,
    "editable": false
   },
   "outputs": [],
   "source": [
    "grader.check(\"q1_4\")"
   ]
  },
  {
   "cell_type": "markdown",
   "metadata": {},
   "source": [
    "### Returns to scale"
   ]
  },
  {
   "cell_type": "markdown",
   "metadata": {},
   "source": [
    "The significance of the exponents adding up to 1, i.e. $\\alpha + \\beta = 1$, is that this implies **constant returns to scale**. If all inputs are scaled by a common non-zero factor, the output will be scaled by that same factor. Below is a generalization of this:\n",
    "\n",
    "$$\n",
    "\\begin{aligned}\n",
    "Y &= A (c \\cdot K)^\\alpha (c \\cdot L)^{1 - \\alpha} \\\\\n",
    "&= A c^\\alpha K ^ \\alpha c^{1 - \\alpha}L^{1 - \\alpha} \\\\\n",
    "&= A c^{\\alpha + 1 - \\alpha}K^\\alpha L^{1 - \\alpha} \\\\\n",
    "&= c \\cdot A K^\\alpha L^{1 - \\alpha}\n",
    "\\end{aligned}\n",
    "$$\n",
    "\n",
    "Thus, any increase in either of the inputs will lead to a 1-1 increase in output. This is a significant assumption to make, as it essentially incentivizes companies to continue to \"scale\" their production inputs. They are not losing out on how much return is produced - they are getting output that matches exactly what they put into production.\n",
    "\n",
    "The alternative case is when $\\alpha + \\beta < 1$. This is called **decreasing returns to scale**, and occurs when a company scales their production inputs by a factor of $c$, but gets a scaling in output that is less than $c$.\n",
    "\n",
    "The last case is when $\\alpha + \\beta > 1$. This is called **increasing returns to scale**, and occurs when a company increases their production inputs by $c$, but gets an increase in output that is greater than $c$.\n",
    "\n",
    "Let us visually examine how values of $\\alpha$ and $\\beta$ affect output."
   ]
  },
  {
   "cell_type": "code",
   "execution_count": null,
   "metadata": {},
   "outputs": [],
   "source": [
    "alpha_beta_slider = widgets.FloatSlider(min = 0.1, max = 3, step = 0.1, value = 1)\n",
    "display(widgets.interactive(change_alpha_beta, alpha_beta_sum = alpha_beta_slider))"
   ]
  },
  {
   "cell_type": "markdown",
   "metadata": {},
   "source": [
    "**Question 1.5:** True or False: In the hypothetical case where a company can increase inputs to infinity, all cases of returns to scale result in infinite output. Thus, the owner of the company in such a scenario would not care if their production exhibited decreasing, constant or increasing returns to scale. What would the company prefer?\n",
    "\n",
    "<ol type=\"A\" style=\"list-style-type: lower-alpha;\">\n",
    "    <li>True: as long as the company can increase inputs to infinity, the owner will recieve the profits from infinite output anyways.</li>\n",
    "    <li>False: even if the company could increase inputs to infinity, increasing returns to scale will reach infinite output faster than the other two possibilities and therefore the owner should care about the returns to scale on their production.</li>\n",
    "    <li>True: with infinite inputs, the owner will always have more inputs available to bolster production, regardless of returns to scale.</li>\n",
    "    <li>It depends on the company - some firms would care about the returns to scale and others wouldn't.</li>\n",
    "</ol>\n",
    "\n",
    "Assign the letter corresponding to your answer to `q1_6` below.\n"
   ]
  },
  {
   "cell_type": "code",
   "execution_count": null,
   "metadata": {
    "tags": []
   },
   "outputs": [],
   "source": [
    "q1_5 = ..."
   ]
  },
  {
   "cell_type": "code",
   "execution_count": null,
   "metadata": {
    "deletable": false,
    "editable": false
   },
   "outputs": [],
   "source": [
    "grader.check(\"q1_5\")"
   ]
  },
  {
   "cell_type": "markdown",
   "metadata": {},
   "source": [
    "---"
   ]
  },
  {
   "cell_type": "markdown",
   "metadata": {},
   "source": [
    "## Part 2: Real-world Dataset\n",
    "\n",
    "We will be using \"Penn World Table\" (PWT), a dataset that catalogues information on relative levels of income, output, inputs and productivity for 182 countries between 1950 and 2019. It was compiled by the University of Groningen."
   ]
  },
  {
   "cell_type": "code",
   "execution_count": null,
   "metadata": {
    "scrolled": true
   },
   "outputs": [],
   "source": [
    "file_name = \"pwt1001.csv\"\n",
    "\n",
    "try: \n",
    "    data = Table.read_table(file_name, sep=\";\")\n",
    "    assert len(data) > 50\n",
    "except:\n",
    "    data = Table.read_table(file_name, sep=\",\")\n",
    "data.show(5)\n",
    "\n",
    "rgdpe_no_nan = data.column('rgdpe')[~np.isnan(data.column('rgdpe'))]"
   ]
  },
  {
   "cell_type": "markdown",
   "metadata": {},
   "source": [
    "Below are a few questions that will help you get to know the data you will be working with."
   ]
  },
  {
   "cell_type": "markdown",
   "metadata": {},
   "source": [
    "Let's calculate a few summary statistics for one of the variables, `rgdpe` (Expenditure-side real GDP at chained PPPs), by making some simple numpy calls to compare living standards."
   ]
  },
  {
   "cell_type": "markdown",
   "metadata": {},
   "source": [
    "**Question 2.1** Calculate the mean, median, 25th percentile, and 75th percentile values of rgdpe and assign them to `mean_rgdpe`, `median_rgdpe`, `twentyfifth_rgdpe`, and `seventyfifth_percentile` accordingly.\n",
    "\n",
    "Hint: What percentile corresponds to the median value?"
   ]
  },
  {
   "cell_type": "code",
   "execution_count": null,
   "metadata": {
    "tags": []
   },
   "outputs": [],
   "source": [
    "mean_rgdpe = ...\n",
    "median_rgdpe = ...\n",
    "twentyfifth_rgdpe = ...\n",
    "seventyfifth_rgdpe = ...\n",
    "\n",
    "mean_rgdpe, median_rgdpe, twentyfifth_rgdpe, seventyfifth_rgdpe"
   ]
  },
  {
   "cell_type": "code",
   "execution_count": null,
   "metadata": {
    "deletable": false,
    "editable": false
   },
   "outputs": [],
   "source": [
    "grader.check(\"q2_1\")"
   ]
  },
  {
   "cell_type": "markdown",
   "metadata": {},
   "source": [
    "Let's explore the data further! We will evaluate employment levels in Canada and Mexico as a primer to the project you will be working on."
   ]
  },
  {
   "cell_type": "markdown",
   "metadata": {},
   "source": [
    "**Question 2.2** Calculate the mean, median, max, and min values of `emp` for both Canada and Mexico and assign them to the relevant variables below:"
   ]
  },
  {
   "cell_type": "code",
   "execution_count": null,
   "metadata": {
    "tags": []
   },
   "outputs": [],
   "source": [
    "canada_emp = ...\n",
    "mean_canada_emp = ...\n",
    "median_canada_emp = ...\n",
    "min_canada_emp = ...\n",
    "max_canada_emp = ...\n",
    "\n",
    "mexico_emp = ...\n",
    "mean_mexico_emp = ...\n",
    "median_mexico_emp = ...\n",
    "min_mexico_emp = ...\n",
    "max_mexico_emp = ...\n",
    "\n",
    "((mean_canada_emp, median_canada_emp, min_canada_emp, max_canada_emp), (mean_mexico_emp, median_mexico_emp, min_mexico_emp, max_mexico_emp))"
   ]
  },
  {
   "cell_type": "code",
   "execution_count": null,
   "metadata": {
    "deletable": false,
    "editable": false
   },
   "outputs": [],
   "source": [
    "grader.check(\"q2_2\")"
   ]
  },
  {
   "cell_type": "markdown",
   "metadata": {},
   "source": [
    "## Part 3: Macroeconomic Data and FRED API"
   ]
  },
  {
   "cell_type": "markdown",
   "metadata": {},
   "source": [
    "We will start by first downloading some macroeconomic data from FRED. In this notebook, we will introduce the FRED API (Application Programming Interface).  "
   ]
  },
  {
   "cell_type": "markdown",
   "metadata": {},
   "source": [
    "**What is an API?**  \n",
    "In contrast to a user interface, which connects a computer to a person, an application programming interface (API) connects computers or pieces of software to each other. It is not intended to be used directly by a person (the end user) other than a computer programmer who is incorporating it into the software. An API is often made up of different parts which act as tools or services that are available to the programmer. A program or a programmer that uses one of these parts is said to call that portion of the API. The calls that make up the API are also known as subroutines, methods, requests, or endpoints. An API specification defines these calls, meaning that it explains how to use or implement them. [Wikipedia]"
   ]
  },
  {
   "cell_type": "markdown",
   "metadata": {},
   "source": [
    "In most cases, you will need to get an API key in order to access an API. For some resources, it involves some paperwork to apply and/or limited free usage. For FRED, the process of getting an API key is simple. Make an account and request the API key [here](https://fred.stlouisfed.org/docs/api/api_key.html). In lecture, we discussed how to use APIs generally. In this lab, we skip straight to using the `fredapi` package to interact with the FRED API. First, we initialize a `Fred` object with our API key.\n",
    "\n",
    "For the purposes of this lab, we've just directly provided the csv files for you."
   ]
  },
  {
   "cell_type": "markdown",
   "metadata": {},
   "source": [
    "To access data from the FRED API, we need to know the series ID for the data we want. You can find this using the [FRED](https://fred.stlouisfed.org) website. For example, by searching for GDP, we can see on the [FRED page for Gross Domestic Product](https://fred.stlouisfed.org/series/GDP) that the series ID is GDP, as written in parentheses."
   ]
  },
  {
   "cell_type": "markdown",
   "metadata": {},
   "source": [
    "### Part 3.1: Access the API using the `fredapi` package\n",
    "\n"
   ]
  },
  {
   "cell_type": "code",
   "execution_count": null,
   "metadata": {},
   "outputs": [],
   "source": [
    "gdp_df = pd.read_csv(\"GDP.csv\")\n",
    "fedfunds_df = pd.read_csv(\"FEDFUNDS.csv\")\n",
    "unrate_df = pd.read_csv(\"UNRATE.csv\")\n",
    "cpilfesl_df = pd.read_csv(\"CPILFESL.csv\")"
   ]
  },
  {
   "cell_type": "code",
   "execution_count": null,
   "metadata": {},
   "outputs": [],
   "source": [
    "gdp_df.head(10)"
   ]
  },
  {
   "cell_type": "code",
   "execution_count": null,
   "metadata": {},
   "outputs": [],
   "source": [
    "gdp_df.plot(figsize=(15, 10));"
   ]
  },
  {
   "cell_type": "code",
   "execution_count": null,
   "metadata": {},
   "outputs": [],
   "source": [
    "fedfunds_df.plot(figsize=(15, 10)); "
   ]
  },
  {
   "cell_type": "markdown",
   "metadata": {},
   "source": [
    "**Non-Graded Reflection Question:** Why was there such a large spike in interest rates during the late 70s and early 80s? Why have interest rates been relatively low throughout the 21st century?\n"
   ]
  },
  {
   "cell_type": "markdown",
   "metadata": {},
   "source": []
  },
  {
   "cell_type": "markdown",
   "metadata": {},
   "source": [
    "**Question 3.1**: Graph the unemployment rate over time.\n"
   ]
  },
  {
   "cell_type": "code",
   "execution_count": null,
   "metadata": {
    "tags": []
   },
   "outputs": [],
   "source": [
    "(...).plot(figsize=(15, 10));"
   ]
  },
  {
   "cell_type": "markdown",
   "metadata": {},
   "source": [
    "**Non-Graded Reflection Question:** What spikes do you see since 2000? What events do they correlate with?\n"
   ]
  },
  {
   "cell_type": "markdown",
   "metadata": {},
   "source": []
  },
  {
   "cell_type": "markdown",
   "metadata": {},
   "source": [
    "**Question 3.2**: Graph inflation over time.\n",
    "\n"
   ]
  },
  {
   "cell_type": "code",
   "execution_count": null,
   "metadata": {
    "tags": []
   },
   "outputs": [],
   "source": [
    "cpilfesl_df['CPILFESL'] = pd.to_numeric(cpilfesl_df['CPILFESL'], errors='coerce')\n",
    "(...).plot(figsize=(15, 10));"
   ]
  },
  {
   "cell_type": "markdown",
   "metadata": {},
   "source": [
    "**Non-Graded Reflection Question:** What do you notice about inflation over the past 2 years? In 2008? Why might these trends exist?\n"
   ]
  },
  {
   "cell_type": "markdown",
   "metadata": {},
   "source": []
  },
  {
   "cell_type": "markdown",
   "metadata": {},
   "source": [
    "### Part 3.2: Use the FRED API to graph a Phillips curve"
   ]
  },
  {
   "cell_type": "markdown",
   "metadata": {},
   "source": [
    "**Non-Graded Reflection Question:**\n",
    ": Recalling what you learned in lecture, what macroeconomic indicators does the Phillips curve relate? Is the correlation usually negative or positive? What is the intuition behind this relationship?\n"
   ]
  },
  {
   "cell_type": "markdown",
   "metadata": {},
   "source": []
  },
  {
   "cell_type": "markdown",
   "metadata": {},
   "source": [
    "To start, we will use the unemployment rate and inflation data to graph a Phillips curve. The `fred` package's `get_series` function returns a Pandas series, which we turn into a Pandas dataframe. To convert to Data 8 tables, we use, the `datascience` package's `Table.from_df` function."
   ]
  },
  {
   "cell_type": "code",
   "execution_count": null,
   "metadata": {},
   "outputs": [],
   "source": [
    "unemployment_table = Table.from_df(\n",
    "    pd.DataFrame(\n",
    "        unrate_df\n",
    "    ).rename(columns={0:'unemployment_rate'}).reset_index()\n",
    ")\n",
    "unemployment_table"
   ]
  },
  {
   "cell_type": "markdown",
   "metadata": {},
   "source": [
    "Next, we will grab the inflation data."
   ]
  },
  {
   "cell_type": "code",
   "execution_count": null,
   "metadata": {},
   "outputs": [],
   "source": [
    "inflation_table = Table.from_df(\n",
    "    pd.DataFrame(\n",
    "        cpilfesl_df\n",
    "    ).rename(columns={0:'inflation_rate'}).dropna().reset_index()\n",
    ")\n",
    "inflation_table"
   ]
  },
  {
   "cell_type": "markdown",
   "metadata": {},
   "source": [
    "**Question 4.1**: We now have to *join* the two datasets. This should be familiar from Data 8, but if you need a quick refresher, feel free to reference over [section 8.4 in the Data 8 textbook](https://inferentialthinking.com/chapters/08/4/Joining_Tables_by_Columns.html). Each row in our `phillips_curve_table` should report the unemployment rate and CPI for the same date, if `unemployment_table` and `inflation_table` both have data at that date.\n"
   ]
  },
  {
   "cell_type": "code",
   "execution_count": null,
   "metadata": {
    "tags": []
   },
   "outputs": [],
   "source": [
    "phillips_curve_table = ...\n",
    "phillips_curve_table"
   ]
  },
  {
   "cell_type": "markdown",
   "metadata": {},
   "source": [
    "**Question 4.2**: Graph the Phillips curve, showing the relationship between the unemployment rate and inflation.\n"
   ]
  },
  {
   "cell_type": "code",
   "execution_count": null,
   "metadata": {
    "tags": []
   },
   "outputs": [],
   "source": [
    "phillips_curve_table.scatter(..., ..., width=15, height=10)\n",
    "plt.xlabel(\"Unemployment\")\n",
    "plt.ylabel(\"Inflation\");"
   ]
  },
  {
   "cell_type": "markdown",
   "metadata": {},
   "source": [
    "**Congratulations!** You are done! Hopefully this lab gave you a brief taste of applying data science to macroeconomic indicators."
   ]
  },
  {
   "cell_type": "markdown",
   "metadata": {},
   "source": [
    "---"
   ]
  },
  {
   "cell_type": "markdown",
   "metadata": {},
   "source": [
    "## Credits\n",
    "\n",
    "We would like to thank Professor Raymond Hawkins for his input and Lecture 4 of his Economics 100B course at UC Berkeley, which informed parts of this notebook.\n",
    "\n",
    "Further, we reference the University of Groningen's Penn World Table 10.0 Dataset throughout this notebook:\n",
    "\n",
    "Feenstra, Robert C., Robert Inklaar and Marcel P. Timmer (2015), \"The Next Generation of the Penn World Table\" American Economic Review, 105(10), 3150-3182, available for download at www.ggdc.net/pwt"
   ]
  }
 ],
 "metadata": {
  "@webio": {
   "lastCommId": null,
   "lastKernelId": null
  },
  "kernelspec": {
   "display_name": "Python 3 (ipykernel)",
   "language": "python",
   "name": "python3"
  },
  "language_info": {
   "codemirror_mode": {
    "name": "ipython",
    "version": 3
   },
   "file_extension": ".py",
   "mimetype": "text/x-python",
   "name": "python",
   "nbconvert_exporter": "python",
   "pygments_lexer": "ipython3",
   "version": "3.12.1"
  },
  "otter": {
   "OK_FORMAT": true,
   "tests": {
    "q1_1": {
     "name": "q1_1",
     "points": null,
     "suites": [
      {
       "cases": [
        {
         "code": ">>> np.isclose(cobb_douglas(1, 2, 2, 0.5), 2)\nTrue",
         "hidden": false,
         "locked": false
        },
        {
         "code": ">>> np.isclose(cobb_douglas(1, 4, 0.5, 0.2, 1.1), 0.6155722066724582)\nTrue",
         "hidden": false,
         "locked": false
        },
        {
         "code": ">>> cobb_douglas(1, 2, 2, 0.5) == cobb_douglas(1, 2, 2, 0.5, 0.5)\nTrue",
         "hidden": false,
         "locked": false
        }
       ],
       "scored": true,
       "setup": "",
       "teardown": "",
       "type": "doctest"
      }
     ]
    },
    "q1_3": {
     "name": "q1_3",
     "points": [
      0
     ],
     "suites": [
      {
       "cases": [
        {
         "code": ">>> q1_3 in [1, 2, 3, 4]\nTrue",
         "hidden": false,
         "locked": false
        }
       ],
       "scored": true,
       "setup": "",
       "teardown": "",
       "type": "doctest"
      }
     ]
    },
    "q1_4": {
     "name": "q1_4",
     "points": [
      0
     ],
     "suites": [
      {
       "cases": [
        {
         "code": ">>> q1_4 in [1, 2, 3,4]\nTrue",
         "hidden": false,
         "locked": false
        }
       ],
       "scored": true,
       "setup": "",
       "teardown": "",
       "type": "doctest"
      }
     ]
    },
    "q1_5": {
     "name": "q1_5",
     "points": [
      0
     ],
     "suites": [
      {
       "cases": [
        {
         "code": ">>> q1_5 in [\"a\", \"b\", \"c\", \"d\"]\nTrue",
         "hidden": false,
         "locked": false
        }
       ],
       "scored": true,
       "setup": "",
       "teardown": "",
       "type": "doctest"
      }
     ]
    },
    "q2_1": {
     "name": "q2_1",
     "points": [
      0
     ],
     "suites": [
      {
       "cases": [
        {
         "code": ">>> assert 200000 < mean_rgdpe and mean_rgdpe < 400000\n>>> assert 20000 < median_rgdpe and median_rgdpe < 40000\n>>> assert 5000 < twentyfifth_rgdpe and twentyfifth_rgdpe < 7000\n>>> assert 150000 < seventyfifth_rgdpe and seventyfifth_rgdpe < 160000\n",
         "hidden": false,
         "locked": false
        }
       ],
       "scored": true,
       "setup": "",
       "teardown": "",
       "type": "doctest"
      }
     ]
    },
    "q2_2": {
     "name": "q2_2",
     "points": [
      0
     ],
     "suites": [
      {
       "cases": [
        {
         "code": ">>> assert 0 < mean_canada_emp and mean_canada_emp < 30\n>>> assert 0 < median_canada_emp and median_canada_emp < 30\n>>> assert 0 < min_canada_emp and min_canada_emp < 30\n>>> assert 0 < max_canada_emp and max_canada_emp < 30\n>>> \n>>> assert 0 < mean_mexico_emp and mean_mexico_emp < 30\n>>> assert 0 < median_mexico_emp and median_mexico_emp < 30\n>>> assert 0 < min_mexico_emp and min_mexico_emp < 30\n>>> assert 0 < max_mexico_emp and max_mexico_emp < 60\n",
         "hidden": false,
         "locked": false
        }
       ],
       "scored": true,
       "setup": "",
       "teardown": "",
       "type": "doctest"
      }
     ]
    }
   }
  },
  "otter_service": {
   "assignment": "lab04",
   "course": "88ex",
   "section": "2"
  }
 },
 "nbformat": 4,
 "nbformat_minor": 4
}