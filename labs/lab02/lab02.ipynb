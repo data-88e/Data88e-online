{
 "cells": [
  {
   "cell_type": "code",
   "execution_count": null,
   "metadata": {
    "deletable": false,
    "editable": false
   },
   "outputs": [],
   "source": [
    "# Initialize Otter\n",
    "import otter\n",
    "grader = otter.Notebook(\"lab02.ipynb\")"
   ]
  },
  {
   "cell_type": "markdown",
   "metadata": {},
   "source": [
    "<div style=\"display: flex; justify-content: space-between; align-items: center; background-color: transparent;\">\n",
    "    <div>\n",
    "        <img src=\"https://data-88e.github.io/assets/images/blue_text.png\" width=\"250px\" style=\"margin-left: 0;\" />\n",
    "    </div>\n",
    "    <div style=\"text-align: right; font-size: 10pt;\">\n",
    "        <strong>Economic Models</strong>, edX<br>\n",
    "        Dr. Eric Van Dusen<br>\n",
    "        Shashank Dalmia<br>\n",
    "        Amal Bhatnagar<br>\n",
    "        Akhil Venkatesh\n",
    "    </div>\n",
    "</div>"
   ]
  },
  {
   "cell_type": "markdown",
   "metadata": {
    "tags": [
     "gradable"
    ]
   },
   "source": [
    "## Lab 2: Supply"
   ]
  },
  {
   "cell_type": "markdown",
   "metadata": {},
   "source": [
    "**Note:** For this lab, two line answers are more than enough for full credit on written answers!"
   ]
  },
  {
   "cell_type": "code",
   "execution_count": null,
   "metadata": {},
   "outputs": [],
   "source": [
    "from datascience import  *\n",
    "import matplotlib.pyplot as plt\n",
    "%matplotlib inline\n",
    "import numpy as np\n",
    "import sympy\n",
    "\n",
    "def plot_equation(equation, price_start, price_end, label=None):\n",
    "    plot_prices = [price_start, price_end]\n",
    "    plot_quantities = [equation.subs(list(equation.free_symbols)[0], c) for c in plot_prices]\n",
    "    plt.plot(plot_quantities, plot_prices, label=label)\n",
    "    \n",
    "def plot_intercept(eq1, eq2):\n",
    "    ex = sympy.solve(eq1-eq2)[0]\n",
    "    why = eq1.subs(list(eq1.free_symbols)[0], ex)\n",
    "    plt.scatter([why], [ex], zorder=10, color=\"tab:orange\")\n",
    "    return (ex, why)\n",
    "\n",
    "solve = lambda x,y: sympy.solve(x-y)[0] if len(sympy.solve(x-y))==1 else \"Not Single Solution\""
   ]
  },
  {
   "cell_type": "markdown",
   "metadata": {},
   "source": [
    "### Question 1 "
   ]
  },
  {
   "cell_type": "markdown",
   "metadata": {},
   "source": [
    "Fill in the blank entries in the table below. Note that the output values are not linearly increasing. Two rows for values at levels 8 and 9 are intentionally left missing.\n",
    "\n",
    "| Output | Total Fixed Cost | Total Variable Cost | Total Cost | Average Fixed Cost | Average Variable Cost | Average Total Cost | Marginal Cost |\n",
    "|--------|------------------|---------------------|------------|--------------------|-----------------------|--------------------|---------------|\n",
    "| 0 | 60 | **(i)** | 60 | 0 | 0 | 0 | 0 |\n",
    "| 1 | 60 | 40 | 100 | 60 | 40 | 100 | **(ii)** |\n",
    "| 2 | 60 | 65 | 125 | 30 | 33 | 63 | 25 |\n",
    "| 3 | 60 | 85 | 145 | 20 | 28 | 48 | 20 |\n",
    "| 4 | 60 | 100 | 160 | 15 | 25 | **(iii)** | 15 |\n",
    "| 5 | 60 | 120 | 180 | 12 | 24 | 36 | 20 |\n",
    "| 6 | 60 | 144 | 204 | 10 | 24 | 34 | 24 |\n",
    "| 7 | 60 | 182 | 242 | 9 | 26 | 35 | 38 |\n",
    "| 8 | 60 | 240 | 300 | 8 | **(iv)** | 38 | 58 |\n",
    "| 10 | 60 | 410 | 470 | 6 | 41 | 47 | 85 |\n",
    "| 15 | 60 | **(v)** | 970 | 4 | 60.67 | 64.67 | **(vi)** |\n",
    "| 25 | 60 | **(vii)** | **(viii)** | 2 | NA | NA | 125 |\n"
   ]
  },
  {
   "cell_type": "code",
   "execution_count": null,
   "metadata": {
    "tags": []
   },
   "outputs": [],
   "source": [
    "i = ..."
   ]
  },
  {
   "cell_type": "code",
   "execution_count": null,
   "metadata": {
    "deletable": false,
    "editable": false
   },
   "outputs": [],
   "source": [
    "grader.check(\"q1_1\")"
   ]
  },
  {
   "cell_type": "code",
   "execution_count": null,
   "metadata": {
    "tags": []
   },
   "outputs": [],
   "source": [
    "ii = ..."
   ]
  },
  {
   "cell_type": "code",
   "execution_count": null,
   "metadata": {
    "deletable": false,
    "editable": false
   },
   "outputs": [],
   "source": [
    "grader.check(\"q1_2\")"
   ]
  },
  {
   "cell_type": "code",
   "execution_count": null,
   "metadata": {
    "tags": []
   },
   "outputs": [],
   "source": [
    "iii  = ..."
   ]
  },
  {
   "cell_type": "code",
   "execution_count": null,
   "metadata": {
    "deletable": false,
    "editable": false
   },
   "outputs": [],
   "source": [
    "grader.check(\"q1_3\")"
   ]
  },
  {
   "cell_type": "code",
   "execution_count": null,
   "metadata": {
    "tags": []
   },
   "outputs": [],
   "source": [
    "iv = ..."
   ]
  },
  {
   "cell_type": "code",
   "execution_count": null,
   "metadata": {
    "deletable": false,
    "editable": false
   },
   "outputs": [],
   "source": [
    "grader.check(\"q1_4\")"
   ]
  },
  {
   "cell_type": "code",
   "execution_count": null,
   "metadata": {
    "tags": []
   },
   "outputs": [],
   "source": [
    "v = ..."
   ]
  },
  {
   "cell_type": "code",
   "execution_count": null,
   "metadata": {
    "deletable": false,
    "editable": false
   },
   "outputs": [],
   "source": [
    "grader.check(\"q1_5\")"
   ]
  },
  {
   "cell_type": "code",
   "execution_count": null,
   "metadata": {
    "tags": []
   },
   "outputs": [],
   "source": [
    "vi = ..."
   ]
  },
  {
   "cell_type": "code",
   "execution_count": null,
   "metadata": {
    "deletable": false,
    "editable": false
   },
   "outputs": [],
   "source": [
    "grader.check(\"q1_6\")"
   ]
  },
  {
   "cell_type": "code",
   "execution_count": null,
   "metadata": {
    "tags": []
   },
   "outputs": [],
   "source": [
    "vii = ..."
   ]
  },
  {
   "cell_type": "code",
   "execution_count": null,
   "metadata": {
    "deletable": false,
    "editable": false
   },
   "outputs": [],
   "source": [
    "grader.check(\"q1_7\")"
   ]
  },
  {
   "cell_type": "code",
   "execution_count": null,
   "metadata": {
    "tags": []
   },
   "outputs": [],
   "source": [
    "viii = ..."
   ]
  },
  {
   "cell_type": "code",
   "execution_count": null,
   "metadata": {
    "deletable": false,
    "editable": false
   },
   "outputs": [],
   "source": [
    "grader.check(\"q1_8\")"
   ]
  },
  {
   "cell_type": "markdown",
   "metadata": {},
   "source": [
    "### Question 2"
   ]
  },
  {
   "cell_type": "markdown",
   "metadata": {},
   "source": [
    "Use the table from Question 1 to answer the following questions:"
   ]
  },
  {
   "cell_type": "markdown",
   "metadata": {},
   "source": [
    "If the price of the good is $50, will the firm produce? If so, how much? Assign `True` or `False` to `firms_will_produce` and the amount that the firm will produce to `output`. If you believe the firm will not produce, assign `0` to `output`.\n",
    "\n",
    "*Hint*: Consider the marginal costs at each amount of production. \n"
   ]
  },
  {
   "cell_type": "code",
   "execution_count": null,
   "metadata": {
    "tags": []
   },
   "outputs": [],
   "source": [
    "firm_will_produce = ...\n",
    "output = ..."
   ]
  },
  {
   "cell_type": "code",
   "execution_count": null,
   "metadata": {
    "deletable": false,
    "editable": false
   },
   "outputs": [],
   "source": [
    "grader.check(\"q2_1\")"
   ]
  },
  {
   "cell_type": "markdown",
   "metadata": {},
   "source": [
    "### Question 3\n",
    "\n",
    "Referring to the last plot titled 'All Energy Sources' (the colorful bar plot) in this week's lecture, is it possible to calculate the profit of any firm at any price with the given data (if they produce)? Assign `\"Yes\"` or `\"No\"` to `q3`. Your response should only be considering the information in the bar plot. \n"
   ]
  },
  {
   "cell_type": "code",
   "execution_count": null,
   "metadata": {
    "tags": []
   },
   "outputs": [],
   "source": [
    "q3 = ..."
   ]
  },
  {
   "cell_type": "code",
   "execution_count": null,
   "metadata": {
    "deletable": false,
    "editable": false
   },
   "outputs": [],
   "source": [
    "grader.check(\"q3\")"
   ]
  },
  {
   "cell_type": "markdown",
   "metadata": {},
   "source": [
    "### Question 4\n",
    "(Optional, Non-Graded Reflection Question)\n",
    "Why does the Marginal Cost line intersect with the Average Variable Cost and Average Total Cost at their minima?\n"
   ]
  },
  {
   "cell_type": "markdown",
   "metadata": {},
   "source": []
  },
  {
   "cell_type": "markdown",
   "metadata": {},
   "source": [
    "### Question 5\n",
    "\n",
    "What happens to the Average Fixed Cost (AFC) and the difference between Average Total Cost (ATC) and Average Variable Cost (AVC) as the quantity increases? Assign `decreases`, `increases` or `stays same` to the respective results."
   ]
  },
  {
   "cell_type": "code",
   "execution_count": null,
   "metadata": {
    "tags": []
   },
   "outputs": [],
   "source": [
    "AFC = ...\n",
    "ATC_minus_AVC = ..."
   ]
  },
  {
   "cell_type": "code",
   "execution_count": null,
   "metadata": {
    "deletable": false,
    "editable": false
   },
   "outputs": [],
   "source": [
    "grader.check(\"q5\")"
   ]
  },
  {
   "cell_type": "markdown",
   "metadata": {},
   "source": [
    "###  Question 6\n",
    "\n",
    "We will return to our exploration of beef from lab 1 to solve for market equilibria, using SymPy to create symbolic expressions for the supply and demand curves. Let's start out by creating an upward sloping supply curve, where $Q_S$ is quantity supplied and $P_S$ is the price at that supplied quantity. \n"
   ]
  },
  {
   "cell_type": "code",
   "execution_count": null,
   "metadata": {},
   "outputs": [],
   "source": [
    "beef = Table.read_table('beef.csv')\n",
    "beef"
   ]
  },
  {
   "cell_type": "markdown",
   "metadata": {},
   "source": [
    "**Question 6.1**: Create symbols for the variables $P_S$ and $Q_S$ and assign them to `P_S` and `Q_S`, respectively.\n",
    "\n",
    "_Hint:_ To make a subscript in SymPy, we can use LaTeX syntax; for example, $a_b$ would be created through `sympy.Symbol(\"a_b\")`.\n"
   ]
  },
  {
   "cell_type": "code",
   "execution_count": null,
   "metadata": {
    "tags": []
   },
   "outputs": [],
   "source": [
    "P_S = ...\n",
    "Q_S = ..."
   ]
  },
  {
   "cell_type": "code",
   "execution_count": null,
   "metadata": {
    "deletable": false,
    "editable": false
   },
   "outputs": [],
   "source": [
    "grader.check(\"q6_1\")"
   ]
  },
  {
   "cell_type": "markdown",
   "metadata": {},
   "source": [
    "**Question 6.2:** Determine the linear demand curve (not a log demand curve), expressed using quantity as a function of price, by using `np.polyfit`. Assign the results to `demand_curve_properties`. \n"
   ]
  },
  {
   "cell_type": "code",
   "execution_count": null,
   "metadata": {
    "tags": []
   },
   "outputs": [],
   "source": [
    "demand_curve_properties = ...\n",
    "demand_curve_properties"
   ]
  },
  {
   "cell_type": "code",
   "execution_count": null,
   "metadata": {
    "deletable": false,
    "editable": false
   },
   "outputs": [],
   "source": [
    "grader.check(\"q6_2\")"
   ]
  },
  {
   "cell_type": "markdown",
   "metadata": {},
   "source": [
    "**Question 6.3:**\n",
    "Create a new symbol $P$ for the demand price and assign it to `P`. Then construct the demand curve from the `np.polyfit` results in the previous part using SymPy and `P`. Make sure to use the values directly from `demand_curve_properties` so that you don't round values, or else the autograder may fail.\n",
    "\n",
    "Recall that we can create a function of symbol `x` by using normal math operations: \n",
    "\n",
    "```python\n",
    "x = sympy.Symbol(\"x\")\n",
    "y = 2 * x + 1\n",
    "```\n"
   ]
  },
  {
   "cell_type": "code",
   "execution_count": null,
   "metadata": {
    "tags": []
   },
   "outputs": [],
   "source": [
    "P = ...\n",
    "demand = demand_curve_properties.item(...) * ... + demand_curve_properties.item(...)\n",
    "demand"
   ]
  },
  {
   "cell_type": "code",
   "execution_count": null,
   "metadata": {
    "deletable": false,
    "editable": false
   },
   "outputs": [],
   "source": [
    "grader.check(\"q6_3\")"
   ]
  },
  {
   "cell_type": "markdown",
   "metadata": {},
   "source": [
    "**Question 6.4:**\n",
    "Interpret the demand curve. What do its slope and intercept mean? Assume you have correct `demand_slope` and `demand_intercept` from the previous question.\n",
    "\n",
    "1. The slope tells us that a 1 dollar decrease in price results in `demand_slope` less beef demanded. The intercept states that at `demand_intercept` dollars, the total number of beef demanded is 0.\n",
    "2. The slope tells us that a 1 dollar increase in price results in `demand_slope` less beef demanded. The intercept states that at 0 dollars, the total number of beef demanded is `demand_intercept`.\n",
    "3. The slope tells us that a 1 dollar decrease in price results in `demand_slope` less beef demanded. The intercept states that at 0 dollars, the total number of beef demanded is `demand_intercept`.\n",
    "4. The slope tells us that a 1 dollar increase in price results in `demand_slope` less beef demanded. The intercept states that at `demand_intercept` dollars, the total number of beef demanded is 0. \n",
    "\n",
    "Assign the number corresponding to your answer to `q6_4` below.\n"
   ]
  },
  {
   "cell_type": "code",
   "execution_count": null,
   "metadata": {
    "tags": []
   },
   "outputs": [],
   "source": [
    "q6_4 = ..."
   ]
  },
  {
   "cell_type": "code",
   "execution_count": null,
   "metadata": {
    "deletable": false,
    "editable": false
   },
   "outputs": [],
   "source": [
    "grader.check(\"q6_4\")"
   ]
  },
  {
   "cell_type": "markdown",
   "metadata": {},
   "source": [
    "**Question 6.5:** \n",
    "As we will learn, the supply curve is the relationship between the price of a good or service and the quantity of that good or service that the seller is willing to supply. Let's assume the supply curve for beef is  $S(P)=0.094P$. This supply curve is not based on any data. Use SymPy to create an expression for supply and assign this to the variable `supply`."
   ]
  },
  {
   "cell_type": "code",
   "execution_count": null,
   "metadata": {
    "tags": []
   },
   "outputs": [],
   "source": [
    "supply = ...\n",
    "supply"
   ]
  },
  {
   "cell_type": "code",
   "execution_count": null,
   "metadata": {
    "deletable": false,
    "editable": false
   },
   "outputs": [],
   "source": [
    "grader.check(\"q6_5\")"
   ]
  },
  {
   "cell_type": "markdown",
   "metadata": {},
   "source": [
    "**Question 6.6:**\n",
    "Interpret the supply curve. What do its slope and intercept mean? How does supply change with the price of beef?\n",
    "\n",
    "1. As price decreases, the supply of beef increases. For every dollar decrease, we expect 0.094 increase in supply. At \\$0, there is no supply (0 units supplied).\n",
    "2. As price increases, the supply of beef decrease. For every dollar increase, we expect 0.094 decrease in supply. At \\$0, there are 0.094 units supplied.\n",
    "3. As price increases, the supply of beef increases. For every dollar increase, we expect 0.094 increase in supply. At \\$0, there is no supply (0 units supplied).\n",
    "4. As price increases, the supply of beef increases. For every dollar increase, we expect 0.094 increase in supply. At \\$0, there are 0.094 units supplied.\n",
    "\n",
    "Assign the number corresponding to your answer to `q6_6` below.\n"
   ]
  },
  {
   "cell_type": "code",
   "execution_count": null,
   "metadata": {
    "tags": []
   },
   "outputs": [],
   "source": [
    "q6_6 = ..."
   ]
  },
  {
   "cell_type": "code",
   "execution_count": null,
   "metadata": {
    "deletable": false,
    "editable": false
   },
   "outputs": [],
   "source": [
    "grader.check(\"q6_6\")"
   ]
  },
  {
   "cell_type": "markdown",
   "metadata": {},
   "source": [
    "**Question 6.7:**\n",
    "The price equilibrium is the price at which the supply curve and demand curve intersect. In this case, the price equilibrium would be both the price of beef that consumers want to purchase at as well as the price of beef that the manufacturers want to sell at. Find the price equilibrium $P^*$ using the supply and demand curves for each market. Assign this value to `P_star`.\n",
    "\n",
    "_Hint:_ Our `solve` function may be helpful here...\n"
   ]
  },
  {
   "cell_type": "code",
   "execution_count": null,
   "metadata": {
    "tags": []
   },
   "outputs": [],
   "source": [
    "P_star = ...\n",
    "P_star"
   ]
  },
  {
   "cell_type": "code",
   "execution_count": null,
   "metadata": {
    "deletable": false,
    "editable": false
   },
   "outputs": [],
   "source": [
    "grader.check(\"q6_7\")"
   ]
  },
  {
   "cell_type": "markdown",
   "metadata": {},
   "source": [
    "**Question 6.8:** \n",
    "The quantity equilibrium is the quantity at which the supply curve and demand curve intersect. In this case, the quantity equilibrium would be both the quantity of beef that consumers want to purchase as well as the amount of beef manufacturers want to provide. Find the quantity equilibrium $Q^*$ using the supply and demand curves for each market. Assign this value to `Q_star`.\n"
   ]
  },
  {
   "cell_type": "code",
   "execution_count": null,
   "metadata": {
    "tags": []
   },
   "outputs": [],
   "source": [
    "Q_star = ...\n",
    "Q_star"
   ]
  },
  {
   "cell_type": "code",
   "execution_count": null,
   "metadata": {
    "deletable": false,
    "editable": false
   },
   "outputs": [],
   "source": [
    "grader.check(\"q6_8\")"
   ]
  },
  {
   "cell_type": "markdown",
   "metadata": {},
   "source": [
    "**Question 6.9:** \n",
    "Assume that due to favorable economic conditions, consumers now have a higher disposable income and are buying more beef. How will this affect market equilibrium?\n",
    "\n",
    "1. Increase in price equilbrium due to the income effect.\n",
    "2. Decrease in price equilbrium due to the income effect.\n",
    "3. Increase in price equilbrium due to the substitution effect.\n",
    "4. Decrease in price equilbrium due to the substitution effect.\n",
    "\n",
    "Assign the number corresponding to your answer to `q6_9` below.\n"
   ]
  },
  {
   "cell_type": "code",
   "execution_count": null,
   "metadata": {
    "tags": []
   },
   "outputs": [],
   "source": [
    "q6_9 = ..."
   ]
  },
  {
   "cell_type": "code",
   "execution_count": null,
   "metadata": {
    "deletable": false,
    "editable": false
   },
   "outputs": [],
   "source": [
    "grader.check(\"q6_9\")"
   ]
  },
  {
   "cell_type": "markdown",
   "metadata": {},
   "source": [
    "**Question 6.10:** \n",
    "Now assume that there is an avian flu outbreak and the price of chickens goes through the roof (increases severely)! How will this affect market equilibrium for the beef market?\n",
    "\n",
    "1. Increase in price equilbrium due to the income effect.\n",
    "2. Decrease in price equilbrium due to the income effect.\n",
    "3. Increase in price equilbrium due to the substitution effect.\n",
    "4. Decrease in price equilbrium due to the substitution effect.\n",
    "\n",
    "Assign the number corresponding to your answer to `q6_10` below.\n"
   ]
  },
  {
   "cell_type": "code",
   "execution_count": null,
   "metadata": {
    "tags": []
   },
   "outputs": [],
   "source": [
    "q6_10 = ..."
   ]
  },
  {
   "cell_type": "code",
   "execution_count": null,
   "metadata": {
    "deletable": false,
    "editable": false
   },
   "outputs": [],
   "source": [
    "grader.check(\"q6_10\")"
   ]
  },
  {
   "cell_type": "markdown",
   "metadata": {},
   "source": [
    "**Congratulations! You just finished Lab 2!**\n",
    "<br>"
   ]
  }
 ],
 "metadata": {
  "@webio": {
   "lastCommId": null,
   "lastKernelId": null
  },
  "kernelspec": {
   "display_name": "Python 3 (ipykernel)",
   "language": "python",
   "name": "python3"
  },
  "language_info": {
   "codemirror_mode": {
    "name": "ipython",
    "version": 3
   },
   "file_extension": ".py",
   "mimetype": "text/x-python",
   "name": "python",
   "nbconvert_exporter": "python",
   "pygments_lexer": "ipython3",
   "version": "3.10.13"
  },
  "otter": {
   "OK_FORMAT": true,
   "tests": {
    "q1_1": {
     "name": "q1_1",
     "points": 1,
     "suites": [
      {
       "cases": [
        {
         "code": ">>> type(i) == int\nTrue",
         "hidden": false,
         "locked": false
        }
       ],
       "scored": true,
       "setup": "",
       "teardown": "",
       "type": "doctest"
      }
     ]
    },
    "q1_2": {
     "name": "q1_2",
     "points": 1,
     "suites": [
      {
       "cases": [
        {
         "code": ">>> type(ii) == int\nTrue",
         "hidden": false,
         "locked": false
        }
       ],
       "scored": true,
       "setup": "",
       "teardown": "",
       "type": "doctest"
      }
     ]
    },
    "q1_3": {
     "name": "q1_3",
     "points": 1,
     "suites": [
      {
       "cases": [
        {
         "code": ">>> type(iii) == int\nTrue",
         "hidden": false,
         "locked": false
        }
       ],
       "scored": true,
       "setup": "",
       "teardown": "",
       "type": "doctest"
      }
     ]
    },
    "q1_4": {
     "name": "q1_4",
     "points": 1,
     "suites": [
      {
       "cases": [
        {
         "code": ">>> type(iv) == int\nTrue",
         "hidden": false,
         "locked": false
        }
       ],
       "scored": true,
       "setup": "",
       "teardown": "",
       "type": "doctest"
      }
     ]
    },
    "q1_5": {
     "name": "q1_5",
     "points": 1,
     "suites": [
      {
       "cases": [
        {
         "code": ">>> type(v) == int\nTrue",
         "hidden": false,
         "locked": false
        }
       ],
       "scored": true,
       "setup": "",
       "teardown": "",
       "type": "doctest"
      }
     ]
    },
    "q1_6": {
     "name": "q1_6",
     "points": 1,
     "suites": [
      {
       "cases": [
        {
         "code": ">>> type(vi) == int\nTrue",
         "hidden": false,
         "locked": false
        }
       ],
       "scored": true,
       "setup": "",
       "teardown": "",
       "type": "doctest"
      }
     ]
    },
    "q1_7": {
     "name": "q1_7",
     "points": 1,
     "suites": [
      {
       "cases": [
        {
         "code": ">>> type(vii) == int\nTrue",
         "hidden": false,
         "locked": false
        }
       ],
       "scored": true,
       "setup": "",
       "teardown": "",
       "type": "doctest"
      }
     ]
    },
    "q1_8": {
     "name": "q1_8",
     "points": 1,
     "suites": [
      {
       "cases": [
        {
         "code": ">>> type(viii) == int\nTrue",
         "hidden": false,
         "locked": false
        }
       ],
       "scored": true,
       "setup": "",
       "teardown": "",
       "type": "doctest"
      }
     ]
    },
    "q2_1": {
     "name": "q2_1",
     "points": [
      0
     ],
     "suites": [
      {
       "cases": [
        {
         "code": ">>> assert firm_will_produce in [True, False]\n>>> assert output >= 0\n",
         "hidden": false,
         "locked": false
        }
       ],
       "scored": true,
       "setup": "",
       "teardown": "",
       "type": "doctest"
      }
     ]
    },
    "q3": {
     "name": "q3",
     "points": [
      0
     ],
     "suites": [
      {
       "cases": [
        {
         "code": ">>> assert q3 in [\"Yes\", \"No\"]\n",
         "hidden": false,
         "locked": false
        }
       ],
       "scored": true,
       "setup": "",
       "teardown": "",
       "type": "doctest"
      }
     ]
    },
    "q5": {
     "name": "q5",
     "points": [
      0
     ],
     "suites": [
      {
       "cases": [
        {
         "code": ">>> assert AFC in [\"decreases\", \"increases\", \"stays same\"] and ATC_minus_AVC in [\"decreases\", \"increases\", \"stays same\"]\n",
         "hidden": false,
         "locked": false
        }
       ],
       "scored": true,
       "setup": "",
       "teardown": "",
       "type": "doctest"
      }
     ]
    },
    "q6_1": {
     "name": "q6_1",
     "points": null,
     "suites": [
      {
       "cases": [
        {
         "code": ">>> str(P_S) == \"P_S\"\nTrue",
         "hidden": false,
         "locked": false
        },
        {
         "code": ">>> str(Q_S) == \"Q_S\"\nTrue",
         "hidden": false,
         "locked": false
        },
        {
         "code": ">>> type(P_S) == sympy.Symbol\nTrue",
         "hidden": false,
         "locked": false
        },
        {
         "code": ">>> type(Q_S) == sympy.Symbol\nTrue",
         "hidden": false,
         "locked": false
        }
       ],
       "scored": true,
       "setup": "",
       "teardown": "",
       "type": "doctest"
      }
     ]
    },
    "q6_10": {
     "name": "q6_10",
     "points": [
      0
     ],
     "suites": [
      {
       "cases": [
        {
         "code": ">>> assert q6_10 in [1, 2, 3, 4]\n",
         "hidden": false,
         "locked": false
        }
       ],
       "scored": true,
       "setup": "",
       "teardown": "",
       "type": "doctest"
      }
     ]
    },
    "q6_2": {
     "name": "q6_2",
     "points": null,
     "suites": [
      {
       "cases": [
        {
         "code": ">>> len(demand_curve_properties) == 2\nTrue",
         "hidden": false,
         "locked": false
        }
       ],
       "scored": true,
       "setup": "",
       "teardown": "",
       "type": "doctest"
      }
     ]
    },
    "q6_3": {
     "name": "q6_3",
     "points": null,
     "suites": [
      {
       "cases": [
        {
         "code": ">>> assert type(P) == sympy.Symbol\n>>> assert str(P) == \"P\"\n",
         "hidden": false,
         "locked": false
        },
        {
         "code": ">>> assert len(demand.as_coefficients_dict()) == 2 # check that it is a line\n>>> assert P in demand.as_coefficients_dict() # check that the line has Q as its variable\n>>> assert 1 in demand.as_coefficients_dict() # check that the line has an intercept\n",
         "hidden": false,
         "locked": false
        }
       ],
       "scored": true,
       "setup": "",
       "teardown": "",
       "type": "doctest"
      }
     ]
    },
    "q6_4": {
     "name": "q6_4",
     "points": [
      0
     ],
     "suites": [
      {
       "cases": [
        {
         "code": ">>> assert q6_4 in [1, 2, 3, 4]\n",
         "hidden": false,
         "locked": false
        }
       ],
       "scored": true,
       "setup": "",
       "teardown": "",
       "type": "doctest"
      }
     ]
    },
    "q6_5": {
     "name": "q6_5",
     "points": null,
     "suites": [
      {
       "cases": [
        {
         "code": ">>> assert P in supply.as_coefficients_dict()\n",
         "hidden": false,
         "locked": false
        }
       ],
       "scored": true,
       "setup": "",
       "teardown": "",
       "type": "doctest"
      }
     ]
    },
    "q6_6": {
     "name": "q6_6",
     "points": [
      0
     ],
     "suites": [
      {
       "cases": [
        {
         "code": ">>> assert q6_6 in [1, 2, 3, 4]\n",
         "hidden": false,
         "locked": false
        }
       ],
       "scored": true,
       "setup": "",
       "teardown": "",
       "type": "doctest"
      }
     ]
    },
    "q6_7": {
     "name": "q6_7",
     "points": null,
     "suites": [
      {
       "cases": [
        {
         "code": ">>> 0 <= P_star <= 1000\nTrue",
         "hidden": false,
         "locked": false
        }
       ],
       "scored": true,
       "setup": "",
       "teardown": "",
       "type": "doctest"
      }
     ]
    },
    "q6_8": {
     "name": "q6_8",
     "points": null,
     "suites": [
      {
       "cases": [
        {
         "code": ">>> 15 <= Q_star <= 50\nTrue",
         "hidden": false,
         "locked": false
        }
       ],
       "scored": true,
       "setup": "",
       "teardown": "",
       "type": "doctest"
      }
     ]
    },
    "q6_9": {
     "name": "q6_9",
     "points": [
      0
     ],
     "suites": [
      {
       "cases": [
        {
         "code": ">>> assert q6_9 in [1, 2, 3, 4]\n",
         "hidden": false,
         "locked": false
        }
       ],
       "scored": true,
       "setup": "",
       "teardown": "",
       "type": "doctest"
      }
     ]
    }
   }
  },
  "otter_service": {
   "assignment": "lab02",
   "course": "88ex",
   "section": "1"
  },
  "varInspector": {
   "cols": {
    "lenName": 16,
    "lenType": 16,
    "lenVar": 40
   },
   "kernels_config": {
    "python": {
     "delete_cmd_postfix": "",
     "delete_cmd_prefix": "del ",
     "library": "var_list.py",
     "varRefreshCmd": "print(var_dic_list())"
    },
    "r": {
     "delete_cmd_postfix": ") ",
     "delete_cmd_prefix": "rm(",
     "library": "var_list.r",
     "varRefreshCmd": "cat(var_dic_list()) "
    }
   },
   "types_to_exclude": [
    "module",
    "function",
    "builtin_function_or_method",
    "instance",
    "_Feature"
   ],
   "window_display": false
  }
 },
 "nbformat": 4,
 "nbformat_minor": 4
}