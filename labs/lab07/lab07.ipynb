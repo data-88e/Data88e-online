{
 "cells": [
  {
   "cell_type": "code",
   "execution_count": null,
   "metadata": {
    "deletable": false,
    "editable": false
   },
   "outputs": [],
   "source": [
    "# Initialize Otter\n",
    "import otter\n",
    "grader = otter.Notebook(\"lab07.ipynb\")"
   ]
  },
  {
   "cell_type": "markdown",
   "metadata": {},
   "source": [
    "<table style=\"width: 100%;\" id=\"nb-header>\">\n",
    "        <tr style=\"background-color: transparent;\"><td>\n",
    "            <img src=\"https://data-88e.github.io/assets/images/blue_text.png\" width=\"250px\" style=\"margin-left: 0;\" />\n",
    "        </td><td>\n",
    "            <p style=\"text-align: right; font-size: 10pt;\"><strong>Economic Models</strong>, Data 88E<br>\n",
    "                Dr. Eric Van Dusen<br>\n",
    "            Chris Pyles <br> Isabella Siu <br> Akhil Venkatesh</p></td></tr>\n",
    "    </table>"
   ]
  },
  {
   "cell_type": "markdown",
   "metadata": {},
   "source": [
    "# Lab 7: Game Theory\n",
    "\n",
    "In this lab, we will recall some of the game theory concepts covered and review the prisoner's dilemma!"
   ]
  },
  {
   "cell_type": "code",
   "execution_count": null,
   "metadata": {},
   "outputs": [],
   "source": [
    "from datascience import *\n",
    "import numpy as np\n",
    "import matplotlib.pyplot as plt\n",
    "%matplotlib inline\n",
    "import sympy\n",
    "solve = lambda x,y: sympy.solve(x-y)[0] if len(sympy.solve(x-y))==1 else \"Not Single Solution\"\n",
    "sympy.init_printing(print_builtin=False)\n",
    "import pandas as pd\n",
    "import datetime as dt\n",
    "import seaborn as sns\n",
    "%matplotlib inline\n",
    "plt.style.use('seaborn-muted')\n",
    "plt.rcParams['figure.figsize'] = [25,10]\n",
    "from players import *\n",
    "import warnings\n",
    "warnings.simplefilter('ignore')"
   ]
  },
  {
   "cell_type": "markdown",
   "metadata": {},
   "source": [
    "### Question 1\n",
    "\n",
    "Consider the game defined by the payoff matrix below. In this game, the players cannot communicate when picking a strategy but know their opponent's history.\n",
    "\n",
    "<table class=\"payoff-matrix\" style=\"text-align: center; table-layout: fixed;\">\n",
    "    <tr style=\"background-color: #FFF;\">\n",
    "        <td></td>\n",
    "        <td></td>\n",
    "        <td style=\"text-align: center;\" colspan=\"2\">Player 2</td>\n",
    "    </tr>\n",
    "    <tr>\n",
    "        <td></td>\n",
    "        <td></td>\n",
    "        <td width=\"85\">Strategy A</td>\n",
    "        <td width=\"85\">Strategy B</td>\n",
    "    </tr>\n",
    "    <tr>\n",
    "        <td rowspan=\"2\" style=\"background-color: #FFF;\">Player 1</td>\n",
    "        <td>Strategy A</td>\n",
    "        <td>State 1<br>(3, -2)</td>\n",
    "        <td>State 2<br>(5, -5)</td>\n",
    "    </tr>\n",
    "    <tr>\n",
    "        <td>Strategy B</td>\n",
    "        <td>State 3<br>(-5, 5)</td>\n",
    "        <td>State 4<br>(4, -1)</td>\n",
    "    </tr>\n",
    "</table>"
   ]
  },
  {
   "cell_type": "markdown",
   "metadata": {},
   "source": [
    "**Question 1.1:** Assign `cooperative`, `symmetric`, `simultaneous`, and `perfect` below to `True` or `False` indicate whether that trait corresponds to this game. For example, if the game was assymetric, you would set `symmetric = False`.\n"
   ]
  },
  {
   "cell_type": "code",
   "execution_count": null,
   "metadata": {
    "tags": []
   },
   "outputs": [],
   "source": [
    "cooperative = ...\n",
    "symmetric = ...\n",
    "simultaneous = ...\n",
    "perfect = ..."
   ]
  },
  {
   "cell_type": "code",
   "execution_count": null,
   "metadata": {
    "deletable": false,
    "editable": false
   },
   "outputs": [],
   "source": [
    "grader.check(\"q1_1\")"
   ]
  },
  {
   "cell_type": "markdown",
   "metadata": {},
   "source": [
    "**Question 1.2:** Does this game have any Nash equilibria? List the numbers of the states in the payoff matrix above that correspond to Nash equilibria, if any, in the array `nash_equilibria` below. Leave the array empty if there are no Nash equilibria. For example, `make_array(1, 2)` means state 1 and 2 are Nash equilibria. \n"
   ]
  },
  {
   "cell_type": "code",
   "execution_count": null,
   "metadata": {
    "tags": []
   },
   "outputs": [],
   "source": [
    "nash_equilibria = make_array(...)\n",
    "nash_equilibria"
   ]
  },
  {
   "cell_type": "code",
   "execution_count": null,
   "metadata": {
    "deletable": false,
    "editable": false
   },
   "outputs": [],
   "source": [
    "grader.check(\"q1_2\")"
   ]
  },
  {
   "cell_type": "markdown",
   "metadata": {},
   "source": [
    "### Question 2\n",
    "\n",
    "In this section, we'll run through the application of the Cournot and Bertrand competition models. For this question, we'll be analyzing the rideshare duopoly of Uber and Lyft, who we will say share a marginal cost of $c$ = \\\\$3 per ride. Suppose the market demand is $P = -2.39 Q + 87.42$."
   ]
  },
  {
   "cell_type": "markdown",
   "metadata": {},
   "source": [
    "**Question 2.1:** Using SymPy, create a symbol for $Q$ and assign `market_demand` to the market demand curve for rideshares.\n"
   ]
  },
  {
   "cell_type": "code",
   "execution_count": null,
   "metadata": {
    "tags": []
   },
   "outputs": [],
   "source": [
    "Q = ...\n",
    "market_demand = ...\n",
    "market_demand"
   ]
  },
  {
   "cell_type": "code",
   "execution_count": null,
   "metadata": {
    "deletable": false,
    "editable": false
   },
   "outputs": [],
   "source": [
    "grader.check(\"q2_1\")"
   ]
  },
  {
   "cell_type": "markdown",
   "metadata": {},
   "source": [
    "We'll start by assuming that Uber and Lyft form a Cournot duopoly and that Uber is trying to determine what output level to produce at under the assumption that Lyft will be producing at 15 units of output."
   ]
  },
  {
   "cell_type": "markdown",
   "metadata": {},
   "source": [
    "**Question 2.2:** Assign `profit_function` to Uber's profit function under the assumption that Lyft will produce 15 units of output. \n",
    "\n",
    "Hint: `q1` should represent the quantity produced by Uber (as the symbol $q_1$) and `q2` should represent the quantity produced by Lyft. `P` is the symbol for market price and `c` is the constant marginal cost mentioned before. The `profit_function` should be a function of $q_1$. "
   ]
  },
  {
   "cell_type": "code",
   "execution_count": null,
   "metadata": {
    "tags": []
   },
   "outputs": [],
   "source": [
    "q_1 = ...\n",
    "q_2 = ...\n",
    "P = ...\n",
    "c = ...\n",
    "\n",
    "profit = P * q_1 - c * q_1\n",
    "profit_function = profit.subs(..., market_demand.subs(..., ...))\n",
    "profit_function"
   ]
  },
  {
   "cell_type": "code",
   "execution_count": null,
   "metadata": {
    "deletable": false,
    "editable": false
   },
   "outputs": [],
   "source": [
    "grader.check(\"q2_2\")"
   ]
  },
  {
   "cell_type": "markdown",
   "metadata": {},
   "source": [
    "**Question 2.3:** Assign `q_1_star` to Uber's best response function based on `profit_function`. \n",
    "\n",
    "`q_1_star` should generate a numerical value equal to $q_1^*$. **Do not** calculate the answer by hand and then just write it in the cell below; instead, use Sympy to calculate the answer below.\n",
    "\n",
    "Hint 1: Recall the first-order condition for firm 1: $\\frac{\\partial \\pi_1}{\\partial q_1} = 2mq_1 + mq_2 + b - c = 0$. (See [this textbook chapter](https://data-88e.github.io/textbook/content/07-game-theory/cournot.html) for a refresher)  \n",
    "Hint 2: You can substitute value into `market_demand` to compute $mq_2 + b$. \n"
   ]
  },
  {
   "cell_type": "code",
   "execution_count": null,
   "metadata": {
    "tags": []
   },
   "outputs": [],
   "source": [
    "q_1_star = ...\n",
    "q_1_star"
   ]
  },
  {
   "cell_type": "code",
   "execution_count": null,
   "metadata": {
    "deletable": false,
    "editable": false
   },
   "outputs": [],
   "source": [
    "grader.check(\"q2_3\")"
   ]
  },
  {
   "cell_type": "markdown",
   "metadata": {},
   "source": [
    "**Question 2.4:** Finally, given Uber's optimal output level $q_1^*$, calculate the price at which it will sell $p_1^*$.\n"
   ]
  },
  {
   "cell_type": "code",
   "execution_count": null,
   "metadata": {
    "tags": []
   },
   "outputs": [],
   "source": [
    "p_1_star = ...\n",
    "\n",
    "print(f\"Uber's output level: {q_1_star:.0f}\")\n",
    "print(f\"Uber's price: ${p_1_star:.2f}\")"
   ]
  },
  {
   "cell_type": "code",
   "execution_count": null,
   "metadata": {
    "deletable": false,
    "editable": false
   },
   "outputs": [],
   "source": [
    "grader.check(\"q2_4\")"
   ]
  },
  {
   "cell_type": "markdown",
   "metadata": {},
   "source": [
    "Now let's examine Uber and Lyft as a Bertrand duopoly. The marginal cost and market demand will remain the same."
   ]
  },
  {
   "cell_type": "markdown",
   "metadata": {},
   "source": [
    "**Question 2.5:** Find the monopoly price and quantity `p_m` and `q_m` using SymPy. You can reuse the `market_demand` curve from earlier. Again, don't copy-paste the coefficients - use Sympy for your calculations.\n"
   ]
  },
  {
   "cell_type": "code",
   "execution_count": null,
   "metadata": {
    "tags": []
   },
   "outputs": [],
   "source": [
    "marginal_revenue = ...\n",
    "q_m = ...\n",
    "p_m = ...\n",
    "\n",
    "print(f\"Monopoly price: ${p_m:.2f}\")\n",
    "print(f\"Monopoly quantity: {q_m:.0f}\")"
   ]
  },
  {
   "cell_type": "code",
   "execution_count": null,
   "metadata": {
    "deletable": false,
    "editable": false
   },
   "outputs": [],
   "source": [
    "grader.check(\"q2_5\")"
   ]
  },
  {
   "cell_type": "markdown",
   "metadata": {},
   "source": [
    "**Question 2.6:** Using the monopoly price and quantity, if Uber believes that Lyft will sell at \\\\$15 and we select $h=0.25$, what is the value of Uber's reaction function? Assign it to `uber_price`. No need to use Sympy for this question. \n"
   ]
  },
  {
   "cell_type": "code",
   "execution_count": null,
   "metadata": {
    "tags": []
   },
   "outputs": [],
   "source": [
    "uber_price = ...\n",
    "uber_price"
   ]
  },
  {
   "cell_type": "code",
   "execution_count": null,
   "metadata": {
    "deletable": false,
    "editable": false
   },
   "outputs": [],
   "source": [
    "grader.check(\"q2_6\")"
   ]
  },
  {
   "cell_type": "markdown",
   "metadata": {},
   "source": [
    "We will be creating some custom Python classes to represent different playing strategies. We'll be using the `create_player_class` function (provided) to create these classes for us. Here are a few important things to know about the classes:\n",
    "\n",
    "Consider a player class instance `player = Player()`. \n",
    "* `player.play()` is a method that represents a single move. It returns `True` if the player **defects** and `False` if they cooperate.\n",
    "* `player.history` is an array of the previous moves of the player instance. `player.history.item(-1)`, for example, is the most recent move (the last element of the array).\n",
    "\n",
    "Don't worry about the other methods that are defined for players; these are there for the code below to work but you don't need to concern yourself with them. Here's how the `create_player_class` function works:\n",
    "\n",
    "1. Define a function, `f`, that takes two arguments: `self` and `opponent` (more about these later), and returns `True` if the player defects and `False` otherwise.\n",
    "2. Call `create_player_class` with two arguments: a string for the class name, e.g. `\"Player\"`, and the play method `f`.\n",
    "\n",
    "Let's illustrate this by creating `Defector`, a player that always defects. The `defector_play` function below always returns `True`, since the player always defects. We then create `Defector` using `create_player_class`."
   ]
  },
  {
   "cell_type": "markdown",
   "metadata": {},
   "source": [
    "### Question 3"
   ]
  },
  {
   "cell_type": "code",
   "execution_count": null,
   "metadata": {},
   "outputs": [],
   "source": [
    "def defector_play(self, opponent):\n",
    "    return True\n",
    "\n",
    "Defector = create_player_class(\"Defector\", defector_play)"
   ]
  },
  {
   "cell_type": "markdown",
   "metadata": {},
   "source": [
    "Just like any class, we create a `Defector` instance by calling the constructor:"
   ]
  },
  {
   "cell_type": "code",
   "execution_count": null,
   "metadata": {},
   "outputs": [],
   "source": [
    "Defector()"
   ]
  },
  {
   "cell_type": "markdown",
   "metadata": {},
   "source": [
    "**Question 3.1:** Create a `Cooperator` class that always cooperates.\n",
    "\n",
    "```\n",
    "BEGIN QUESTION\n",
    "name: q3_1\n",
    "points:\n",
    "    - 0\n",
    "    - 0.25\n",
    "    - 0.75\n",
    "```"
   ]
  },
  {
   "cell_type": "code",
   "execution_count": null,
   "metadata": {},
   "outputs": [],
   "source": [
    "def cooperator_play(self, opponent):\n",
    "    return False # SOLUTION NO PROMPT\n",
    "    \"\"\" # BEGIN PROMPT\n",
    "    return ...\n",
    "    \"\"\" # END PROMPT\n",
    "\n",
    "Cooperator = create_player_class(\"Cooperator\", cooperator_play) # SOLUTION"
   ]
  },
  {
   "cell_type": "code",
   "execution_count": null,
   "metadata": {},
   "outputs": [],
   "source": [
    "## Test ##\n",
    "cooperator_play(None, None) in [True, False]"
   ]
  },
  {
   "cell_type": "code",
   "execution_count": null,
   "metadata": {},
   "outputs": [],
   "source": [
    "## Test ##\n",
    "repr(Cooperator()) == \"Cooperator\""
   ]
  },
  {
   "cell_type": "code",
   "execution_count": null,
   "metadata": {},
   "outputs": [],
   "source": [
    "## Hidden Test ##\n",
    "cooperator_play(None, None)"
   ]
  },
  {
   "cell_type": "markdown",
   "metadata": {},
   "source": [
    "Now that we have players, how do we pit them against each other? Provided is a function called `payoff` that returns the values from our payoff matrix when provided two players by using their `play` methods. `payoff` returns a tuple of 2 elements corresponding to the payoff for the first and second player:\n",
    "\n",
    "```python\n",
    ">>> payoff(player_1, player_2)\n",
    "(player 1 payoff, player 2 payoff)\n",
    "```"
   ]
  },
  {
   "cell_type": "code",
   "execution_count": null,
   "metadata": {},
   "outputs": [],
   "source": [
    "payoff(Defector(), Cooperator())"
   ]
  },
  {
   "cell_type": "markdown",
   "metadata": {},
   "source": [
    "Our analysis of the prisoner's dilemma hinges on analyzing strategies over multiple rounds. For this reason, we need a way to pit players against each other and find out who has the fewest years accrued. The function `run_match` below will run a match of two players with `n` turns. If `winner` is `True`, it returns the winner of the match; if `winner` is `False`, it returns a list for each player containing the sequence of years accrued. Also note the first two lines of the function that reset the player history for each player. This is important because we might end up reusing instances of players, and we don't want histories from past matches to affect the results of this match."
   ]
  },
  {
   "cell_type": "code",
   "execution_count": null,
   "metadata": {},
   "outputs": [],
   "source": [
    "def run_match(p1, p2, n=5, winner=True):\n",
    "    p1.reset_history()\n",
    "    p2.reset_history()\n",
    "    \n",
    "    p1_years = make_array()\n",
    "    p2_years = make_array()\n",
    "    \n",
    "    for i in range(n):\n",
    "        p1_score, p2_score = payoff(p1, p2)\n",
    "        p1_years = np.append(p1_years, p1_score)\n",
    "        p2_years = np.append(p2_years, p2_score)\n",
    "        \n",
    "    if winner:\n",
    "        p1_mean = np.mean(p1_years)\n",
    "        p2_mean = np.mean(p2_years)\n",
    "\n",
    "        if p1_mean < p2_mean:\n",
    "            return p1\n",
    "        else:\n",
    "            return p2\n",
    "    else:\n",
    "        return p1_years, p2_years"
   ]
  },
  {
   "cell_type": "markdown",
   "metadata": {},
   "source": [
    "For example, we can run a 10-turn match between a defector and cooperator with:"
   ]
  },
  {
   "cell_type": "code",
   "execution_count": null,
   "metadata": {},
   "outputs": [],
   "source": [
    "run_match(Defector(), Cooperator(), n=10)"
   ]
  },
  {
   "cell_type": "markdown",
   "metadata": {},
   "source": [
    "We see that the defector won the match, as expected. We can get the raw data (the number of years accrued by each player at each iteration) by setting `winner=False`:"
   ]
  },
  {
   "cell_type": "code",
   "execution_count": null,
   "metadata": {},
   "outputs": [],
   "source": [
    "run_match(Defector(), Cooperator(), n=10, winner=False)"
   ]
  },
  {
   "cell_type": "markdown",
   "metadata": {},
   "source": [
    "Now that we know how to run matches, let's think of some other cool strategies. Remember the `player.history` variable discussed earlier? Let's have a concrete example on how to use that. The `Alternator` player defined below alternates between cooperating and defecting, beginning with cooperating.\n",
    "\n",
    "Note the `if` statement. We need to check that we have a history to index into before we try to grab the last element; if we didn't have that statement, the code would fail on the first time  `Alternator` played, because we would try to get an element from an array with 0 elements."
   ]
  },
  {
   "cell_type": "code",
   "execution_count": null,
   "metadata": {},
   "outputs": [],
   "source": [
    "def alternator_play(self, opponent):\n",
    "    if len(self.history) > 0:\n",
    "        return not self.history.item(-1)\n",
    "    else:\n",
    "        return False\n",
    "    \n",
    "Alternator = create_player_class(\"Alternator\", alternator_play)\n",
    "\n",
    "run_match(Alternator(), Defector())"
   ]
  },
  {
   "cell_type": "markdown",
   "metadata": {},
   "source": [
    "**Question 3.2:** Use the player history to define `TitForTat`, a player that does the last thing it's opponent did and starts off by cooperating. For example, if we pitted `TitForTat` against a `Defector` in a 5-round match, the `Defector`'s moves would be `[D, D, D, D, D]`, and `TitForTat`'s would be `[C, D, D, D, D]`.\n",
    "\n",
    "```\n",
    "BEGIN QUESTION\n",
    "name: q3_2\n",
    "points: 3\n",
    "```"
   ]
  },
  {
   "cell_type": "code",
   "execution_count": null,
   "metadata": {},
   "outputs": [],
   "source": [
    "def tit_for_tat_play(self, opponent):\n",
    "    # BEGIN SOLUTION NO PROMPT\n",
    "    if len(opponent.history) > 0:\n",
    "        return opponent.history.item(-1)\n",
    "    else:\n",
    "        return False\n",
    "    # END SOLUTION\n",
    "    \"\"\" # BEGIN PROMPT\n",
    "    if len(opponent.history) > 0:\n",
    "        return ...\n",
    "    else:\n",
    "        return ...\n",
    "    \"\"\" # END PROMPT\n",
    "\n",
    "TitForTat = create_player_class(\"TitForTat\", tit_for_tat_play) # SOLUTION"
   ]
  },
  {
   "cell_type": "code",
   "execution_count": null,
   "metadata": {},
   "outputs": [],
   "source": [
    "## Test ##\n",
    "repr(TitForTat()) == \"TitForTat\""
   ]
  },
  {
   "cell_type": "code",
   "execution_count": null,
   "metadata": {},
   "outputs": [],
   "source": [
    "## Test ##\n",
    "d = Defector()\n",
    "t = TitForTat()\n",
    "tit_for_tat_play(t, d) in [True, False]"
   ]
  },
  {
   "cell_type": "code",
   "execution_count": null,
   "metadata": {},
   "outputs": [],
   "source": [
    "## Test ##\n",
    "d = Defector()\n",
    "t = TitForTat()\n",
    "_ = payoff(d, t)\n",
    "tit_for_tat_play(t, d) in [True, False]"
   ]
  },
  {
   "cell_type": "code",
   "execution_count": null,
   "metadata": {},
   "outputs": [],
   "source": [
    "## Hidden Test ##\n",
    "d = Defector()\n",
    "t = TitForTat()\n",
    "tit_for_tat_play(t, d)"
   ]
  },
  {
   "cell_type": "code",
   "execution_count": null,
   "metadata": {},
   "outputs": [],
   "source": [
    "## Hidden Test ##\n",
    "d = Defector()\n",
    "t = TitForTat()\n",
    "_ = payoff(d, t)\n",
    "tit_for_tat_play(t, d)"
   ]
  },
  {
   "cell_type": "code",
   "execution_count": null,
   "metadata": {},
   "outputs": [],
   "source": [
    "## Hidden Test ##\n",
    "c = Cooperator()\n",
    "t = TitForTat()\n",
    "_ = payoff(c, t)\n",
    "tit_for_tat_play(t, c)"
   ]
  },
  {
   "cell_type": "markdown",
   "metadata": {},
   "source": [
    "**Question 3.3:** Suppose we have a 10-turn match with a backstabber and a desperate. Write down the sequence of defections (D) and cooperations (C) for each player. Who wins the match?\n",
    "\n",
    "```\n",
    "BEGIN QUESTION\n",
    "name: q3_3\n",
    "points:\n",
    "    - 0\n",
    "    - .75\n",
    "    - .75\n",
    "    - .5\n",
    "```"
   ]
  },
  {
   "cell_type": "code",
   "execution_count": null,
   "metadata": {},
   "outputs": [],
   "source": [
    "# BEGIN SOLUTION NO PROMPT\n",
    "backstabber_moves = make_array(\"C\", \"C\", \"C\", \"C\", \"D\", \"D\", \"D\", \"D\", \"D\", \"D\")\n",
    "desperate_moves = make_array(\"D\", \"D\", \"D\", \"D\", \"D\", \"C\", \"C\", \"C\", \"C\", \"C\")\n",
    "backstabber_desperate_winner = \"backstabber\"\n",
    "# END SOLUTION\n",
    "\"\"\" # BEGIN PROMPT\n",
    "backstabber_moves = make_array(...)\n",
    "desperate_moves = make_array(...)\n",
    "backstabber_desperate_winner = \"...\"\n",
    "\"\"\"; # END PROMPT"
   ]
  },
  {
   "cell_type": "code",
   "execution_count": null,
   "metadata": {},
   "outputs": [],
   "source": [
    "## Test ##\n",
    "assert all(i in [\"C\", \"D\"] for i in backstabber_moves)\n",
    "assert all(i in [\"C\", \"D\"] for i in desperate_moves)\n",
    "assert len(backstabber_moves) == 10\n",
    "assert len(desperate_moves) == 10\n",
    "assert backstabber_desperate_winner.lower() in [\"backstabber\", \"desperate\"]"
   ]
  },
  {
   "cell_type": "code",
   "execution_count": null,
   "metadata": {},
   "outputs": [],
   "source": [
    "## Hidden Test ##\n",
    "list(backstabber_moves) == [\"C\", \"C\", \"C\", \"C\", \"D\", \"D\", \"D\", \"D\", \"D\", \"D\"]"
   ]
  },
  {
   "cell_type": "code",
   "execution_count": null,
   "metadata": {},
   "outputs": [],
   "source": [
    "## Hidden Test ##\n",
    "list(desperate_moves) == [\"D\", \"D\", \"D\", \"D\", \"D\", \"C\", \"C\", \"C\", \"C\", \"C\"]"
   ]
  },
  {
   "cell_type": "code",
   "execution_count": null,
   "metadata": {},
   "outputs": [],
   "source": [
    "## Hidden Test ##\n",
    "backstabber_desperate_winner.lower() == \"backstabber\""
   ]
  },
  {
   "cell_type": "markdown",
   "metadata": {},
   "source": [
    "### Question 4"
   ]
  },
  {
   "cell_type": "markdown",
   "metadata": {},
   "source": [
    "### Tournaments\n",
    "\n",
    "Now that we have re-familiarized ourselves with our prisoner's dilemma code from the lab, let's move on to recreating Axelrod's tournament. Recall that Axelrod originally wanted to compare strategies for playing the prisoner's dilemma, which he did by pitting every strategy against every other strategy in a round-robin tournament. In this project, we will do the same thing, albeit on a much smaller scale, with the strategies defined in the table above."
   ]
  },
  {
   "cell_type": "markdown",
   "metadata": {},
   "source": [
    "We define the function `run_tournament` below that takes in an array of players and returns a table with four columns: `p1`, `p1_mean`, `p2`, and `p2_mean`. As in Axelrod's original tournament, we use matches with 200 rounds."
   ]
  },
  {
   "cell_type": "code",
   "execution_count": null,
   "metadata": {},
   "outputs": [],
   "source": [
    "def run_tournament(players):\n",
    "    p1 = make_array() #This stores an array of all player 1's.\n",
    "    p2 = make_array() #This stores an array of all player 2's.\n",
    "    p1_means = make_array() #This stores an array of each player 1's average jail time for a particular game.\n",
    "    p2_means = make_array() #This stores an array of each player 2's average jail time for a particular game.\n",
    "\n",
    "    for i in range(len(players)):\n",
    "        for j in range(i+1, len(players)):\n",
    "            p1_years, p2_years = run_match(players.item(i), players.item(j), n=200, winner=False)\n",
    "            p1 = np.append(p1, players.item(i))\n",
    "            p2 = np.append(p2, players.item(j))\n",
    "            p1_means = np.append(p1_means, np.mean(p1_years))\n",
    "            p2_means = np.append(p2_means, np.mean(p2_years))\n",
    "                \n",
    "    results = Table().with_columns(\n",
    "        \"p1\", p1,\n",
    "        \"p1_mean\", p1_means,\n",
    "        \"p2\", p2,\n",
    "        \"p2_mean\", p2_means\n",
    "    )\n",
    "\n",
    "    return results\n",
    "\n",
    "run_tournament(make_array(Defector(), Cooperator()))"
   ]
  },
  {
   "cell_type": "markdown",
   "metadata": {},
   "source": [
    "**Question 4.1:** Create a tournament with all players in the table above Question 1.6. Assign the results table to `tournament_results`.\n",
    "\n",
    "```\n",
    "BEGIN QUESTION\n",
    "name: q4_1\n",
    "points:\n",
    "    - 0\n",
    "    - 0\n",
    "    - 0.5\n",
    "    - 0.5\n",
    "    - 1\n",
    "```"
   ]
  },
  {
   "cell_type": "code",
   "execution_count": null,
   "metadata": {},
   "outputs": [],
   "source": [
    "# BEGIN SOLUTION NO PROMPT\n",
    "all_strategies = make_array(\n",
    "    Alternator(), Backstabber(), Bully(), Desperate(), FoolMeOnce(), Forgiver(), \n",
    "    ForgivingTitForTat(), Grudger(), OnceBitten(), TitForTat())\n",
    "tournament_results = run_tournament(all_strategies)\n",
    "# END SOLUTION\n",
    "\"\"\" # BEGIN PROMPT\n",
    "all_strategies = make_array(...)\n",
    "tournament_results = run_tournament(...)\n",
    "\"\"\"; # END PROMPT\n",
    "tournament_results"
   ]
  },
  {
   "cell_type": "code",
   "execution_count": null,
   "metadata": {},
   "outputs": [],
   "source": [
    "## Test ##\n",
    "tournament_results.num_rows == 45"
   ]
  },
  {
   "cell_type": "code",
   "execution_count": null,
   "metadata": {},
   "outputs": [],
   "source": [
    "## Test ##\n",
    "tournament_results.num_columns == 4"
   ]
  },
  {
   "cell_type": "code",
   "execution_count": null,
   "metadata": {},
   "outputs": [],
   "source": [
    "## Test ##\n",
    "players = make_array(Alternator(), Backstabber(), Bully(), Desperate(), FoolMeOnce(), Forgiver(), \n",
    "                     OnceBitten(), TitForTat(), Grudger(), ForgivingTitForTat())\n",
    "for player in players:\n",
    "    assert player in tournament_results.column(\"p1\") or player in tournament_results.column(\"p2\")"
   ]
  },
  {
   "cell_type": "code",
   "execution_count": null,
   "metadata": {},
   "outputs": [],
   "source": [
    "## Test ##\n",
    "t = tournament_results.where(\"p1\", Alternator()).where(\"p2\", Bully())\n",
    "assert np.isclose(t[\"p1_mean\"][0], 3.015)\n",
    "assert np.isclose(t[\"p2_mean\"][0], 2.99)"
   ]
  },
  {
   "cell_type": "code",
   "execution_count": null,
   "metadata": {},
   "outputs": [],
   "source": [
    "## Hidden Test ##\n",
    "t = tournament_results.where(\"p1\", Desperate()).where(\"p2\", Grudger())\n",
    "assert np.isclose(t[\"p1_mean\"][0], 4.97)\n",
    "assert np.isclose(t[\"p2_mean\"][0], 0.045)"
   ]
  },
  {
   "cell_type": "markdown",
   "metadata": {},
   "source": [
    "To visualize our results, we will make a [heat map](https://en.wikipedia.org/wiki/Heat_map) that displays our results in an easy-to-read manner. The code in the cell below uses seaborn and pandas, two libraries you will learn about in Data 100, so don't worry about understanding it.\n",
    "\n",
    "The plot shows Player 1 on the horizontal axis, Player 2 on the vertical axis, and the values in the cells are **Player 1's mean score** (i.e. the mean score of the player on the horizontal axis). So, if we look at the intersection of `OnceBitten` on the horizontal and `Forgiver` on the vertical, we see `OnceBitten`'s mean of 2.000 and if we do the reverse (`Forgiver` on horizontal, `OnceBitten` on vertical), we see `Forigiver`'s mean of 2.000.\n",
    "\n",
    "<!-- BEGIN QUESTION -->"
   ]
  },
  {
   "cell_type": "code",
   "execution_count": null,
   "metadata": {},
   "outputs": [],
   "source": [
    "df1 = tournament_results.to_df()\n",
    "df2 = tournament_results.to_df()\n",
    "df2 = df2.rename({\"p1\": \"p2\", \"p2\": \"p1\", \"p1_mean\": \"p2_mean\", \"p2_mean\": \"p1_mean\"}, axis=1)\n",
    "df = df1.append(df2)\n",
    "df[\"p1\"], df[\"p2\"] = df[\"p1\"].astype(str), df[\"p2\"].astype(str)\n",
    "df = df.pivot(\"p1\", \"p2\", \"p1_mean\")\n",
    "\n",
    "plt.figure(figsize=[15,8])\n",
    "sns.heatmap(df.T, annot=True, fmt=\".3f\")\n",
    "plt.xlabel(\"Player 1\")\n",
    "plt.ylabel(\"Player 2\")\n",
    "plt.title(\"Player 1's Mean Scores by Opponent\")\n",
    "plt.xticks(rotation=90);"
   ]
  },
  {
   "cell_type": "markdown",
   "metadata": {},
   "source": [
    "**Non-Graded Reflection Question** Interpret the plot above. What results stand out to you? Which strategy would you choose if you were playing in a tournament? Justify your answer."
   ]
  },
  {
   "cell_type": "markdown",
   "metadata": {
    "deletable": false,
    "editable": false
   },
   "source": [
    "## Submission\n",
    "\n",
    "Make sure you have run all cells in your notebook in order before running the cell below, so that all images/graphs appear in the output. The cell below will generate a zip file for you to submit. **Please save before exporting!**"
   ]
  },
  {
   "cell_type": "code",
   "execution_count": null,
   "metadata": {
    "deletable": false,
    "editable": false
   },
   "outputs": [],
   "source": [
    "# Save your notebook first, then run this cell to export your submission.\n",
    "grader.export(pdf=False, run_tests=True)"
   ]
  },
  {
   "cell_type": "markdown",
   "metadata": {},
   "source": [
    " "
   ]
  }
 ],
 "metadata": {
  "@webio": {
   "lastCommId": null,
   "lastKernelId": null
  },
  "kernelspec": {
   "display_name": "Python 3 (ipykernel)",
   "language": "python",
   "name": "python3"
  },
  "language_info": {
   "codemirror_mode": {
    "name": "ipython",
    "version": 3
   },
   "file_extension": ".py",
   "mimetype": "text/x-python",
   "name": "python",
   "nbconvert_exporter": "python",
   "pygments_lexer": "ipython3",
   "version": "3.8.10"
  },
  "otter": {
   "OK_FORMAT": true,
   "tests": {
    "q1_1": {
     "name": "q1_1",
     "points": null,
     "suites": [
      {
       "cases": [
        {
         "code": ">>> for var in [cooperative, symmetric, simultaneous, perfect]:\n...     assert var in [True, False]\n",
         "hidden": false,
         "locked": false
        }
       ],
       "scored": true,
       "setup": "",
       "teardown": "",
       "type": "doctest"
      }
     ]
    },
    "q1_2": {
     "name": "q1_2",
     "points": [
      0,
      0
     ],
     "suites": [
      {
       "cases": [
        {
         "code": ">>> assert 0 <= len(nash_equilibria) <= 4\n",
         "hidden": false,
         "locked": false
        },
        {
         "code": ">>> for val in nash_equilibria:\n...     assert val % 1 == 0\n",
         "hidden": false,
         "locked": false
        }
       ],
       "scored": true,
       "setup": "",
       "teardown": "",
       "type": "doctest"
      }
     ]
    },
    "q2_1": {
     "name": "q2_1",
     "points": null,
     "suites": [
      {
       "cases": [
        {
         "code": ">>> assert type(Q) == sympy.Symbol\n>>> assert Q in market_demand.as_coefficients_dict()\n>>> assert 1 in market_demand.as_coefficients_dict()\n",
         "hidden": false,
         "locked": false
        }
       ],
       "scored": true,
       "setup": "",
       "teardown": "",
       "type": "doctest"
      }
     ]
    },
    "q2_2": {
     "name": "q2_2",
     "points": 2,
     "suites": [
      {
       "cases": [
        {
         "code": ">>> assert type(q_1) == sympy.Symbol, \"q_1 should be a Sympy symbol\"\n>>> assert type(q_2) == int, \"q_2 should be a number\"\n>>> assert type(P) == sympy.Symbol, \"P should be a Sympy symbol\"\n>>> assert type(c) == int, \"c should be a number\"\n>>> assert q_1 in profit_function.as_coefficients_dict(), \"q_1 should be a variable in profit_function\"\n>>> assert P not in profit_function.as_coefficients_dict(), \"P cannot be a variable in profit_function\"\n>>> assert len(profit_function.as_coefficients_dict()) == 2\n",
         "hidden": false,
         "locked": false
        }
       ],
       "scored": true,
       "setup": "",
       "teardown": "",
       "type": "doctest"
      }
     ]
    },
    "q2_3": {
     "name": "q2_3",
     "points": [
      0
     ],
     "suites": [
      {
       "cases": [
        {
         "code": ">>> assert type(q_1_star) == sympy.core.numbers.Float, \"You need to use Sympy\"\n>>> assert 0 < float(q_1_star) < 20\n",
         "hidden": false,
         "locked": false
        }
       ],
       "scored": true,
       "setup": "",
       "teardown": "",
       "type": "doctest"
      }
     ]
    },
    "q2_4": {
     "name": "q2_4",
     "points": null,
     "suites": [
      {
       "cases": [
        {
         "code": ">>> assert type(p_1_star) == sympy.core.numbers.Float, \"You need to use Sympy\"\n>>> assert 20 < float(p_1_star) < 40\n",
         "hidden": false,
         "locked": false
        }
       ],
       "scored": true,
       "setup": "",
       "teardown": "",
       "type": "doctest"
      }
     ]
    },
    "q2_5": {
     "name": "q2_5",
     "points": [
      0,
      0
     ],
     "suites": [
      {
       "cases": [
        {
         "code": ">>> assert 35 < float(p_m) < 50\n",
         "hidden": false,
         "locked": false
        },
        {
         "code": ">>> assert 10 < float(q_m) < 20\n",
         "hidden": false,
         "locked": false
        }
       ],
       "scored": true,
       "setup": "",
       "teardown": "",
       "type": "doctest"
      }
     ]
    },
    "q2_6": {
     "name": "q2_6",
     "points": null,
     "suites": [
      {
       "cases": [
        {
         "code": ">>> assert 3 <= uber_price <= 45.21\n",
         "hidden": false,
         "locked": false
        }
       ],
       "scored": true,
       "setup": "",
       "teardown": "",
       "type": "doctest"
      }
     ]
    }
   }
  }
 },
 "nbformat": 4,
 "nbformat_minor": 4
}