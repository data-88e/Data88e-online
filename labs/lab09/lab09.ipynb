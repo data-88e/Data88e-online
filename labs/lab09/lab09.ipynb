{
 "cells": [
  {
   "cell_type": "code",
   "execution_count": null,
   "metadata": {
    "deletable": false,
    "editable": false
   },
   "outputs": [],
   "source": [
    "# Initialize Otter\n",
    "import otter\n",
    "grader = otter.Notebook(\"lab09.ipynb\")"
   ]
  },
  {
   "cell_type": "code",
   "execution_count": null,
   "metadata": {},
   "outputs": [],
   "source": [
    "#Import packages\n",
    "from datascience import *\n",
    "import matplotlib.pyplot as plt\n",
    "%matplotlib inline \n",
    "\n",
    "import numpy as np\n",
    "import pandas as pd\n",
    "from matplotlib import patches"
   ]
  },
  {
   "cell_type": "markdown",
   "metadata": {},
   "source": [
    "<table style=\"width: 100%;\">\n",
    "    <tr style=\"background-color: transparent;\"><td>\n",
    "        <img src=\"https://data-88e.github.io/assets/images/blue_text.png\" width=\"250px\" style=\"margin-left: 0;\" />\n",
    "    </td><td>\n",
    "        <p style=\"text-align: right; font-size: 10pt;\"><strong>Economic Models</strong>, Data 88E<br>\n",
    "            Peter F. Grinde-Hollevik<br>\n",
    "            Ray Zhou<br>\n",
    "            Dr. Eric Van Dusen<br>\n",
    "            Dr. Daniel Hammer<br>\n",
    "            Rohan Jha<br>\n",
    "            Yiyang Chen <br>\n",
    "            Akhil Venkatesh <br>\n",
    "        </p></td></tr>\n",
    "</table>"
   ]
  },
  {
   "cell_type": "markdown",
   "metadata": {},
   "source": [
    "   # Lab 9: Constructing the MAC Curve for Methane"
   ]
  },
  {
   "cell_type": "markdown",
   "metadata": {},
   "source": [
    "Please refer to the \"Marginal Abatement Cost Curves\" chapter for a thorough introduction to abatement curves. This lab is an empirical application of what was covered in class. In this lab, we shall attempt to produce our very own Marginal Abatement Cost (MAC) Curve based on real world data!\n",
    "\n",
    "For this lab, we'll rely on a dataset published by the International Energy Association for methane emissions from the oil and gas sector. One important thing to keep in mind is that Methane is far more powerful than CO2 in trapping heat in the atmosphere; *80 times more potent in the first 20 years and 20 times more powerful when average over 100 years*. Methane emissions from the energy sector contribute a third of all human caused methane emissions.  \n",
    "\n",
    "**The dataset and documentation are from**: \n",
    "- IEA Global Methane Tracker (2023) (https://www.iea.org/data-and-statistics/data-tools/methane-tracker-data-explorer)\n",
    "- Documentation (https://iea.blob.core.windows.net/assets/48ea967f-ff56-40c6-a85d-29294357d1f1/GlobalMethaneTracker_Documentation.pdf)\n",
    "\n",
    "However, we have cleaned the data a little bit (selected certain values, renamed/dropped certain columns) so it's easier to work with for the purpose of this lab."
   ]
  },
  {
   "cell_type": "markdown",
   "metadata": {},
   "source": [
    "### The MAC Curve"
   ]
  },
  {
   "cell_type": "markdown",
   "metadata": {},
   "source": [
    "Before attempting to replicate the MAC curve, let's review the information it holds."
   ]
  },
  {
   "cell_type": "markdown",
   "metadata": {},
   "source": [
    "**Question 1:** What do the X and Y axes of a MAC curve represent?\n",
    "\n",
    "a. x-axis: abatement potential of each technology,  y-axis: marginal or abatement cost of each technology. <br>\n",
    "b. x-axis: investment potential of each technology (a different technology per rectangle), y-axis: abatement cost of each technology. <br>\n",
    "c. x-axis: popularity of each technology (a different technology per rectangle), y-axis: environmental cost of each technology. <br>\n",
    "d. x-axis: carbon footprint reduction of each technology, y-axis: energy efficiency of each technology. <br>\n"
   ]
  },
  {
   "cell_type": "code",
   "execution_count": null,
   "metadata": {
    "tags": []
   },
   "outputs": [],
   "source": [
    "q1 = ..."
   ]
  },
  {
   "cell_type": "code",
   "execution_count": null,
   "metadata": {
    "deletable": false,
    "editable": false
   },
   "outputs": [],
   "source": [
    "grader.check(\"q1\")"
   ]
  },
  {
   "cell_type": "markdown",
   "metadata": {},
   "source": [
    "**Question 2:** Why does the Y-axis include negative values?\n",
    "\n",
    "a. Some abatement technologies' values are negative because they actually lose money and the implementation of\n",
    "them would incur marginal costs. These are technologies that would lose us money, but\n",
    "reduce emissions. <br>\n",
    "b. Some abatement technologies' values are negative because they actually save money and the implementation of\n",
    "them would not incur any marginal costs. These are technologies that would save us money, as well as\n",
    "reduce emissions. <br>\n",
    "c. Some abatement technologies' values are negative because they actually save money and the implementation of\n",
    "them would not incur any marginal costs. These are technologies that would save us money, though not\n",
    "reduce emissions. <br>\n",
    "d. Some abatement technologies' values are positive because they actually save money and the implementation of\n",
    "them would not incur any marginal costs. These are technologies that would save us money, as well as\n",
    "reduce emissions. <br>\n"
   ]
  },
  {
   "cell_type": "code",
   "execution_count": null,
   "metadata": {
    "tags": []
   },
   "outputs": [],
   "source": [
    "q2 = ..."
   ]
  },
  {
   "cell_type": "code",
   "execution_count": null,
   "metadata": {
    "deletable": false,
    "editable": false
   },
   "outputs": [],
   "source": [
    "grader.check(\"q2\")"
   ]
  },
  {
   "cell_type": "markdown",
   "metadata": {},
   "source": [
    "**Question 3:** (True or False) The Emissions Abatement alternative would promote a greater reduction in GHGs because the investment in\n",
    "environmentally-friendly practices (especially technologies in the MAC with wide widths) decreases the\n",
    "amount of overall greenhouse gas emissions. Compared to the Business-as-Usual approach, as time goes\n",
    "on, the Emissions Abatement alternatives would become wider and shorter (from thinner and taller), making it\n",
    "more economical and environmentally-friendly to not continue with the BAU alternative.\n",
    "\n",
    "a. True <br>\n",
    "b. False <br>"
   ]
  },
  {
   "cell_type": "code",
   "execution_count": null,
   "metadata": {
    "tags": []
   },
   "outputs": [],
   "source": [
    "q3 = ..."
   ]
  },
  {
   "cell_type": "code",
   "execution_count": null,
   "metadata": {
    "deletable": false,
    "editable": false
   },
   "outputs": [],
   "source": [
    "grader.check(\"q3\")"
   ]
  },
  {
   "cell_type": "markdown",
   "metadata": {},
   "source": [
    "Let's first try to construct a MAC for all abatement technologies in the Asia Pacific region. We'll start by importing a dataset on methane abatement from the International Environmental Agency (IEA). "
   ]
  },
  {
   "cell_type": "code",
   "execution_count": null,
   "metadata": {},
   "outputs": [],
   "source": [
    "abatement_table = Table.read_table(\"abatement_data.csv\")\n",
    "abatement_table"
   ]
  },
  {
   "cell_type": "markdown",
   "metadata": {},
   "source": [
    "**Question  4:**  The second column in the table is `Region`. To begin with, let's select the Asia Pacific region, accounting for approximately 1/4 of all emissions. In the cell below, please select all the rows in `abatement_table` where the region is the Asia Pacific and save this new table to `abatement_table_ap`. Please make sure you don't change the original `abatement_table` by accident."
   ]
  },
  {
   "cell_type": "code",
   "execution_count": null,
   "metadata": {
    "tags": []
   },
   "outputs": [],
   "source": [
    "abatement_table_ap = ...\n",
    "abatement_table_ap"
   ]
  },
  {
   "cell_type": "code",
   "execution_count": null,
   "metadata": {
    "deletable": false,
    "editable": false
   },
   "outputs": [],
   "source": [
    "grader.check(\"q4\")"
   ]
  },
  {
   "cell_type": "markdown",
   "metadata": {},
   "source": [
    "### Taxes on the MAC Curve\n",
    "\n",
    "As discussed in class and the textbook, we can use the MAC curve to find the total abatement potential of an excise tax."
   ]
  },
  {
   "cell_type": "markdown",
   "metadata": {},
   "source": [
    "**Question 5:** What is an excise tax? Where does it go on a MAC curve?\n",
    "\n",
    "a. An excise tax is a fixed dollar amount imposed on a type of good. On the marginal abatement cost curve, an excise is a horizontal line in which the x-value equals the value of the excise tax.  <br>\n",
    "b. An excise tax is a percentage dollar amount imposed on a type of good. On the marginal abatement cost curve, an excise is a horizontal line in which the y-value equals the value of the excise tax. <br>\n",
    "c. An excise tax is a fixed dollar amount imposed on a type of good. On the marginal abatement cost curve, an excise is a horizontal line in which the y-value equals the value of the excise tax. <br>\n",
    "d. An excise tax is a percentage dollar amount imposed on a type of good. On the marginal abatement cost curve, an excise is a horizontal line in which the x-value equals the value of the excise tax. <br>\n"
   ]
  },
  {
   "cell_type": "code",
   "execution_count": null,
   "metadata": {
    "tags": []
   },
   "outputs": [],
   "source": [
    "q6 = ..."
   ]
  },
  {
   "cell_type": "code",
   "execution_count": null,
   "metadata": {
    "deletable": false,
    "editable": false
   },
   "outputs": [],
   "source": [
    "grader.check(\"q5\")"
   ]
  },
  {
   "cell_type": "markdown",
   "metadata": {},
   "source": [
    "**Question 6.1:** Calculate the total abatement for a tax of 4 dollars on methane emissions. Do this by first filtering  `abatement_table_ap` to only include the rows where the cost is less than or equal to \\$4 and saving this new table to `abatement_cost_4`. Then, set `abatement_at_4` equal to all the abatement potential that will be reduced if this tax was placed. `abatement_at_4` should just be a number (measured in kilotons)."
   ]
  },
  {
   "cell_type": "code",
   "execution_count": null,
   "metadata": {
    "tags": []
   },
   "outputs": [],
   "source": [
    "abatement_below_4 = ...\n",
    "abatement_at_4 = ...\n",
    "abatement_at_4\n"
   ]
  },
  {
   "cell_type": "code",
   "execution_count": null,
   "metadata": {
    "deletable": false,
    "editable": false
   },
   "outputs": [],
   "source": [
    "grader.check(\"q6_1\")"
   ]
  },
  {
   "cell_type": "markdown",
   "metadata": {},
   "source": [
    "**Question 6.2:** Define a function named `total_abatement` that takes in a tax level and does the same procedure as above to calculate the total abatement."
   ]
  },
  {
   "cell_type": "code",
   "execution_count": null,
   "metadata": {
    "tags": []
   },
   "outputs": [],
   "source": [
    "def total_abatement(tax_level):\n",
    "    abatement_below_tax_level = ...\n",
    "    abatement_at_tax_level = ...\n",
    "    return ... \n"
   ]
  },
  {
   "cell_type": "code",
   "execution_count": null,
   "metadata": {
    "deletable": false,
    "editable": false
   },
   "outputs": [],
   "source": [
    "grader.check(\"q6_2\")"
   ]
  },
  {
   "cell_type": "markdown",
   "metadata": {},
   "source": [
    "**Question 7:** In order to create the MAC curve, create a table of abatement technologies using `abatement_table_ap`. The table should contain columns named as `Abatement Cost` and `Cumulative Abatement Potential`. `Abatement Cost` should contain the costs of abatements and it should be sorted in ascending order, while `Cumulative Abatement Potential` should contain the total abatement potential of all technologies below the corresponding abatement cost.\n"
   ]
  },
  {
   "cell_type": "code",
   "execution_count": null,
   "metadata": {
    "tags": []
   },
   "outputs": [],
   "source": [
    "cumulative_potential_abatement_array = ...\n",
    "abatement_table_with_cumulative = ...\n",
    "abatement_cumulative_sorted = abatement_table_with_cumulative.sort('Abatement Cost') \n",
    "abatement_cumulative_sorted\n"
   ]
  },
  {
   "cell_type": "code",
   "execution_count": null,
   "metadata": {
    "deletable": false,
    "editable": false
   },
   "outputs": [],
   "source": [
    "grader.check(\"q7\")"
   ]
  },
  {
   "cell_type": "markdown",
   "metadata": {},
   "source": [
    "#### Plotting Functions\n",
    "Some data manipulations are required to visualize the MAC Curve. For example, the width of the columns has to be the quantity of abatement and the height (positive or negative) has to be the cost. The function below does these manipulations for you.\n"
   ]
  },
  {
   "cell_type": "code",
   "execution_count": null,
   "metadata": {},
   "outputs": [],
   "source": [
    "# HIDDEN\n",
    "abatement_table_2021 = Table.read_table(\"abatement_data_2021.csv\")\n",
    "abatement_table_2021\n",
    "abatement_table_ap_2021 = abatement_table_2021.where('Region', 'Asia Pacific')\n",
    "abatement_table_ap_2021"
   ]
  },
  {
   "cell_type": "code",
   "execution_count": null,
   "metadata": {},
   "outputs": [],
   "source": [
    "# Making columnn widths for the Asia Pacific \"_ap\" Region\n",
    "def find_x_pos(widths):\n",
    "    cumulative_widths = [0]\n",
    "    cumulative_widths.extend(np.cumsum(widths))\n",
    "    half_widths = [i/2 for i in widths]\n",
    "    x_pos = []\n",
    "    for i in range(0, len(half_widths)):\n",
    "        x_pos.append(half_widths[i] + cumulative_widths[i])\n",
    "    return x_pos\n",
    "\n",
    "#Prepare the data for plotting\n",
    "width_group = abatement_table_ap_2021.column('Abatement Potential')\n",
    "height_group = abatement_table_ap_2021.column('Abatement Cost')\n",
    "new_x_group = find_x_pos(width_group)"
   ]
  },
  {
   "cell_type": "markdown",
   "metadata": {},
   "source": [
    "### Policy Analysis Tool\n",
    "Now lets add a tool in to see the effects of a tax. The following function takes in a number `tax` and a table similar to abatement_table_ap, and it outputs how much abatement would be reduced if a tax equal to `tax` was implemented, based on data from the table. For the purposes of this analysis, we will be using data from 2021, as it is more accurate.\n"
   ]
  },
  {
   "cell_type": "code",
   "execution_count": null,
   "metadata": {},
   "outputs": [],
   "source": [
    "def methane_tax(tax, table):\n",
    "    if tax < min(table.column('Abatement Cost')):\n",
    "        print(\"No Abatement\")\n",
    "    else:\n",
    "        abatement = table.where('Abatement Cost', are.below_or_equal_to(tax))\n",
    "        total_abatement = sum(abatement.column('Abatement Potential'))\n",
    "        abatement_technologies = abatement.column('Abatement technology')\n",
    "        \n",
    "        print('Total Abatement (kt CH4): ', np.round(total_abatement,2))\n",
    "        print(\"\")"
   ]
  },
  {
   "cell_type": "markdown",
   "metadata": {},
   "source": [
    "Note that the conditional statement underneath the def statement checks if the minimum value in the array created\n",
    "from the 'Abatement Cost' column in table is less than the value of the tax. This means that is the tax is less\n",
    "than the minimum, there will be no abatement of emissions created from the tax."
   ]
  },
  {
   "cell_type": "markdown",
   "metadata": {},
   "source": [
    "### Plotting the MAC Curve with the tax line\n",
    "The function below takes the methane_tax function and plots all the possible abatement opportunities. Try to understand what each \"plt\" part does if you're interested!"
   ]
  },
  {
   "cell_type": "code",
   "execution_count": null,
   "metadata": {},
   "outputs": [],
   "source": [
    "def group_plot(tax):\n",
    "    print(f\"Methane Tax ($/MBtu): ${tax}\")\n",
    "    methane_tax(tax, abatement_table_ap_2021)\n",
    "    plt.figure(figsize=(16,10))\n",
    "    plt.bar(new_x_group, height_group,width=width_group,edgecolor = 'black')\n",
    "    plt.title('The MAC Curve for Methane with a tax of $4')\n",
    "    plt.xlabel('Abatement Potential KtCH4')\n",
    "    plt.ylabel('Abatement Cost $/MBtu')\n",
    "    plt.axhline(y=tax, color='r',linewidth = 2)\n",
    "    \n",
    "group_plot(4)"
   ]
  },
  {
   "cell_type": "markdown",
   "metadata": {},
   "source": [
    "This is an applied MAC for Methane emissions in the Asia-Pacific region! Super cool.\n",
    "\n",
    "\n",
    "Let's make the plot even more instructive by creating a color mapping of the different abatement technologies.\n",
    "The solution to this is giving each a different color from a Python dictionary. Don't worry if you don't understand the code below!"
   ]
  },
  {
   "cell_type": "code",
   "execution_count": null,
   "metadata": {},
   "outputs": [],
   "source": [
    "#Prepare data for plotting (second round)\n",
    "width = abatement_table_ap_2021.column('Abatement Potential')\n",
    "height = abatement_table_ap_2021.column('Abatement Cost')\n",
    "new_x = find_x_pos(width)\n",
    "\n",
    "#Let's give each type of technology a different color!\n",
    "abatement_colors_dict = {}\n",
    "count = 0\n",
    "colors = ['#EC5F67', '#F29056', '#F9C863', '#99C794', '#5FB3B3', '#6699CC', '#C594C5','#85E827','#F165FD','#1F9F7F','#945CF8','#ff3a1d','#2a8506']\n",
    "for i in set(abatement_table_ap_2021['Abatement technology']):\n",
    "    abatement_colors_dict[i] = colors[count]\n",
    "    count += 1\n",
    "\n",
    "colors_mapped = list(pd.Series(abatement_table_ap_2021['Abatement technology']).map(abatement_colors_dict))\n",
    "abatement_table_ap_2 = abatement_table_ap_2021.with_column('Color', colors_mapped)"
   ]
  },
  {
   "cell_type": "code",
   "execution_count": null,
   "metadata": {},
   "outputs": [],
   "source": [
    "#The Methane curve plot - function!\n",
    "def mckinsey_curve(tax, abatement_table):\n",
    "    print(f\"Methane Tax: ${tax}\")\n",
    "    methane_tax(tax, abatement_table)\n",
    "    plt.figure(figsize=(18,12))\n",
    "    plt.bar(new_x, height, width=width, linewidth=0.1, color=abatement_table['Color'], edgecolor = \"black\")\n",
    "    plt.title('Methane Abatement Cost Curve (MAC)')\n",
    "    plt.xlabel('Abatement Potential KtCH4')\n",
    "    plt.ylabel('Abatement Cost  $/MBtu')\n",
    "    plt.axhline(y=tax, color='r', linewidth = 2)\n",
    "\n",
    "    plt.figure(figsize=(5,1))\n",
    "    plt.bar(abatement_colors_dict.keys(), 1, color = abatement_colors_dict.values())\n",
    "    plt.xticks(rotation=90)\n",
    "    plt.title('Legend')\n",
    "    \n",
    "mckinsey_curve(4, abatement_table_ap_2)"
   ]
  },
  {
   "cell_type": "markdown",
   "metadata": {},
   "source": [
    "Nice Plot! From here, we can differentiate the multiple methane abatement technologies on a cost basis, finding the most efficient ways of reducing methane emissions from gas production.\n",
    "\n",
    "Looking at the Asia-Pacific Region, we can see that most of the opportunities on this graph have a negative cost - meaning that it makes economic sense to make the technological improvements. We also observe the result of introducing a tax: with a tax of $4 per ton, we expect the total abatement to be almost 4600 tons within this industry. \n",
    "\n",
    "However, unfortunately, our analysis is likely flawed as the MAC curve isn't necessarily perfect."
   ]
  },
  {
   "cell_type": "markdown",
   "metadata": {},
   "source": [
    "We can also repeat the process of constructing a MAC curve, but for North America!"
   ]
  },
  {
   "cell_type": "code",
   "execution_count": null,
   "metadata": {},
   "outputs": [],
   "source": [
    "abatement_table_us = abatement_table_2021.where('Region', 'North America')\n",
    "\n",
    "#Prepare data for plotting (North America. _us)\n",
    "width = abatement_table_us.column('Abatement Potential')\n",
    "height = abatement_table_us.column('Abatement Cost') \n",
    "new_x = find_x_pos(width)\n",
    "\n",
    "colors_mapped = list(pd.Series(abatement_table_us['Abatement technology']).map(abatement_colors_dict))\n",
    "abatement_table_us = abatement_table_us.with_column('Color', colors_mapped)\n",
    "\n",
    "mckinsey_curve(4, abatement_table_us)"
   ]
  },
  {
   "cell_type": "markdown",
   "metadata": {},
   "source": [
    "Finally, lets build the MAC Curve for global emissions across all regions."
   ]
  },
  {
   "cell_type": "code",
   "execution_count": null,
   "metadata": {},
   "outputs": [],
   "source": [
    "width = abatement_table_2021.column('Abatement Potential')\n",
    "height = abatement_table_2021.column('Abatement Cost')\n",
    "new_x = find_x_pos(width)\n",
    "\n",
    "colors_mapped = list(pd.Series(abatement_table_2021['Abatement technology']).map(abatement_colors_dict))\n",
    "abatement_table_2021 = abatement_table_2021.with_column('Color', colors_mapped)\n",
    "\n",
    "mckinsey_curve(4, abatement_table_2021)"
   ]
  },
  {
   "cell_type": "markdown",
   "metadata": {},
   "source": [
    "**Non-Graded Reflection Question:** Compare the three plots above on at least two points. You can consider the shape, degree of negative costs (and what that says about the methane market), different abatement technologies, which technologies you would start off abating and which technologies would be your last choice in each region."
   ]
  },
  {
   "cell_type": "markdown",
   "metadata": {
    "deletable": false,
    "editable": false
   },
   "source": [
    "## Submission\n",
    "\n",
    "Make sure you have run all cells in your notebook in order before running the cell below, so that all images/graphs appear in the output. The cell below will generate a zip file for you to submit. **Please save before exporting!**"
   ]
  },
  {
   "cell_type": "code",
   "execution_count": null,
   "metadata": {
    "deletable": false,
    "editable": false
   },
   "outputs": [],
   "source": [
    "# Save your notebook first, then run this cell to export your submission.\n",
    "grader.export(run_tests=True)"
   ]
  },
  {
   "cell_type": "markdown",
   "metadata": {},
   "source": [
    " "
   ]
  }
 ],
 "metadata": {
  "kernelspec": {
   "display_name": "Python 3 (ipykernel)",
   "language": "python",
   "name": "python3"
  },
  "language_info": {
   "codemirror_mode": {
    "name": "ipython",
    "version": 3
   },
   "file_extension": ".py",
   "mimetype": "text/x-python",
   "name": "python",
   "nbconvert_exporter": "python",
   "pygments_lexer": "ipython3",
   "version": "3.11.5"
  },
  "otter": {
   "OK_FORMAT": true,
   "tests": {
    "q1": {
     "name": "q1",
     "points": [
      0
     ],
     "suites": [
      {
       "cases": [
        {
         "code": ">>> q1 in [\"a\", \"b\", \"c\", \"d\"]\nTrue",
         "hidden": false,
         "locked": false
        }
       ],
       "scored": true,
       "setup": "",
       "teardown": "",
       "type": "doctest"
      }
     ]
    },
    "q2": {
     "name": "q2",
     "points": [
      0
     ],
     "suites": [
      {
       "cases": [
        {
         "code": ">>> q2 in [\"a\", \"b\", \"c\", \"d\"]\nTrue",
         "hidden": false,
         "locked": false
        }
       ],
       "scored": true,
       "setup": "",
       "teardown": "",
       "type": "doctest"
      }
     ]
    },
    "q3": {
     "name": "q3",
     "points": [
      0
     ],
     "suites": [
      {
       "cases": [
        {
         "code": ">>> q3 in [\"a\", \"b\"]\nTrue",
         "hidden": false,
         "locked": false
        }
       ],
       "scored": true,
       "setup": "",
       "teardown": "",
       "type": "doctest"
      }
     ]
    },
    "q4": {
     "name": "q4",
     "points": null,
     "suites": [
      {
       "cases": [
        {
         "code": ">>> assert abatement_table_ap.num_rows == 891\n>>> assert abatement_table_ap.num_columns == 8\n>>> assert abatement_table_ap.group(\"Country\").num_rows == 16\n",
         "hidden": false,
         "locked": false
        }
       ],
       "scored": true,
       "setup": "",
       "teardown": "",
       "type": "doctest"
      }
     ]
    },
    "q5": {
     "name": "q5",
     "points": [
      0
     ],
     "suites": [
      {
       "cases": [
        {
         "code": ">>> q6 in [\"a\", \"b\", \"c\", \"d\"]\nTrue",
         "hidden": false,
         "locked": false
        }
       ],
       "scored": true,
       "setup": "",
       "teardown": "",
       "type": "doctest"
      }
     ]
    },
    "q6_1": {
     "name": "q6_1",
     "points": null,
     "suites": [
      {
       "cases": [
        {
         "code": ">>> assert float(abatement_at_4) > 6000 and float(abatement_at_4) < 7000\n",
         "hidden": false,
         "locked": false
        }
       ],
       "scored": true,
       "setup": "",
       "teardown": "",
       "type": "doctest"
      }
     ]
    },
    "q6_2": {
     "name": "q6_2",
     "points": null,
     "suites": [
      {
       "cases": [
        {
         "code": ">>> assert callable(total_abatement)\n",
         "hidden": false,
         "locked": false
        }
       ],
       "scored": true,
       "setup": "",
       "teardown": "",
       "type": "doctest"
      }
     ]
    },
    "q7": {
     "name": "q7",
     "points": null,
     "suites": [
      {
       "cases": [
        {
         "code": ">>> assert abatement_cumulative_sorted.num_rows == 891\n>>> assert abatement_cumulative_sorted.num_columns == 9\n>>> assert type(abatement_cumulative_sorted) == Table\n",
         "hidden": false,
         "locked": false
        }
       ],
       "scored": true,
       "setup": "",
       "teardown": "",
       "type": "doctest"
      }
     ]
    }
   }
  }
 },
 "nbformat": 4,
 "nbformat_minor": 5
}