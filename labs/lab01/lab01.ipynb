{
 "cells": [
  {
   "cell_type": "code",
   "execution_count": null,
   "metadata": {
    "deletable": false,
    "editable": false
   },
   "outputs": [],
   "source": [
    "# Initialize Otter\n",
    "import otter\n",
    "grader = otter.Notebook(\"lab01.ipynb\")"
   ]
  },
  {
   "cell_type": "markdown",
   "metadata": {},
   "source": [
    "<div id=\"nb-header\" style=\"display: flex; justify-content: space-between; align-items: center; background-color: transparent;\">\n",
    "    <div>\n",
    "        <img src=\"https://data-88e.github.io/assets/images/blue_text.png\" width=\"250px\" style=\"margin-left: 0;\" />\n",
    "    </div>\n",
    "    <div style=\"text-align: right; font-size: 10pt;\">\n",
    "        <strong>Economic Models</strong>, edX<br>\n",
    "        Dr. Eric Van Dusen <br>\n",
    "        Amal Bhatnagar <br>\n",
    "        Alan Liang <br>\n",
    "        Akhil Venkatesh <br>\n",
    "    </div>\n",
    "</div>"
   ]
  },
  {
   "cell_type": "markdown",
   "metadata": {
    "cell_id": "2280a94f-377b-4a11-9335-678fc40155d8"
   },
   "source": [
    "# Lab 1: Demand"
   ]
  },
  {
   "cell_type": "code",
   "execution_count": null,
   "metadata": {
    "cell_id": "32b0b005-79d4-4901-b5fb-ac08385de3f6"
   },
   "outputs": [],
   "source": [
    "import numpy as np\n",
    "from datascience import *\n",
    "import sympy\n",
    "\n",
    "import matplotlib as mpl\n",
    "import matplotlib.pyplot as plt\n",
    "%matplotlib inline\n",
    "mpl.rcParams['figure.dpi'] = 100\n",
    "\n",
    "import warnings\n",
    "warnings.filterwarnings('ignore')\n",
    "\n",
    "solve = lambda x,y: sympy.solve(x-y)[0] if len(sympy.solve(x-y))==1 else \"Not Single Solution\"\n",
    "\n",
    "def plot_equation(equation, price_start, price_end, label=None):\n",
    "    plot_prices = [price_start, price_end]\n",
    "    plot_quantities = [equation.subs(list(equation.free_symbols)[0], c) for c in plot_prices]\n",
    "    plt.plot(plot_prices, plot_quantities, label=label)\n",
    "    \n",
    "def plot_intercept(eq1, eq2):\n",
    "    ex = sympy.solve(eq1-eq2)[0]\n",
    "    why = eq1.subs(list(eq1.free_symbols)[0], ex)\n",
    "    plt.scatter([ex], [why])\n",
    "    return (ex, why)"
   ]
  },
  {
   "cell_type": "markdown",
   "metadata": {
    "cell_id": "6495ee60-d3fd-48d1-a6d6-246f2f517d1d"
   },
   "source": [
    "## Demand Curve for Beef"
   ]
  },
  {
   "cell_type": "markdown",
   "metadata": {
    "cell_id": "2446e913-7e07-4fd1-b08e-8a2374b3fb70"
   },
   "source": [
    "In today's lab, we will explore the demand curve for beef across time. The data is originally from the US Department of Agriculture and examines how the price varies between 1977 and 1999. \n",
    "\n",
    "For the purposes of this assignment, the quantity of beef demanded is measured in millions of pounds, while price is measured in average cents per pound. \n",
    "\n",
    "Note that throughout this exercise, we will ignore the effects of inflation. \n",
    "\n",
    "Remember, if you're feeling stuck on a problem, please refer to [these pages]( https://data-88e.github.io/textbook/content/01-demand/02-example.html)!"
   ]
  },
  {
   "cell_type": "code",
   "execution_count": null,
   "metadata": {
    "cell_id": "8ea8f5a2-510f-4102-a833-42216181f2f9"
   },
   "outputs": [],
   "source": [
    "beef = Table.read_table('beef.csv')\n",
    "beef"
   ]
  },
  {
   "cell_type": "markdown",
   "metadata": {
    "cell_id": "37de3b6e-aced-4283-b6de-c9e560b4a9da"
   },
   "source": [
    "To construct the demand curve, let's first examine what the relationship between price and quantity is. We would expect to see a downward-sloping line between price and quantity; if a product's price increases, consumers will purchase less of it, and if a product's price decreases, then consumers will purchase more of it."
   ]
  },
  {
   "cell_type": "markdown",
   "metadata": {},
   "source": [
    "<!-- BEGIN QUESTION -->\n",
    "\n",
    "**Question 1:** \n",
    "Create a scatterplot with a best-fit line (using `fit_line = True`) across the points. Trend-lines are helpful because they consolidate all the datapoints into a single line, helping us better understand the relationship between the two variables. \n"
   ]
  },
  {
   "cell_type": "code",
   "execution_count": null,
   "metadata": {
    "cell_id": "fb5b4ec2-d7fe-4fb5-b626-9ed71c6339f8",
    "tags": []
   },
   "outputs": [],
   "source": [
    "...\n",
    "plt.title(\"Demand Curve for Beef\");"
   ]
  },
  {
   "cell_type": "markdown",
   "metadata": {},
   "source": [
    "<!-- END QUESTION -->\n",
    "\n",
    "We will now quantify our demand curve using the [`np.polyfit(...)`](https://numpy.org/doc/stable/reference/generated/numpy.polyfit.html) function, which returns the coefficients of a fitted $d$-degree polynomial. \n",
    "\n",
    "`np.polyfit` takes 3 parameters\n",
    "- array of x-coordinates\n",
    "- array of y-coordinates\n",
    "- degree of polynomial \n",
    "\n",
    "Because we are looking for a **linear** function to serve as the demand curve, we will use 1 as the degree of polynomial. It will therefore return an array of size 2, where the first element is the `slope` and the second is the `y-intercept`."
   ]
  },
  {
   "cell_type": "markdown",
   "metadata": {},
   "source": [
    "**Question 2.1:** Create a non-log demand curve that expresses the price of beef in terms of the quantity demanded (using quantity as $x$ and price as $y$) by using `np.polyfit`. Assign the results to `non_log_demand_params_1`. \n",
    "\n"
   ]
  },
  {
   "cell_type": "code",
   "execution_count": null,
   "metadata": {
    "cell_id": "c7130fd4-a3d0-4f4e-8e40-82e28c5d8b3b",
    "tags": []
   },
   "outputs": [],
   "source": [
    "non_log_demand_params_1 = ...\n",
    "non_log_demand_params_1"
   ]
  },
  {
   "cell_type": "code",
   "execution_count": null,
   "metadata": {
    "deletable": false,
    "editable": false
   },
   "outputs": [],
   "source": [
    "grader.check(\"q2_1\")"
   ]
  },
  {
   "cell_type": "markdown",
   "metadata": {
    "cell_id": "80c534f4-8f08-4c2b-82cb-0ae3e847474d"
   },
   "source": [
    "Your answer should show that the $m$ variable (slope) is -19.37 and b variable (y-intercept) is 607. Using the $y = mx + b$ template above, then our demand curve would be $y = -19.37x + 607$"
   ]
  },
  {
   "cell_type": "markdown",
   "metadata": {},
   "source": [
    "**Question 2.2:** Assign the number (i.e `1`, `2`, `3`, or `4`) to `slope_intercept` that best represents the interpretation of the slope and intercept terms of the demand curve in question `2.1`.\n",
    "\n",
    "*Hint*: watch [this video](https://www.youtube.com/watch?v=LwLh6ax0zTE)\n",
    "\n",
    "1. For a decrease in 19.37 million pounds of beef demanded per quarter, we would expect to see a decrease in the price per pound of beef by 1 cent. At a price of 607 cents per pound, we would expect there to be 0 pounds of beef demanded.\n",
    "2. For an increase in 1 million pounds of beef demanded per quarter, we would expect to see a decrease in the price per pound of beef by 19.37 cents. At a price of 607 cents per pound, we would expect there to be 0 pounds of beef demanded.\n",
    "3. For an increase in 1 million pounds of beef demanded per quarter, we would expect to see a decrease in the price per pound of beef by 19.37 cents. At a price of 0 cents per pound, we would expect there to be 0 pounds of beef demanded.\n",
    "4. For an increase in 1 million pounds of beef demanded per quarter, we would expect to see an increase in the price per pound of beef by 19.37 cents. At a price of 607 cents per pound, we would expect there to be 0 pounds of beef demanded."
   ]
  },
  {
   "cell_type": "code",
   "execution_count": null,
   "metadata": {
    "tags": []
   },
   "outputs": [],
   "source": [
    "slope_intercept = ..."
   ]
  },
  {
   "cell_type": "code",
   "execution_count": null,
   "metadata": {
    "deletable": false,
    "editable": false
   },
   "outputs": [],
   "source": [
    "grader.check(\"q2_2\")"
   ]
  },
  {
   "cell_type": "markdown",
   "metadata": {},
   "source": [
    "Let's visualize our non-log demand curve from question 2:"
   ]
  },
  {
   "cell_type": "code",
   "execution_count": null,
   "metadata": {},
   "outputs": [],
   "source": [
    "quantities = np.arange(15,25)\n",
    "predicted_prices_non_log = non_log_demand_params_1[0] * quantities + non_log_demand_params_1[1]\n",
    "\n",
    "plt.figure(figsize=(8,6))\n",
    "plt.scatter(beef.column(\"Quantity\"), beef.column(\"Price\"))\n",
    "plt.plot(quantities, predicted_prices_non_log, color = 'red', label = 'Non-log demand curve (P as function of Q)')\n",
    "plt.xlabel('Quantity')\n",
    "plt.ylabel('Price')\n",
    "plt.legend();"
   ]
  },
  {
   "cell_type": "markdown",
   "metadata": {},
   "source": [
    "Our interpretation of the demand curve expressed as price in terms of quantity above was not particularly intuitive: changes in quantity demanded likely do not trigger changes in price, but instead the other way around. Instead, we can determine a new demand curve that expresses quantity as a function of price.\n",
    "\n"
   ]
  },
  {
   "cell_type": "markdown",
   "metadata": {},
   "source": [
    "**Question 3.1:** Create a non-log demand curve that expresses the quantity of beef in terms of the price by using `np.polyfit`. Assign the results to `non_log_demand_params_2`. \n",
    "\n"
   ]
  },
  {
   "cell_type": "code",
   "execution_count": null,
   "metadata": {
    "tags": []
   },
   "outputs": [],
   "source": [
    "non_log_demand_params_2 = ...\n",
    "non_log_demand_params_2"
   ]
  },
  {
   "cell_type": "code",
   "execution_count": null,
   "metadata": {
    "deletable": false,
    "editable": false
   },
   "outputs": [],
   "source": [
    "grader.check(\"q3_1\")"
   ]
  },
  {
   "cell_type": "markdown",
   "metadata": {},
   "source": [
    "**Question 3.2:** Let's say your friend Ergun is trying to find the demand of beef when the average price is 250 cents per pound. Use `non_log_demand_params_2` to find the exact demand, in millions of pounds of beef.\n"
   ]
  },
  {
   "cell_type": "code",
   "execution_count": null,
   "metadata": {
    "tags": []
   },
   "outputs": [],
   "source": [
    "demand_q3_2 = ..."
   ]
  },
  {
   "cell_type": "code",
   "execution_count": null,
   "metadata": {
    "deletable": false,
    "editable": false
   },
   "outputs": [],
   "source": [
    "grader.check(\"q3_2\")"
   ]
  },
  {
   "cell_type": "markdown",
   "metadata": {},
   "source": [
    "Let's visualize our non-log demand curve from question 3:"
   ]
  },
  {
   "cell_type": "code",
   "execution_count": null,
   "metadata": {},
   "outputs": [],
   "source": [
    "prices = np.arange(150,300)\n",
    "predicted_quantities_non_log = non_log_demand_params_2[0] * prices + non_log_demand_params_2[1]\n",
    "\n",
    "plt.figure(figsize=(8,6))\n",
    "plt.scatter(beef.column(\"Quantity\"), beef.column(\"Price\"))\n",
    "plt.plot(predicted_quantities_non_log, prices, color = 'red', label = 'Non-log demand curve (Q as function of P)')\n",
    "plt.xlabel('Quantity')\n",
    "plt.ylabel('Price')\n",
    "plt.legend();"
   ]
  },
  {
   "cell_type": "markdown",
   "metadata": {},
   "source": [
    "Now we will try fitting semi-log and log-log demand curves on the same data to see which model works the best. "
   ]
  },
  {
   "cell_type": "markdown",
   "metadata": {},
   "source": [
    "**Question 4.1:** Create a semi-log demand curve that expresses the quantity of beef in terms of the price by using `np.polyfit`. Assign the results to `semi_log_demand_params`. \n",
    "\n"
   ]
  },
  {
   "cell_type": "code",
   "execution_count": null,
   "metadata": {
    "tags": []
   },
   "outputs": [],
   "source": [
    "log_quantity = ...\n",
    "\n",
    "semi_log_demand_params = ...\n",
    "semi_log_demand_params"
   ]
  },
  {
   "cell_type": "code",
   "execution_count": null,
   "metadata": {
    "deletable": false,
    "editable": false
   },
   "outputs": [],
   "source": [
    "grader.check(\"q4_1\")"
   ]
  },
  {
   "cell_type": "markdown",
   "metadata": {},
   "source": [
    "<!-- BEGIN QUESTION -->\n",
    "\n",
    "**Question 4.2:** Assign the number (i.e `1`, `2`, or `3`) to `slope_only` that best represents the interpretation of the slope term of the demand curve in question `4.1`.\n",
    "\n",
    "1. A 1 cent decrease in the price per pound of beef is associated with a 0.244% decrease in the quantity demanded per quarter.\n",
    "2. A 1 cent increase in the price per pound of beef is associated with a 0.244% decrease in the quantity demanded per quarter.\n",
    "3. A 1 cent increase in the price per pound of beef is associated with a 0.244% increase in the quantity demanded per quarter.\n",
    "\n"
   ]
  },
  {
   "cell_type": "code",
   "execution_count": null,
   "metadata": {
    "tags": []
   },
   "outputs": [],
   "source": [
    "slope_only = ..."
   ]
  },
  {
   "cell_type": "code",
   "execution_count": null,
   "metadata": {
    "deletable": false,
    "editable": false
   },
   "outputs": [],
   "source": [
    "grader.check(\"q4_2\")"
   ]
  },
  {
   "cell_type": "markdown",
   "metadata": {},
   "source": [
    "<!-- END QUESTION -->\n",
    "\n",
    "Let's visualize our semi-log demand curve:"
   ]
  },
  {
   "cell_type": "code",
   "execution_count": null,
   "metadata": {},
   "outputs": [],
   "source": [
    "prices = np.arange(150,300)\n",
    "predicted_quantities_semi_log = (np.e ** (prices * semi_log_demand_params[0])) * (np.e ** semi_log_demand_params[1])\n",
    "\n",
    "plt.figure(figsize=(8,6))\n",
    "plt.scatter(beef.column(\"Quantity\"), beef.column(\"Price\"))\n",
    "plt.plot(predicted_quantities_semi_log, prices, color = 'red', label = 'Semi-log demand curve')\n",
    "plt.xlabel('Quantity')\n",
    "plt.ylabel('Price')\n",
    "plt.legend();"
   ]
  },
  {
   "cell_type": "markdown",
   "metadata": {},
   "source": [
    "**Question 5.1:** Create a log-log demand curve that expresses the quantity of beef in terms of the price by using `np.polyfit`. Assign the results to `log_log_demand_params`. \n",
    "\n"
   ]
  },
  {
   "cell_type": "code",
   "execution_count": null,
   "metadata": {
    "tags": []
   },
   "outputs": [],
   "source": [
    "log_quantity = ...\n",
    "log_price = ...\n",
    "\n",
    "log_log_demand_params = ...\n",
    "log_log_demand_params"
   ]
  },
  {
   "cell_type": "code",
   "execution_count": null,
   "metadata": {
    "deletable": false,
    "editable": false
   },
   "outputs": [],
   "source": [
    "grader.check(\"q5_1\")"
   ]
  },
  {
   "cell_type": "markdown",
   "metadata": {},
   "source": [
    "<!-- BEGIN QUESTION -->\n",
    "\n",
    "**Question 5.2:** Let's say that Matt wants to find the what a 15% increase in the price of beef is associated with in terms of a percentage change in the quantity demanded per quarter. Use `log_log_demand_params` to find the exact result and assign the result to `q5_2`.\n"
   ]
  },
  {
   "cell_type": "code",
   "execution_count": null,
   "metadata": {
    "tags": []
   },
   "outputs": [],
   "source": [
    "q5_2 = ..."
   ]
  },
  {
   "cell_type": "code",
   "execution_count": null,
   "metadata": {
    "deletable": false,
    "editable": false
   },
   "outputs": [],
   "source": [
    "grader.check(\"q5_2\")"
   ]
  },
  {
   "cell_type": "markdown",
   "metadata": {},
   "source": [
    "<!-- END QUESTION -->\n",
    "\n",
    "Let's visualize our log-log demand curve:"
   ]
  },
  {
   "cell_type": "code",
   "execution_count": null,
   "metadata": {},
   "outputs": [],
   "source": [
    "prices = np.arange(150,300)\n",
    "predicted_quantities_log_log = (prices ** log_log_demand_params[0]) * (np.e ** log_log_demand_params[1])\n",
    "\n",
    "plt.figure(figsize=(8,6))\n",
    "plt.scatter(beef.column(\"Quantity\"), beef.column(\"Price\"))\n",
    "plt.plot(predicted_quantities_log_log, prices, color = 'red', label = 'Log-log demand curve')\n",
    "plt.xlabel('Quantity')\n",
    "plt.ylabel('Price')\n",
    "plt.legend();"
   ]
  },
  {
   "cell_type": "markdown",
   "metadata": {},
   "source": [
    "**Question 5.3:** Is the demand for beef...\n",
    "1. perfectly inelastic\n",
    "2. inelastic\n",
    "3. neither elastic nor inelastic\n",
    "4. elastic\n",
    "5. perfectly elastic\n",
    "\n",
    "Assign your answer as a number from 1-5 to `demand_elasticity`.\n",
    "\n"
   ]
  },
  {
   "cell_type": "code",
   "execution_count": null,
   "metadata": {
    "tags": []
   },
   "outputs": [],
   "source": [
    "demand_elasticity = ..."
   ]
  },
  {
   "cell_type": "code",
   "execution_count": null,
   "metadata": {
    "deletable": false,
    "editable": false
   },
   "outputs": [],
   "source": [
    "grader.check(\"q5_3\")"
   ]
  },
  {
   "cell_type": "markdown",
   "metadata": {},
   "source": [
    "Let's visualize all 4 demand curves we've created:"
   ]
  },
  {
   "cell_type": "code",
   "execution_count": null,
   "metadata": {},
   "outputs": [],
   "source": [
    "prices = np.arange(150,300)\n",
    "predicted_quantities_log_log = (prices ** log_log_demand_params[0]) * (np.e ** log_log_demand_params[1])\n",
    "\n",
    "plt.figure(figsize=(8,6))\n",
    "plt.scatter(beef.column(\"Quantity\"), beef.column(\"Price\"), alpha = 0.5)\n",
    "plt.plot(quantities, predicted_prices_non_log, color = 'purple', label = 'Non-log demand curve (P as function of Q)')\n",
    "plt.plot(predicted_quantities_non_log, prices, color = 'orange', label = 'Non-log demand curve (Q as function of P)')\n",
    "plt.plot(predicted_quantities_semi_log, prices, color = 'red', label = 'Semi-log demand curve')\n",
    "plt.plot(predicted_quantities_log_log, prices, color = 'green', label = 'Log-log demand curve')\n",
    "plt.xlabel('Quantity')\n",
    "plt.ylabel('Price')\n",
    "plt.legend();"
   ]
  },
  {
   "cell_type": "markdown",
   "metadata": {},
   "source": [
    "**Question 6:** For each of the following two supply curves, assign one as `inelastic` and the other as `elastic`. "
   ]
  },
  {
   "cell_type": "code",
   "execution_count": null,
   "metadata": {},
   "outputs": [],
   "source": [
    "plt.figure(figsize = [6,6])\n",
    "plt.plot(np.arange(0,10,1), np.flip(np.array([0,3,6,9,12,15,18,21,24,27])), label = 'curve 1')\n",
    "plt.plot(np.flip(np.array([0,3,6,9,12,15,18,21,24,27])), np.arange(0,10,1), color = 'red', label = 'curve 2')\n",
    "plt.xlim(0,30)\n",
    "plt.ylim(0,30)\n",
    "plt.xticks([], [])\n",
    "plt.yticks([], [])\n",
    "plt.legend();"
   ]
  },
  {
   "cell_type": "code",
   "execution_count": null,
   "metadata": {
    "scrolled": true,
    "tags": []
   },
   "outputs": [],
   "source": [
    "curve_1 = ...\n",
    "curve_2 = ...\n",
    "print(\"curve 1:\", curve_1)\n",
    "print(\"curve 2:\", curve_2)"
   ]
  },
  {
   "cell_type": "code",
   "execution_count": null,
   "metadata": {
    "deletable": false,
    "editable": false
   },
   "outputs": [],
   "source": [
    "grader.check(\"q6\")"
   ]
  },
  {
   "cell_type": "markdown",
   "metadata": {
    "cell_id": "53aa61c1-6e8c-46e3-96c1-c3ff4199c1c8"
   },
   "source": [
    "**Congratulations! You finished Lab 1!**"
   ]
  }
 ],
 "metadata": {
  "@webio": {
   "lastCommId": null,
   "lastKernelId": null
  },
  "deepnote_execution_queue": [],
  "deepnote_notebook_id": "81b8fb1f-c068-4405-a28c-00a84f764aa9",
  "kernelspec": {
   "display_name": "Python 3 (ipykernel)",
   "language": "python",
   "name": "python3"
  },
  "language_info": {
   "codemirror_mode": {
    "name": "ipython",
    "version": 3
   },
   "file_extension": ".py",
   "mimetype": "text/x-python",
   "name": "python",
   "nbconvert_exporter": "python",
   "pygments_lexer": "ipython3",
   "version": "3.9.15"
  },
  "otter": {
   "OK_FORMAT": true,
   "tests": {
    "q2_1": {
     "name": "q2_1",
     "points": [
      0
     ],
     "suites": [
      {
       "cases": [
        {
         "code": ">>> len(non_log_demand_params_1) == 2\nTrue",
         "hidden": false,
         "locked": false
        }
       ],
       "scored": true,
       "setup": "",
       "teardown": "",
       "type": "doctest"
      }
     ]
    },
    "q2_2": {
     "name": "q2_2",
     "points": null,
     "suites": [
      {
       "cases": [
        {
         "code": ">>> slope_intercept in [1,2,3,4,5]\nTrue",
         "hidden": false,
         "locked": false
        }
       ],
       "scored": true,
       "setup": "",
       "teardown": "",
       "type": "doctest"
      }
     ]
    },
    "q3_1": {
     "name": "q3_1",
     "points": [
      0
     ],
     "suites": [
      {
       "cases": [
        {
         "code": ">>> len(non_log_demand_params_2) == 2\nTrue",
         "hidden": false,
         "locked": false
        }
       ],
       "scored": true,
       "setup": "",
       "teardown": "",
       "type": "doctest"
      }
     ]
    },
    "q3_2": {
     "name": "q3_2",
     "points": [
      0
     ],
     "suites": [
      {
       "cases": [
        {
         "code": ">>> assert demand_q3_2 >= 0\n",
         "hidden": false,
         "locked": false
        }
       ],
       "scored": true,
       "setup": "",
       "teardown": "",
       "type": "doctest"
      }
     ]
    },
    "q4_1": {
     "name": "q4_1",
     "points": [
      0
     ],
     "suites": [
      {
       "cases": [
        {
         "code": ">>> len(semi_log_demand_params) == 2\nTrue",
         "hidden": false,
         "locked": false
        }
       ],
       "scored": true,
       "setup": "",
       "teardown": "",
       "type": "doctest"
      }
     ]
    },
    "q4_2": {
     "name": "q4_2",
     "points": null,
     "suites": [
      {
       "cases": [
        {
         "code": ">>> slope_only in [1,2,3]\nTrue",
         "hidden": false,
         "locked": false
        }
       ],
       "scored": true,
       "setup": "",
       "teardown": "",
       "type": "doctest"
      }
     ]
    },
    "q5_1": {
     "name": "q5_1",
     "points": [
      0
     ],
     "suites": [
      {
       "cases": [
        {
         "code": ">>> len(log_log_demand_params) == 2\nTrue",
         "hidden": false,
         "locked": false
        }
       ],
       "scored": true,
       "setup": "",
       "teardown": "",
       "type": "doctest"
      }
     ]
    },
    "q5_2": {
     "name": "q5_2",
     "points": null,
     "suites": [
      {
       "cases": [
        {
         "code": ">>> assert q5_2 <= 0\n",
         "hidden": false,
         "locked": false
        }
       ],
       "scored": true,
       "setup": "",
       "teardown": "",
       "type": "doctest"
      }
     ]
    },
    "q5_3": {
     "name": "q5_3",
     "points": null,
     "suites": [
      {
       "cases": [
        {
         "code": ">>> demand_elasticity in [1,2,3,4,5]\nTrue",
         "hidden": false,
         "locked": false
        }
       ],
       "scored": true,
       "setup": "",
       "teardown": "",
       "type": "doctest"
      }
     ]
    },
    "q6": {
     "name": "q6",
     "points": null,
     "suites": [
      {
       "cases": [
        {
         "code": ">>> curve_1 in [\"elastic\", \"inelastic\"]\nTrue",
         "hidden": false,
         "locked": false
        },
        {
         "code": ">>> curve_2 in [\"elastic\", \"inelastic\"]\nTrue",
         "hidden": false,
         "locked": false
        }
       ],
       "scored": true,
       "setup": "",
       "teardown": "",
       "type": "doctest"
      }
     ]
    }
   }
  },
  "otter_service": {
   "assignment": "lab01",
   "course": "88ex",
   "section": "1"
  }
 },
 "nbformat": 4,
 "nbformat_minor": 4
}