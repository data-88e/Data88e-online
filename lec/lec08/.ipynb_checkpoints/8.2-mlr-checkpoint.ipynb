{
 "cells": [
  {
   "cell_type": "markdown",
   "id": "d8f8e679",
   "metadata": {},
   "source": [
    "<table style=\"width: 100%;\" id=\"nb-header\">\n",
    "    <tr style=\"background-color: transparent;\"><td>\n",
    "        <img src=\"https://data-88e.github.io/assets/images/blue_text.png\" width=\"250px\" style=\"margin-left: 0;\" />\n",
    "    </td><td>\n",
    "        <p style=\"text-align: right; font-size: 10pt;\"><strong>Economic Models</strong>, EdX<br>\n",
    "            Dr. Eric Van Dusen <br>\n",
    "            Vaidehi Bulusu <br>\n",
    "        Akhil Venkatesh <br>\n",
    "</table>"
   ]
  },
  {
   "cell_type": "markdown",
   "id": "e0c46c6f-9a0f-4a72-a2c7-ad61db5e8cd7",
   "metadata": {},
   "source": [
    "# Lecture Notebook 8.2: Multiple Linear Regression"
   ]
  },
  {
   "cell_type": "code",
   "execution_count": null,
   "id": "94f9c320",
   "metadata": {},
   "outputs": [],
   "source": [
    "import numpy as np\n",
    "import pandas as pd\n",
    "import matplotlib.pyplot as plt\n",
    "from matplotlib import patches\n",
    "import statsmodels.api as sm\n",
    "import warnings\n",
    "warnings.simplefilter(\"ignore\")\n",
    "from datascience import *\n",
    "%matplotlib inline\n",
    "from sklearn.metrics import mean_squared_error\n",
    "import ipywidgets as widgets\n",
    "from ipywidgets import interact"
   ]
  },
  {
   "cell_type": "markdown",
   "id": "a8175e15",
   "metadata": {},
   "source": [
    "# Multiple Linear Regression\n",
    "\n",
    "In simple linear regression, we're only considering one independent variable. We're essentially assuming that this is the only variable that affects our dependent variable. Going back to the price and quantity demanded example, while price does have a huge effect on demand, there are other factors that also affect demand including income taxes, sales taxes, advertising, prices of related goods, etc. In the context of regression, because we are not including these variables in our model, they are called **omitted variables**.\n",
    "\n",
    "Omitted variables cause 2 main problems:\n",
    "\n",
    "- The regression parameters end up being inaccurate (biased) because of something called omitted variable bias. Your regression estimates for the slope and intercept are higher or lower than the actual values because of omitted variables (we are generally only concerned about the slope).\n",
    "\n",
    "\n",
    "- They prevent you from inferring a causal association between the independent and dependent variables. In other words, you can't say that it's *because* of an increase in price that your quantity demanded decreased as there are so many other factors – like the change in the price of a related good – that could be causing the decrease in demand.\n",
    "\n",
    "To try to eliminate omitted variable bias from our model, we take simple linear regression a step further: to multiple linear regression. In multiple linear regression, we are including more indepedent variables – variables we think are confounding variable that we've omitted – to reduce omitted variable bias.\n",
    "\n",
    "Let's look at multiple linear regression in Python using a new dataset on earnings and various other factors (check out the [data description](https://wps.pearsoned.com/wps/media/objects/11422/11696965/empirical/empex_tb/CPS08_Description.pdf))."
   ]
  },
  {
   "cell_type": "code",
   "execution_count": null,
   "id": "475d7c16",
   "metadata": {},
   "outputs": [],
   "source": [
    "cps = Table.read_table(\"CPS.csv\")\n",
    "cps.show(5)"
   ]
  },
  {
   "cell_type": "markdown",
   "id": "146d8fd1",
   "metadata": {},
   "source": [
    "Say we want to look at the relationship between age and earnings (the `ahe` column which is the average hourly earnings). We would expect whether or not a person has a bachelor's degree to be a confounding variable as those with a bachelor's degree typically earn more than those with only a high school degree. This is how we would do multiple linear regression:"
   ]
  },
  {
   "cell_type": "code",
   "execution_count": null,
   "id": "7ead0f9c",
   "metadata": {},
   "outputs": [],
   "source": [
    "x_2 = cps.select(\"bachelor\", \"age\").values # This is how we include multiple independent variables in our model\n",
    "y_2 = cps.column(\"ahe\")\n",
    "model_2 = sm.OLS(y_2, sm.add_constant(x_2))\n",
    "result_2 = model_2.fit()\n",
    "result_2.summary()"
   ]
  },
  {
   "cell_type": "markdown",
   "id": "8a0da5c5",
   "metadata": {},
   "source": [
    "## Dummy Variables\n",
    "\n",
    "One type of variable commonly used in econometrics are dummy variables. These are variables that take a value of either 0 or 1 to indicate the presence of absence of a category. For example, take col: it takes the value of 1 to indicate that a person went to college and 0 to indicate that a person didn't go to college.\n",
    "\n",
    "Let's do a regression of `ahe` on only `bachelor` (the dummy variable)."
   ]
  },
  {
   "cell_type": "code",
   "execution_count": null,
   "id": "572ebfdb",
   "metadata": {},
   "outputs": [],
   "source": [
    "x_3 = cps.select(\"bachelor\").values\n",
    "y_3 = cps.column(\"ahe\")\n",
    "model_3 = sm.OLS(y_3, sm.add_constant(x_3))\n",
    "result_3 = model_3.fit()\n",
    "result_3.summary()"
   ]
  },
  {
   "cell_type": "markdown",
   "id": "3ead27b0",
   "metadata": {},
   "source": [
    "The coefficient (or slope) on `bachelor` is this:"
   ]
  },
  {
   "cell_type": "code",
   "execution_count": null,
   "id": "850735f6",
   "metadata": {},
   "outputs": [],
   "source": [
    "result_3.params[1]"
   ]
  },
  {
   "cell_type": "markdown",
   "id": "a1c337ed",
   "metadata": {},
   "source": [
    "This means that the people in our sample with a bachelor's degree earn around $6.583 more per hour than those with only a high school degree.\n",
    "\n",
    "An interesting fact about dummy variables is that we can calculate this coefficient another way:"
   ]
  },
  {
   "cell_type": "code",
   "execution_count": null,
   "id": "c01bc17e",
   "metadata": {},
   "outputs": [],
   "source": [
    "# Filter for bachelor = 1 and find mean earnings\n",
    "b_1_mean = np.mean(cps.where(\"bachelor\", 1).column(\"ahe\"))\n",
    "\n",
    "# Filter for bachelor = 0 and find mean earnings\n",
    "b_0_mean = np.mean(cps.where(\"bachelor\", 0).column(\"ahe\"))\n",
    "\n",
    "# Take the difference in the mean earnings\n",
    "diff = b_1_mean - b_0_mean\n",
    "diff"
   ]
  },
  {
   "cell_type": "code",
   "execution_count": null,
   "id": "852c04b3",
   "metadata": {},
   "outputs": [],
   "source": [
    "np.round(result_3.params[1], 5) == np.round(diff, 5)"
   ]
  },
  {
   "cell_type": "markdown",
   "id": "d66f24fc",
   "metadata": {},
   "source": [
    "These two values are pretty much the same! This is because the coefficient on a dummy x-variable is just equal to the difference of the mean of the y-variable when x = 1 and x = 0."
   ]
  },
  {
   "cell_type": "markdown",
   "id": "2bfa9074",
   "metadata": {},
   "source": [
    "### `pd.get_dummies()`\n",
    "\n",
    "We can convert categorical variables in our dataset to dummy variables using the pd.get_dummies() function. This function gives you a table showing the presence or absence of dummy variables for that category for each observation in the dataset. Here's an example of converting the year values to dummies. 1 indicates that the person was surveyed in that year (e.g. the first 4 people in the dataset were surveyed in 1992 according to the table below)."
   ]
  },
  {
   "cell_type": "code",
   "execution_count": null,
   "id": "11c82784",
   "metadata": {},
   "outputs": [],
   "source": [
    "year = cps.column(\"year\")\n",
    "np.unique(year)"
   ]
  },
  {
   "cell_type": "code",
   "execution_count": null,
   "id": "7ba97a2c",
   "metadata": {},
   "outputs": [],
   "source": [
    "year_dummies = pd.get_dummies(year)\n",
    "year_dummies.head()"
   ]
  },
  {
   "cell_type": "markdown",
   "id": "7fed4f0b",
   "metadata": {},
   "source": [
    "Let's do the same for the age variable. Take the first row as an example: since 1 is under 29, it means that that person is 29 years old."
   ]
  },
  {
   "cell_type": "code",
   "execution_count": null,
   "id": "d6cdbd15",
   "metadata": {},
   "outputs": [],
   "source": [
    "age = cps.column(\"age\")\n",
    "np.unique(age)"
   ]
  },
  {
   "cell_type": "code",
   "execution_count": null,
   "id": "399e0739",
   "metadata": {},
   "outputs": [],
   "source": [
    "age_dummies = pd.get_dummies(age)\n",
    "age_dummies.head()"
   ]
  },
  {
   "cell_type": "markdown",
   "id": "9eb4c5cc",
   "metadata": {},
   "source": [
    "### Dummy Variable Trap\n",
    "\n",
    "One problem you may run into when using dummy variables is called the dummy variable trap. This happens when you include variables for all the values of the dummy variable: for example, you include col, which takes on a value of 1 if the person went to college, as well as notcol, which takes on a value of 1 if the person didn't go to college.\n",
    "\n",
    "This causes redundancy as you can express one independent variable as a linear combination of another independent variable. In this case:\n",
    "\n",
    "$$ notcol = 1 - col$$\n",
    "\n",
    "This means that there is a perfect correlation between these two independent variables which reuslts in perfect multicollinearity. In general, multicollinearity occurs any time there is a high correlation between the independent variables in your model. It causes your regression estimates to be highly inaccurate.\n",
    "\n",
    "Let's see what happens in Python when multicollinearity happens:"
   ]
  },
  {
   "cell_type": "code",
   "execution_count": null,
   "id": "d5823b35",
   "metadata": {},
   "outputs": [],
   "source": [
    "year_dummies[\"ahe\"] = np.array(cps.column(\"ahe\"))\n",
    "year_dummies.head()"
   ]
  },
  {
   "cell_type": "code",
   "execution_count": null,
   "id": "27e7518a",
   "metadata": {},
   "outputs": [],
   "source": [
    "x_3 = year_dummies[[1992, 2008]] # We are including dummy variables for each value of year\n",
    "y_3 = year_dummies[\"ahe\"]\n",
    "model_3 = sm.OLS(y_3, sm.add_constant(x_3))\n",
    "result_3 = model_3.fit()\n",
    "result_3.summary()"
   ]
  },
  {
   "cell_type": "markdown",
   "id": "36ad78d3",
   "metadata": {},
   "source": [
    "Python detected the multicollinearity and gave you a warning. A solution is to just drop one of the dummy variables."
   ]
  },
  {
   "cell_type": "code",
   "execution_count": null,
   "id": "e3b4b39a-a3d6-491b-a514-8f0bb827ce19",
   "metadata": {},
   "outputs": [],
   "source": []
  }
 ],
 "metadata": {
  "kernelspec": {
   "display_name": "Python 3 (ipykernel)",
   "language": "python",
   "name": "python3"
  },
  "language_info": {
   "codemirror_mode": {
    "name": "ipython",
    "version": 3
   },
   "file_extension": ".py",
   "mimetype": "text/x-python",
   "name": "python",
   "nbconvert_exporter": "python",
   "pygments_lexer": "ipython3",
   "version": "3.8.15"
  }
 },
 "nbformat": 4,
 "nbformat_minor": 5
}
