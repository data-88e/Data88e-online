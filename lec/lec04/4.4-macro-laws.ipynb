{
 "cells": [
  {
   "cell_type": "markdown",
   "metadata": {
    "cell_id": "00000-fbc1280d-78ce-4c4a-a437-d0b2c85f32a1",
    "deepnote_cell_type": "markdown",
    "tags": []
   },
   "source": [
    "<table style=\"width: 100%;\" id=\"nb-header\">\n",
    "    <tr style=\"background-color: transparent;\"><td>\n",
    "        <img src=\"https://data-88e.github.io/assets/images/blue_text.png\" width=\"250px\" style=\"margin-left: 0;\" />\n",
    "    </td><td>\n",
    "        <p style=\"text-align: right; font-size: 10pt;\"><strong>Economic Models</strong>, EdX<br>\n",
    "            Dr. Eric Van Dusen <br>\n",
    "        Akhil Venkatesh <br>\n",
    "</table>"
   ]
  },
  {
   "cell_type": "markdown",
   "metadata": {
    "cell_id": "00001-311d4cd6-e221-4f0b-aa4f-ae28b4cd0708",
    "deepnote_cell_type": "markdown",
    "tags": []
   },
   "source": [
    "# Lecture 4.4: Macroeconomics Laws"
   ]
  },
  {
   "cell_type": "code",
   "execution_count": null,
   "metadata": {
    "cell_id": "00000-45c93090-e487-4ff0-bb52-350d099bea59",
    "deepnote_cell_type": "code",
    "deepnote_to_be_reexecuted": false,
    "execution_millis": 130,
    "execution_start": 1617004432781,
    "source_hash": "94d23af7",
    "tags": []
   },
   "outputs": [],
   "source": [
    "import pandas as pd\n",
    "import numpy as np\n",
    "import matplotlib.pyplot as plt\n",
    "from datascience import * \n",
    "from ipywidgets import interact, interactive, fixed, interact_manual\n",
    "import ipywidgets as widgets\n",
    "from scipy.optimize import curve_fit\n",
    "import math\n",
    "from math import *\n",
    "import seaborn as sns\n",
    "import itertools\n",
    "%matplotlib inline"
   ]
  },
  {
   "cell_type": "markdown",
   "metadata": {},
   "source": [
    "### Let's Start by reading in the Data from the previous lecture Notebook\n"
   ]
  },
  {
   "cell_type": "code",
   "execution_count": null,
   "metadata": {},
   "outputs": [],
   "source": [
    "macroeconomics=pd.read_csv('macroeconomics.csv')\n",
    "macroeconomics.head()"
   ]
  },
  {
   "cell_type": "code",
   "execution_count": null,
   "metadata": {},
   "outputs": [],
   "source": [
    "potential_gdp=pd.read_csv('potential_gdp.csv')\n",
    "potential_gdp"
   ]
  },
  {
   "cell_type": "markdown",
   "metadata": {},
   "source": [
    "## Phillips Curve\n",
    "Phillips Curve describes a negative relationship between inflation and unemployment. \n",
    "\n",
    "$$ \\pi = - f(u)$$\n",
    "\n",
    "where $\\pi$ is the inflation rate, $u$ is the unemployment rate. "
   ]
  },
  {
   "cell_type": "markdown",
   "metadata": {},
   "source": [
    "**Let's first create a dataframe with relevant data, i.e. inflation rate and unemployment rate.**"
   ]
  },
  {
   "cell_type": "code",
   "execution_count": null,
   "metadata": {},
   "outputs": [],
   "source": [
    "phillips_curve = macroeconomics[[\"DATE\", \"UNRATE_lin\", \"CPILFESL_pc1\", \"NROU_lin\"]].copy()\n",
    "phillips_curve[\"decade\"] = phillips_curve[\"DATE\"].apply(lambda date: int(date[:4]) // 10 * 10)\n",
    "phillips_curve.set_index(\"DATE\", inplace=True)\n",
    "phillips_curve = phillips_curve.apply(pd.to_numeric)\n",
    "phillips_curve.head()"
   ]
  },
  {
   "cell_type": "markdown",
   "metadata": {},
   "source": [
    "Friendly note: you should not use this piece of code for your lab, because the dataframe is slightly different!"
   ]
  },
  {
   "cell_type": "markdown",
   "metadata": {},
   "source": [
    "### Empirical Relationship"
   ]
  },
  {
   "cell_type": "code",
   "execution_count": null,
   "metadata": {},
   "outputs": [],
   "source": [
    "plt.figure(figsize=(15, 10))\n",
    "plt.scatter(x=phillips_curve[\"UNRATE_lin\"], y=phillips_curve[\"CPILFESL_pc1\"])\n",
    "plt.xlabel(\"Unemployment\")\n",
    "plt.ylabel(\"Core Inflation\")\n",
    "plt.show()"
   ]
  },
  {
   "cell_type": "markdown",
   "metadata": {},
   "source": [
    "**Now we will try a fit a curve to the empirical data of unemployment and core inflation.** "
   ]
  },
  {
   "cell_type": "code",
   "execution_count": null,
   "metadata": {},
   "outputs": [],
   "source": [
    "unique_vals = pd.DataFrame([[k,v.values] for k,v in phillips_curve.groupby('UNRATE_lin').groups.items()], \n",
    "                      columns=['UNRATE_lin','indices'])\n",
    "unique_vals[\"indices\"] = unique_vals[\"indices\"].apply(lambda item: item[0])\n",
    "unique_vals[\"CPILFESL_pc1\"] = unique_vals[\"indices\"].apply(lambda item: phillips_curve.loc[item, \"CPILFESL_pc1\"])\n",
    "unique_vals[\"NROU_lin\"] = unique_vals[\"indices\"].apply(lambda item: phillips_curve.loc[item, \"NROU_lin\"])\n",
    "unique_vals[\"decade\"] = unique_vals[\"indices\"].apply(lambda item: phillips_curve.loc[item, \"decade\"])\n",
    "unique_vals.set_index(\"indices\", inplace=True)\n",
    "unique_vals.head()"
   ]
  },
  {
   "cell_type": "code",
   "execution_count": null,
   "metadata": {},
   "outputs": [],
   "source": [
    "def aesthetic_pc(x, a):\n",
    "    return a / x"
   ]
  },
  {
   "cell_type": "code",
   "execution_count": null,
   "metadata": {},
   "outputs": [],
   "source": [
    "popt, _ = curve_fit(aesthetic_pc, unique_vals[\"UNRATE_lin\"], unique_vals[\"CPILFESL_pc1\"])"
   ]
  },
  {
   "cell_type": "code",
   "execution_count": null,
   "metadata": {},
   "outputs": [],
   "source": [
    "plt.figure(figsize=(15, 10))\n",
    "plt.plot(unique_vals[\"UNRATE_lin\"], aesthetic_pc(unique_vals[\"UNRATE_lin\"], *popt), color=\"red\")\n",
    "plt.scatter(x=phillips_curve[\"UNRATE_lin\"], y=phillips_curve[\"CPILFESL_pc1\"])\n",
    "plt.xlabel(\"Unemployment\")\n",
    "plt.ylabel(\"Core Inflation\")\n",
    "plt.title(\"Phillips Curve\", fontsize=16)\n",
    "plt.show()"
   ]
  },
  {
   "cell_type": "markdown",
   "metadata": {},
   "source": [
    "### Empirical Relationship Overtime\n",
    "How does the empirical Phillips Curve change over time?"
   ]
  },
  {
   "cell_type": "code",
   "execution_count": null,
   "metadata": {},
   "outputs": [],
   "source": [
    "plt.figure(figsize=(15, 10))\n",
    "sns.scatterplot(x=\"UNRATE_lin\", y=\"CPILFESL_pc1\", data=phillips_curve, \n",
    "                hue=\"decade\", palette=\"bright\", alpha=0.75)\n",
    "plt.xlabel(\"Unemployment\")\n",
    "plt.ylabel(\"Core Inflation\")\n",
    "plt.show()"
   ]
  },
  {
   "cell_type": "markdown",
   "metadata": {},
   "source": [
    "To show this more clearly, try toggling the widgets!"
   ]
  },
  {
   "cell_type": "code",
   "execution_count": null,
   "metadata": {},
   "outputs": [],
   "source": [
    "def plot_subset(start, length):\n",
    "    start_str = str(start) + \"-01-01\"\n",
    "    end_str = str(start + length) + \"-01-01\"\n",
    "    \n",
    "    subset = phillips_curve[(phillips_curve.index >= start_str) & (phillips_curve.index <= end_str)]\n",
    "    \n",
    "    plt.figure(figsize=(12, 8))\n",
    "    plt.scatter(subset[\"UNRATE_lin\"], subset[\"CPILFESL_pc1\"])\n",
    "    plt.xlim(3, 10)\n",
    "    plt.ylim(0, 12)\n",
    "    plt.xlabel(\"Unemployment Rate\", fontsize=16)\n",
    "    plt.ylabel(\"Inflation Rate\", fontsize=16)\n",
    "    plt.title(f\"Time Period: {start} - {start + length}\", fontsize=16)\n",
    "\n",
    "l = widgets.RadioButtons(\n",
    "    options=[5, 10, 20],\n",
    "    value=5,\n",
    "    description='Length:',\n",
    "    disabled=False\n",
    ")\n",
    "s = widgets.IntSlider(min=1960, max=2020-l.value, step=2)\n",
    "\n",
    "interact(plot_subset, start=s, length=l);"
   ]
  },
  {
   "cell_type": "markdown",
   "metadata": {},
   "source": [
    "<div class=\"alert alert-info\">\n",
    "<b> What do you notice about the relationship between unemployment and inflation over time?\n",
    "</div>"
   ]
  },
  {
   "cell_type": "markdown",
   "metadata": {},
   "source": [
    "---"
   ]
  },
  {
   "cell_type": "code",
   "execution_count": null,
   "metadata": {},
   "outputs": [],
   "source": []
  },
  {
   "cell_type": "code",
   "execution_count": null,
   "metadata": {},
   "outputs": [],
   "source": []
  }
 ],
 "metadata": {
  "deepnote": {},
  "deepnote_execution_queue": [],
  "deepnote_notebook_id": "59984a21-9207-47a0-80d4-a0f6e905e666",
  "kernelspec": {
   "display_name": "Python 3 (ipykernel)",
   "language": "python",
   "name": "python3"
  },
  "language_info": {
   "codemirror_mode": {
    "name": "ipython",
    "version": 3
   },
   "file_extension": ".py",
   "mimetype": "text/x-python",
   "name": "python",
   "nbconvert_exporter": "python",
   "pygments_lexer": "ipython3",
   "version": "3.8.15"
  }
 },
 "nbformat": 4,
 "nbformat_minor": 4
}
