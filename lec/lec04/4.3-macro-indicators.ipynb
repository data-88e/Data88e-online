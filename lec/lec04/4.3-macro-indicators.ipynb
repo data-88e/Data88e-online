{
 "cells": [
  {
   "cell_type": "markdown",
   "metadata": {
    "cell_id": "00000-fbc1280d-78ce-4c4a-a437-d0b2c85f32a1",
    "deepnote_cell_type": "markdown",
    "tags": []
   },
   "source": [
    "<table style=\"width: 100%;\" id=\"nb-header\">\n",
    "    <tr style=\"background-color: transparent;\"><td>\n",
    "        <img src=\"https://data-88e.github.io/assets/images/blue_text.png\" width=\"250px\" style=\"margin-left: 0;\" />\n",
    "    </td><td>\n",
    "        <p style=\"text-align: right; font-size: 10pt;\"><strong>Economic Models</strong>, EdX<br>\n",
    "            Dr. Eric Van Dusen <br>\n",
    "            Alan Liang <br> \n",
    "            Umar Maniku <br> \n",
    "            Matthew Yep <br> \n",
    "            Yiyang Chen <br> \n",
    "            Bennett Somerville <br>\n",
    "        Akhil Venkatesh <br>\n",
    "</table>"
   ]
  },
  {
   "cell_type": "markdown",
   "metadata": {
    "cell_id": "00001-311d4cd6-e221-4f0b-aa4f-ae28b4cd0708",
    "deepnote_cell_type": "markdown",
    "tags": []
   },
   "source": [
    "# Lecture Notebook 4.3: Macroeconomic Indicators"
   ]
  },
  {
   "cell_type": "code",
   "execution_count": null,
   "metadata": {
    "cell_id": "00000-45c93090-e487-4ff0-bb52-350d099bea59",
    "deepnote_cell_type": "code",
    "deepnote_to_be_reexecuted": false,
    "execution_millis": 130,
    "execution_start": 1617004432781,
    "source_hash": "94d23af7",
    "tags": []
   },
   "outputs": [],
   "source": [
    "import pandas as pd\n",
    "import numpy as np\n",
    "import matplotlib.pyplot as plt\n",
    "from datascience import * \n",
    "from ipywidgets import interact, interactive, fixed, interact_manual\n",
    "import ipywidgets as widgets\n",
    "from scipy.optimize import curve_fit\n",
    "import math\n",
    "from math import *\n",
    "import seaborn as sns\n",
    "import itertools\n",
    "%matplotlib inline"
   ]
  },
  {
   "cell_type": "markdown",
   "metadata": {},
   "source": [
    "**Learning Objectives:**  \n",
    "In this notebook, we will download macroeconomic data and examine how the models and theories we discussed in lecture fit with these real life data. This notebook will introduce the basic concept of an API, the way to use it for economic research and study. "
   ]
  },
  {
   "cell_type": "markdown",
   "metadata": {},
   "source": [
    "## Macroeconomic Data and Fred API"
   ]
  },
  {
   "cell_type": "markdown",
   "metadata": {},
   "source": [
    "We will start by first download some macroeconomic data from FRED. In this notebook, we will introduce two ways of interacting with online sources of data with API (Application Programming Interface).  "
   ]
  },
  {
   "cell_type": "markdown",
   "metadata": {},
   "source": [
    "**What is an API?**  \n",
    "In contrast to a user interface, which connects a computer to a person, an application programming interface (API) connects computers or pieces of software to each other. It is not intended to be used directly by a person (the end user) other than a computer programmer who is incorporating it into the software. An API is often made up of different parts which act as tools or services that are available to the programmer. A program or a programmer that uses one of these parts is said to call that portion of the API. The calls that make up the API are also known as subroutines, methods, requests, or endpoints. An API specification defines these calls, meaning that it explains how to use or implement them. \n",
    "\n",
    "In basic terms, APIs just allow applications to communicate with one another. For the APIs we are concerned right now--web based APIs that return data in response to a request made by us--**they allow us to get data from outside sources by sending an API a request detailing the information we want. Then the API will \"respond\" with the requested data to us.**"
   ]
  },
  {
   "cell_type": "markdown",
   "metadata": {},
   "source": [
    "[What is an API](\"images/what_is_an_API.png\")\n",
    "\n",
    "\n",
    "\n",
    "#<img src=\"images/what_is_an_API.png\" alt=\"What is an API\" style=\"width:600px;height:200px;\">\n",
    "#<center>Source: Perry Eising, \"What exactly is an API?\"</center>"
   ]
  },
  {
   "cell_type": "markdown",
   "metadata": {},
   "source": [
    "### General Way of Interacting with an API"
   ]
  },
  {
   "cell_type": "markdown",
   "metadata": {},
   "source": [
    "First, we will use the most common way to access the data through an API without using any packages other may have already built for a particular site. Usually this is the way you would interact with an API.  "
   ]
  },
  {
   "cell_type": "markdown",
   "metadata": {},
   "source": [
    "#### Step 1: Get the API Key\n",
    "**In most cases, you will need to get an API key in order to access an API.** For many resources, it involves some paperwork to apply and/or limited free usage, so it is good practice to keep your API keys private as long as it is possible. In this lecture notebook, we will use macroeconomic data from FRED, which is one of the most famous and convenient sources of economic data. For FRED, the process of getting an API key is simple. Request the API key [here](https://fred.stlouisfed.org/docs/api/api_key.html). "
   ]
  },
  {
   "cell_type": "code",
   "execution_count": null,
   "metadata": {},
   "outputs": [],
   "source": [
    "# For demo purposes, we are leaving our API key here. You should always try to avoid this. \n",
    "api_key = \"dab081fe5e028d7fc65114e0c7f2cf6b\""
   ]
  },
  {
   "cell_type": "markdown",
   "metadata": {},
   "source": [
    "#### Step 2: Learn to use the API\n",
    "Using an API is like ordering food at a restaurant with a menu. To have a delicious meal, we have to know what food the restaurant offers, and any other additional information (for example, how would you like your steak). Similarly, it is very important for us to know what requests an API take through the API documentation. **The API documentation will inform us about how we can use specific instructions to obtain the data that we want, and what the returned data would look like.** Look up the Fred API's documentation [here](https://fred.stlouisfed.org/docs/api/fred/series_observations.html). \n"
   ]
  },
  {
   "cell_type": "markdown",
   "metadata": {},
   "source": [
    "<div class=\"alert alert-info\">\n",
    "<b> Example: \"api.stlouisfed.org/fred/series/observations?series_id=GNPCA&api_key=abcdefghijklmnopqrstuvwxyz123456\" <br>  \n",
    "  \n",
    "Endpoint: \"api.stlouisfed.org/fred/series/observations\"  <br>\n",
    "Parameters: series_id=GNPCA, api_key=abcdefghijklmnopqrstuvwxyz123456\n",
    "</div>"
   ]
  },
  {
   "cell_type": "markdown",
   "metadata": {},
   "source": [
    "Try the following link to see what the API will return!   \n",
    "\n",
    "https://api.stlouisfed.org/fred/series/observations?series_id=GNPCA&api_key=dab081fe5e028d7fc65114e0c7f2cf6b&file_type=json"
   ]
  },
  {
   "cell_type": "markdown",
   "metadata": {},
   "source": [
    "#### Step 3: Make the fetch\n",
    "Now we are ready to start writing code to fetch the data we want through the API. "
   ]
  },
  {
   "cell_type": "code",
   "execution_count": null,
   "metadata": {},
   "outputs": [],
   "source": [
    "import requests\n",
    "from urllib.parse import urlencode\n",
    "endpoint = \"https://api.stlouisfed.org/fred/series/observations\""
   ]
  },
  {
   "cell_type": "markdown",
   "metadata": {},
   "source": [
    "Parameters that we would like to include in our query (these can be found in the FRED API documentations!):  \n",
    "- \"series_id\": The Economic data series we want (e.g. GDP)\n",
    "- \"observation_start\": The earliest date we want our data to include\n",
    "- \"observation_end\": The latest date we want our data to include\n",
    "- \"frequency\": The frequency of observations (e.g. Annually, Quarterly, Monthly)\n",
    "- \"units\": The units of observations (e.g. plain numbers, percentage change from a year ago, etc.)\n",
    "- \"api_key\": The API key\n",
    "- \"file_type\": The file data that will returned from FRED (e.g. json, xml)"
   ]
  },
  {
   "cell_type": "code",
   "execution_count": null,
   "metadata": {},
   "outputs": [],
   "source": [
    "def fetch(series_id, unit=\"lin\"):\n",
    "    # specifies parameters\n",
    "    params = {\"series_id\": series_id, \n",
    "              \"observation_start\": \"1958-01-01\", \n",
    "              \"observation_end\": \"2021-10-01\",\n",
    "              \"frequency\": \"q\", # quarterly\n",
    "              \"units\": unit,\n",
    "              \"api_key\": api_key, \n",
    "              \"file_type\": \"json\"\n",
    "             }\n",
    "    \n",
    "    # forms API request\n",
    "    url_params = urlencode(params)\n",
    "    url = f\"{endpoint}?{url_params}\"\n",
    "    \n",
    "    # fires off the request\n",
    "    res = requests.get(url)\n",
    "    \n",
    "    # checks if the request encounters an error\n",
    "    if res.status_code not in range(200, 299):\n",
    "        raise Exception(f'Fetch request for \"{series_id}\" failed (Error: {res.status_code})')\n",
    "    \n",
    "    # return the content of the response\n",
    "    return res.json()"
   ]
  },
  {
   "cell_type": "markdown",
   "metadata": {},
   "source": [
    "Let's try downloading the real GDP data from Fred now. "
   ]
  },
  {
   "cell_type": "code",
   "execution_count": null,
   "metadata": {},
   "outputs": [],
   "source": [
    "res_json_GDP = fetch(\"GDPC1\")\n",
    "#res_json_GDP"
   ]
  },
  {
   "cell_type": "code",
   "execution_count": null,
   "metadata": {},
   "outputs": [],
   "source": [
    "# process the response\n",
    "gdp = pd.DataFrame(res_json_GDP[\"observations\"])[[\"date\", \"value\"]]\n",
    "gdp.rename(columns={\"value\": \"GDP\"}, inplace=True)\n",
    "gdp.head()"
   ]
  },
  {
   "cell_type": "markdown",
   "metadata": {},
   "source": [
    "**Congratulations! We have just made our first request to Fred API and obtain some useful data.**  "
   ]
  },
  {
   "cell_type": "markdown",
   "metadata": {},
   "source": [
    "Now let's try download more macroeconomic indicators."
   ]
  },
  {
   "cell_type": "code",
   "execution_count": null,
   "metadata": {},
   "outputs": [],
   "source": [
    "# this function allows us to fetch and process the data together\n",
    "def fetch_and_process(series_id, unit=\"lin\"):\n",
    "    res_json = fetch(series_id, unit)\n",
    "    return pd.DataFrame(res_json[\"observations\"])[[\"date\", \"value\"]].rename(columns={\"date\":\"DATE\", \"value\": f\"{series_id}_{unit}\"})"
   ]
  },
  {
   "cell_type": "code",
   "execution_count": null,
   "metadata": {},
   "outputs": [],
   "source": [
    "gdp = fetch_and_process(\"GDPC1\")\n",
    "gdp_growth = fetch_and_process(\"GDPC1\", \"pc1\")\n",
    "inflation = fetch_and_process(\"CPIAUCSL\", \"pc1\")\n",
    "unemployment = fetch_and_process(\"UNRATE\")\n",
    "ffr = fetch_and_process(\"DFF\")\n",
    "nrou = fetch_and_process(\"NROU\")\n",
    "core_inflation = fetch_and_process(\"CPILFESL\", \"pc1\")"
   ]
  },
  {
   "cell_type": "code",
   "execution_count": null,
   "metadata": {},
   "outputs": [],
   "source": [
    "gdp_growth.head()"
   ]
  },
  {
   "cell_type": "code",
   "execution_count": null,
   "metadata": {},
   "outputs": [],
   "source": []
  },
  {
   "cell_type": "markdown",
   "metadata": {},
   "source": [
    "### Site-Specific Prebuilt Packages"
   ]
  },
  {
   "cell_type": "markdown",
   "metadata": {},
   "source": [
    "Now we will switch gears to use some prebuilt packages to access FRED API. Notice that the prebuilt packages are not necessarily available for every API. But here we will use the \"FredAPI\" package developed by Mortada Mehyar. Documentation [here](https://github.com/mortada/fredapi). "
   ]
  },
  {
   "cell_type": "code",
   "execution_count": null,
   "metadata": {},
   "outputs": [],
   "source": [
    "# may need to install the package and its dependencies\n",
    "from fredapi import Fred\n",
    "fred = Fred(api_key=api_key)\n",
    "GDP_fredapi = pd.DataFrame(fred.get_series('GDP'))\n",
    "GDP_fredapi.head(10)"
   ]
  },
  {
   "cell_type": "markdown",
   "metadata": {},
   "source": [
    "You will get more practice with FREDAPI package in the lab!"
   ]
  },
  {
   "cell_type": "markdown",
   "metadata": {},
   "source": [
    "### Other Methods\n",
    "Some sites also provides a client to access their APIs with ease. "
   ]
  },
  {
   "cell_type": "code",
   "execution_count": null,
   "metadata": {},
   "outputs": [],
   "source": []
  },
  {
   "cell_type": "markdown",
   "metadata": {},
   "source": [
    "## Macroeconomic Indicators and Data"
   ]
  },
  {
   "cell_type": "markdown",
   "metadata": {},
   "source": [
    "**Now we're off to use the data we have just got!**"
   ]
  },
  {
   "cell_type": "code",
   "execution_count": null,
   "metadata": {
    "cell_id": "00001-9ceaa9f4-af32-44c4-9c6d-ca5a6afbd662",
    "deepnote_cell_type": "code",
    "deepnote_to_be_reexecuted": false,
    "execution_millis": 311,
    "execution_start": 1617004432921,
    "source_hash": "1b8f5617",
    "tags": []
   },
   "outputs": [],
   "source": [
    "# we will also read in some additional data\n",
    "deficit = pd.read_csv(\"deficit_over_time.csv\")\n",
    "potential_gdp = pd.read_csv(\"potential_gdp.csv\")\n",
    "unemployment_gap = pd.read_csv(\"nrou.csv\")\n",
    "core_inflation[\"CPILFESL_pc1\"] = core_inflation[\"CPILFESL_pc1\"].apply(lambda item: np.round(float(item), 2))\n",
    "\n",
    "# merge all macroeconomic data we have got!\n",
    "macroeconomics = gdp.merge(gdp_growth)\\\n",
    "                    .merge(inflation)\\\n",
    "                    .merge(unemployment)\\\n",
    "                    .merge(ffr)\\\n",
    "                    .merge(core_inflation)\\\n",
    "                    .merge(unemployment_gap)\\\n",
    "\n",
    "macroeconomics = macroeconomics.set_index(\"DATE\").apply(pd.to_numeric).reset_index(\"DATE\")\n",
    "\n",
    "potential_gdp = potential_gdp[potential_gdp[\"DATE\"] <= max(macroeconomics[\"DATE\"])]"
   ]
  },
  {
   "cell_type": "code",
   "execution_count": null,
   "metadata": {
    "cell_id": "00005-9fcd8932-1afe-4c20-a6aa-47c27a849285",
    "deepnote_cell_type": "code",
    "deepnote_to_be_reexecuted": false,
    "execution_millis": 83,
    "execution_start": 1617004435015,
    "source_hash": "db63cab6",
    "tags": []
   },
   "outputs": [],
   "source": [
    "macroeconomics.head()"
   ]
  },
  {
   "cell_type": "markdown",
   "metadata": {},
   "source": [
    "---"
   ]
  },
  {
   "cell_type": "markdown",
   "metadata": {
    "cell_id": "00002-098b381e-d2e1-4675-8315-94c19a8e145c",
    "deepnote_cell_type": "markdown"
   },
   "source": [
    "### Macroeconomics Indicators and their Time Series\n",
    "In this section, we will see how the value of each macroeconomic indicator varied from 1958 to present. "
   ]
  },
  {
   "cell_type": "code",
   "execution_count": null,
   "metadata": {},
   "outputs": [],
   "source": [
    "series_names = {\"GDPC1_lin\": \"GDP\", \n",
    "               \"GDPC1_pc1\": \"GDP Growth\", \n",
    "               \"CPIAUCSL_pc1\": \"Inflation\", \n",
    "               \"UNRATE_lin\": \"Unemployment Rate\", \n",
    "               \"DFF_lin\": \"Fed Funds Rate\", \n",
    "               \"CPILFESL_pc1\": \"Core Inflation Rate\", \n",
    "               \"NROU\": \"Noncyclical Rate of Unemployment\" # aka NAIRU, Natural Rate of Unemployment (Long-term)\n",
    "              }\n",
    "\n",
    "# generate a time series plot for \"series\"\n",
    "def plot_time_series(data, series, title=\"1958 to present\", figsize=(14, 8)):\n",
    "    \n",
    "    plt.figure(figsize=figsize)\n",
    "    \n",
    "    plt.plot(data[\"DATE\"], data[series])\n",
    "    \n",
    "    # plot a horizontal line at zero if the variable is in percent\n",
    "    if (\"pc1\" in series):\n",
    "        plt.axhline(y=0, color='black', linestyle='-.')\n",
    "    \n",
    "    plt.xticks(data.index[np.arange(0, data.shape[0], 16)], rotation=45)\n",
    "    plt.grid(visible=True)\n",
    "    \n",
    "    plt.xlabel(\"DATE\")\n",
    "    plt.ylabel(series)\n",
    "    plt.title(f\"{series_names[series]}: {title}\", fontsize=16)"
   ]
  },
  {
   "cell_type": "markdown",
   "metadata": {},
   "source": [
    "#### GDP"
   ]
  },
  {
   "cell_type": "code",
   "execution_count": null,
   "metadata": {},
   "outputs": [],
   "source": [
    "plot_time_series(macroeconomics, \"GDPC1_lin\")"
   ]
  },
  {
   "cell_type": "markdown",
   "metadata": {},
   "source": [
    "#### GDP Growth"
   ]
  },
  {
   "cell_type": "code",
   "execution_count": null,
   "metadata": {},
   "outputs": [],
   "source": [
    "plot_time_series(macroeconomics, \"GDPC1_pc1\")"
   ]
  },
  {
   "cell_type": "markdown",
   "metadata": {},
   "source": [
    "#### Inflation Rate"
   ]
  },
  {
   "cell_type": "code",
   "execution_count": null,
   "metadata": {},
   "outputs": [],
   "source": [
    "plot_time_series(macroeconomics, \"CPIAUCSL_pc1\")"
   ]
  },
  {
   "cell_type": "markdown",
   "metadata": {},
   "source": [
    "#### Core Inflation Rate"
   ]
  },
  {
   "cell_type": "code",
   "execution_count": null,
   "metadata": {},
   "outputs": [],
   "source": [
    "plot_time_series(macroeconomics, \"CPILFESL_pc1\")"
   ]
  },
  {
   "cell_type": "markdown",
   "metadata": {},
   "source": [
    "#### Unemployment Rate"
   ]
  },
  {
   "cell_type": "code",
   "execution_count": null,
   "metadata": {},
   "outputs": [],
   "source": [
    "plot_time_series(macroeconomics, \"UNRATE_lin\")"
   ]
  },
  {
   "cell_type": "markdown",
   "metadata": {},
   "source": [
    "#### Fed Funds Rate"
   ]
  },
  {
   "cell_type": "code",
   "execution_count": null,
   "metadata": {},
   "outputs": [],
   "source": [
    "plot_time_series(macroeconomics, \"DFF_lin\")"
   ]
  },
  {
   "cell_type": "markdown",
   "metadata": {},
   "source": [
    "#### Noncyclical Rate of Unemployment"
   ]
  },
  {
   "cell_type": "code",
   "execution_count": null,
   "metadata": {},
   "outputs": [],
   "source": [
    "plot_time_series(macroeconomics, \"NROU\")"
   ]
  },
  {
   "cell_type": "markdown",
   "metadata": {},
   "source": [
    "What interesting pattern do you notice?"
   ]
  }
 ],
 "metadata": {
  "deepnote": {},
  "deepnote_execution_queue": [],
  "deepnote_notebook_id": "59984a21-9207-47a0-80d4-a0f6e905e666",
  "kernelspec": {
   "display_name": "Python 3 (ipykernel)",
   "language": "python",
   "name": "python3"
  },
  "language_info": {
   "codemirror_mode": {
    "name": "ipython",
    "version": 3
   },
   "file_extension": ".py",
   "mimetype": "text/x-python",
   "name": "python",
   "nbconvert_exporter": "python",
   "pygments_lexer": "ipython3",
   "version": "3.8.15"
  }
 },
 "nbformat": 4,
 "nbformat_minor": 4
}
