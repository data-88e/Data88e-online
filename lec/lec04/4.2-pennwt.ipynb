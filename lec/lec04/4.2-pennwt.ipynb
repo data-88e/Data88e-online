{
 "cells": [
  {
   "cell_type": "markdown",
   "metadata": {},
   "source": [
    "<table style=\"width: 100%;\" id=\"nb-header\">\n",
    "    <tr style=\"background-color: transparent;\"><td>\n",
    "        <img src=\"https://data-88e.github.io/assets/images/blue_text.png\" width=\"250px\" style=\"margin-left: 0;\" />\n",
    "    </td><td>\n",
    "        <p style=\"text-align: right; font-size: 10pt;\"><strong>Economic Models</strong>, EdX<br>\n",
    "            Dr. Eric Van Dusen <br>\n",
    "        Akhil Venkatesh <br>\n",
    "</table>"
   ]
  },
  {
   "cell_type": "markdown",
   "metadata": {},
   "source": [
    "# Lecture Notebook 4.2: Cobb-Douglas Regression and Penn World Tables"
   ]
  },
  {
   "cell_type": "markdown",
   "metadata": {},
   "source": [
    "The following code is in Pandas - a more advanced data science library you are not required to know.  \n",
    "Just understanding the outputs of the following cells should be good!"
   ]
  },
  {
   "cell_type": "code",
   "execution_count": null,
   "metadata": {},
   "outputs": [],
   "source": [
    "import pandas as pd\n",
    "import numpy as np\n",
    "import matplotlib.pyplot as plt\n",
    "import scipy.stats"
   ]
  },
  {
   "cell_type": "code",
   "execution_count": null,
   "metadata": {},
   "outputs": [],
   "source": [
    "pwt = pd.read_excel('pwt100.xls', sheet_name='Data')\n",
    "pwt"
   ]
  },
  {
   "cell_type": "code",
   "execution_count": null,
   "metadata": {},
   "outputs": [],
   "source": [
    "pwt['countrycode'].unique()"
   ]
  },
  {
   "cell_type": "code",
   "execution_count": null,
   "metadata": {},
   "outputs": [],
   "source": [
    "#Graphs of ln(Y/L) vs ln(K/L)\n",
    "def graph_cobbs(ccodes, begin_date, end_date):\n",
    "    for ccode in ccodes:\n",
    "        first = pwt.loc[pwt[\"countrycode\"] == ccode]\n",
    "        second = first[ (first['year'] >= begin_date) & (first['year'] <= end_date) ]\n",
    "        third = {}\n",
    "        third['Y'] = second['cgdpe'] / second['cgdpe'].iloc[0]\n",
    "        third['K'] = second['cn'] / second['cn'].iloc[0]\n",
    "        third['L'] = second['emp'] / second['emp'].iloc[0]\n",
    "        third['YL'] = third['Y'] /third['L']\n",
    "        third['KL'] = third['K'] /third['L']\n",
    "        third['lnYL'] = np.log(third['YL'])\n",
    "        third['lnKL'] = np.log(third['KL'])\n",
    "        third = pd.DataFrame(third)\n",
    "        third = third.dropna()\n",
    "        if(len(third)>0):\n",
    "            f = plt.figure()\n",
    "            ax = f.add_subplot(111)\n",
    "            ax.scatter(third['lnKL'], third['lnYL'], label='')\n",
    "            m, b, r_value, p_value, std_err = scipy.stats.linregress(third['lnKL'], third['lnYL'])\n",
    "            ax.plot(third['lnKL'], m*third['lnKL'] + b, label='y = %.4f x + %.4f \\n$R^2$ = %.4f' %(m, b, r_value**2))\n",
    "            ax.legend()\n",
    "            ax.set_xlabel('ln(K/L)')\n",
    "            ax.set_ylabel('ln(Y/L)')\n",
    "            plt.grid()\n",
    "            ax.set_title(second['country'].iloc[0] + ' (' + ccode + '): '+ str(begin_date) + ' to '+ str(end_date))\n",
    "            ax.text(0.0, 0.0, \"Data Source: Penn World Tables\", color='blue', fontstyle='italic', transform=f.transFigure)\n",
    "            plt.savefig('Cobb-Douglas-' + ccode + '.png')\n",
    "            plt.show()"
   ]
  },
  {
   "cell_type": "code",
   "execution_count": null,
   "metadata": {},
   "outputs": [],
   "source": [
    "ccodes =['NER','SDN', 'IND', 'CHN', 'NOR', 'USA']\n",
    "graph_cobbs(ccodes, 1994, 2017)"
   ]
  },
  {
   "cell_type": "markdown",
   "metadata": {},
   "source": [
    "The coefficient of $x$ represents the relative impact of capital ($K$) on GDP ($Y$). Here is a brief refresher on $\\alpha$ and the log form of the Cobb Douglas equation (seen above):\n",
    "$$\\ln{\\frac{Y}{L}} = \\alpha \\ln{\\frac{K}{L}} + A$$\n",
    "$$e^{\\ln{\\frac{Y}{L}}} = e^{\\alpha \\ln{\\frac{K}{L}} + A}$$\n",
    "$$\\frac{Y}{L} =  (\\frac{K}{L})^{\\alpha} * e^{A}$$\n",
    "$$ Y = A K^{\\alpha} L^{1 - \\alpha}$$"
   ]
  },
  {
   "cell_type": "code",
   "execution_count": null,
   "metadata": {},
   "outputs": [],
   "source": [
    "graph_cobbs(['RUS'], 1994, 2017)\n",
    "graph_cobbs(['RUS'], 2003, 2017)"
   ]
  },
  {
   "cell_type": "code",
   "execution_count": null,
   "metadata": {},
   "outputs": [],
   "source": [
    "#Graphs of Y and K vs time\n",
    "begin_date = 1994\n",
    "end_date = 2017\n",
    "ccodes = pwt.countrycode.unique().tolist()\n",
    "ccodes =['ZWE', 'RUS', 'CHN', 'VEN']\n",
    "for ccode in ccodes:\n",
    "    first = pwt.loc[pwt[\"countrycode\"] == ccode]\n",
    "    second = first[ (first['year'] >= begin_date) & (first['year'] <= end_date) ]\n",
    "    third = {}\n",
    "    third['year'] = second['year']\n",
    "    third['Y'] = second['cgdpe'] / second['cgdpe'].iloc[0]\n",
    "    third['K'] = second['cn'] / second['cn'].iloc[0]\n",
    "    third['L'] = second['emp'] / second['emp'].iloc[0]\n",
    "    third['YL'] = third['Y'] /third['L']\n",
    "    third['KL'] = third['K'] /third['L']\n",
    "    third['lnYL'] = np.log(third['YL'])\n",
    "    third['lnKL'] = np.log(third['KL'])\n",
    "    third = pd.DataFrame(third)\n",
    "    third = third.dropna()\n",
    "    if(len(third)>0):\n",
    "        f = plt.figure(figsize=(10,6))\n",
    "        ax = f.add_subplot(111)\n",
    "        ax.scatter(third['year'], third['Y'], label='')\n",
    "        m_y, b_y, r_value_y, p_value_y, std_err_y = scipy.stats.linregress(third['year'], third['Y'])\n",
    "        ax.plot(third['year'], m_y*third['year'] + b_y, label='Y = %.4f x + %.4f \\n$R^2$ = %.4f' %(m_y, b_y, r_value_y**2))\n",
    "        ax.scatter(third['year'], third['K'], label='')\n",
    "        m_k, b_k, r_value_k, p_value_k, std_err_k = scipy.stats.linregress(third['year'], third['K'])\n",
    "        ax.plot(third['year'], m_k*third['year'] + b_k, label='K = %.4f x + %.4f \\n$R^2$ = %.4f' %(m_k, b_k, r_value_k**2))\n",
    "        ax.scatter(third['year'], third['L'], label='')\n",
    "        m_l, b_l, r_value_l, p_value_l, std_err_l = scipy.stats.linregress(third['year'], third['L'])\n",
    "        ax.plot(third['year'], m_l*third['year'] + b_l, label='L = %.4f x + %.4f \\n$R^2$ = %.4f' %(m_l, b_l, r_value_l**2))\n",
    "        ax.legend()\n",
    "        ax.set_xlabel('Year')\n",
    "        ax.set_ylabel('Y/K')\n",
    "        plt.grid()\n",
    "        ax.set_title(second['country'].iloc[0] + ' (' + ccode + '): '+ str(begin_date) + ' to '+ str(end_date))\n",
    "        ax.text(0.0, 0.0, \"Data Source: Penn World Tables\", color='blue', fontstyle='italic', transform=f.transFigure)\n",
    "        plt.savefig('Cobb-Douglas-' + ccode + '.png')\n",
    "        plt.show()"
   ]
  },
  {
   "cell_type": "code",
   "execution_count": null,
   "metadata": {},
   "outputs": [],
   "source": []
  }
 ],
 "metadata": {
  "kernelspec": {
   "display_name": "Python 3 (ipykernel)",
   "language": "python",
   "name": "python3"
  },
  "language_info": {
   "codemirror_mode": {
    "name": "ipython",
    "version": 3
   },
   "file_extension": ".py",
   "mimetype": "text/x-python",
   "name": "python",
   "nbconvert_exporter": "python",
   "pygments_lexer": "ipython3",
   "version": "3.8.15"
  }
 },
 "nbformat": 4,
 "nbformat_minor": 4
}
