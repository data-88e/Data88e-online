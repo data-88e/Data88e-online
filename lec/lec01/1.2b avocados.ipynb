{
 "cells": [
  {
   "cell_type": "code",
   "execution_count": 3,
   "metadata": {
    "slideshow": {
     "slide_type": "skip"
    },
    "tags": [
     "remove_cell"
    ]
   },
   "outputs": [],
   "source": [
    "# HIDDEN\n",
    "import numpy as np\n",
    "import pandas as pd\n",
    "import matplotlib.pyplot as plt\n",
    "import warnings\n",
    "warnings.simplefilter(\"ignore\")\n",
    "from matplotlib import patches\n",
    "from datascience import *\n",
    "%matplotlib inline\n",
    "from ipywidgets import interact, interactive, fixed\n",
    "import ipywidgets as widgets"
   ]
  },
  {
   "cell_type": "markdown",
   "metadata": {},
   "source": [
    "<table style=\"width: 100%;\" id=\"nb-header\">\n",
    "    <tr style=\"background-color: transparent;\"><td>\n",
    "        <img src=\"https://data-88e.github.io/assets/images/blue_text.png\" width=\"250px\" style=\"margin-left: 0;\" />\n",
    "    </td><td>\n",
    "        <p style=\"text-align: right; font-size: 10pt;\"><strong>Economic Models</strong>, EdX<br>\n",
    "            Dr. Eric Van Dusen <br>\n",
    "        Akhil Venkatesh <br>\n",
    "</table>"
   ]
  },
  {
   "cell_type": "markdown",
   "metadata": {
    "slideshow": {
     "slide_type": "slide"
    }
   },
   "source": [
    "# Lecture Notebook 2: Empirical Demand Curves\n",
    "\n",
    "*This deck largely mirrors parts 2-3 of the [demand chapter](https://data-88e.github.io/textbook/content/01-demand/index.html):*\n",
    "- *An Empirical Demand Curve*\n",
    "- *Log-log and Semi-log Demand Curves*"
   ]
  },
  {
   "cell_type": "markdown",
   "metadata": {
    "slideshow": {
     "slide_type": "subslide"
    }
   },
   "source": [
    "## Avocados\n",
    "\n",
    "Let's examine some historical data on non-organic avocado prices and sales volumes in San Francisco from 2015 to 2018. The original dataset is taken from Kaggle and can be found [here](https://www.kaggle.com/neuromusic/avocado-prices).\n"
   ]
  },
  {
   "cell_type": "code",
   "execution_count": 2,
   "metadata": {
    "slideshow": {
     "slide_type": "fragment"
    }
   },
   "outputs": [
    {
     "data": {
      "text/html": [
       "<table border=\"1\" class=\"dataframe\">\n",
       "    <thead>\n",
       "        <tr>\n",
       "            <th>Date</th> <th>Average Price</th> <th>Total Volume</th>\n",
       "        </tr>\n",
       "    </thead>\n",
       "    <tbody>\n",
       "        <tr>\n",
       "            <td>2015-12-27</td> <td>1.05         </td> <td>692206      </td>\n",
       "        </tr>\n",
       "        <tr>\n",
       "            <td>2015-12-20</td> <td>1.15         </td> <td>637091      </td>\n",
       "        </tr>\n",
       "        <tr>\n",
       "            <td>2015-12-13</td> <td>1.22         </td> <td>616016      </td>\n",
       "        </tr>\n",
       "        <tr>\n",
       "            <td>2015-12-06</td> <td>1.06         </td> <td>694982      </td>\n",
       "        </tr>\n",
       "        <tr>\n",
       "            <td>2015-11-29</td> <td>1.05         </td> <td>651639      </td>\n",
       "        </tr>\n",
       "        <tr>\n",
       "            <td>2015-11-22</td> <td>1.04         </td> <td>709444      </td>\n",
       "        </tr>\n",
       "        <tr>\n",
       "            <td>2015-11-15</td> <td>0.99         </td> <td>775849      </td>\n",
       "        </tr>\n",
       "        <tr>\n",
       "            <td>2015-11-08</td> <td>1.4          </td> <td>599884      </td>\n",
       "        </tr>\n",
       "        <tr>\n",
       "            <td>2015-11-01</td> <td>0.97         </td> <td>869927      </td>\n",
       "        </tr>\n",
       "        <tr>\n",
       "            <td>2015-10-25</td> <td>1.55         </td> <td>561342      </td>\n",
       "        </tr>\n",
       "    </tbody>\n",
       "</table>\n",
       "<p>... (159 rows omitted)</p>"
      ],
      "text/plain": [
       "Date       | Average Price | Total Volume\n",
       "2015-12-27 | 1.05          | 692206\n",
       "2015-12-20 | 1.15          | 637091\n",
       "2015-12-13 | 1.22          | 616016\n",
       "2015-12-06 | 1.06          | 694982\n",
       "2015-11-29 | 1.05          | 651639\n",
       "2015-11-22 | 1.04          | 709444\n",
       "2015-11-15 | 0.99          | 775849\n",
       "2015-11-08 | 1.4           | 599884\n",
       "2015-11-01 | 0.97          | 869927\n",
       "2015-10-25 | 1.55          | 561342\n",
       "... (159 rows omitted)"
      ]
     },
     "execution_count": 2,
     "metadata": {},
     "output_type": "execute_result"
    }
   ],
   "source": [
    "avocados = Table.read_table(\"avocados.csv\") # is it avocados or avocadoes?\n",
    "avocados"
   ]
  },
  {
   "cell_type": "markdown",
   "metadata": {
    "slideshow": {
     "slide_type": "slide"
    }
   },
   "source": [
    "## Visualizing the Relationship between Price and Quantity"
   ]
  },
  {
   "cell_type": "markdown",
   "metadata": {
    "slideshow": {
     "slide_type": "fragment"
    }
   },
   "source": [
    "We would expect to see a downward-sloping line between price and quantity; if a product's price increases, consumers will purchase less, and if a product's price decreases, then consumers will purchase more. "
   ]
  },
  {
   "cell_type": "code",
   "execution_count": 4,
   "metadata": {
    "slideshow": {
     "slide_type": "fragment"
    }
   },
   "outputs": [
    {
     "data": {
      "image/png": "[encoded data removed]",
      "text/plain": [
       "<Figure size 504x504 with 1 Axes>"
      ]
     },
     "metadata": {
      "needs_background": "light"
     },
     "output_type": "display_data"
    }
   ],
   "source": [
    "avocados.scatter(\"Total Volume\", \"Average Price\", width = 7, height = 7)\n",
    "plt.title(\"Demand Curve for Avocados\", fontsize = 16);"
   ]
  },
  {
   "cell_type": "markdown",
   "metadata": {
    "slideshow": {
     "slide_type": "slide"
    }
   },
   "source": [
    "## Linear Demand Curves"
   ]
  },
  {
   "cell_type": "markdown",
   "metadata": {
    "slideshow": {
     "slide_type": "subslide"
    }
   },
   "source": [
    "### Demand with Price as a Function of Quantity"
   ]
  },
  {
   "cell_type": "markdown",
   "metadata": {
    "slideshow": {
     "slide_type": "fragment"
    }
   },
   "source": [
    "First, we will fit a demand curve expressed in terms of price as a function of quantity. This aligns with the axes of supply and demand curves, in which the quantity is on the x-axis and price is on the y-axis:\n",
    "\n",
    "$$P(Q) = m\\cdot Q + b$$"
   ]
  },
  {
   "cell_type": "markdown",
   "metadata": {
    "slideshow": {
     "slide_type": "subslide"
    }
   },
   "source": [
    "We will now quantify our demand curve using NumPy's [`np.polyfit` function](https://numpy.org/doc/stable/reference/generated/numpy.polyfit.html). \n",
    "\n",
    "It takes 3 parameters:\n",
    "- array of x-coordinates\n",
    "- array of y-coordinates\n",
    "- degree of polynomial \n",
    "\n",
    "With degree 1, `np.polyfit` returns an array of size 2, where the first element is the slope and the second is the $y$-intercept."
   ]
  },
  {
   "cell_type": "code",
   "execution_count": 5,
   "metadata": {
    "slideshow": {
     "slide_type": "fragment"
    }
   },
   "outputs": [
    {
     "name": "stdout",
     "output_type": "stream",
     "text": [
      "The slope is: -1.0909269659806726e-06\n",
      "The intercept is: 2.249530412257034\n"
     ]
    }
   ],
   "source": [
    "slope, intercept = np.polyfit(avocados.column(\"Total Volume\"), avocados.column(\"Average Price\"), 1)\n",
    "print(\"The slope is:\", slope)\n",
    "print(\"The intercept is:\", intercept)"
   ]
  },
  {
   "cell_type": "markdown",
   "metadata": {
    "slideshow": {
     "slide_type": "subslide"
    }
   },
   "source": [
    "Our demand curve is $P(Q) = -0.00000109Q+ 2.2495$:\n",
    "- The slope is -0.00000109 \n",
    "- The $y$-intercept is 2.2495\n",
    "\n",
    "This means that as the quantity demanded increases by 1 unit (in this case, 1 avocado), we would expect to see price to decrease by 0.00000109 units (in this case, \\$0.000214). "
   ]
  },
  {
   "cell_type": "markdown",
   "metadata": {
    "slideshow": {
     "slide_type": "subslide"
    }
   },
   "source": [
    "#### Plotting our demand curve"
   ]
  },
  {
   "cell_type": "code",
   "execution_count": 6,
   "metadata": {
    "slideshow": {
     "slide_type": "fragment"
    },
    "tags": [
     "remove_input"
    ]
   },
   "outputs": [
    {
     "data": {
      "image/png": "[encoded data removed]",
      "text/plain": [
       "<Figure size 432x288 with 1 Axes>"
      ]
     },
     "metadata": {
      "needs_background": "light"
     },
     "output_type": "display_data"
    }
   ],
   "source": [
    "plt.scatter(avocados.column(\"Total Volume\"), avocados.column(\"Average Price\"))\n",
    "quantities = np.arange(400000, 1600000, 1000)\n",
    "predicted_prices = slope * quantities + intercept\n",
    "plt.plot(quantities, predicted_prices, color = 'red', label = \"Demand curve\")\n",
    "plt.xlabel(\"Quantity\")\n",
    "plt.ylabel(\"Price\")\n",
    "plt.legend();"
   ]
  },
  {
   "cell_type": "markdown",
   "metadata": {
    "slideshow": {
     "slide_type": "slide"
    }
   },
   "source": [
    "### Demand with Quantity as a Function of Price"
   ]
  },
  {
   "cell_type": "markdown",
   "metadata": {
    "slideshow": {
     "slide_type": "fragment"
    }
   },
   "source": [
    "Our interpretation of the demand curve and its slope above was probably not quite intuitive: changes in quantity demanded likely do not trigger changes in price, but instead it is the other way around. In addition, the slope was tiny: the marginal increase of one additional avocado sold had very little effect from the change in price. "
   ]
  },
  {
   "cell_type": "markdown",
   "metadata": {
    "slideshow": {
     "slide_type": "fragment"
    }
   },
   "source": [
    "Thus, it is more intuitive to think the effect a one dollar change in price has on the quantity demanded, and to flip our axes:\n",
    "\n",
    "$$D(P) = Q(P) = m\\cdot P + b$$\n",
    "\n",
    "One key thing to remember: our axes are flipped for this demand curve!"
   ]
  },
  {
   "cell_type": "markdown",
   "metadata": {
    "slideshow": {
     "slide_type": "subslide"
    }
   },
   "source": [
    "#### Fitting our data using this function, we get:"
   ]
  },
  {
   "cell_type": "code",
   "execution_count": 7,
   "metadata": {
    "slideshow": {
     "slide_type": "fragment"
    }
   },
   "outputs": [
    {
     "name": "stdout",
     "output_type": "stream",
     "text": [
      "The slope is: -476412.7189820774\n",
      "The intercept is: 1446951.6408050184\n"
     ]
    }
   ],
   "source": [
    "slope, intercept = np.polyfit(avocados.column(\"Average Price\"), avocados.column(\"Total Volume\"), 1)\n",
    "print(\"The slope is:\", slope)\n",
    "print(\"The intercept is:\", intercept)"
   ]
  },
  {
   "cell_type": "markdown",
   "metadata": {
    "slideshow": {
     "slide_type": "subslide"
    }
   },
   "source": [
    "Our demand curve is roughly $Q(P) = -476413P+ 1446952$:\n",
    "- The slope is -476413 \n",
    "- The $y$-intercept is 1446952\n",
    "\n",
    "This means that as the price increases by 1 unit (in this case, \\$1), we would expect to see quantity demanded to decrease by 476413 units (in this case, 476413 avocados). \n",
    "\n",
    "*Note that this demand curve is not the same as the previous demand curve! It is not simply the inverse of the previous demand curve.*"
   ]
  },
  {
   "cell_type": "markdown",
   "metadata": {
    "slideshow": {
     "slide_type": "subslide"
    }
   },
   "source": [
    "Plotting this line on a graph, we see a slightly different demand curve."
   ]
  },
  {
   "cell_type": "code",
   "execution_count": 8,
   "metadata": {
    "slideshow": {
     "slide_type": "fragment"
    },
    "tags": [
     "remove_input"
    ]
   },
   "outputs": [
    {
     "data": {
      "image/png": "[encoded data removed]",
      "text/plain": [
       "<Figure size 432x288 with 1 Axes>"
      ]
     },
     "metadata": {
      "needs_background": "light"
     },
     "output_type": "display_data"
    }
   ],
   "source": [
    "plt.scatter(avocados.column(\"Total Volume\"), avocados.column(\"Average Price\"))\n",
    "prices = np.arange(0.2, 2.3, 0.01)\n",
    "predicted_quantities = slope * prices + intercept\n",
    "plt.plot(predicted_quantities, prices, color = 'red', label = \"Demand curve\")\n",
    "plt.xlabel(\"Quantity\")\n",
    "plt.ylabel(\"Price\")\n",
    "plt.legend();"
   ]
  },
  {
   "cell_type": "markdown",
   "metadata": {
    "slideshow": {
     "slide_type": "slide"
    }
   },
   "source": [
    "### A Large Caveat\n",
    "So far, we have examined demand curves assuming that they were linear: specifically, we've assumed that the relationship between quantity demanded and price was linear: for a \\$1 change in price, we can expect a fixed change in units demanded at any price level.\n",
    "\n",
    "Is this intuitively true?"
   ]
  },
  {
   "cell_type": "markdown",
   "metadata": {
    "slideshow": {
     "slide_type": "subslide"
    }
   },
   "source": [
    "As humans, we think about changes as proportions. What this implies is that these curves should be exponential in nature: at higher prices, a larger change in price will yield the same change quantity as compared to that in lower prices. \n",
    "\n",
    "Perhaps a better model for demand, then, is that a 1\\% change in price will lead to a fixed absolute change in units demanded, or a fixed percentage change in units demanded. \n",
    "\n",
    "To model this, we turn to log-log and semi-log demand curves, respectively."
   ]
  },
  {
   "cell_type": "markdown",
   "metadata": {
    "slideshow": {
     "slide_type": "slide"
    }
   },
   "source": [
    "## Semi-log Demand Curves"
   ]
  },
  {
   "cell_type": "markdown",
   "metadata": {
    "slideshow": {
     "slide_type": "subslide"
    }
   },
   "source": [
    "Suppose that a change in price by \\$1 leads to a m\\% change in quantity demanded. \n",
    "\n",
    "This means that our slope would be:\n",
    "\n",
    "$$\\text{slope} = \\frac{m \\text{% change in quantity}}{\\text{\\$1 change in price}}\\approx \\frac{m \\times 0.01 \\text{ change in log-quantity}}{\\text{\\$1 change in price}} $$\n",
    "\n"
   ]
  },
  {
   "cell_type": "markdown",
   "metadata": {
    "slideshow": {
     "slide_type": "fragment"
    }
   },
   "source": [
    "We have to log transform our quantity-demanded variable to capture the above relationship. This is known as the semi-log demand curve, in which the price and log-quantity are linearly related:\n",
    "\n",
    "$$\\ln{D(P)} = m\\cdot P + b$$"
   ]
  },
  {
   "cell_type": "markdown",
   "metadata": {
    "slideshow": {
     "slide_type": "subslide"
    }
   },
   "source": [
    "\n",
    "Let's gain some more intuition of this relationship. By exponentiating both sides, this is equivalent to:\n",
    "\n",
    "$$\\begin{align*}\n",
    "\\ln{D(P)} &= m\\cdot P + b \\\\\n",
    "D(P) &= e^{m\\cdot P + b}\\\\\n",
    "&= e^be^{m\\cdot P } \\\\\n",
    "\\end{align*}$$"
   ]
  },
  {
   "cell_type": "markdown",
   "metadata": {
    "slideshow": {
     "slide_type": "fragment"
    }
   },
   "source": [
    "What do the slope and intercept represent? \n",
    "\n",
    "$b$ (specifically $e^b$) corresponds to the 'baseline' quantity demanded when price is 0, since $e^{m \\cdot P} = e^0 = 1$. \n",
    "\n",
    "$m$ corresponds roughly to how much a one dollar change in price will lead to a percentage change in quantity demanded."
   ]
  },
  {
   "cell_type": "markdown",
   "metadata": {
    "slideshow": {
     "slide_type": "subslide"
    }
   },
   "source": [
    "To see this, imagine that P goes up by one dollar such that we have:\n",
    "\n",
    "$$\n",
    "\\begin{align*}\n",
    "D(P+1) &= e^be^{m \\cdot (P+1) }  \\\\\n",
    "&= e^be^{m + m \\cdot P }\\\\\n",
    "&= e^be^me^{m \\cdot P }\\\\\n",
    "&= e^mD(P) \\\\\n",
    "&\\approx (1+m)D(P)\n",
    "\\end{align*}$$"
   ]
  },
  {
   "cell_type": "markdown",
   "metadata": {
    "slideshow": {
     "slide_type": "fragment"
    }
   },
   "source": [
    "The last line relies on the fact $e^{x} \\approx (1+x)$ when $x$ is small. \n",
    "\n",
    "Our results leads to the caveat that our transformation is only approximate and only valid when our $m$ is small. "
   ]
  },
  {
   "cell_type": "markdown",
   "metadata": {
    "slideshow": {
     "slide_type": "subslide"
    }
   },
   "source": [
    "### Visualizing the Semi-log Relationship\n",
    "Plotting $D(P) = e^be^{m\\cdot P}$, we get:"
   ]
  },
  {
   "cell_type": "code",
   "execution_count": 13,
   "metadata": {
    "slideshow": {
     "slide_type": "fragment"
    },
    "tags": [
     "remove_input"
    ]
   },
   "outputs": [
    {
     "data": {
      "image/png": "[encoded data removed]",
      "text/plain": [
       "<Figure size 504x360 with 1 Axes>"
      ]
     },
     "metadata": {
      "needs_background": "light"
     },
     "output_type": "display_data"
    }
   ],
   "source": [
    "m = -0.05 \n",
    "b = 5\n",
    "x = np.arange(0,100)\n",
    "y = (np.e ** (x * m)) * (np.e ** b)\n",
    "plt.figure(figsize=(7,5))\n",
    "plt.plot(x, y)\n",
    "plt.xlabel('Quantity')\n",
    "plt.ylabel('Price')\n",
    "plt.title('Semi-log Demand Curve');"
   ]
  },
  {
   "cell_type": "markdown",
   "metadata": {
    "slideshow": {
     "slide_type": "subslide"
    }
   },
   "source": [
    "### Fitting Semi-log to Avocados"
   ]
  },
  {
   "cell_type": "code",
   "execution_count": 14,
   "metadata": {
    "slideshow": {
     "slide_type": "fragment"
    }
   },
   "outputs": [
    {
     "name": "stdout",
     "output_type": "stream",
     "text": [
      "The slope is:  -0.5792670374517227\n",
      "The intercept is:  14.352506861683818\n"
     ]
    }
   ],
   "source": [
    "log_quantity = np.log(avocados.column(\"Total Volume\"))\n",
    "slope, intercept = np.polyfit(avocados.column(\"Average Price\"), log_quantity, 1)\n",
    "print(\"The slope is: \", slope)\n",
    "print(\"The intercept is: \", intercept)"
   ]
  },
  {
   "cell_type": "markdown",
   "metadata": {
    "slideshow": {
     "slide_type": "fragment"
    }
   },
   "source": [
    "For every one dollar change in price of avocados, we would expect the change in quantity demanded to decrease by 57%. \n",
    "\n",
    "*Take this result with a grain of salt – recall that our approximation typically is valid for small values of $m$, and here our $m=-0.57$*. "
   ]
  },
  {
   "cell_type": "markdown",
   "metadata": {
    "slideshow": {
     "slide_type": "subslide"
    }
   },
   "source": [
    "#### Plotting on log quantity"
   ]
  },
  {
   "cell_type": "code",
   "execution_count": 15,
   "metadata": {
    "slideshow": {
     "slide_type": "fragment"
    }
   },
   "outputs": [
    {
     "data": {
      "image/png": "[encoded data removed]",
      "text/plain": [
       "<Figure size 432x288 with 1 Axes>"
      ]
     },
     "metadata": {
      "needs_background": "light"
     },
     "output_type": "display_data"
    }
   ],
   "source": [
    "plt.scatter(log_quantity, avocados.column(\"Average Price\"))\n",
    "prices = np.arange(0.5, 2.3, 0.01)\n",
    "predicted_quantities = slope * prices + intercept\n",
    "plt.plot(predicted_quantities, prices, color = 'red', label = \"Semi-log demand curve\")\n",
    "plt.xlabel(\"Log Quantity\")\n",
    "plt.ylabel(\"Price\")\n",
    "plt.legend();"
   ]
  },
  {
   "cell_type": "markdown",
   "metadata": {
    "slideshow": {
     "slide_type": "subslide"
    }
   },
   "source": [
    "#### Plotting without axes transformations"
   ]
  },
  {
   "cell_type": "code",
   "execution_count": 16,
   "metadata": {
    "slideshow": {
     "slide_type": "fragment"
    }
   },
   "outputs": [
    {
     "data": {
      "image/png": "[encoded data removed]",
      "text/plain": [
       "<Figure size 432x288 with 1 Axes>"
      ]
     },
     "metadata": {
      "needs_background": "light"
     },
     "output_type": "display_data"
    }
   ],
   "source": [
    "plt.scatter(avocados.column(\"Total Volume\"), avocados.column(\"Average Price\"))\n",
    "prices = np.arange(0.5, 2.3, 0.01)\n",
    "predicted_quantities = np.e ** (slope * prices + intercept)\n",
    "plt.plot(predicted_quantities, prices, color = 'red', label = \"Semi-log demand curve\")\n",
    "plt.xlabel(\"Quantity\")\n",
    "plt.ylabel(\"Price\")\n",
    "plt.legend();"
   ]
  },
  {
   "cell_type": "markdown",
   "metadata": {
    "slideshow": {
     "slide_type": "slide"
    }
   },
   "source": [
    "## Log-log Demand Curves"
   ]
  },
  {
   "cell_type": "markdown",
   "metadata": {
    "slideshow": {
     "slide_type": "subslide"
    }
   },
   "source": [
    "Now suppose that a 1% change in price leads to a m% change in quantity demanded. \n",
    "\n",
    "This means that our slope would be:\n",
    "\n",
    "$$\\text{slope} = \\frac{m \\text{% change in quantity}}{1 \\text{% change in price}} \\approx \\frac{m \\times 0.01 \\text{ change in log-quantity}}{ 0.01 \\text{ change in log-price}} = \\frac{\\text{change by } m  \\text{ in log-quantity}}{\\text{ change by 1 in log-price}}$$"
   ]
  },
  {
   "cell_type": "markdown",
   "metadata": {
    "slideshow": {
     "slide_type": "fragment"
    }
   },
   "source": [
    "In this case, we have to log transform both our quantity-demanded variable as well as price variable to capture the above relationship. This is known as the log-log demand curve, in which the log-price and log-quantity are linearly related:\n",
    "\n",
    "$$\\ln{D(P)} = m\\cdot\\ln{P} + b$$\n"
   ]
  },
  {
   "cell_type": "markdown",
   "metadata": {
    "slideshow": {
     "slide_type": "subslide"
    }
   },
   "source": [
    "Let's gain some more intuition of this relationship. By exponentiating both sides, this is equivalent to:\n",
    "\n",
    "$$\\begin{align*}\n",
    "D(P) &= e^{m\\cdot\\ln{P} + b}\\\\\n",
    "&= e^be^{m\\cdot\\ln{P}} \\\\\n",
    "&= e^b(e^{\\ln{P}})^m \\\\\n",
    "&= e^bP^m \\\\\n",
    "\\end{align*}$$\n",
    "\n",
    "In this setup, $b$ does not have as clear a meaning. For $m$, we suppose that P goes up by 1 percent:\n",
    "\n",
    "$$\\begin{align*}\n",
    "D(1.01P) &= e^b(1.01P)^m \\\\\n",
    "&= e^b 1.01^m P^m\\\\\n",
    "&= 1.01^m D(P) \\\\\n",
    "&\\approx (1+m) D(P) \n",
    "\\end{align*}$$\n",
    "\n",
    "Where we utilize the approximation that $1.01^m \\approx 1+m$. Our caveat from the previous section about $m$ not being large continues to be in place here: typically, we do not want our $m$ to be larger than 30 (where $1.01^{30}\\approx 1.35$), or else the approximation will fall apart."
   ]
  },
  {
   "cell_type": "markdown",
   "metadata": {
    "slideshow": {
     "slide_type": "subslide"
    }
   },
   "source": [
    "### Visualizing the Log-log Relationship\n",
    "Plotting $D(P) = e^bP^m$, we get:"
   ]
  },
  {
   "cell_type": "code",
   "execution_count": 18,
   "metadata": {
    "tags": [
     "remove_input"
    ]
   },
   "outputs": [
    {
     "data": {
      "image/png": "[encoded data removed]",
      "text/plain": [
       "<Figure size 504x360 with 1 Axes>"
      ]
     },
     "metadata": {
      "needs_background": "light"
     },
     "output_type": "display_data"
    }
   ],
   "source": [
    "m = -0.05\n",
    "b = 5\n",
    "x = np.arange(0,100)\n",
    "y = (x ** m) * (np.e ** b)\n",
    "plt.figure(figsize=(7,5))\n",
    "plt.plot(x, y)\n",
    "plt.xlabel('Quantity')\n",
    "plt.ylabel('Price')\n",
    "plt.title('Log-log Demand Curve');"
   ]
  },
  {
   "cell_type": "markdown",
   "metadata": {
    "slideshow": {
     "slide_type": "subslide"
    }
   },
   "source": [
    "#### A caveat about our log-log model \n",
    "Since our model is ultimately linear between log-price and log-quantity, the slope is always the same. \n",
    "\n",
    "This means that at any price level, we assume a 1% change in price will yield the same percentage change in quantity. \n",
    "\n",
    "This is also known as fixed elasticities."
   ]
  },
  {
   "cell_type": "markdown",
   "metadata": {
    "slideshow": {
     "slide_type": "slide"
    }
   },
   "source": [
    "### Elasticities\n",
    "\n",
    "Elasticity is defined: \n",
    "$$\\varepsilon = \\frac{\\Delta \\% \\text{Quantity}}{\\Delta \\% \\text{Price}}$$\n",
    "\n",
    "Similarly, in point-slope form: \n",
    "$$\\varepsilon = \\frac{\\frac{\\Delta Q}{Q}}{\\frac{\\Delta P}{P}} = \\frac{\\Delta Q}{\\Delta P} \\frac{P}{Q}$$\n",
    "\n",
    "Elasticity behaves like the slope in calculus; thus when approximating using the point-slope formula it is typically only valid in small % changes of quantity or price. \n"
   ]
  },
  {
   "cell_type": "markdown",
   "metadata": {
    "slideshow": {
     "slide_type": "subslide"
    }
   },
   "source": [
    "Elastic demand: $\\varepsilon > 1$\n",
    "- % change in price leads to a greater % change in quantity\n",
    "- Profit increases from a decrease in price\n",
    "- Examples: McDonalds, Toyota Prius, electronic devices\n",
    "\n",
    "Inelastic demand: $\\varepsilon < 1$\n",
    "- % change in price leads to a smaller % change in quantity\n",
    "- Profit decreases from a decrease in price\n",
    "- Examples: insulin, gasoline, cigarettes"
   ]
  },
  {
   "cell_type": "markdown",
   "metadata": {
    "slideshow": {
     "slide_type": "subslide"
    }
   },
   "source": [
    "Consider the log-log demand curve, which assumes constant elasticity:"
   ]
  },
  {
   "cell_type": "code",
   "execution_count": 19,
   "metadata": {
    "slideshow": {
     "slide_type": "fragment"
    }
   },
   "outputs": [
    {
     "data": {
      "image/png": "[encoded data removed]",
      "text/plain": [
       "<Figure size 504x360 with 1 Axes>"
      ]
     },
     "metadata": {
      "needs_background": "light"
     },
     "output_type": "display_data"
    }
   ],
   "source": [
    "m = -0.05\n",
    "b = 5\n",
    "x = np.arange(0,100)\n",
    "y = (x ** m) * (np.e ** b)\n",
    "plt.figure(figsize=(7,5))\n",
    "plt.plot(x, y)\n",
    "plt.xlabel('Quantity')\n",
    "plt.ylabel('Price')\n",
    "plt.title('Log-log Demand Curve');"
   ]
  },
  {
   "cell_type": "markdown",
   "metadata": {
    "slideshow": {
     "slide_type": "subslide"
    }
   },
   "source": [
    "Now consider the linear demand curve; which segments are elastic and which are inelastic?"
   ]
  },
  {
   "cell_type": "code",
   "execution_count": null,
   "metadata": {
    "slideshow": {
     "slide_type": "fragment"
    }
   },
   "outputs": [],
   "source": [
    "x = np.arange(0,100)\n",
    "y = -1 * x + 100\n",
    "plt.figure(figsize=(7,5))\n",
    "plt.plot(x, y)\n",
    "plt.xlabel('Quantity')\n",
    "plt.ylabel('Price')\n",
    "plt.title('Linear Demand Curve');"
   ]
  },
  {
   "cell_type": "markdown",
   "metadata": {
    "slideshow": {
     "slide_type": "subslide"
    }
   },
   "source": [
    "### Fitting Log-log to Avocados"
   ]
  },
  {
   "cell_type": "code",
   "execution_count": 21,
   "metadata": {
    "slideshow": {
     "slide_type": "fragment"
    }
   },
   "outputs": [
    {
     "name": "stdout",
     "output_type": "stream",
     "text": [
      "The slope is:  -0.8157285894758461\n",
      "The intercept is:  13.798460905495737\n"
     ]
    }
   ],
   "source": [
    "log_quantity = np.log(avocados.column(\"Total Volume\"))\n",
    "log_price = np.log(avocados.column(\"Average Price\"))\n",
    "slope, intercept = np.polyfit(log_price, log_quantity, 1)\n",
    "print(\"The slope is: \", slope)\n",
    "print(\"The intercept is: \", intercept)"
   ]
  },
  {
   "cell_type": "markdown",
   "metadata": {
    "slideshow": {
     "slide_type": "fragment"
    }
   },
   "source": [
    "For every 1% change in price of avocados, we would expect the change in quantity demanded to decrease by $-0.816\\%$. \n",
    "\n",
    "Is demand elastic or inelastic?"
   ]
  },
  {
   "cell_type": "markdown",
   "metadata": {
    "slideshow": {
     "slide_type": "subslide"
    }
   },
   "source": [
    "#### Plotting log-log demand curve with both axes log-transformed"
   ]
  },
  {
   "cell_type": "code",
   "execution_count": 22,
   "metadata": {
    "slideshow": {
     "slide_type": "fragment"
    },
    "tags": [
     "remove_input"
    ]
   },
   "outputs": [
    {
     "data": {
      "image/png": "[encoded data removed]",
      "text/plain": [
       "<Figure size 432x288 with 1 Axes>"
      ]
     },
     "metadata": {
      "needs_background": "light"
     },
     "output_type": "display_data"
    }
   ],
   "source": [
    "plt.scatter(log_quantity, log_price)\n",
    "prices = np.arange(-0.2, 0.8, 0.01)\n",
    "predicted_quantities = slope * prices + intercept\n",
    "plt.plot(predicted_quantities, prices, color = 'red', label = \"Log-log demand curve\")\n",
    "\n",
    "plt.xlabel(\"Log Quantity\")\n",
    "plt.ylabel(\"Log Price\")\n",
    "plt.legend();"
   ]
  },
  {
   "cell_type": "markdown",
   "metadata": {
    "slideshow": {
     "slide_type": "subslide"
    }
   },
   "source": [
    "#### Plotting without axes transformations"
   ]
  },
  {
   "cell_type": "code",
   "execution_count": 23,
   "metadata": {
    "slideshow": {
     "slide_type": "fragment"
    },
    "tags": [
     "remove_input"
    ]
   },
   "outputs": [
    {
     "data": {
      "image/png": "[encoded data removed]",
      "text/plain": [
       "<Figure size 432x288 with 1 Axes>"
      ]
     },
     "metadata": {
      "needs_background": "light"
     },
     "output_type": "display_data"
    }
   ],
   "source": [
    "plt.scatter(avocados.column(\"Total Volume\"), avocados.column(\"Average Price\"))\n",
    "prices = np.arange(0.6, 2.5, 0.01)\n",
    "predicted_quantities = (np.e ** intercept) * (prices ** slope)\n",
    "plt.plot(predicted_quantities, prices, color = 'red', label = \"Log-log demand curve\")\n",
    "plt.xlabel(\"Quantity\")\n",
    "plt.ylabel(\"Price\")\n",
    "plt.legend();"
   ]
  },
  {
   "cell_type": "markdown",
   "metadata": {
    "slideshow": {
     "slide_type": "slide"
    }
   },
   "source": [
    "## Which Model is Better: Linear, Semi-log, or Log-log? "
   ]
  },
  {
   "cell_type": "markdown",
   "metadata": {
    "slideshow": {
     "slide_type": "fragment"
    }
   },
   "source": [
    " \n",
    "There is no correct answer here, in fact justifying one approach over another is surprisingly profound. \n",
    "\n",
    "- One way to approach this is to look at the graphs produced above and which red line goes through our data points \"best\" (but what does \"best\" mean? We'll save this for another day...)\n",
    "- Another approach is to utilize our real-world knowledge to conclude which relationship is more accurate: do consumers react similarly to price changes that are in a proportion manner or in a absolute manner? This may also depend on the price, the promotion around it, the product itself, and many other factors. "
   ]
  },
  {
   "cell_type": "markdown",
   "metadata": {
    "slideshow": {
     "slide_type": "subslide"
    }
   },
   "source": [
    "### An Afterword\n",
    "This example highlights how ambiguity is a big part of doing data science. We can approach ambiguity with statistical methods and with domain knowledge. Either way, as long as you can ultimately justify your approach, that is what is key in conducting robust data science. "
   ]
  }
 ],
 "metadata": {
  "kernelspec": {
   "display_name": "Python 3 (ipykernel)",
   "language": "python",
   "name": "python3"
  },
  "language_info": {
   "codemirror_mode": {
    "name": "ipython",
    "version": 3
   },
   "file_extension": ".py",
   "mimetype": "text/x-python",
   "name": "python",
   "nbconvert_exporter": "python",
   "pygments_lexer": "ipython3",
   "version": "3.9.15"
  }
 },
 "nbformat": 4,
 "nbformat_minor": 4
}
