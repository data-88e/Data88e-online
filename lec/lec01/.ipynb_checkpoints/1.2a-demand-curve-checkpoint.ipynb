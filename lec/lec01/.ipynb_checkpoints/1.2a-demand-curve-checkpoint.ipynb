{
 "cells": [
  {
   "cell_type": "markdown",
   "metadata": {},
   "source": [
    "<table style=\"width: 100%;\" id=\"nb-header\">\n",
    "    <tr style=\"background-color: transparent;\"><td>\n",
    "        <img src=\"https://data-88e.github.io/assets/images/blue_text.png\" width=\"250px\" style=\"margin-left: 0;\" />\n",
    "    </td><td>\n",
    "        <p style=\"text-align: right; font-size: 10pt;\"><strong>Economic Models</strong>, EdX<br>\n",
    "            Dr. Eric Van Dusen <br>\n",
    "        Akhil Venkatesh <br>\n",
    "</table>"
   ]
  },
  {
   "cell_type": "markdown",
   "metadata": {},
   "source": [
    "# Lecture Notebook 1.2a: Creating a Demand Curve"
   ]
  },
  {
   "cell_type": "code",
   "execution_count": null,
   "metadata": {},
   "outputs": [],
   "source": [
    "import pandas as pd\n",
    "import os\n",
    "import json\n",
    "import numpy as np\n",
    "from datascience import *\n",
    "from ipywidgets import interact, interactive, fixed, interact_manual\n",
    "import ipywidgets as widgets\n",
    "%matplotlib inline\n",
    "import matplotlib.pyplot as plt\n",
    "import warnings\n",
    "warnings.filterwarnings(\"ignore\")"
   ]
  },
  {
   "cell_type": "markdown",
   "metadata": {},
   "source": [
    "For our iteration of this class in August of 2022, we asked students in the room to make a bid representing how much they would be willing to pay for different goods: Masks, Burritos, iPhones, and GreekTix. We attempted to then derive a demand curve based on these results."
   ]
  },
  {
   "cell_type": "markdown",
   "metadata": {},
   "source": [
    "### Let's load in a few demand curves based on this survey taken from class! Here's how the survey looked:\n",
    "https://docs.google.com/forms/d/e/1FAIpQLScVfl0IiCoFQwrKsHrICKAJsA1mZn7GZCjQC_97YRnqXJCP2A/viewform\n"
   ]
  },
  {
   "cell_type": "markdown",
   "metadata": {},
   "source": [
    "### You can find the survey responses here:\n",
    "https://docs.google.com/spreadsheets/d/1Izl5h_PXIph-Dk4PrsZCBWq4KQFiIoA_xh2odVo3b9A/edit#gid=1309761632\n",
    "\n",
    "### For this example we downloaded these results as a csv file that we will read in here"
   ]
  },
  {
   "cell_type": "code",
   "execution_count": null,
   "metadata": {},
   "outputs": [],
   "source": [
    "demand_table = Table.read_table(\"Data88EDemandSurvey-Fall22.csv\")\n",
    "demand_table = demand_table.drop('Timestamp')\n",
    "demand_table"
   ]
  },
  {
   "cell_type": "markdown",
   "metadata": {},
   "source": [
    "Let's try graphing all our different responses!"
   ]
  },
  {
   "cell_type": "code",
   "execution_count": null,
   "metadata": {},
   "outputs": [],
   "source": [
    "demand_table.hist(\"Masks\", bins = 8, left_end = min(demand_table.column(\"Masks\")), \n",
    "                  right_end = max(demand_table.column(\"Masks\")))\n"
   ]
  },
  {
   "cell_type": "code",
   "execution_count": null,
   "metadata": {},
   "outputs": [],
   "source": [
    "demand_table.hist(\"Burrito\", bins = 8, left_end = min(demand_table.column(\"Burrito\")), \n",
    "                  right_end = max(demand_table.column(\"Burrito\")))"
   ]
  },
  {
   "cell_type": "code",
   "execution_count": null,
   "metadata": {},
   "outputs": [],
   "source": [
    "demand_table.hist(\"GreekTix\", bins = 8, left_end = min(demand_table.column(\"GreekTix\")), \n",
    "                  right_end = max(demand_table.column(\"GreekTix\")))\n"
   ]
  },
  {
   "cell_type": "code",
   "execution_count": null,
   "metadata": {},
   "outputs": [],
   "source": [
    "demand_table.hist(\"iPhone\", bins = 8, left_end = min(demand_table.column(\"iPhone\")), \n",
    "                  right_end = max(demand_table.column(\"iPhone\")))\n"
   ]
  },
  {
   "cell_type": "markdown",
   "metadata": {},
   "source": [
    "## OK Looks good, but it doesnt look like a Demand Curve yet?"
   ]
  },
  {
   "cell_type": "markdown",
   "metadata": {},
   "source": [
    "**Let's focus on the burritos first.** How many people are willing to buying a gourment burrito at any given price?   \n",
    "We can assume that a person would be willing to buy the good at a price less than their bid price.  "
   ]
  },
  {
   "cell_type": "code",
   "execution_count": null,
   "metadata": {},
   "outputs": [],
   "source": [
    "BurritosTable = demand_table.select('Burrito')\n",
    "BurritosTable"
   ]
  },
  {
   "cell_type": "code",
   "execution_count": null,
   "metadata": {},
   "outputs": [],
   "source": [
    "# Count how many people are in each answer pool\n",
    "BurritosTable.group(\"Burrito\")"
   ]
  },
  {
   "cell_type": "code",
   "execution_count": null,
   "metadata": {},
   "outputs": [],
   "source": [
    "# Create a bar plot\n",
    "table = BurritosTable.group(\"Burrito\")\n",
    "\n",
    "def plot_histogram(data, bins, title=\"Title\", x_label = \"Price\", y_label = \"Count\"):\n",
    "    plt.bar(bins, data, edgecolor=\"brown\", align=\"center\", width = 2)\n",
    "    plt.title(title)\n",
    "    plt.xlabel(x_label)\n",
    "    plt.ylabel(y_label)\n",
    "    plt.show()\n",
    "    return \n",
    "\n",
    "burrito_bins = table.column(0) # Select column using method call\n",
    "burrito_data = table['count'] # Select column using indexing\n",
    "burrito_title = \"Demand of Burritos according to different prices\"\n",
    "\n",
    "plot_histogram(burrito_data, burrito_bins, burrito_title)"
   ]
  },
  {
   "cell_type": "markdown",
   "metadata": {},
   "source": [
    "In the visualization above, the height of each bar isn't quite right - someone who is willing to pay \\\\$10 for a burrito will also pay \\\\$2.5 for the same burrito. \n",
    "\n",
    "Since people will pay up to their maximum bid price, let's change the visualization and the table to instead consider the **total demand** at any given price. \n",
    "We can do this in the following three steps: \n",
    "1. Flip the order of the count column\n",
    "2. Apply a cumulative function of all prices below\n",
    "3. Flip it back"
   ]
  },
  {
   "cell_type": "code",
   "execution_count": null,
   "metadata": {},
   "outputs": [],
   "source": [
    "Q0 = BurritosTable.group(\"Burrito\").column(\"count\")\n",
    "Q0"
   ]
  },
  {
   "cell_type": "markdown",
   "metadata": {},
   "source": [
    "This array Q0 is the number of people willing to pay at each price from lowest to highest\n",
    "\n",
    "### Step 1: Flip the order of the count column\n"
   ]
  },
  {
   "cell_type": "code",
   "execution_count": null,
   "metadata": {},
   "outputs": [],
   "source": [
    "Q1 = np.flip(Q0)\n",
    "Q1"
   ]
  },
  {
   "cell_type": "markdown",
   "metadata": {},
   "source": [
    "This array Q1 is the number of people willing to pay at each price from highest to lowest\n",
    "\n",
    "### Step 2: Sum the number of people willing to pay that price or higher\n"
   ]
  },
  {
   "cell_type": "code",
   "execution_count": null,
   "metadata": {},
   "outputs": [],
   "source": [
    "# Step 2: Apply a cumulative function of all prices below\n",
    "Q2 = np.cumsum(Q1)\n",
    "Q2"
   ]
  },
  {
   "cell_type": "markdown",
   "metadata": {},
   "source": [
    "This array Q2 is the total number of people willing to pay at each price point from highest to lowest\n",
    "\n",
    "### Step 3: Flip it back again so that we can match it to the prices \n"
   ]
  },
  {
   "cell_type": "code",
   "execution_count": null,
   "metadata": {},
   "outputs": [],
   "source": [
    "# Step 3: Flip it back\n",
    "Q3 = np.flip(Q2)\n",
    "Q3"
   ]
  },
  {
   "cell_type": "code",
   "execution_count": null,
   "metadata": {},
   "outputs": [],
   "source": [
    "# Or we can do this in just one line\n",
    "Qdemand = np.flip(np.cumsum(np.flip(BurritosTable.group(\"Burrito\").column(\"count\"))))\n",
    "Qdemand"
   ]
  },
  {
   "cell_type": "code",
   "execution_count": null,
   "metadata": {},
   "outputs": [],
   "source": [
    "# Combine the price column and demand column into a single table\n",
    "DemandBurr= Table().with_columns([\n",
    "    'priceBurr', [2.5, 5, 7.5, 10.00, 12.5, 15,17.5], # those are the prices\n",
    "    'Qdemand', Qdemand\n",
    "])\n",
    "DemandBurr"
   ]
  },
  {
   "cell_type": "code",
   "execution_count": null,
   "metadata": {},
   "outputs": [],
   "source": [
    "# Create a bar plot\n",
    "burrito_Qdemand_bins = DemandBurr.column('priceBurr') # Select column using method call\n",
    "burrito_Qdemand_data = DemandBurr['Qdemand'] # Select column using indexing\n",
    "burrito_Qdemand_title = \"Quantity demanded of Burritos with different prices\"\n",
    "Qdemand_x_label = \"Price of Burrito\"\n",
    "Qdemand_y_label = \"Quantity demanded\"\n",
    "\n",
    "plot_histogram(burrito_Qdemand_data, burrito_Qdemand_bins, burrito_Qdemand_title, Qdemand_x_label, Qdemand_y_label)"
   ]
  },
  {
   "cell_type": "markdown",
   "metadata": {},
   "source": [
    "Let's continue by  looking at the demand for greek theater tickets. How many people would buy greek theater tickets at a given price? Let's assume that a person would be willing to buy the good at a price less than their bid price.  "
   ]
  },
  {
   "cell_type": "code",
   "execution_count": null,
   "metadata": {},
   "outputs": [],
   "source": [
    "# This is a column of bid values for greek theater tickets that have been inputted. \n",
    "greektix = demand_table.select('GreekTix')\n",
    "greektix"
   ]
  },
  {
   "cell_type": "code",
   "execution_count": null,
   "metadata": {},
   "outputs": [],
   "source": [
    "#Let's create a table summarizing the quantity of bid values! First we'll need to define our two columns!\n",
    "prices = np.array([2.50, 5.00, 7.50, 10.00, 12.50, 15.00, 17.50, 20.00])\n",
    "quantities = np.flip(np.cumsum(np.flip(greektix.group(\"GreekTix\").column(1))))\n",
    "quantities"
   ]
  },
  {
   "cell_type": "markdown",
   "metadata": {},
   "source": [
    "In case you're wondering how we came up with the quantities values: We perform np.flip first so that we can cumulatively sum up the quantities. We then perform np.cumsum to calculate the cumulative sums. Because np.cumsum reverts the order of the array to ascending order, we perform np.flip again to get the array in descending order (that is, from 99 to 4).\n"
   ]
  },
  {
   "cell_type": "code",
   "execution_count": null,
   "metadata": {},
   "outputs": [],
   "source": [
    "#Now we can use pd.DataFrame to actually create the columns with their respective labels and values!\n",
    "greektix_demand = pd.DataFrame({'Price': prices, 'Quantity': quantities})\n",
    "greektix_demand"
   ]
  },
  {
   "cell_type": "code",
   "execution_count": null,
   "metadata": {},
   "outputs": [],
   "source": [
    "# Let's graph our results\n",
    "plt.scatter(greektix_demand[\"Quantity\"], greektix_demand[\"Price\"])\n",
    "plt.xlabel('Quantity')\n",
    "plt.ylabel('Price')\n",
    "plt.title('Demand for two tickets for an awesome concert at the Greek Theater');"
   ]
  },
  {
   "cell_type": "markdown",
   "metadata": {},
   "source": [
    "Now let's find the slope and intercept of the line of best fit. The cell below defines some functions that you'll learn about in the later portions of Data 8."
   ]
  },
  {
   "cell_type": "code",
   "execution_count": null,
   "metadata": {},
   "outputs": [],
   "source": [
    "std_units = lambda a: (a - np.mean(a)) / np.std(a)\n",
    "corr = lambda x, y: np.mean(std_units(x) * std_units(y))\n",
    "slope = lambda x, y: corr(x, y) * np.std(y) / np.std(x)\n",
    "intercept = lambda x, y: np.mean(y) - slope(x, y) * np.mean(x)"
   ]
  },
  {
   "cell_type": "code",
   "execution_count": null,
   "metadata": {
    "scrolled": true
   },
   "outputs": [],
   "source": [
    "slope(greektix_demand[\"Quantity\"], greektix_demand[\"Price\"])"
   ]
  },
  {
   "cell_type": "code",
   "execution_count": null,
   "metadata": {},
   "outputs": [],
   "source": [
    "intercept(greektix_demand[\"Quantity\"], greektix_demand[\"Price\"])"
   ]
  },
  {
   "cell_type": "markdown",
   "metadata": {},
   "source": [
    "Feel free to explore this in your own time: Let's create demand curves for our other products as well!"
   ]
  },
  {
   "cell_type": "code",
   "execution_count": null,
   "metadata": {},
   "outputs": [],
   "source": [
    "#Gourmet Burrito\n",
    "prices_burrito = pd.DataFrame({'price':[2.50, 5, 7.50, 10, 12.5, 15,17.5,20]})\n",
    "\n",
    "burritos = demand_table.select('Burrito')\n",
    "burritosByPrice = burritos.group(\"Burrito\")\n",
    "bbp = burritosByPrice.to_df()\n",
    "gb = (\n",
    "    prices_burrito\n",
    "    .merge(bbp, left_on='price', how='left', right_on='Burrito')\n",
    "    .fillna(0).drop('Burrito', axis=1)\n",
    ")\n",
    "\n",
    "burritos_table = Table.from_df(gb)\n",
    "Q_demand_burrito = np.flip(np.cumsum(np.flip(burritos_table.group(\"price\", sum).column(1))))\n",
    "\n",
    "gb_demand = Table().with_columns(\n",
    "    'price', prices_burrito.price, \n",
    "    'quantity', Q_demand_burrito\n",
    ")\n",
    "\n",
    "burrito_slope = slope(gb_demand[\"quantity\"], gb_demand[\"price\"])\n",
    "burrito_intercept = intercept(gb_demand[\"quantity\"], gb_demand[\"price\"])\n",
    "print(\"Slope: \" + str(burrito_slope))\n",
    "print(\"Intercept: \" +  str(burrito_intercept))"
   ]
  },
  {
   "cell_type": "code",
   "execution_count": null,
   "metadata": {},
   "outputs": [],
   "source": [
    "#Masks\n",
    "prices_masks = pd.DataFrame({'price':[0.25, 0.50, .75, 1.00, 1.25, 1.50, 1.75, 2.00]})\n",
    "\n",
    "masks = demand_table.select('Masks')\n",
    "masksByPrice = masks.group(\"Masks\")\n",
    "tbp = masksByPrice.to_df()\n",
    "ms = (\n",
    "    prices_masks\n",
    "    .merge(tbp, left_on='price', how='left', right_on='Masks')\n",
    "    .fillna(0).drop('Masks', axis=1)\n",
    ")\n",
    "\n",
    "masks_table = Table.from_df(ms)\n",
    "Q_demand_masks = np.flip(np.cumsum(np.flip(masks_table.group(\"price\", sum).column(1))))\n",
    "\n",
    "ms_demand = Table().with_columns(\n",
    "    'price', prices_masks.price, \n",
    "    'quantity', Q_demand_masks\n",
    ")\n",
    "\n",
    "masks_slope = slope(ms_demand[\"quantity\"], ms_demand[\"price\"])\n",
    "masks_intercept = intercept(ms_demand[\"quantity\"], ms_demand[\"price\"])\n",
    "print(\"Slope: \" + str(masks_slope))\n",
    "print(\"Intercept: \" +  str(masks_intercept))"
   ]
  },
  {
   "cell_type": "code",
   "execution_count": null,
   "metadata": {},
   "outputs": [],
   "source": [
    "#Iphone 14\n",
    "prices_iphone = pd.DataFrame({'price':[250, 500, 750, 1000, 1250, 1500,1750,2000, 2250, 2500, 2750, 3000]})\n",
    "\n",
    "iphones = demand_table.select('iPhone')\n",
    "iphonesByPrice = iphones.group(\"iPhone\")\n",
    "ibp = iphonesByPrice.to_df()\n",
    "iphone14 = (\n",
    "    prices_iphone\n",
    "    .merge(ibp, left_on='price', how='left', right_on=\"iPhone\")\n",
    "    .fillna(0).drop(\"iPhone\", axis=1)\n",
    ")\n",
    "\n",
    "iphones_table = Table.from_df(iphone14)\n",
    "Q_demand_iphones = np.flip(np.cumsum(np.flip(iphones_table.group(\"price\", sum).column(1))))\n",
    "\n",
    "iphone14_demand = Table().with_columns(\n",
    "    'price', prices_iphone.price, \n",
    "    'quantity', Q_demand_iphones\n",
    ")\n",
    "\n",
    "iphones_slope = slope(iphone14_demand[\"quantity\"], iphone14_demand[\"price\"])\n",
    "iphones_intercept = intercept(iphone14_demand[\"quantity\"], iphone14_demand[\"price\"])\n",
    "print(\"Slope: \" + str(iphones_slope))\n",
    "print(\"Intercept: \" +  str(iphones_intercept))"
   ]
  },
  {
   "cell_type": "markdown",
   "metadata": {},
   "source": [
    "Comparing the demand curves for our four products, what similarities or differences do you notice? In particular, think about what the slopes of the curves might reveal to us about consumer preferences. "
   ]
  },
  {
   "cell_type": "code",
   "execution_count": null,
   "metadata": {},
   "outputs": [],
   "source": [
    "ms_demand.scatter(\"quantity\", \"price\")\n",
    "plt.xlabel('Quantity')\n",
    "plt.ylabel('Price')\n",
    "plt.title('Demand for a pack of surgical masks');\n",
    "\n",
    "gb_demand.scatter(\"quantity\", \"price\")\n",
    "plt.xlabel('Quantity')\n",
    "plt.ylabel('Price')\n",
    "plt.title('Demand for Gourmet Burritos');\n",
    "\n",
    "#greektix_demand.scatter(\"quantity\", \"price\")\n",
    "#plt.xlabel('Quantity')\n",
    "#plt.ylabel('Price')\n",
    "#plt.title('Demand for Greek Theatre Tickets');\n",
    "\n",
    "iphone14_demand.scatter(\"quantity\", \"price\")\n",
    "plt.xlabel('Quantity')\n",
    "plt.ylabel('Price')\n",
    "plt.title('Demand for iPhone14');"
   ]
  },
  {
   "cell_type": "markdown",
   "metadata": {},
   "source": [
    " "
   ]
  }
 ],
 "metadata": {
  "@webio": {
   "lastCommId": null,
   "lastKernelId": null
  },
  "kernelspec": {
   "display_name": "Python 3 (ipykernel)",
   "language": "python",
   "name": "python3"
  },
  "language_info": {
   "codemirror_mode": {
    "name": "ipython",
    "version": 3
   },
   "file_extension": ".py",
   "mimetype": "text/x-python",
   "name": "python",
   "nbconvert_exporter": "python",
   "pygments_lexer": "ipython3",
   "version": "3.8.15"
  }
 },
 "nbformat": 4,
 "nbformat_minor": 4
}
