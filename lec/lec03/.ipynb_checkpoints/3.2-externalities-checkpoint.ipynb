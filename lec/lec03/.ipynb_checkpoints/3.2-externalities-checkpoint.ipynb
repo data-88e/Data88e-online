{
 "cells": [
  {
   "cell_type": "markdown",
   "metadata": {},
   "source": [
    "<table style=\"width: 100%;\" id=\"nb-header\">\n",
    "    <tr style=\"background-color: transparent;\"><td>\n",
    "        <img src=\"https://data-88e.github.io/assets/images/blue_text.png\" width=\"250px\" style=\"margin-left: 0;\" />\n",
    "    </td><td>\n",
    "        <p style=\"text-align: right; font-size: 10pt;\"><strong>Economic Models</strong>, EdX<br>\n",
    "            Dr. Eric Van Dusen <br>\n",
    "            Kidong Kim <br>\n",
    "        Akhil Venkatesh <br>\n",
    "</table>"
   ]
  },
  {
   "cell_type": "markdown",
   "metadata": {},
   "source": [
    "# Lecture Notebook 3.2: Plotting Externalities\n",
    "\n",
    "The idea behind this demo is to utilize the class demand survey to motivate the concept of surplus.\n"
   ]
  },
  {
   "cell_type": "code",
   "execution_count": null,
   "metadata": {},
   "outputs": [],
   "source": [
    "from datascience import *\n",
    "import os\n",
    "import json\n",
    "import numpy as np\n",
    "import pandas as pd\n",
    "import matplotlib.pyplot as plt\n",
    "import matplotlib.patches as patches\n",
    "%matplotlib inline\n",
    "\n",
    "import sympy\n",
    "solve = lambda x,y: sympy.solve(x-y)[0] if len(sympy.solve(x-y))==1 else \"Not Single Solution\"\n",
    "\n",
    "from ipywidgets import interact, interactive, fixed, interact_manual\n",
    "import ipywidgets as widgets\n",
    "from IPython.display import display\n",
    "import warnings\n",
    "warnings.filterwarnings(\"ignore\")"
   ]
  },
  {
   "cell_type": "markdown",
   "metadata": {},
   "source": [
    "## Section 1: Market Demand and Consumer Surplus"
   ]
  },
  {
   "cell_type": "markdown",
   "metadata": {},
   "source": [
    "Let's start off with the demand from a student demand survey:\n",
    " - We had 4 \"goods\" and a range of prices available for each good\n",
    " - Students made bids on their willingness to pay for each of the 4 goods\n",
    " - The dataset for Fall 2022 has ~100 observations\n",
    " - This dataset has been exported and we read it in below:"
   ]
  },
  {
   "cell_type": "code",
   "execution_count": null,
   "metadata": {},
   "outputs": [],
   "source": [
    "DemandTable = Table.read_table(\"Data88EDemandSurvey-Fall22.csv\")\n",
    "DemandTable = DemandTable.drop('Timestamp')\n",
    "DemandTable"
   ]
  },
  {
   "cell_type": "code",
   "execution_count": null,
   "metadata": {},
   "outputs": [],
   "source": [
    "for i in DemandTable.labels:\n",
    "    DemandTable.hist(i);"
   ]
  },
  {
   "cell_type": "markdown",
   "metadata": {},
   "source": [
    "**Let's focus on the burritos first.** How many people are willing to buying a gourment burrito at any given price?   \n",
    "We can assume that a person would be willing to buy the good at a price less than their bid price.  "
   ]
  },
  {
   "cell_type": "code",
   "execution_count": null,
   "metadata": {},
   "outputs": [],
   "source": [
    "BurritosTable = DemandTable.select('Burrito')\n",
    "BurritosTable"
   ]
  },
  {
   "cell_type": "code",
   "execution_count": null,
   "metadata": {},
   "outputs": [],
   "source": [
    "# Count how many people are in each answer pool\n",
    "BurritosTable.group(\"Burrito\")"
   ]
  },
  {
   "cell_type": "code",
   "execution_count": null,
   "metadata": {},
   "outputs": [],
   "source": [
    "# Create a bar plot\n",
    "table = BurritosTable.group(\"Burrito\")\n",
    "\n",
    "def plot_histogram(data, bins, title=\"Title\", x_label = \"Price\", y_label = \"Count\"):\n",
    "    plt.bar(bins, data, edgecolor=\"brown\", align=\"center\", width = 2)\n",
    "    plt.title(title)\n",
    "    plt.xlabel(x_label)\n",
    "    plt.ylabel(y_label)\n",
    "    plt.show()\n",
    "    return \n",
    "\n",
    "burrito_bins = table.column(0) # Select column using method call\n",
    "burrito_data = table['count'] # Select column using indexing\n",
    "burrito_title = \"Demand of Burritos according to different prices\"\n",
    "\n",
    "plot_histogram(burrito_data, burrito_bins, burrito_title)"
   ]
  },
  {
   "cell_type": "markdown",
   "metadata": {},
   "source": [
    "In the visualization above, the height of each bar isn't quite right - someone who is willing to pay \\\\$10 for a burrito will also pay \\\\$2.5 for the same burrito. \n",
    "\n",
    "Since people will pay up to their maximum bid price, let's change the visualization and the table to instead consider the **total demand** at any given price. \n",
    "We can do this in the following three steps: \n",
    "1. Flip the order of the count column\n",
    "2. Apply a cumulative function of all prices below\n",
    "3. Flip it back"
   ]
  },
  {
   "cell_type": "code",
   "execution_count": null,
   "metadata": {},
   "outputs": [],
   "source": [
    "Q0 = BurritosTable.group(\"Burrito\").column(\"count\")\n",
    "Q0"
   ]
  },
  {
   "cell_type": "code",
   "execution_count": null,
   "metadata": {},
   "outputs": [],
   "source": [
    "# Step 1: Flip the order of the count column\n",
    "Q1 = np.flip(Q0)\n",
    "Q1"
   ]
  },
  {
   "cell_type": "code",
   "execution_count": null,
   "metadata": {},
   "outputs": [],
   "source": [
    "# Step 2: Apply a cumulative function of all prices below\n",
    "Q2 = np.cumsum(Q1)\n",
    "Q2"
   ]
  },
  {
   "cell_type": "code",
   "execution_count": null,
   "metadata": {},
   "outputs": [],
   "source": [
    "# Step 3: Flip it back\n",
    "Q3 = np.flip(Q2)\n",
    "Q3"
   ]
  },
  {
   "cell_type": "code",
   "execution_count": null,
   "metadata": {},
   "outputs": [],
   "source": [
    "# Or we can do this in just one line\n",
    "Qdemand = np.flip(np.cumsum(np.flip(BurritosTable.group(\"Burrito\").column(\"count\"))))\n",
    "Qdemand"
   ]
  },
  {
   "cell_type": "code",
   "execution_count": null,
   "metadata": {},
   "outputs": [],
   "source": [
    "# Combine the price column and demand column into a single table\n",
    "DemandBurr= Table().with_columns([\n",
    "    'priceBurr', [2.5, 5, 7.5, 10.00, 12.5, 15,17.5], # those are the prices\n",
    "    'Qdemand', Qdemand\n",
    "])\n",
    "DemandBurr"
   ]
  },
  {
   "cell_type": "code",
   "execution_count": null,
   "metadata": {},
   "outputs": [],
   "source": [
    "# Create a bar plot\n",
    "burrito_Qdemand_bins = DemandBurr.column('priceBurr') # Select column using method call\n",
    "burrito_Qdemand_data = DemandBurr['Qdemand'] # Select column using indexing\n",
    "burrito_Qdemand_title = \"Quantity demanded of Burritos with different prices\"\n",
    "Qdemand_x_label = \"Price of Burrito\"\n",
    "Qdemand_y_label = \"Quantity demanded\"\n",
    "\n",
    "plot_histogram(burrito_Qdemand_data, burrito_Qdemand_bins, burrito_Qdemand_title, Qdemand_x_label, Qdemand_y_label)"
   ]
  },
  {
   "cell_type": "markdown",
   "metadata": {},
   "source": [
    "### Let's take a look at this table and think about the Consumer Surplus\n",
    "\n",
    "First, let's sort the table from the most expensive burritos to the least expensive ones. \n",
    "\n",
    "Then, if the price is \\\\$10, how many people are willing to pay more than the price? These people would be getting a **surplus** by only having to pay a cheaper price than the one they would be willing to pay."
   ]
  },
  {
   "cell_type": "code",
   "execution_count": null,
   "metadata": {},
   "outputs": [],
   "source": [
    "DemandBurr.sort(\"priceBurr\", descending = True)"
   ]
  },
  {
   "cell_type": "markdown",
   "metadata": {},
   "source": [
    "It looks like \n",
    "- 24 people would have been willing to pay up to \\\\$12.5\n",
    "- 7 people would have been willing to pay up to \\\\$15.0\n",
    "- 1 person would have been willing to pay up to \\\\$17.5\n",
    "- 0 people would have been willing to pay up to \\\\$20.0\n",
    "\n",
    "Let's add up these values"
   ]
  },
  {
   "cell_type": "code",
   "execution_count": null,
   "metadata": {},
   "outputs": [],
   "source": [
    "CS_counting = 24*(12.5-10)+7*(15-10)+1*(17.5-10)+0*(20-10)\n",
    "print('The consumer surplus from counting consumers is', CS_counting)"
   ]
  },
  {
   "cell_type": "code",
   "execution_count": null,
   "metadata": {},
   "outputs": [],
   "source": [
    "# calculate the total consumer surplus given a demand table and the price of the good\n",
    "def consumer_surplus(demand_table, price):\n",
    "    \n",
    "    # only people with a willingness to pay higher than the market price will buy the good\n",
    "    demand_table_in_market = demand_table.where(0, are.above_or_equal_to(price))\n",
    "    \n",
    "    cs = (demand_table_in_market.column(0) - price) * demand_table_in_market.column(1)\n",
    "    total_cs = sum(cs)\n",
    "    \n",
    "    return total_cs"
   ]
  },
  {
   "cell_type": "code",
   "execution_count": null,
   "metadata": {},
   "outputs": [],
   "source": [
    "cs_burrito = consumer_surplus(DemandBurr, 10)\n",
    "print('The consumer surplus from counting consumers is', cs_burrito)"
   ]
  },
  {
   "cell_type": "markdown",
   "metadata": {},
   "source": [
    "How can we visualize the consumer surplus on the demand and supply diagram? We'll start by creating a demand curve first like before. "
   ]
  },
  {
   "cell_type": "code",
   "execution_count": null,
   "metadata": {},
   "outputs": [],
   "source": [
    "DemandBurr.scatter(\"Qdemand\", \"priceBurr\")\n",
    "plt.xlabel('Quantity')\n",
    "plt.ylabel('Price')\n",
    "plt.title('Demand for Gourmet Burrito');"
   ]
  },
  {
   "cell_type": "code",
   "execution_count": null,
   "metadata": {},
   "outputs": [],
   "source": [
    "DemandBurr.plot(\"Qdemand\", \"priceBurr\", linewidth= 3)\n",
    "plt.xlabel('Quantity')\n",
    "plt.ylabel('Price')\n",
    "plt.title('Demand for Gourmet Burrito');"
   ]
  },
  {
   "cell_type": "markdown",
   "metadata": {},
   "source": [
    "Now that we have a demand curve - Let's create for a model that makes a linear approximation like we did in lecture 2. "
   ]
  },
  {
   "cell_type": "code",
   "execution_count": null,
   "metadata": {},
   "outputs": [],
   "source": [
    "DemandGM = np.polyfit(DemandBurr.column(\"Qdemand\"), DemandBurr.column(\"priceBurr\"),1)\n",
    "DemandGM"
   ]
  },
  {
   "cell_type": "code",
   "execution_count": null,
   "metadata": {},
   "outputs": [],
   "source": [
    "burr_slope = DemandGM.item(0)\n",
    "burr_slope"
   ]
  },
  {
   "cell_type": "code",
   "execution_count": null,
   "metadata": {},
   "outputs": [],
   "source": [
    "burr_intercept = DemandGM.item(1)\n",
    "burr_intercept"
   ]
  },
  {
   "cell_type": "code",
   "execution_count": null,
   "metadata": {},
   "outputs": [],
   "source": [
    "# plot the actual demand curve\n",
    "DemandBurr.plot(\"Qdemand\", \"priceBurr\", linewidth=3)\n",
    "\n",
    "# plot the linear approximation\n",
    "burr_quantities = np.arange(0,88,0.01)\n",
    "burr_prices = burr_slope * burr_quantities + burr_intercept\n",
    "plt.plot(burr_quantities, burr_prices, linewidth=3)\n",
    "\n",
    "plt.xlabel('Quantity')\n",
    "plt.ylabel('Price')\n",
    "plt.title('Demand for Burrito');"
   ]
  },
  {
   "cell_type": "markdown",
   "metadata": {},
   "source": [
    "How many people does the model think would buy burritos when its price is \\\\$10? Let's answer this question using sympy. "
   ]
  },
  {
   "cell_type": "code",
   "execution_count": null,
   "metadata": {},
   "outputs": [],
   "source": [
    "# Set up the demand curve expression \n",
    "Q = sympy.Symbol(\"Q\")\n",
    "demand = burr_slope * Q + burr_intercept\n",
    "\n",
    "# Solve for Q_star when price is 10\n",
    "Q_Star = solve(demand, 10)\n",
    "Q_Star"
   ]
  },
  {
   "cell_type": "markdown",
   "metadata": {},
   "source": [
    "Now we will visualize the consumer surplus of the burrito market. "
   ]
  },
  {
   "cell_type": "code",
   "execution_count": null,
   "metadata": {},
   "outputs": [],
   "source": [
    "DemandBurr.plot(\"Qdemand\", \"priceBurr\", linewidth= 3) #Black : Demand for buritto\n",
    "\n",
    "plt.plot(np.arange(0,82,0.01), burr_slope * np.arange(0,82,0.01) + burr_intercept, linewidth= 3) #Blue : \n",
    "\n",
    "price = 10\n",
    "plt.plot([0,Q_Star],[price, price], color = 'r', linewidth= 3) #Red : Price\n",
    "\n",
    "triangle1 = patches.Polygon([[0,10],[Q_Star,10],[0,burr_intercept]],True,color=\"green\") #Consumer surplus\n",
    "currentAxis = plt.gca()\n",
    "currentAxis.add_patch(triangle1)\n",
    "\n",
    "plt.xlabel('Quantity')\n",
    "plt.ylabel('Price')\n",
    "plt.title('Demand for Burrito')\n",
    "\n",
    "burr_price = 10\n",
    "\n",
    "# Code for Slope and Intercept - What are the slope and intercept of the fit line\n",
    "std_units = lambda a: (a - np.mean(a)) / np.std(a)\n",
    "corr = lambda x, y: np.mean(std_units(x) * std_units(y))\n",
    "slope = lambda x, y: corr(x, y) * np.std(y) / np.std(x)\n",
    "intercept = lambda x, y: np.mean(y) - slope(x, y) * np.mean(x)\n",
    "\n",
    "\n",
    "\n",
    "# Sums up the surplus at the give price\n",
    "def surplus(bins, data, price):\n",
    "    #Finding the quatity at the point where red line indicating surplus and blue line indicating the relationship btw quantiy and price.\n",
    "    slope_sur = slope(data, bins)\n",
    "    intercept_sur = intercept(data, bins)\n",
    "    Q = sympy.Symbol(\"Q\")\n",
    "    demand = slope_sur * Q + intercept_sur\n",
    "    Q_Star = solve(demand, price)\n",
    "    \n",
    "    #Sums up the surplus and print it out.\n",
    "    total_surplus = .5 * Q_Star * (intercept_sur - price)\n",
    "    return total_surplus\n",
    "\n",
    "agg_surplus = surplus(DemandBurr[\"priceBurr\"], DemandBurr[\"Qdemand\"], burr_price)\n",
    "print(\"Consumer surplus is equal to green triangle: \" + str(0.5 * (burr_intercept - burr_price) * Q_Star))"
   ]
  },
  {
   "cell_type": "markdown",
   "metadata": {},
   "source": [
    "###  Let's try again for Greek Theater Tickets "
   ]
  },
  {
   "cell_type": "code",
   "execution_count": null,
   "metadata": {},
   "outputs": [],
   "source": [
    "GreekTixTable = DemandTable.select('GreekTix')\n",
    "GreekTixTable"
   ]
  },
  {
   "cell_type": "code",
   "execution_count": null,
   "metadata": {},
   "outputs": [],
   "source": [
    "# apply the same trick to obtain demand at each price\n",
    "Qdemand = np.flip(np.cumsum(np.flip(GreekTixTable.group(\"GreekTix\").column(\"count\"))))"
   ]
  },
  {
   "cell_type": "code",
   "execution_count": null,
   "metadata": {},
   "outputs": [],
   "source": [
    "DemandGreekTix = Table().with_columns([\n",
    "    'priceTix', [25, 50, 75, 100, 125, 150, 175, 200],\n",
    "    'Qdemand', Qdemand\n",
    "])\n",
    "DemandGreekTix"
   ]
  },
  {
   "cell_type": "code",
   "execution_count": null,
   "metadata": {},
   "outputs": [],
   "source": [
    "tix_slope = slope(DemandGreekTix[\"Qdemand\"], DemandGreekTix[\"priceTix\"])\n",
    "tix_intercept = intercept(DemandGreekTix[\"Qdemand\"], DemandGreekTix[\"priceTix\"])\n",
    "tix_slope, tix_intercept"
   ]
  },
  {
   "cell_type": "markdown",
   "metadata": {},
   "source": [
    "How many people does the Model think would buy at \\\\$100? Let's again use sympy. "
   ]
  },
  {
   "cell_type": "code",
   "execution_count": null,
   "metadata": {},
   "outputs": [],
   "source": [
    "solve = lambda x,y: sympy.solve(x-y)[0] if len(sympy.solve(x-y))==1 else \"Not Single Solution\"\n",
    "Q = sympy.Symbol(\"Q\")\n",
    "demand = tix_slope * Q + tix_intercept\n",
    "\n",
    "Q_Star = solve(demand, 100)\n",
    "Q_Star"
   ]
  },
  {
   "cell_type": "markdown",
   "metadata": {},
   "source": [
    "Visualize the consumer surplus for Greek Theater tickets!"
   ]
  },
  {
   "cell_type": "code",
   "execution_count": null,
   "metadata": {},
   "outputs": [],
   "source": [
    "DemandGreekTix.plot(\"Qdemand\", \"priceTix\", linewidth=3, zorder=20) #Black : Demand for Greek Theater\n",
    "\n",
    "triangle1 = patches.Polygon([[0,100],[Q_Star,100],[0,tix_intercept]], True, color=\"green\", zorder=1)\n",
    "currentAxis = plt.gca()\n",
    "currentAxis.add_patch(triangle1)\n",
    "\n",
    "plt.plot(np.arange(0,82,0.01), tix_slope * np.arange(0,82,0.01) + tix_intercept, linewidth= 3, zorder=5) #Blue : Demand\n",
    "\n",
    "price = 100\n",
    "\n",
    "# This line to interactive version\n",
    "plt.plot([0,Q_Star],[price]*2, color = 'r', linewidth= 3, zorder = 10) #Red : Price\n",
    "\n",
    "plt.xlabel('Quantity')\n",
    "plt.ylabel('Price')\n",
    "plt.title('Demand for Greek Theater Tickets');\n",
    "\n",
    "agg_surplus = surplus(DemandGreekTix[\"priceTix\"], DemandGreekTix[\"Qdemand\"], price)\n",
    "print(\"Consumer surplus is equal to green triangle: \" + str(agg_surplus))"
   ]
  },
  {
   "cell_type": "markdown",
   "metadata": {},
   "source": [
    "## Section 2: Fun with widgets"
   ]
  },
  {
   "cell_type": "markdown",
   "metadata": {},
   "source": [
    "What about if we have different prices for burritos or Greek Theater tickets? How would the consumer surplus change? Let's see this using widgets!"
   ]
  },
  {
   "cell_type": "code",
   "execution_count": null,
   "metadata": {},
   "outputs": [],
   "source": [
    "p = sympy.Symbol(\"p\")\n",
    "def Equilibrium(demandParam, supplyParam, priceStart):\n",
    "    demandEquation = demandParam - p\n",
    "    # change the slope\n",
    "    supplyEquation = p * (supplyParam/10)\n",
    "    priceEnd = sympy.solve(demandEquation)[0]\n",
    "    prices = []\n",
    "    demandQ = []\n",
    "    supplyQ = []\n",
    "    for price in range(priceStart,priceEnd+1):\n",
    "        prices += [price]\n",
    "        demandQ += [demandEquation.subs(p,price)]\n",
    "        supplyQ += [supplyEquation.subs(p,price)]\n",
    "    \n",
    "    equilibriumP = sympy.solve(demandEquation-supplyEquation)[0]\n",
    "    equilibriumQ = demandEquation.subs(p,equilibriumP)\n",
    "    \n",
    "    \n",
    "    \n",
    "    triangle1 = patches.Polygon([[equilibriumQ,equilibriumP],[0,equilibriumP],[0,priceEnd]],True,color=\"green\")\n",
    "    triangle2 = patches.Polygon([[equilibriumQ,equilibriumP],[0,equilibriumP],[0,0]],True,color=\"red\")\n",
    "    currentAxis = plt.gca()\n",
    "    currentAxis.add_patch(triangle1)\n",
    "    currentAxis.add_patch(triangle2)\n",
    "    \n",
    "    plt.plot(demandQ,prices)\n",
    "    plt.plot(supplyQ,prices)\n",
    "    plt.legend([\"Demand\",\"Supply\"])\n",
    "    plt.plot(equilibriumQ,equilibriumP, 'ro')\n",
    "    plt.xlabel(\"Supply and Demand Quantity\")\n",
    "    plt.ylabel(\"Price\")\n",
    "    plt.ylim(0, 15)\n",
    "    plt.xlim(0, 10)\n",
    "    plt.show()\n",
    "    print(\"The equilibrium price is \"+str(round(equilibriumP,2))[0:4]+\" and equilibrium quantity is \"+str(round(equilibriumQ,2))[0:4]+\".\")\n",
    "    print(\"The consumer surplus at this equilibrium \"+str((priceEnd-equilibriumP)*(equilibriumQ)*.5)[0:4])\n",
    "    print(\"The producer surplus at this equilibrium \"+str((equilibriumP)*(equilibriumQ)*.5)[0:4])\n",
    "# you can change the range here\n",
    "slider1 = widgets.IntSlider(min=5, max=15,step=1,value=10)\n",
    "slider2 = widgets.IntSlider(min=1, max=20,step=1,value=10)\n",
    "slider3 = widgets.IntSlider(min=-5, max=5,step=1,value=0)\n",
    "display(widgets.interactive(Equilibrium, demandParam=slider1, supplyParam=slider2, priceStart=slider3))"
   ]
  },
  {
   "cell_type": "markdown",
   "metadata": {},
   "source": [
    "What happens if there're taxes in the market? "
   ]
  },
  {
   "cell_type": "code",
   "execution_count": null,
   "metadata": {},
   "outputs": [],
   "source": [
    "# solves for the market equilirium given tax\n",
    "def eqSolve(eq1,eq2,tax):\n",
    "    demandP = sympy.solve(eq1-q,p)[0]\n",
    "    supplyP = sympy.solve(eq2-q,p)[0]\n",
    "    demandP = demandP-cTax\n",
    "    supplyP = supplyP+pTax\n",
    "\n",
    "    demandQ = sympy.solve(demandP-p,q)[0]\n",
    "    supplyQ = sympy.solve(supplyP-p,q)[0]\n",
    "    \n",
    "    return sympy.solve((demandP-supplyP, demandQ-supplyQ,tax-cTax-pTax), q,p,cTax,pTax)[q]"
   ]
  },
  {
   "cell_type": "code",
   "execution_count": null,
   "metadata": {},
   "outputs": [],
   "source": [
    "p = sympy.Symbol(\"p\")\n",
    "q = sympy.Symbol(\"q\")\n",
    "cTax = sympy.Symbol(\"cTax\")\n",
    "pTax = sympy.Symbol(\"pTax\")\n",
    "\n",
    "def EquilibriumTax(demandParam,supplyParam,priceStart,priceEnd,tax):\n",
    "    demandEquation = demandParam - p\n",
    "    supplyEquation = p * (supplyParam/10)\n",
    "    prices = []\n",
    "    demand = []\n",
    "    supply = []\n",
    "    for price in range(priceStart,priceEnd+1):\n",
    "        prices += [price]\n",
    "        demand += [demandEquation.subs(p,price)]\n",
    "        supply += [supplyEquation.subs(p,price)]\n",
    "        \n",
    "    \n",
    "    \n",
    "    nonTaxPrice = sympy.solve(demandEquation-supplyEquation)[0]\n",
    "    nonTaxQ = demandEquation.subs(p,nonTaxPrice)\n",
    "\n",
    "    \n",
    "    equilibriumQ = eqSolve(demandEquation,supplyEquation,tax)\n",
    "    equilibriumP1 = sympy.solve(demandEquation-equilibriumQ)[0]\n",
    "    equilibriumP2 = sympy.solve(supplyEquation-equilibriumQ)[0]\n",
    "    \n",
    "    triangle1 = patches.Polygon([[nonTaxQ,nonTaxPrice],[equilibriumQ,nonTaxPrice],[equilibriumQ,equilibriumP1]],True,color=\"green\")\n",
    "    triangle2 = patches.Polygon([[nonTaxQ,nonTaxPrice],[equilibriumQ,nonTaxPrice],[equilibriumQ,equilibriumP2]],True)\n",
    "    currentAxis = plt.gca()\n",
    "    currentAxis.add_patch(triangle1)\n",
    "    currentAxis.add_patch(triangle2)\n",
    "    \n",
    "    \n",
    "    rect1 = patches.Rectangle((0,nonTaxPrice),equilibriumQ,equilibriumP1-nonTaxPrice,linewidth=1,facecolor=\"red\")\n",
    "    rect2 = patches.Rectangle((0,nonTaxPrice),equilibriumQ,equilibriumP2-nonTaxPrice,linewidth=1,facecolor=\"yellow\")\n",
    "    currentAxis.add_patch(rect1)\n",
    "    currentAxis.add_patch(rect2)\n",
    "    \n",
    "    plt.plot(demand,prices)\n",
    "    plt.plot(supply,prices)\n",
    "    \n",
    "    \n",
    "    plt.legend([rect1,rect2,triangle1,triangle2], [\"Consumer Tax\",\"Producer Tax\",\"Consumer Deadweight Loss\",\"Producer Deadweight Loss\"])\n",
    "    plt.plot(equilibriumQ,equilibriumP1, 'ro')\n",
    "    plt.plot(equilibriumQ,equilibriumP2, 'ro')\n",
    "    plt.xlabel(\"Supply and Demand Quantity\")\n",
    "    plt.ylabel(\"Price\")\n",
    "    plt.ylim(0, 15)\n",
    "    plt.xlim(0, 10)\n",
    "    plt.show()\n",
    "    print(\"Without Tax - the equilibrium price is \"+str(round(nonTaxPrice,2))[0:4]+\" and equilibrium quantity is \"+str(round(nonTaxQ,2))[0:4])\n",
    "    print(\"With Tax - Price paid by consumers is \"+str(equilibriumP1)[0:4]+\". Price received by suppliers is \"+str(round(equilibriumP2,2))[0:4]+\" and the equilibrium quantity is \"+str(equilibriumQ)[0:4]+\".\")\n",
    "    print(\"Taxes raised from consumers equals \"+str(round(equilibriumQ*(equilibriumP1-nonTaxPrice),2))[0:4])\n",
    "    print(\"Taxes raised from producers equals \"+str(round(equilibriumQ*(nonTaxPrice-equilibriumP2),2))[0:4])\n",
    "    print(\"Total taxes raised equals \"+str(equilibriumQ*tax))\n",
    "\n",
    "slider1 = widgets.IntSlider(min=5, max=15,step=1,value=10)\n",
    "slider2 = widgets.IntSlider(min=1, max=20,step=1,value=10)\n",
    "slider3 = widgets.IntSlider(min=-5, max=5,step=1,value=0)\n",
    "slider4 = widgets.IntSlider(min=5, max=20,step=1,value=10)\n",
    "slider5 = widgets.IntSlider(min=0, max=8,step=1,value=4)\n",
    "display(widgets.interactive(EquilibriumTax, demandParam=slider1, supplyParam=slider2, priceStart=slider3, priceEnd=slider4, tax=slider5))"
   ]
  },
  {
   "cell_type": "code",
   "execution_count": null,
   "metadata": {},
   "outputs": [],
   "source": []
  }
 ],
 "metadata": {
  "kernelspec": {
   "display_name": "Python 3 (ipykernel)",
   "language": "python",
   "name": "python3"
  },
  "language_info": {
   "codemirror_mode": {
    "name": "ipython",
    "version": 3
   },
   "file_extension": ".py",
   "mimetype": "text/x-python",
   "name": "python",
   "nbconvert_exporter": "python",
   "pygments_lexer": "ipython3",
   "version": "3.8.15"
  }
 },
 "nbformat": 4,
 "nbformat_minor": 4
}
