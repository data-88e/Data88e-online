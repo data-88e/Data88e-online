{
 "cells": [
  {
   "cell_type": "markdown",
   "metadata": {},
   "source": [
    "<table style=\"width: 100%;\" id=\"nb-header\">\n",
    "    <tr style=\"background-color: transparent;\"><td>\n",
    "        <img src=\"https://data-88e.github.io/assets/images/blue_text.png\" width=\"250px\" style=\"margin-left: 0;\" />\n",
    "    </td><td>\n",
    "        <p style=\"text-align: right; font-size: 10pt;\"><strong>Economic Models</strong>, EdX<br>\n",
    "            Dr. Eric Van Dusen <br>\n",
    "        Akhil Venkatesh <br>\n",
    "</table>"
   ]
  },
  {
   "cell_type": "markdown",
   "metadata": {},
   "source": [
    "# Lecture Notebook 2.2: SymPy & Market Equilibrium"
   ]
  },
  {
   "cell_type": "markdown",
   "metadata": {},
   "source": [
    "# SymPy"
   ]
  },
  {
   "cell_type": "code",
   "execution_count": null,
   "metadata": {},
   "outputs": [],
   "source": [
    "from datascience import *\n",
    "import numpy as np\n",
    "from sympy import *\n",
    "from sympy import solve\n",
    "import sympy\n",
    "init_printing()\n",
    "import matplotlib.pyplot as plt\n",
    "import matplotlib as mpl\n",
    "import matplotlib.patches as patches\n",
    "%matplotlib inline\n",
    "solve = lambda x,y: sympy.solve(x-y)[0] if len(sympy.solve(x-y))==1 else \"Not Single Solution\"\n",
    "mpl.rcParams['figure.dpi'] = 150\n",
    "import warnings\n",
    "warnings.filterwarnings('ignore')"
   ]
  },
  {
   "cell_type": "markdown",
   "metadata": {},
   "source": [
    "Python has many tools, such as the [SymPy library](https://docs.sympy.org/latest/tutorial/index.html) that we can use for expressing and evaluating formulas and functions in economics. \n",
    "\n",
    "Since SymPy helps with symbolic math, we start out by create a symbol using `Symbol`, which we assign to a variable name. Then, we can use the symbols to construct symbolic expressions."
   ]
  },
  {
   "cell_type": "code",
   "execution_count": null,
   "metadata": {
    "scrolled": true
   },
   "outputs": [],
   "source": [
    "x = Symbol('x');\n",
    "x"
   ]
  },
  {
   "cell_type": "markdown",
   "metadata": {},
   "source": [
    "**Example 1**: Now let's try using SymPy to create a symbolic expression for 2 equations. Let's create the equation for the first curve. It will be called $y$ and will be in terms of `x`"
   ]
  },
  {
   "cell_type": "code",
   "execution_count": null,
   "metadata": {},
   "outputs": [],
   "source": [
    "y = 2 * x - 3\n",
    "y"
   ]
  },
  {
   "cell_type": "markdown",
   "metadata": {},
   "source": [
    "Similarly, we will also use `x` to express a relationship with $y_1$"
   ]
  },
  {
   "cell_type": "code",
   "execution_count": null,
   "metadata": {},
   "outputs": [],
   "source": [
    "y_1 = 2 - x\n",
    "y_1"
   ]
  },
  {
   "cell_type": "markdown",
   "metadata": {},
   "source": [
    "We want to see the value of `x` at which $y = y_1$. To solve this by hand, we would set up the following equation to solve for $Q$:\n",
    "\n",
    "$$\n",
    "P_D = P_S\\\\\n",
    "2-Q = 2Q-3\n",
    "$$\n",
    "\n",
    "Before we try solving this with SymPy, let's solve this by hand. \n",
    "\n",
    "$$ y = y_1 $$\n",
    "$$ 2x - 3 = 2 - x $$\n",
    "$$ 3x = 5 $$\n",
    "$$ x = \\frac{5}{3} $$\n",
    "\n",
    "We can confirm our `Q` value is true by plugging it back into the original equation. \n",
    "\n",
    "$$ y = 2x - 3 $$\n",
    "$$ y = 2 \\times \\frac{5}{3} - 3 $$\n",
    "$$ y = \\frac{1}{3} $$\n",
    "\n",
    "$$ y_1 = 2 - x $$\n",
    "$$ y_1 = 2 - (-\\frac{5}{3}) $$\n",
    "$$ y_1 = \\frac{1}{3} $$\n",
    "\n",
    "Using SymPy, we call `solve`, which takes in 2 arguments that represent the 2 sides of an equation and solves for the underlying variable such that the equation holds. Here, we pass in $P_D$ and $P_S$, both represented in terms of $Q$, to solve for the value of $Q$ such that $P_D=P_S$. It's good to know that `solve` is a custom function built for this class, and will be provided in the notebooks for you."
   ]
  },
  {
   "cell_type": "code",
   "execution_count": null,
   "metadata": {
    "scrolled": true
   },
   "outputs": [],
   "source": [
    "x_star = solve(y, y_1)\n",
    "x_star"
   ]
  },
  {
   "cell_type": "markdown",
   "metadata": {},
   "source": [
    "The value of $x$ that equates $y$ and $y_1$ is known as the optimal x value, and we denote it as $x^*$. Here, $x^* = \\frac{5}{3}$. \n",
    "\n",
    "With $x^*$ determined, we can substitute this value as $x$ to thus calculate $y$ or $y_1$. We substitute values using the `subs` function, which follows the syntax `expression.subs(symbol_we_want_to_substitute, value_to_substitute_with)`. This let's us see if our answer was correct."
   ]
  },
  {
   "cell_type": "code",
   "execution_count": null,
   "metadata": {
    "scrolled": true
   },
   "outputs": [],
   "source": [
    "y.subs(x, x_star)"
   ]
  },
  {
   "cell_type": "markdown",
   "metadata": {},
   "source": [
    "We can also substitute $x^*$ into $y_1$, and should get the same results."
   ]
  },
  {
   "cell_type": "code",
   "execution_count": null,
   "metadata": {},
   "outputs": [],
   "source": [
    "y_1.subs(x, x_star)"
   ]
  },
  {
   "cell_type": "markdown",
   "metadata": {},
   "source": [
    "Thus, the equilibrium `x` and `y` values are $\\frac{5}{3}$ and 0.33, respectively. \n",
    "\n",
    "**Example 2** We will now put this in the context of suppply and demand. We can represent both as non-log functions. \n",
    "\n",
    "To define an upward sloping supply curve with price expressed as a function of quantity, let's define `Q` first. \n"
   ]
  },
  {
   "cell_type": "code",
   "execution_count": null,
   "metadata": {},
   "outputs": [],
   "source": [
    "Q = Symbol('Q')\n",
    "Q"
   ]
  },
  {
   "cell_type": "markdown",
   "metadata": {},
   "source": [
    "Suppose our demand function is $\\text{P}_{D}=-2 \\cdot \\text{Q} + 10$. $P_D$ is the price of the good purchased (how much the consumer pays). Using SymPy, this would be"
   ]
  },
  {
   "cell_type": "code",
   "execution_count": null,
   "metadata": {},
   "outputs": [],
   "source": [
    "P_D = -2 * Q + 10\n",
    "P_D"
   ]
  },
  {
   "cell_type": "markdown",
   "metadata": {},
   "source": [
    "The supply function is $\\text{P}_{S}=3 \\cdot \\text{Q} + 1$. which denotes the price of the supplied good (how much the producer earns), in terms of $Q$.Using SymPy, this would be\n"
   ]
  },
  {
   "cell_type": "code",
   "execution_count": null,
   "metadata": {},
   "outputs": [],
   "source": [
    "P_S = 3 * Q + 1\n",
    "P_S"
   ]
  },
  {
   "cell_type": "markdown",
   "metadata": {},
   "source": [
    "We will now try to find the market equilibrium. The market price equilibrium $P^*$ is the price at which the quantity supplied and quantity demanded of a good or service are equal to each other. Similarly, the market quantity equilibrium $Q^*$ is the quantity at which the price paid by consumers is equal to the price received by producers. \n",
    "\n",
    "To solve for the equilibrium given the supply and demand curve, we know that the price paid by consumers must equal to the price earned by suppliers. Thus, $P_D = P_S$, allowing us to set the two equations equal to each other and solve for the equilibrium quantity and thus equilibrium price.\n",
    "\n",
    "Combined, the price equilibrium and quantity equilibrium form a point on the graph with quantity and price as its axes, called the equilibrium point. This point is the point at which the demand and supply curves intersect.\n",
    "\n",
    "Let's take a step back and solve this by hand first.\n",
    "\n",
    "$$ P_D = P_S $$\n",
    "$$ -2Q + 10 = 3Q + 1 $$\n",
    "$$ 5Q = 9 $$\n",
    "$$ Q = \\frac{9}{5} $$\n",
    "\n",
    "Now that we have our optimal Q value, let's plug it in each equation and see if our condition holds true. \n",
    "\n",
    "$$ P_D = -2Q + 10 $$\n",
    "$$ P_D = -2 \\times \\frac{9}{5} + 10 $$\n",
    "$$ P_D = \\frac{32}{5} = 6.4 $$\n",
    "\n",
    "$$ P_S = 3Q + 1 $$\n",
    "$$ P_S = 3 \\times \\frac{9}{5} + 1 $$\n",
    "$$ P_S = \\frac{32}{5} = 6.4 $$\n",
    "\n",
    "Now, let's use SymPy\n",
    "\n",
    "First, we solve for the quantity equilibrium."
   ]
  },
  {
   "cell_type": "code",
   "execution_count": null,
   "metadata": {},
   "outputs": [],
   "source": [
    "Q_star = solve(P_D, P_S)\n",
    "Q_star"
   ]
  },
  {
   "cell_type": "markdown",
   "metadata": {},
   "source": [
    "Next, we plug the quantity equilibrium into our demand or supply expression to get the price equilibrium"
   ]
  },
  {
   "cell_type": "code",
   "execution_count": null,
   "metadata": {},
   "outputs": [],
   "source": [
    "P_S.subs(Q, Q_star)"
   ]
  },
  {
   "cell_type": "markdown",
   "metadata": {
    "slideshow": {
     "slide_type": "fragment"
    }
   },
   "source": [
    "Graphically, we can plot the supply and demand curves with quantity on the $x$ axis and price on the $y$ axis. The point at which they intersect is the equilibrium point."
   ]
  },
  {
   "cell_type": "code",
   "execution_count": null,
   "metadata": {},
   "outputs": [],
   "source": [
    "def plot_equation(equation, price_start, price_end, label=None):\n",
    "    plot_prices = [price_start, price_end]\n",
    "    plot_quantities = [equation.subs(list(equation.free_symbols)[0], c) for c in plot_prices]\n",
    "    plt.plot(plot_prices, plot_quantities, label=label)\n",
    "    \n",
    "def plot_intercept(eq1, eq2):\n",
    "    ex = sympy.solve(eq1-eq2)[0]\n",
    "    why = eq1.subs(list(eq1.free_symbols)[0], ex)\n",
    "    plt.scatter([ex], [why])\n",
    "    return (ex, why)\n",
    "    \n",
    "plot_equation(P_D, 0, 5)\n",
    "plot_equation(P_S, 0, 5)\n",
    "plt.ylim(0,20)\n",
    "plt.xlabel(\"Quantity\")\n",
    "plt.ylabel(\"Price\")\n",
    "plt.title(\"Supply & Demand with SymPy\")\n",
    "plot_intercept(P_D, P_S);"
   ]
  },
  {
   "cell_type": "markdown",
   "metadata": {},
   "source": [
    "# Market Equilibrium with Real Data\n",
    "\n",
    "We will now explore the relationship between price and quantity of oranges produced between 1924 and 1938. Since the [data](https://data-88e.github.io/textbook/content/references.html#demand-fruits) is from the 1920s and 1930s, it is important to remember that the prices are much lower than what they would be today because of inflation, competition, innovations, and other factors. For example, in 1924, a ton of oranges would have costed $\\$6.63$; that same amount in 2019 is \\$100.78, holding all factors except for inflation constant. \n",
    "\n",
    "Remember, the **market equilibrium** is the price and quantity at which the demand and supply curves intersect. The price and resulting transaction quantity at the equilibrium is what we would predict to observe in the market. This is the point at which the demand and supply curves meet and represents the \"optimal\" level of production and price in that market."
   ]
  },
  {
   "cell_type": "code",
   "execution_count": null,
   "metadata": {
    "cell_id": "5a6c6746-bad6-466e-8c18-bc16f5fad344"
   },
   "outputs": [],
   "source": [
    "fruitprice = Table.read_table('fruitprice.csv')\n",
    "fruitprice"
   ]
  },
  {
   "cell_type": "markdown",
   "metadata": {},
   "source": [
    "Let's walk through how to the market equilibrium using the market for oranges as an example."
   ]
  },
  {
   "cell_type": "markdown",
   "metadata": {
    "cell_id": "61b55ebf-36a4-4ce1-89b7-4b860da25de4"
   },
   "source": [
    "### Data Preprocessing\n",
    "\n",
    "Because we are only examining the relationship between prices and quantity for oranges, we can create a new table with the relevant columns: `Year`, `Orange Price`, and `Orange Unloads`. Here, `Orange Price` is measured in dollars, while `Orange Unloads` is measured in tons."
   ]
  },
  {
   "cell_type": "code",
   "execution_count": null,
   "metadata": {
    "cell_id": "b75d49b7-7c34-4c8a-a844-e16f26940df7"
   },
   "outputs": [],
   "source": [
    "oranges_raw = fruitprice.select(\"Year\", \"Orange Price\", \"Orange Unloads\")\n",
    "oranges_raw"
   ]
  },
  {
   "cell_type": "markdown",
   "metadata": {
    "cell_id": "8c900ffc-173d-4c91-97c9-e1d8924c8d67"
   },
   "source": [
    "Next, we will rename our columns. In this case, let's rename `Orange Unloads` to `Quantity` and `Orange Price` to `Price` for brevity and understandability. "
   ]
  },
  {
   "cell_type": "code",
   "execution_count": null,
   "metadata": {
    "cell_id": "254b8839-cf4f-460b-a597-c267ad6ebb84"
   },
   "outputs": [],
   "source": [
    "oranges = oranges_raw.relabel(\"Orange Unloads\", \"Quantity\").relabel(\"Orange Price\", \"Price\")\n",
    "oranges"
   ]
  },
  {
   "cell_type": "markdown",
   "metadata": {
    "cell_id": "d3a20db0-45a5-4ca0-8edf-ae8fe730017c"
   },
   "source": [
    "### Visualize the  Relationship\n",
    "\n",
    "Let's first take a look to see what the relationship between price and quantity is. We would expect to see a downward-sloping relationship between price and quantity; if a product's price increases, consumers will purchase less, and if a product's price decreases, then consumers will purchase more. \n",
    "\n",
    "We will create a scatterplot between the points."
   ]
  },
  {
   "cell_type": "code",
   "execution_count": null,
   "metadata": {
    "cell_id": "b7a2e982-d79e-4094-a295-d8edea5e3c12"
   },
   "outputs": [],
   "source": [
    "oranges.scatter(\"Quantity\", \"Price\", width=3, height=3)\n",
    "plt.title(\"Demand Curve for Oranges\", fontsize = 16);"
   ]
  },
  {
   "cell_type": "markdown",
   "metadata": {},
   "source": [
    "### Fit a Polynomial\n",
    "\n",
    "We will now quantify our demand curve using NumPy's [`np.polyfit` function](https://numpy.org/doc/stable/reference/generated/numpy.polyfit.html). Recall that `np.polyfit` returns an array of size 2, where the first element is the slope and the second is the $y$-intercept.\n",
    "\n",
    "For this exercise, we will be expressing demand and supply as quantities in terms of price. "
   ]
  },
  {
   "cell_type": "code",
   "execution_count": null,
   "metadata": {
    "cell_id": "42bf023c-0b5a-4f12-8158-dcf58f137185"
   },
   "outputs": [],
   "source": [
    "orange_parameters = np.polyfit(oranges.column(\"Price\"), oranges.column(\"Quantity\"), 1)\n",
    "print (\"The coefficient is\", orange_parameters[0])\n",
    "print (\"The y-intercept is\", orange_parameters[1])"
   ]
  },
  {
   "cell_type": "markdown",
   "metadata": {
    "cell_id": "27c4081e-219e-4dba-a16c-44cd17e8fa5c"
   },
   "source": [
    "This shows that the demand curve is $D(P) = -3433 P+ 53626$. The slope is -3433 and $y$-intercept is 53626. That means that as price increases by 1 unit (in this case, \\$1), quantity decreases by 3433 units (in this case, 3433 tons). \n"
   ]
  },
  {
   "cell_type": "markdown",
   "metadata": {},
   "source": [
    "### Create the Demand Curve\n",
    "\n",
    "We will now use SymPy to write out this demand curve. To do so, we start by creating a symbol `P` that we can use to create the equation."
   ]
  },
  {
   "cell_type": "code",
   "execution_count": null,
   "metadata": {
    "cell_id": "d06b28f9-96eb-480c-8a10-3ba4981be472"
   },
   "outputs": [],
   "source": [
    "P = sympy.Symbol(\"P\")\n",
    "demand = orange_parameters[0] * P + orange_parameters[1]\n",
    "demand"
   ]
  },
  {
   "cell_type": "markdown",
   "metadata": {
    "cell_id": "14d44625-4f20-443d-9ce0-304bd60c6c61"
   },
   "source": [
    "### Create the Supply Curve\n",
    "\n",
    "As the price of the oranges increases, the quantity of oranges that orange manufacturers are willing to supply increases. They capture the producer's side of market decisions and are upward-sloping.\n",
    "\n",
    "Let's now assume that the supply curve is given by $S(P) = 4348P$. (Note that this supply curve is not based on data.)"
   ]
  },
  {
   "cell_type": "code",
   "execution_count": null,
   "metadata": {
    "cell_id": "f9654557-6972-4ba9-948b-f7ff7a48a61f"
   },
   "outputs": [],
   "source": [
    "supply_coefficient = 4348\n",
    "supply = supply_coefficient * P\n",
    "supply"
   ]
  },
  {
   "cell_type": "markdown",
   "metadata": {},
   "source": [
    " This means that as the price of oranges increases by 1, the quantity supplied increases by 4348. At a price of 0, no oranges are supplied."
   ]
  },
  {
   "cell_type": "markdown",
   "metadata": {},
   "source": [
    "### Find the Price Equilibrium\n",
    "The equilbrium consists of 2 components: the quantity equilbrium and price equilbrium. \n",
    "The price equilibrium is the price at which the supply curve and demand curve intersect: the price of the good that consumers desire to purchase at is equivalent to the price of the good that producers want to sell at. There is no shortage of surplus of the product at this price.\n",
    "\n",
    "\n",
    "Let's find the price equilibrium. To do this, we will use the provided `solve` function. This is a custom function that leverages some SymPy magic and will be provided to you in assignments."
   ]
  },
  {
   "cell_type": "code",
   "execution_count": null,
   "metadata": {},
   "outputs": [],
   "source": [
    "P_star = solve(demand, supply)\n",
    "P_star"
   ]
  },
  {
   "cell_type": "markdown",
   "metadata": {},
   "source": [
    "This means that the price of oranges that consumers want to purchase at and producers want to provide is about \\$6.89. "
   ]
  },
  {
   "cell_type": "markdown",
   "metadata": {
    "cell_id": "571c23b2-4d84-4173-9ff4-bbe1da039e5f",
    "tags": []
   },
   "source": [
    "### Find the Quantity Equilibrium\n",
    "\n",
    "Similarly, the quantity equilibrium is the quantity of the good that consumers desire to purchase is equivalent to the quantity of the good that producers supply; there is no shortage or surplus of the good at this quantity. \n",
    "\n"
   ]
  },
  {
   "cell_type": "code",
   "execution_count": null,
   "metadata": {},
   "outputs": [],
   "source": [
    "demand.subs(P, P_star)"
   ]
  },
  {
   "cell_type": "code",
   "execution_count": null,
   "metadata": {
    "cell_id": "6e28af89-0a83-465e-bb24-d7e66c9b978e"
   },
   "outputs": [],
   "source": [
    "supply.subs(P, P_star)"
   ]
  },
  {
   "cell_type": "markdown",
   "metadata": {
    "cell_id": "35482561-c903-4cc5-a072-7e7b50e586c8"
   },
   "source": [
    "This means that the number of tons of oranges that consumers want to purchase and producers want to provide in this market is about 29,967 tons of oranges. "
   ]
  },
  {
   "cell_type": "markdown",
   "metadata": {},
   "source": [
    "### Visualize the Market Equilibrium \n",
    "\n",
    "Now that we have our demand and supply curves and price and quantity equilibria, we can visualize them on a graph to see what they look like. "
   ]
  },
  {
   "cell_type": "code",
   "execution_count": null,
   "metadata": {},
   "outputs": [],
   "source": [
    "def plot_equation(equation, price_start, price_end, label=None):\n",
    "    plot_prices = [price_start, price_end]\n",
    "    plot_quantities = [equation.subs(list(equation.free_symbols)[0], c) for c in plot_prices]\n",
    "    plt.plot(plot_quantities, plot_prices, label=label)\n",
    "    \n",
    "def plot_intercept(eq1, eq2):\n",
    "    ex = sympy.solve(eq1-eq2)[0]\n",
    "    why = eq1.subs(list(eq1.free_symbols)[0], ex)\n",
    "    plt.scatter([why], [ex], zorder=10, color=\"tab:orange\")\n",
    "    return (ex, why)"
   ]
  },
  {
   "cell_type": "markdown",
   "metadata": {},
   "source": [
    "We can leverage these functions and the equations we made earlier to create a graph that shows the market equilibrium."
   ]
  },
  {
   "cell_type": "code",
   "execution_count": null,
   "metadata": {
    "cell_id": "f5d296fd-a13d-4b0b-a22d-a22806cb498c",
    "tags": [
     "remove_input"
    ]
   },
   "outputs": [],
   "source": [
    "plot_equation(demand, 2, 12, label = \"Demand\")\n",
    "plot_equation(supply, 2, 12, label = \"Supply\")\n",
    "plt.ylim(0,13)\n",
    "plt.title(\"Orange Supply and Demand in 1920's and 1930's\", fontsize = 15)\n",
    "plt.xlabel(\"Quantity (Tons)\", fontsize = 14)\n",
    "plt.ylabel(\"Price ($)\", fontsize = 14)\n",
    "plot_intercept(supply, demand)\n",
    "plt.legend(loc = \"upper right\", fontsize = 12)\n",
    "plt.show()"
   ]
  },
  {
   "cell_type": "markdown",
   "metadata": {
    "cell_id": "feb1ae9b-936c-49da-be36-2a6847d8486e"
   },
   "source": [
    "You can also practice on your own and download additional data sets [here](http://users.stat.ufl.edu/~winner/datasets.html), courtesy of the University of Flordia's Statistics Department. "
   ]
  }
 ],
 "metadata": {
  "kernelspec": {
   "display_name": "Python 3 (ipykernel)",
   "language": "python",
   "name": "python3"
  },
  "language_info": {
   "codemirror_mode": {
    "name": "ipython",
    "version": 3
   },
   "file_extension": ".py",
   "mimetype": "text/x-python",
   "name": "python",
   "nbconvert_exporter": "python",
   "pygments_lexer": "ipython3",
   "version": "3.8.15"
  }
 },
 "nbformat": 4,
 "nbformat_minor": 4
}
