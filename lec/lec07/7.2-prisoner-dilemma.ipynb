{
 "cells": [
  {
   "cell_type": "markdown",
   "metadata": {},
   "source": [
    "<table style=\"width: 100%;\" id=\"nb-header\">\n",
    "    <tr style=\"background-color: transparent;\"><td>\n",
    "        <img src=\"https://data-88e.github.io/assets/images/blue_text.png\" width=\"250px\" style=\"margin-left: 0;\" />\n",
    "    </td><td>\n",
    "        <p style=\"text-align: right; font-size: 10pt;\"><strong>Economic Models</strong>, EdX<br>\n",
    "            Dr. Eric Van Dusen <br>\n",
    "            Chris Pyles <br>\n",
    "        Akhil Venkatesh <br>\n",
    "</table>"
   ]
  },
  {
   "cell_type": "code",
   "execution_count": 1,
   "metadata": {},
   "outputs": [],
   "source": [
    "from players import *"
   ]
  },
  {
   "cell_type": "markdown",
   "metadata": {},
   "source": [
    "# Lecture Notebook 7.2: Iterated Prisoner's Dilemma"
   ]
  },
  {
   "cell_type": "markdown",
   "metadata": {},
   "source": [
    "## Iterated Prisoner's Dilemma"
   ]
  },
  {
   "cell_type": "code",
   "execution_count": 2,
   "metadata": {},
   "outputs": [],
   "source": [
    "def human_play(self, opponent):\n",
    "    if len(opponent.history):\n",
    "        print(f\"Your opponents last move: {'D' if opponent.history.item(-1) else 'C'}\")\n",
    "    move = input(\"Your move: (d/c) \").strip().upper()\n",
    "    assert move in [\"D\", \"C\"], f\"invalid move: {move}\"\n",
    "    return move == \"D\"\n",
    "\n",
    "Human = create_player_class(\"Human\", human_play)"
   ]
  },
  {
   "cell_type": "code",
   "execution_count": null,
   "metadata": {},
   "outputs": [],
   "source": [
    "n_rounds = input(\"How many rounds would you like to play? [10] \")\n",
    "if n_rounds:\n",
    "    n_rounds = int(n_rounds)\n",
    "else:\n",
    "    n_rounds = 10\n",
    "\n",
    "show_opponent = input(\"Show opponent? (y/n) [n] \").strip().upper() == \"Y\"\n",
    "\n",
    "human = Human()\n",
    "opponent = np.random.choice(make_array(\n",
    "    Alternator(), Backstabber(), Bully(), Desperate(), FoolMeOnce(), Forgiver(), \n",
    "    Grudger(), OnceBitten()\n",
    "))\n",
    "\n",
    "if show_opponent:\n",
    "    print(f\"Your opponent is: {opponent}\")\n",
    "\n",
    "winner = run_match(human, opponent, n_rounds)\n",
    "if winner == Human():\n",
    "    winner = \"you!\"\n",
    "print(f\"The winner is: {winner}\")"
   ]
  },
  {
   "cell_type": "markdown",
   "metadata": {},
   "source": [
    "### Using `create_player_class`\n",
    "\n",
    "**From the project:**\n",
    "\n",
    "In this project, we will be creating some custom Python classes to represent different playing strategies. We'll be using the `create_player_class` function (provided) to create these classes for us. Here are a few important things to know about the classes:\n",
    "\n",
    "Consider a player class instance `player = Player()`. \n",
    "* `player.play()` is a method that represents a single move. It returns `True` if the player **defects** and `False` if they cooperate.\n",
    "* `player.history` is an array of the previous moves of the player instance. `player.history.item(-1)`, for example, is the most recent move (the last element of the array).\n",
    "\n",
    "Don't worry about the other methods that are defined for players; these are there for the code below to work but you don't need to concern yourself with them. Here's how the `create_player_class` function works:\n",
    "\n",
    "1. Define a function, `f`, that takes two arguments: `self` and `opponent` (more about these later), and returns `True` if the player defects and `False` otherwise.\n",
    "2. Call `create_player_class` with two arguments: a string for the class name, e.g. `\"Player\"`, and the play method `f`.\n",
    "\n",
    "Let's illustrate this by creating `Defector`, a player that always defects. The `defector_play` function below always returns `True`, since the player always defects. We then create `Defector` using `create_player_class`."
   ]
  },
  {
   "cell_type": "markdown",
   "metadata": {},
   "source": [
    "**Example:** Defector"
   ]
  },
  {
   "cell_type": "code",
   "execution_count": null,
   "metadata": {},
   "outputs": [],
   "source": [
    "def defector_play(self, opponent):\n",
    "    return True\n",
    "\n",
    "Defector = create_player_class(\"Defector\", defector_play)"
   ]
  },
  {
   "cell_type": "markdown",
   "metadata": {},
   "source": [
    " "
   ]
  }
 ],
 "metadata": {
  "kernelspec": {
   "display_name": "Python 3 (ipykernel)",
   "language": "python",
   "name": "python3"
  },
  "language_info": {
   "codemirror_mode": {
    "name": "ipython",
    "version": 3
   },
   "file_extension": ".py",
   "mimetype": "text/x-python",
   "name": "python",
   "nbconvert_exporter": "python",
   "pygments_lexer": "ipython3",
   "version": "3.8.15"
  }
 },
 "nbformat": 4,
 "nbformat_minor": 4
}
