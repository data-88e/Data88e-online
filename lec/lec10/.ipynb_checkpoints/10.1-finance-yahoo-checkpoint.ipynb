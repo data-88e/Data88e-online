{
 "cells": [
  {
   "cell_type": "markdown",
   "id": "80de2c5e",
   "metadata": {},
   "source": [
    "<table style=\"width: 100%;\">\n",
    "    <tr style=\"background-color: transparent;\"><td>\n",
    "        <img src=\"https://data-88e.github.io/assets/images/blue_text.png\" width=\"250px\" style=\"margin-left: 0;\" />\n",
    "    </td><td>\n",
    "        <p style=\"text-align: right; font-size: 10pt;\"><strong>Economic Models</strong>, EdX<br>\n",
    "            Dr. Eric Van Dusen <br>\n",
    "        Sreeja Apparaju <br>\n",
    "        Kidong Kim <br>\n",
    "        Akhil Venkatesh\n",
    "        </p></td></tr>\n",
    "</table>"
   ]
  },
  {
   "cell_type": "markdown",
   "id": "59ad95d7",
   "metadata": {},
   "source": [
    "# Lecture Notebook 10.1: Yahoo Finance"
   ]
  },
  {
   "cell_type": "markdown",
   "id": "0ab4905c",
   "metadata": {},
   "source": [
    "## This notebook takes a look at some simple tools for looking at the stock market\n",
    " - Previously Yahooo finance had a free API for reading in historical data on stocks\n",
    " - However the Yahoo API got discontinued\n",
    " - An awesome quant made a python package that recreated this functionality by scraping the information\n",
    " \n",
    "Check out the documentation for [Yfinance package](https://pypi.org/project/yfinance/)"
   ]
  },
  {
   "cell_type": "markdown",
   "id": "f9027e53",
   "metadata": {},
   "source": [
    " The package - called yfinance is not on the datahub so first we need to install it"
   ]
  },
  {
   "cell_type": "code",
   "execution_count": null,
   "id": "7a6cd078",
   "metadata": {
    "scrolled": true
   },
   "outputs": [],
   "source": [
    "try:\n",
    "    import yfinance as yf\n",
    "except:\n",
    "    !pip install yfinance\n",
    "    import yfinance as yf"
   ]
  },
  {
   "cell_type": "code",
   "execution_count": null,
   "id": "06c353af",
   "metadata": {},
   "outputs": [],
   "source": [
    "import numpy as np\n",
    "import pandas as pd\n",
    "import matplotlib\n",
    "import matplotlib.pyplot as plt\n",
    "from datetime import timedelta, date, datetime\n",
    "from ipywidgets import interact, interactive, fixed, interact_manual\n",
    "import ipywidgets as widgets\n",
    "from IPython.display import display\n",
    "import warnings\n",
    "from datascience import *\n",
    "warnings.filterwarnings('ignore')\n",
    "plt.style.use(\"seaborn-muted\")\n",
    "%matplotlib inline"
   ]
  },
  {
   "cell_type": "markdown",
   "id": "3caf6de7",
   "metadata": {},
   "source": [
    "## S&P 500 and the Nasdaq"
   ]
  },
  {
   "cell_type": "markdown",
   "id": "3bf1cb22",
   "metadata": {},
   "source": [
    "The yfinance package allows us to download by stock ticker and make a Pandas Dataframe - here we will pull in by the market-wide tickers for the S&P 500 and the Nasdaq"
   ]
  },
  {
   "cell_type": "code",
   "execution_count": null,
   "id": "0c8d3ab7",
   "metadata": {},
   "outputs": [],
   "source": [
    "data_SPNQ = yf.download((\"^GSPC\", '^IXIC'), start=\"1993-01-29\", end=\"2022-04-05\")"
   ]
  },
  {
   "cell_type": "markdown",
   "id": "852b16d7",
   "metadata": {},
   "source": [
    "The following section uses the dataframe to build out a new dataframe with returns - the amount earned each day on the previous days close"
   ]
  },
  {
   "cell_type": "code",
   "execution_count": null,
   "id": "fc7d8df1",
   "metadata": {},
   "outputs": [],
   "source": [
    "data_SN = data_SPNQ.iloc[:, [2,3]]\n",
    "data_SP =data_SPNQ.iloc[:, 0]\n",
    "data_NQ = data_SPNQ.iloc[:, 1]\n",
    "dSP = np.array(len(data_SP)-1)\n",
    "for i in range(len(data_SP)-1):\n",
    "    dat = ((data_SP[i] - data_SP[i+1])/data_SP[i])*100\n",
    "    dSP = np.append(dSP,dat)\n",
    "dNQ = np.array(len(data_NQ)-1)\n",
    "for i in range(len(data_NQ)-1):\n",
    "    dat = ((data_NQ[i] - data_NQ[i+1])/data_NQ[i])*100\n",
    "    dNQ = np.append(dNQ,dat)\n",
    "data_SN['SP Returns'] = dSP\n",
    "data_SN['NQ Returns'] = dNQ"
   ]
  },
  {
   "cell_type": "code",
   "execution_count": null,
   "id": "a73805ee",
   "metadata": {
    "scrolled": true
   },
   "outputs": [],
   "source": [
    "data_SN.iloc[:,[0,1]].plot(color = ('blue', 'red'), figsize=(10,8), alpha =0.3);"
   ]
  },
  {
   "cell_type": "code",
   "execution_count": null,
   "id": "e8eaf8d2",
   "metadata": {},
   "outputs": [],
   "source": [
    "data_SN[['SP Returns', 'NQ Returns']].iloc[1:].plot(color = ('blue', 'red'), figsize=(10,8), alpha = 0.3);"
   ]
  },
  {
   "cell_type": "code",
   "execution_count": null,
   "id": "791a1375",
   "metadata": {},
   "outputs": [],
   "source": [
    "data_SN.iloc[:,[0,1]].plot(color = ('blue', 'red'), figsize=(10,8), alpha =0.3);"
   ]
  },
  {
   "cell_type": "code",
   "execution_count": null,
   "id": "aec9619f",
   "metadata": {},
   "outputs": [],
   "source": [
    "data_SN[['SP Returns', 'NQ Returns']].iloc[1:].plot(color = ('blue', 'red'), figsize=(10,8), alpha = 0.3);"
   ]
  },
  {
   "cell_type": "markdown",
   "id": "206aca46",
   "metadata": {},
   "source": [
    "## Let's dive deeper into the Yfinance API and and work with the data"
   ]
  },
  {
   "cell_type": "markdown",
   "id": "5b9ae369",
   "metadata": {},
   "source": [
    "First we will define three stocks that we want to look at more closely, and examine what sort of information we can get for each stock.  \n",
    "\n",
    "Lets look at \n",
    " - Meta\n",
    " - Tesla\n",
    " - USO - an ETF (exchange traded fund) that tracks the price of oil "
   ]
  },
  {
   "cell_type": "code",
   "execution_count": null,
   "id": "598432cc",
   "metadata": {},
   "outputs": [],
   "source": [
    "meta_ticker = yf.Ticker(\"meta\")\n",
    "tesla_ticker = yf.Ticker(\"tsla\")\n",
    "uso_ticker = yf.Ticker(\"uso\")"
   ]
  },
  {
   "cell_type": "markdown",
   "id": "567a6ffa",
   "metadata": {},
   "source": [
    "There is actually a lot of information that yfinance API can provide for any equity.  In the example above we only downloaded the closing price for each of the indexes. "
   ]
  },
  {
   "cell_type": "code",
   "execution_count": null,
   "id": "39dfb26e",
   "metadata": {},
   "outputs": [],
   "source": [
    "#tesla_ticker.info"
   ]
  },
  {
   "cell_type": "markdown",
   "id": "35dd3171",
   "metadata": {},
   "source": [
    "## Out of all this info - let's extract the stock prices\n",
    "\n",
    "This will put the dates, prices, and volumes into a *Pandas* dataframe with the name of the stock"
   ]
  },
  {
   "cell_type": "code",
   "execution_count": null,
   "id": "7a76acf9",
   "metadata": {},
   "outputs": [],
   "source": [
    "meta = meta_ticker.history(period=\"max\")\n",
    "tesla = tesla_ticker.history(period=\"max\")\n",
    "uso = uso_ticker.history(period=\"max\")"
   ]
  },
  {
   "cell_type": "code",
   "execution_count": null,
   "id": "ead7335d",
   "metadata": {},
   "outputs": [],
   "source": [
    "tesla"
   ]
  },
  {
   "cell_type": "markdown",
   "id": "5963a074",
   "metadata": {},
   "source": [
    "## Let's look at the Meta price \n",
    " - What movements can we pick up with our eyes?\n",
    " - Meta just about died in 2016 - then it picked back up!   \n"
   ]
  },
  {
   "cell_type": "code",
   "execution_count": null,
   "id": "b72290d8",
   "metadata": {},
   "outputs": [],
   "source": [
    "#tesla.loc[date(2022, 4, 14):date(2022, 10, 27)]\n",
    "date(2022, 7, 14)"
   ]
  },
  {
   "cell_type": "code",
   "execution_count": null,
   "id": "22b690aa",
   "metadata": {},
   "outputs": [],
   "source": [
    "def tesla_meta(date1, date2):\n",
    "    tesla_2 = tesla.loc[date1:date2]\n",
    "    meta_2 = meta.loc[date1:date2]\n",
    "\n",
    "    tesla_index = tesla_2.index\n",
    "    meta_index = meta_2.index\n",
    "\n",
    "    fig, ((ax1, ax2), (ax3, ax4)) = plt.subplots(2, 2)\n",
    "    fig.suptitle(\"Tesla VS Meta from \"+date1.strftime(\"%m/%d/%Y\")+\" to \"+date2.strftime(\"%m/%d/%Y\"))\n",
    "    fig.set_size_inches(18.5, 10.5)\n",
    "\n",
    "    ax1.plot(tesla_index, tesla_2[\"Open\"])\n",
    "    ax1.set_title(\"Tesla Open Price\", fontsize=10)\n",
    "    ax2.plot(tesla_index, tesla_2[\"Volume\"])\n",
    "    ax2.set_title(\"Tesla Volume\", fontsize=10)\n",
    "    ax3.plot(meta_index, meta_2[\"Open\"])\n",
    "    ax3.set_title(\"Meta Open Price\", fontsize=10)\n",
    "    ax4.plot(meta_index, meta_2[\"Volume\"])\n",
    "    ax4.set_title(\"Meta Volume\", fontsize=10)\n",
    "\n",
    "tesla_meta(date(2022, 4, 14), date(2023, 7, 14))"
   ]
  },
  {
   "cell_type": "code",
   "execution_count": null,
   "id": "713b0a8f",
   "metadata": {},
   "outputs": [],
   "source": [
    "tesla_meta(date(2022, 4, 1), datetime.now())"
   ]
  },
  {
   "cell_type": "code",
   "execution_count": null,
   "id": "f3d86e0d-c869-45f1-82e9-f202e7ef23e9",
   "metadata": {},
   "outputs": [],
   "source": []
  }
 ],
 "metadata": {
  "kernelspec": {
   "display_name": "Python 3 (ipykernel)",
   "language": "python",
   "name": "python3"
  },
  "language_info": {
   "codemirror_mode": {
    "name": "ipython",
    "version": 3
   },
   "file_extension": ".py",
   "mimetype": "text/x-python",
   "name": "python",
   "nbconvert_exporter": "python",
   "pygments_lexer": "ipython3",
   "version": "3.8.15"
  }
 },
 "nbformat": 4,
 "nbformat_minor": 5
}
