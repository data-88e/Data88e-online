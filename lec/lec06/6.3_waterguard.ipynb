{
 "cells": [
  {
   "cell_type": "markdown",
   "metadata": {
    "cell_id": "00000-dd1346f6-ea12-4ebc-bf94-ec3f4b938282",
    "deepnote_cell_type": "markdown"
   },
   "source": [
    "<table style=\"width: 100%;\">\n",
    "    <tr style=\"background-color: transparent;\"><td>\n",
    "        <img src=\"https://data-88e.github.io/assets/images/blue_text.png\" width=\"250px\" style=\"margin-left: 0;\" />\n",
    "    </td><td>\n",
    "        <p style=\"text-align: right; font-size: 10pt;\"><strong>Economic Models</strong>, EdX<br>\n",
    "            Dr. Eric Van Dusen</p></td></tr>\n",
    "</table>"
   ]
  },
  {
   "cell_type": "markdown",
   "metadata": {
    "cell_id": "00001-ed8f3b5f-71ba-49da-97ac-f4a7ab723666",
    "deepnote_cell_type": "markdown"
   },
   "source": [
    "# Lec 6.3 : Water Guard Randomized Controlled Trial\n",
    "\n",
    "This Lecture Notebook is an adaptation from a set of notebooks developed for a full semester Data Science Connector Course taught in Fall 2017, entitled \"Behind the Curtain in Economic Development\".  This dataset come from a randomized controlled trial household survey carried out in Eastern Kenya in 2007-2008. \n",
    "\n",
    "The purpose of the study was to understand how to promote the use of WaterGuard, a dilute sodium hypochlorite solution that was promoted for Point-of-use household water disinfection.  There were seven arms in the study, which will be more fully described in the following chart:\n"
   ]
  },
  {
   "cell_type": "markdown",
   "metadata": {
    "cell_id": "00002-edd28500-48b3-43cf-895e-6853f5cc714a",
    "deepnote_cell_type": "markdown"
   },
   "source": [
    "<img src=\"Slide1.png\"  />"
   ]
  },
  {
   "cell_type": "markdown",
   "metadata": {
    "cell_id": "00003-cfa6a603-7b8f-41a5-ab88-a34ff4273f8e",
    "deepnote_cell_type": "markdown"
   },
   "source": [
    "Within this table you can see the seven treatments arms -  control plus three treatments -  in the bolded boxes in the middle with the number of springs and households. The study was carried out as a part of a study of households who gather drinking water from springs in a rural area.  The three boxes at the bottom describe the three rounds of data collection - a baseline before the treatment, and a short term and long term follow-up.  "
   ]
  },
  {
   "cell_type": "markdown",
   "metadata": {
    "cell_id": "00004-ff8fa096-2ba0-45dc-8796-d763654d073a",
    "deepnote_cell_type": "markdown"
   },
   "source": [
    "<!-- **Notebook Outline**\n",
    "\n",
    "1. [Mapping](#Mapping)\n",
    "2. [Balance Check](#Balance)\n",
    "3. [Baseline and a Randomly Selected Compound](#Baseline)\n",
    "4. [Chlorine Usage outcome variables](#Chlorine)\n",
    "5. [Graph of outcomes by Treatment Arm](#Graph)  -->"
   ]
  },
  {
   "cell_type": "code",
   "execution_count": 1,
   "metadata": {
    "cell_id": "00005-aa2b4a82-c422-499b-8d72-afb4709953bf",
    "deepnote_cell_type": "code",
    "deepnote_to_be_reexecuted": false,
    "execution_millis": 12295,
    "execution_start": 1615185767066,
    "source_hash": "dc2a06d3"
   },
   "outputs": [],
   "source": [
    "from datascience import *\n",
    "import numpy as np\n",
    "import matplotlib.pyplot as plt\n",
    "%matplotlib inline\n",
    "import pandas as pd\n",
    "from pandas import read_stata"
   ]
  },
  {
   "cell_type": "markdown",
   "metadata": {
    "cell_id": "00021-85b65c95-916f-4dc8-b310-b3cb8ad1963a",
    "deepnote_cell_type": "markdown"
   },
   "source": [
    "<!-- END QUESTION -->\n",
    "\n",
    "\n",
    "\n",
    "<div id=\"Balance\"></div>\n",
    "\n",
    "## Balance Check and Variable Names"
   ]
  },
  {
   "cell_type": "markdown",
   "metadata": {
    "cell_id": "00022-79180980-2e4e-4b3e-a039-dd48918ffa47",
    "deepnote_cell_type": "markdown"
   },
   "source": [
    "### Baseline Survey \n",
    "This is our first look at the survey dataset.  These are a limited set of questions/answers from a simple and short baseline survey. However it is a lot bigger and messier than the datasets we have seen so far and in Data 8. \n",
    "\n",
    "Data variable names follow along with the survey below, referred to by the section, a,b,c... number, 1,2,3... and a few words about the question. \n",
    "\n",
    "The purpose of this section will be: \n",
    "* to get a familiarity with the dataset, \n",
    "* to look at some background descriptor variables of the households, \n",
    "* to start to think about missing values and coding of subsets of the data.  \n",
    "* to check the randomization of households by seeeing if the different arms of the study are balanced across some of the key baseline variables.  \n",
    "\n",
    "**The surveys that illustrate the raw data names are in a file linked [here](https://drive.google.com/open?id=1UVoiVn7LJ4rn7WEb-9BJ96jmdJ2FBk60). You have to go and look through this survey to understand the variables.**\n",
    "\n",
    "**The code sheet that has the codes for some of the possible answers are in a file linked [here](https://drive.google.com/file/d/1iinJXExeVKV4Dm7tRKOiotoYUDSXMyqc). You have to go and look through this code sheet in a later section.**"
   ]
  },
  {
   "cell_type": "code",
   "execution_count": null,
   "metadata": {
    "cell_id": "00024-a9d6605e-bd5f-4dc1-b2d6-117d884d8a6f",
    "deepnote_cell_type": "code",
    "deepnote_to_be_reexecuted": false,
    "execution_millis": 1138,
    "execution_start": 1614882902262,
    "source_hash": "90a5539e"
   },
   "outputs": [],
   "source": [
    "WGP_baseline = Table.read_table(\"WGP_baseline_Data8.csv\")\n",
    "WGP_baseline"
   ]
  },
  {
   "cell_type": "code",
   "execution_count": null,
   "metadata": {},
   "outputs": [],
   "source": [
    "baseline = pd.read_csv(\"WGP_baseline_Data8.csv\")\n",
    "baseline"
   ]
  },
  {
   "cell_type": "code",
   "execution_count": null,
   "metadata": {},
   "outputs": [],
   "source": [
    "baseline.dropna(axis = 0)"
   ]
  },
  {
   "cell_type": "markdown",
   "metadata": {
    "cell_id": "00025-1b59f7ad-01dc-4c26-ab27-f09838851ede",
    "deepnote_cell_type": "markdown"
   },
   "source": [
    "### Misssing values \n",
    "\n",
    "If you look through the dataset above, and scroll to the right a ways to some of the last variables, you will notice that that there are a lot of cells with NaN, which means a missing value. For these cells no data was entered at the time of data entry. In some cases it may be appropriate to enter a zero and carry on with the analyis.  \n",
    "\n"
   ]
  },
  {
   "cell_type": "code",
   "execution_count": null,
   "metadata": {
    "cell_id": "00026-f71114b3-c95b-40a3-90cf-a5e5f64ab151",
    "deepnote_cell_type": "code",
    "deepnote_to_be_reexecuted": false,
    "execution_millis": 697,
    "execution_start": 1614882904348,
    "source_hash": "c8e95f65"
   },
   "outputs": [],
   "source": [
    "WGP_base_dfna = WGP_baseline.to_df().fillna(0)\n",
    "WGP_table = Table.from_df(WGP_base_dfna)\n",
    "WGP_table"
   ]
  },
  {
   "cell_type": "markdown",
   "metadata": {
    "cell_id": "00028-0f1f490b-60d0-4ac0-9984-6d711f2319ae",
    "deepnote_cell_type": "markdown"
   },
   "source": [
    " Look at the variable names, and then look at the survey form to find the concordance of codes"
   ]
  },
  {
   "cell_type": "code",
   "execution_count": null,
   "metadata": {
    "cell_id": "00029-c50e8b6c-68b3-4b56-ad00-2de3a80f79f2",
    "deepnote_cell_type": "code",
    "deepnote_to_be_reexecuted": false,
    "execution_millis": 25,
    "execution_start": 1614882906727,
    "scrolled": true,
    "source_hash": "88f73eb7"
   },
   "outputs": [],
   "source": [
    "# Here is a list of all of the possible categories / columns\n",
    "list(WGP_table)"
   ]
  },
  {
   "cell_type": "markdown",
   "metadata": {
    "cell_id": "00030-e56cef09-47cc-41f9-929f-e993d7e9500e",
    "deepnote_cell_type": "markdown"
   },
   "source": [
    "### What are some Variables that we want to specifically look at? ###\n",
    "\n",
    "There are a lot of variables here and it can be kind of overwhelming, but it is good to see how many columns there can be in a comprehensive survey dataset.  "
   ]
  },
  {
   "cell_type": "markdown",
   "metadata": {
    "cell_id": "00031-975b6b73-1a29-432c-89b2-9d22b41b8cfb",
    "deepnote_cell_type": "markdown"
   },
   "source": [
    "#### Front Page information - A variables\n",
    "\n",
    "- household id\n",
    "- spring id\n",
    "- interviewer id\n",
    "\n",
    "#### Information about respondent - B variables \n",
    "\n",
    "- tribe\n",
    "- education\n",
    "- age\n",
    "- gender \n",
    "- group membership\n",
    "\n",
    "#### Water Guard Use - C variables\n",
    "\n",
    "For Waterguard (WG) usage\n",
    "\n",
    "- `c1a` - Whether the respondent has ever heard of WG\n",
    "- `c2a` - Whether the respondent has ever used WG\n",
    "- `c3a` - Whether the respondent's water is currently treated with WG\n",
    "- `c4a` - Whether the respondent has used WG in the past month\n",
    "\n",
    "#### Durable / Capital Goods - D variables\n",
    "\n",
    "- Whether the respondent has electricity / latrine / iron roof\n",
    "- Number of of bicycle / radio / hoe / beds owned\n",
    "- Number of animals owned\n",
    "\n",
    "#### Child Health - E variables\n",
    "\n",
    "- `e1_num_kids_under_5`: Number of kids under 5\n",
    "- `e2_`:  This table becomes tricky because it has a different format. Each kid in the table is numbered 01, 02 and so on, and then the subsequent questions are keyed to that child number. e.g. `e2e_01_d_diarrhea`, `e2e_02_d_diarrhea` represent whether child 1 and 2 respectively have diarrhea. In total, four diseases are recorded:\n",
    "    - Cough\n",
    "    - Diarrhea\n",
    "    - Malaria\n",
    "    - Vomiting\n",
    "\n",
    "\n",
    "\n",
    " "
   ]
  },
  {
   "cell_type": "markdown",
   "metadata": {
    "cell_id": "00032-b61f9077-5420-4cdc-97d6-a1d58fae90c5",
    "deepnote_cell_type": "markdown"
   },
   "source": [
    "### The Treatment Arm \n",
    "\n",
    "In the study, arm 1 is control, while Arms 2-7 are different types of treatment interventions:\n",
    " \n",
    "- Arm 1 - Control\n",
    "- Arm 2 - Household Script\n",
    "- Arm 3 - Community Script\n",
    "- Arm 4 - HH + Community Script\n",
    "- Arm 5 - Flat-Fee Promoter + Coupons\n",
    "- Arm 6 - Incentivized Promoter + Coupons\n",
    "- Arm 7 - Incentivized Promoter + Dispenser at Spring\n",
    "\n",
    "Let's check how many households are in each treatment arm.\n"
   ]
  },
  {
   "cell_type": "code",
   "execution_count": null,
   "metadata": {
    "cell_id": "00033-c8232e8a-ee21-4468-91ba-804f7c6cdfd2",
    "deepnote_cell_type": "code",
    "deepnote_to_be_reexecuted": false,
    "execution_millis": 16,
    "execution_start": 1614882910349,
    "source_hash": "cc423323"
   },
   "outputs": [],
   "source": [
    "WGP_table.group(\"treatment_arm\")"
   ]
  },
  {
   "cell_type": "markdown",
   "metadata": {
    "cell_id": "00034-6cb86238-b09c-4377-ab8a-6b3165c1a01b",
    "deepnote_cell_type": "markdown"
   },
   "source": [
    "### Baseline Check - Exposure to Water Guard Use \n",
    "\n",
    "Let's see how many households have ever used Water Guards.\n",
    "\n",
    "The data is currently Coded as 1 = Yes and 2 = No, so we can't really make sense of the Mean of the variable in its current form. Instead, we will make a new column/variable with the 1 or 2 answers translated into Yes or No.\n",
    "Notably, we must first filter out respondents that had missing values (with value 0) for this question.\n",
    "\n"
   ]
  },
  {
   "cell_type": "code",
   "execution_count": null,
   "metadata": {
    "cell_id": "00035-382ab7b8-2bf6-4a96-b6f4-92dcadef9530",
    "deepnote_cell_type": "code",
    "deepnote_to_be_reexecuted": false,
    "execution_millis": 148,
    "execution_start": 1614882911735,
    "source_hash": "a3e4ed56"
   },
   "outputs": [],
   "source": [
    "WGP_ever = WGP_table.where('c2a_wg_used_ever', are.above(0))\n",
    "WGP_ever.group(\"c2a_wg_used_ever\")"
   ]
  },
  {
   "cell_type": "code",
   "execution_count": null,
   "metadata": {
    "cell_id": "00037-75fc6dc7-3adc-44db-8c34-944cfd5e0ff3",
    "deepnote_cell_type": "code",
    "deepnote_to_be_reexecuted": false,
    "execution_millis": 0,
    "execution_start": 1614882919659,
    "source_hash": "c2884b68"
   },
   "outputs": [],
   "source": [
    "#This helper function goes through a column of choice, and spits out yes or no based off each value in the column. It returns an array of these yes and no's\n",
    "def translate_to_yesno(table, col):\n",
    "    dummy=[]\n",
    "    table=table.where(col, are.above(0))\n",
    "    for i in np.arange(table.num_rows):\n",
    "        if table.column(col).item(i) == 1:\n",
    "            dummy.append('Yes')\n",
    "        else: #if not 1 then its 2 and 2 means no\n",
    "            dummy.append(\"No\")\n",
    "    return dummy"
   ]
  },
  {
   "cell_type": "code",
   "execution_count": null,
   "metadata": {
    "cell_id": "00039-176fec9a-1848-4e0d-8b97-eb7c1aa33723",
    "deepnote_cell_type": "code",
    "deepnote_to_be_reexecuted": false,
    "execution_millis": 161,
    "execution_start": 1614882920590,
    "source_hash": "f0e91a4d",
    "tags": []
   },
   "outputs": [],
   "source": [
    "new = translate_to_yesno(WGP_ever, 'c2a_wg_used_ever')\n",
    "WGP_ever = WGP_ever.with_column('c2a_wg_used_ever',new)\n",
    "WGP_ever.group('c2a_wg_used_ever')"
   ]
  },
  {
   "cell_type": "markdown",
   "metadata": {
    "cell_id": "00038-7d59c366-b49d-4591-95d2-645ac0c95e22",
    "deepnote_cell_type": "markdown"
   },
   "source": [
    "### Pivoting and Balance Checks\n",
    "\n",
    "Now we will use a command called **Pivot** to create a new table that has the percent of households who have ever used Water Guard within each Treatment Arm. \n",
    "\n",
    "We can first use it to do a  **balance check** for Water Guard use across Arms."
   ]
  },
  {
   "cell_type": "code",
   "execution_count": null,
   "metadata": {
    "cell_id": "00039-5509314d-6f67-46c5-a3a6-7f09cdcf8dee",
    "deepnote_cell_type": "code",
    "deepnote_to_be_reexecuted": false,
    "execution_millis": 16,
    "execution_start": 1614882922386,
    "source_hash": "249ff7c2",
    "tags": []
   },
   "outputs": [],
   "source": [
    "ever_yesno = WGP_ever.pivot('c2a_wg_used_ever','treatment_arm')\n",
    "ever_yesno"
   ]
  },
  {
   "cell_type": "markdown",
   "metadata": {},
   "source": [
    "Converting to percentages..."
   ]
  },
  {
   "cell_type": "code",
   "execution_count": null,
   "metadata": {},
   "outputs": [],
   "source": [
    "total = ever_yesno.column(1) + ever_yesno.column(2)\n",
    "ever_yesno = ever_yesno.with_columns('Percent No',ever_yesno.column(1) / total * 100, \n",
    "                                     'Percent Yes', ever_yesno.column(2) / total * 100)\n",
    "ever_yesno"
   ]
  },
  {
   "cell_type": "markdown",
   "metadata": {
    "cell_id": "00042-1ebb29ec-4814-4ce9-ab7c-41eda327d6dc",
    "deepnote_cell_type": "markdown",
    "tags": []
   },
   "source": [
    "Let's also repeat the process for the variable of whether the households are currently using Water Guard, `c3a_wg_water_currently_treat`."
   ]
  },
  {
   "cell_type": "code",
   "execution_count": null,
   "metadata": {
    "cell_id": "00040-40985f46-7c78-465e-85f0-7ce1b81778fb",
    "deepnote_cell_type": "code",
    "deepnote_to_be_reexecuted": false,
    "execution_millis": 54,
    "execution_start": 1614882923573,
    "source_hash": "5fa2515b",
    "tags": []
   },
   "outputs": [],
   "source": [
    "WGP_current = WGP_table.where('c3a_wg_water_currently_treat',are.not_equal_to(0))\n",
    "new2 = translate_to_yesno(WGP_current,'c3a_wg_water_currently_treat')\n",
    "WGP_current = WGP_current.with_column('c3a_wg_water_currently_treat',new2)\n",
    "WGP_current.group(\"c3a_wg_water_currently_treat\")"
   ]
  },
  {
   "cell_type": "markdown",
   "metadata": {
    "cell_id": "00041-ccef04c8-4b1d-4c9c-95d3-4ecc171df143",
    "deepnote_cell_type": "markdown"
   },
   "source": [
    "Do you notice a problem here? Look at the total numbers reported in the output above.\n",
    "\n",
    "We can do the same percentage tables for the balance check but maybe there's a problem. \n",
    "Look at the total number of households answering the question and compare that to the total number from the previous section."
   ]
  },
  {
   "cell_type": "code",
   "execution_count": null,
   "metadata": {
    "cell_id": "00042-c0bf3db5-0bc8-4c98-ac63-34e4ae1d6291",
    "deepnote_cell_type": "code",
    "deepnote_to_be_reexecuted": false,
    "execution_millis": 73,
    "execution_start": 1614882925437,
    "source_hash": "f9d13c8f",
    "tags": []
   },
   "outputs": [],
   "source": [
    "current_yesno = WGP_current.pivot('c3a_wg_water_currently_treat','treatment_arm')\n",
    "total = current_yesno.column(1) + current_yesno.column(2)\n",
    "current_yesno = current_yesno.with_columns('Percent No',current_yesno.column(1)/total * 100, \n",
    "                                           'Percent Yes', current_yesno.column(2)/total * 100)\n",
    "current_yesno"
   ]
  },
  {
   "cell_type": "markdown",
   "metadata": {
    "cell_id": "00043-1487508b-8027-4879-83f7-7a5ca8df3b1c",
    "deepnote_cell_type": "markdown"
   },
   "source": [
    "This seems like a really high usage, but **maybe this is due to missing values**. \n",
    "\n",
    "Let's now also include the 0 (missing) values in our analysis.\n"
   ]
  },
  {
   "cell_type": "code",
   "execution_count": null,
   "metadata": {},
   "outputs": [],
   "source": [
    "current_yesnomissing = WGP_table.pivot('c3a_wg_water_currently_treat','treatment_arm')\n",
    "total = current_yesnomissing.column(1) + current_yesnomissing.column(2) + current_yesnomissing.column(3)\n",
    "current_yesnomissing = current_yesnomissing.with_columns(\n",
    "                                     'Percent Missing',current_yesnomissing.column(\"0.0\") / total * 100, \n",
    "                                     'Percent No',current_yesnomissing.column(\"2.0\") / total * 100, \n",
    "                                     'Percent Yes', current_yesnomissing.column(\"1.0\") / total * 100)\n",
    "current_yesnomissing"
   ]
  },
  {
   "cell_type": "markdown",
   "metadata": {
    "cell_id": "00048-87624e1f-482c-4f67-a83f-47d6b7a9374f",
    "deepnote_cell_type": "markdown"
   },
   "source": [
    "<!-- END QUESTION -->\n",
    "\n",
    "\n",
    "\n",
    "<div id=\"Baseline\"></div>\n",
    "\n",
    "## Baseline and a Randomly Selected Compound\n",
    "\n",
    "\n"
   ]
  },
  {
   "cell_type": "markdown",
   "metadata": {
    "cell_id": "00049-95bba9bd-3ce3-4d80-b8e4-c2bd672c101d",
    "deepnote_cell_type": "markdown"
   },
   "source": [
    "Let's describe a household selected at random.\n",
    "\n",
    "First, we will extract the household/compound id into an array."
   ]
  },
  {
   "cell_type": "code",
   "execution_count": null,
   "metadata": {
    "cell_id": "00050-0c1e1492-bad9-49cc-88a2-b9ae00b192c9",
    "deepnote_cell_type": "code",
    "deepnote_to_be_reexecuted": false,
    "execution_millis": 26,
    "execution_start": 1614883021407,
    "source_hash": "183098cd"
   },
   "outputs": [],
   "source": [
    "hhld_array = WGP_table.column('a1_cmpd_id')\n",
    "hhld_array"
   ]
  },
  {
   "cell_type": "markdown",
   "metadata": {
    "cell_id": "00051-2eaa39c9-a8a3-406d-8668-3b79c8792319",
    "deepnote_cell_type": "markdown"
   },
   "source": [
    "Next, we will draw randomly from this array."
   ]
  },
  {
   "cell_type": "code",
   "execution_count": null,
   "metadata": {
    "cell_id": "00052-6a6244c0-0602-4ea9-8f8d-dfdaf93742d8",
    "deepnote_cell_type": "code",
    "deepnote_to_be_reexecuted": false,
    "execution_millis": 14,
    "execution_start": 1615185718648,
    "source_hash": "5debb99c"
   },
   "outputs": [],
   "source": [
    "randomhh = np.random.choice(hhld_array)\n",
    "print(\"My randomly selected household is household number\", randomhh)"
   ]
  },
  {
   "cell_type": "markdown",
   "metadata": {
    "cell_id": "00053-e8eae5b1-68eb-4584-b374-cd3fb36b4323",
    "deepnote_cell_type": "markdown"
   },
   "source": [
    "Then, let's look at the data for our randomly selected household:"
   ]
  },
  {
   "cell_type": "code",
   "execution_count": null,
   "metadata": {
    "cell_id": "00054-a60c7e60-3623-43aa-88f9-92c350ca8958",
    "deepnote_cell_type": "code",
    "deepnote_to_be_reexecuted": false,
    "execution_millis": 24,
    "execution_start": 1614875897919,
    "source_hash": "e4ba2af7"
   },
   "outputs": [],
   "source": [
    "myfamily = WGP_table.where(\"a1_cmpd_id\",randomhh)\n",
    "myfamily"
   ]
  },
  {
   "cell_type": "markdown",
   "metadata": {
    "cell_id": "00055-3937a112-d418-46c5-a626-04e88a333698",
    "deepnote_cell_type": "markdown"
   },
   "source": [
    "Some of the variables may need some manipulation. \n",
    "Let's start with the age of the respondent:"
   ]
  },
  {
   "cell_type": "code",
   "execution_count": null,
   "metadata": {
    "cell_id": "00056-b4095805-1fe4-4676-9351-6217842cba34",
    "deepnote_cell_type": "code",
    "deepnote_to_be_reexecuted": false,
    "execution_millis": 12,
    "execution_start": 1614826915313,
    "source_hash": "30a526d1"
   },
   "outputs": [],
   "source": [
    "birthyear = myfamily.column(\"b3_birth_year\").item(0)\n",
    "surveyyear = myfamily.column(\"a5_date_interview_year\").item(0)\n",
    "agecalc = surveyyear-birthyear  # \n",
    "agecalc"
   ]
  },
  {
   "cell_type": "markdown",
   "metadata": {},
   "source": [
    "And their tribe:"
   ]
  },
  {
   "cell_type": "code",
   "execution_count": null,
   "metadata": {
    "cell_id": "00057-f5d23a2a-2acb-41ac-8a7a-e67b8a27adaa",
    "deepnote_cell_type": "code",
    "deepnote_to_be_reexecuted": false,
    "execution_millis": 17,
    "execution_start": 1614826921270,
    "source_hash": "f63ef06b"
   },
   "outputs": [],
   "source": [
    "print(\"Survey respondent Tribe\", myfamily.column(\"b5_tribe\").item(0))\n",
    "print(\"Respondent Spouse Tribe\", myfamily.column(\"b7_tribe_spouse\").item(0))"
   ]
  },
  {
   "cell_type": "markdown",
   "metadata": {},
   "source": [
    "Lastly, whether they have a latrine:"
   ]
  },
  {
   "cell_type": "code",
   "execution_count": null,
   "metadata": {
    "cell_id": "00058-ae8f7d25-b960-409a-b951-9947c6a259ca",
    "deepnote_cell_type": "code",
    "deepnote_to_be_reexecuted": false,
    "execution_millis": 29,
    "execution_start": 1614826928740,
    "source_hash": "2c89c70a"
   },
   "outputs": [],
   "source": [
    "print(\"Does the household have a latrine?\", myfamily.column(\"d3_latrine\").item(0))"
   ]
  },
  {
   "cell_type": "markdown",
   "metadata": {
    "cell_id": "00060-017cd8b9-4425-4567-ad3f-3c048d59efae",
    "deepnote_cell_type": "markdown"
   },
   "source": [
    "Remember in the answer above it is coded so that 1=Yes and 2=No."
   ]
  },
  {
   "cell_type": "markdown",
   "metadata": {
    "cell_id": "00061-bfb17aeb-79c0-4c35-b7ec-a8777cf6697a",
    "deepnote_cell_type": "markdown",
    "deletable": false,
    "editable": false
   },
   "source": [
    "<!-- BEGIN QUESTION -->\n",
    "\n",
    "**Question 3:** Describe your randomly selected household and the respondent who is answering the survey. Please remember you can find the code sheet under the section of Baseline Survey.\n",
    "\n",
    "1. Age\n",
    "2. Tribe\n",
    "3. Education \n",
    "4. Member of any groups b11-b15?\n",
    "5. Occupation\n",
    "6. Religion \n",
    "7. A summary of D variables, iron roof, floor materials, latrine, cattle, and others\n",
    "8. Have they ever used WG?\n",
    "9. Their treatment arm assignment\n",
    "10. How many children do they have  \n",
    "11. Gender and Age of children\n",
    "12. Have any of the children been sick?\n",
    "\n",
    "<!--\n",
    "BEGIN QUESTION\n",
    "name: q3\n",
    "manual: true\n",
    "-->"
   ]
  },
  {
   "cell_type": "markdown",
   "metadata": {},
   "source": [
    "_Type your answer here, replacing this text._"
   ]
  },
  {
   "cell_type": "markdown",
   "metadata": {
    "cell_id": "00063-ef3791fa-16f7-4983-a117-8e2d07c9b682",
    "deepnote_cell_type": "markdown"
   },
   "source": [
    "<!-- END QUESTION -->\n",
    "\n",
    "\n",
    "\n",
    "<div id=\"Chlorine\"></div>\n",
    "\n",
    "## Water Guard Usage outcome variables\n",
    "\n",
    "\n"
   ]
  },
  {
   "cell_type": "markdown",
   "metadata": {
    "cell_id": "00064-cf5c7109-a5ce-4643-aec5-55025a6c3b42",
    "deepnote_cell_type": "markdown"
   },
   "source": [
    "### WGP Followup - Variability\n",
    "The purpose of this section will be to continue on with the follow-up rounds of the Water Guard Promotion study.   In this section we have both the household reported use, and the use validated by checking the chlorine content of the water using a test kit.  "
   ]
  },
  {
   "cell_type": "code",
   "execution_count": null,
   "metadata": {
    "cell_id": "00065-7d711a64-3047-429f-91ef-5dbd8d545ac5",
    "deepnote_cell_type": "code",
    "deepnote_to_be_reexecuted": false,
    "execution_millis": 1169,
    "execution_start": 1614826983967,
    "source_hash": "be533461"
   },
   "outputs": [],
   "source": [
    "WGP3rds_table = Table.read_table('WGP_3waves_Data8.csv')\n",
    "WGP3rds_table"
   ]
  },
  {
   "cell_type": "markdown",
   "metadata": {
    "cell_id": "00066-b8587908-c4d2-44db-adbf-39cc9ba37680",
    "deepnote_cell_type": "markdown"
   },
   "source": [
    "This is a large dataset, basically three datasets merged together, one for baseline, one for short term follow up and one for long term followup. The column `round` describes these 3 time steps:\n",
    "\n",
    "- Round = 1 : baseline\n",
    "- Round = 2 : 3 week followup\n",
    "- Round = 3 : 3 month followup\n",
    "\n",
    "Notably, many of the variables are only asked in one of the three rounds. For example, the chlorine use variables are:\n",
    "\n",
    "- The variable for self reported chlorine use was `c6n` in Round 2, and `c5n` in Round 3.\n",
    "- The variable for chlorine use is `c12n21pnk` in Round 2 and `c15npt2or1pnk` in Round 3.\n",
    "\n",
    "Instead, the following variables have been combined across rounds for the ease of programming:\n",
    "\n",
    "- `Selfrptpct` is self reported chlorine use in both round 2 and round 3\n",
    "- `Vldclpct`  is validated chlorine use in both rounds"
   ]
  },
  {
   "cell_type": "code",
   "execution_count": null,
   "metadata": {
    "cell_id": "00069-16c639a0-e9c2-476f-a60c-1c937e4f6eaa",
    "deepnote_cell_type": "code",
    "deepnote_to_be_reexecuted": false,
    "execution_millis": 15,
    "execution_start": 1614827050190,
    "source_hash": "4ecdb239",
    "tags": []
   },
   "outputs": [],
   "source": [
    "WGP3rds_table.group(\"treatment_arm\")"
   ]
  },
  {
   "cell_type": "code",
   "execution_count": null,
   "metadata": {
    "cell_id": "00070-13be6adf-fc25-44ff-b8f2-774933753f6c",
    "deepnote_cell_type": "code",
    "deepnote_to_be_reexecuted": false,
    "execution_millis": 21,
    "execution_start": 1614827078196,
    "source_hash": "b397bff3"
   },
   "outputs": [],
   "source": [
    "WGP3rds_table.group('round')"
   ]
  },
  {
   "cell_type": "markdown",
   "metadata": {
    "cell_id": "00071-5537b03e-7688-4306-b562-a12679df6ee6",
    "deepnote_cell_type": "markdown"
   },
   "source": [
    "### Grouping by round + treatment arm\n",
    "\n",
    "We want to create a multi-level group: each group should be a unique combination of the survey round and the treatment arm.  \n"
   ]
  },
  {
   "cell_type": "code",
   "execution_count": null,
   "metadata": {
    "cell_id": "00073-9e622576-825a-4f29-abf4-57de54e4d200",
    "deepnote_cell_type": "code",
    "deepnote_to_be_reexecuted": false,
    "execution_millis": 19,
    "execution_start": 1614827377326,
    "source_hash": "a451259d",
    "tags": []
   },
   "outputs": [],
   "source": [
    "WGP_3rds_outcomesonly= WGP3rds_table.select(\"round\", \"treatment_arm\", \"Selfrptpct\", \"Vldclpct\")\n",
    "WGP_3rds_outcomesonly.group([\"round\",\"treatment_arm\"], np.mean).show(30)"
   ]
  },
  {
   "cell_type": "markdown",
   "metadata": {
    "cell_id": "00074-44a0ed2a-c124-4fa9-abdc-8cbc32082b56",
    "deepnote_cell_type": "markdown"
   },
   "source": [
    "### Making a smaller dataset\n",
    "\n",
    "Lets break out a smaller dataset of the variables we want to focus on; just for Round 2 and the outcome variables."
   ]
  },
  {
   "cell_type": "code",
   "execution_count": null,
   "metadata": {
    "cell_id": "00075-8e1c5b13-759b-41d3-9e7d-03475965c28f",
    "deepnote_cell_type": "code",
    "deepnote_to_be_reexecuted": false,
    "execution_millis": 32,
    "execution_start": 1614827422752,
    "source_hash": "43866067"
   },
   "outputs": [],
   "source": [
    "WGPRd2 = WGP3rds_table.where(\"round\", 2).select(\"a1_cmpd_id\",\"treatment_arm\",\n",
    "                                           \"c6_current_water_treated_wg\", \n",
    "                                           'c6_curr_water_treat_other_c',\n",
    "                                           'c12_chlorine_meter_reading',\n",
    "                                           'c11_chlorine_color','c12n21pnk', 'c6n'\n",
    "                                          )\n",
    "WGPRd2"
   ]
  },
  {
   "cell_type": "markdown",
   "metadata": {},
   "source": [
    "A quick examination of the estimated Water Guard usage in Round 2 across all treatment arms:"
   ]
  },
  {
   "cell_type": "code",
   "execution_count": null,
   "metadata": {
    "cell_id": "00077-93887a72-c6df-4ecc-87b2-0e9f089a3b01",
    "deepnote_cell_type": "code",
    "deepnote_to_be_reexecuted": false,
    "execution_millis": 11,
    "execution_start": 1614827443580,
    "source_hash": "a2200764"
   },
   "outputs": [],
   "source": [
    "np.mean(WGPRd2.column('c12n21pnk'))"
   ]
  },
  {
   "cell_type": "code",
   "execution_count": null,
   "metadata": {},
   "outputs": [],
   "source": []
  }
 ],
 "metadata": {
  "deepnote": {},
  "deepnote_execution_queue": [],
  "deepnote_notebook_id": "81166544-3689-4689-97e3-3623acd93634",
  "kernelspec": {
   "display_name": "Python 3 (ipykernel)",
   "language": "python",
   "name": "python3"
  },
  "language_info": {
   "codemirror_mode": {
    "name": "ipython",
    "version": 3
   },
   "file_extension": ".py",
   "mimetype": "text/x-python",
   "name": "python",
   "nbconvert_exporter": "python",
   "pygments_lexer": "ipython3",
   "version": "3.8.15"
  }
 },
 "nbformat": 4,
 "nbformat_minor": 4
}
